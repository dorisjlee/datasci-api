{
 "cells": [
  {
   "cell_type": "code",
   "execution_count": 1,
   "metadata": {},
   "outputs": [
    {
     "name": "stdout",
     "output_type": "stream",
     "text": [
      "/Users/dorislee/Desktop/Research/vizdatasci/datasci-api\n"
     ]
    }
   ],
   "source": [
    "cd .."
   ]
  },
  {
   "cell_type": "code",
   "execution_count": 2,
   "metadata": {},
   "outputs": [],
   "source": [
    "%load_ext autoreload\n",
    "%autoreload 2\n",
    "from dataset.Dataset import Dataset\n",
    "from dataObj.dataObj import DataObj\n",
    "from dataObj.Row import Row\n",
    "from dataObj.Column import Column"
   ]
  },
  {
   "cell_type": "code",
   "execution_count": 3,
   "metadata": {},
   "outputs": [],
   "source": [
    "dataset = Dataset(\"data/cars.csv\",schema=[{\"Year\":{\"dataType\":\"date\"}}])"
   ]
  },
  {
   "cell_type": "code",
   "execution_count": 15,
   "metadata": {},
   "outputs": [],
   "source": [
    "dobj = DataObj(dataset,[Column([\"Horsepower\",\"Weight\",\"Acceleration\",\"Displacement\"]),Column(\"MilesPerGal\")])"
   ]
  },
  {
   "cell_type": "code",
   "execution_count": 5,
   "metadata": {},
   "outputs": [],
   "source": [
    "import scipy.stats\n",
    "import numpy as np\n",
    "for obj in dobj.compiled.collection:\n",
    "    measures = obj.getObjByDataModel(\"measure\")\n",
    "\n",
    "    msr1 = measures[0].columnName\n",
    "    msr2 = measures[1].columnName\n",
    "\n",
    "    msr1Vals = list(obj.dataset.df[msr1])\n",
    "    msr2Vals = list(obj.dataset.df[msr2])\n",
    "    \n",
    "    obj.score = np.abs(scipy.stats.pearsonr(msr1Vals,msr2Vals)[0])"
   ]
  },
  {
   "cell_type": "code",
   "execution_count": 6,
   "metadata": {},
   "outputs": [
    {
     "data": {
      "text/plain": [
       "[<Data Obj: <Dataset Obj: data/cars.csv> -- [Column <Horsepower,channel:x,dataType:quantitative,dataModel:measure>, Column <MilesPerGal,channel:y,dataType:quantitative,dataModel:measure>] -- 0.78>,\n",
       " <Data Obj: <Dataset Obj: data/cars.csv> -- [Column <Weight,channel:x,dataType:quantitative,dataModel:measure>, Column <MilesPerGal,channel:y,dataType:quantitative,dataModel:measure>] -- 0.83>,\n",
       " <Data Obj: <Dataset Obj: data/cars.csv> -- [Column <Acceleration,channel:x,dataType:quantitative,dataModel:measure>, Column <MilesPerGal,channel:y,dataType:quantitative,dataModel:measure>] -- 0.42>,\n",
       " <Data Obj: <Dataset Obj: data/cars.csv> -- [Column <Displacement,channel:x,dataType:quantitative,dataModel:measure>, Column <MilesPerGal,channel:y,dataType:quantitative,dataModel:measure>] -- 0.81>]"
      ]
     },
     "execution_count": 6,
     "metadata": {},
     "output_type": "execute_result"
    }
   ],
   "source": [
    "dobj.compiled.collection"
   ]
  },
  {
   "cell_type": "code",
   "execution_count": 7,
   "metadata": {},
   "outputs": [
    {
     "name": "stdout",
     "output_type": "stream",
     "text": [
      "<Data Obj Collection: [<Data Obj: <Dataset Obj: data/cars.csv> -- [Column <Horsepower,channel:x,dataType:quantitative,dataModel:measure>, Column <MilesPerGal,channel:y,dataType:quantitative,dataModel:measure>] -- 0.78>, <Data Obj: <Dataset Obj: data/cars.csv> -- [Column <Weight,channel:x,dataType:quantitative,dataModel:measure>, Column <MilesPerGal,channel:y,dataType:quantitative,dataModel:measure>] -- 0.83>, <Data Obj: <Dataset Obj: data/cars.csv> -- [Column <Acceleration,channel:x,dataType:quantitative,dataModel:measure>, Column <MilesPerGal,channel:y,dataType:quantitative,dataModel:measure>] -- 0.42>, <Data Obj: <Dataset Obj: data/cars.csv> -- [Column <Displacement,channel:x,dataType:quantitative,dataModel:measure>, Column <MilesPerGal,channel:y,dataType:quantitative,dataModel:measure>] -- 0.81>]>\n"
     ]
    }
   ],
   "source": [
    "from action.Correlation import Correlation\n",
    "corr = Correlation()\n",
    "corr.compute(dobj)"
   ]
  },
  {
   "cell_type": "code",
   "execution_count": 28,
   "metadata": {},
   "outputs": [
    {
     "name": "stdout",
     "output_type": "stream",
     "text": [
      "<Data Obj Collection: [<Data Obj: <Dataset Obj: data/cars.csv> -- [Column <Horsepower,channel:x,dataType:quantitative,dataModel:measure>, Column <MilesPerGal,channel:y,dataType:quantitative,dataModel:measure>] -- 0.78>, <Data Obj: <Dataset Obj: data/cars.csv> -- [Column <Weight,channel:x,dataType:quantitative,dataModel:measure>, Column <MilesPerGal,channel:y,dataType:quantitative,dataModel:measure>] -- 0.83>, <Data Obj: <Dataset Obj: data/cars.csv> -- [Column <Acceleration,channel:x,dataType:quantitative,dataModel:measure>, Column <MilesPerGal,channel:y,dataType:quantitative,dataModel:measure>] -- 0.42>, <Data Obj: <Dataset Obj: data/cars.csv> -- [Column <Displacement,channel:x,dataType:quantitative,dataModel:measure>, Column <MilesPerGal,channel:y,dataType:quantitative,dataModel:measure>] -- 0.81>]>\n"
     ]
    }
   ],
   "source": [
    "dobj.correlation()"
   ]
  },
  {
   "cell_type": "code",
   "execution_count": 49,
   "metadata": {},
   "outputs": [
    {
     "name": "stdout",
     "output_type": "stream",
     "text": [
      "<Data Obj Collection: [<Data Obj: <Dataset Obj: data/cars.csv> -- [Column <MilesPerGal,channel:x,dataType:quantitative,dataModel:measure>, Column <MilesPerGal,channel:y,dataType:quantitative,dataModel:measure>] -- 1.00>, <Data Obj: <Dataset Obj: data/cars.csv> -- [Column <Horsepower,channel:x,dataType:quantitative,dataModel:measure>, Column <MilesPerGal,channel:y,dataType:quantitative,dataModel:measure>] -- 0.78>]>\n"
     ]
    }
   ],
   "source": []
  },
  {
   "cell_type": "code",
   "execution_count": null,
   "metadata": {},
   "outputs": [],
   "source": []
  }
 ],
 "metadata": {
  "kernelspec": {
   "display_name": "Python 3",
   "language": "python",
   "name": "python3"
  },
  "language_info": {
   "codemirror_mode": {
    "name": "ipython",
    "version": 3
   },
   "file_extension": ".py",
   "mimetype": "text/x-python",
   "name": "python",
   "nbconvert_exporter": "python",
   "pygments_lexer": "ipython3",
   "version": "3.7.0"
  }
 },
 "nbformat": 4,
 "nbformat_minor": 2
}
