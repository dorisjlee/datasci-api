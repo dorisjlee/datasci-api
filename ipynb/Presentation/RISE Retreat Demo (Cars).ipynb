{
 "cells": [
  {
   "cell_type": "code",
   "execution_count": 1,
   "metadata": {},
   "outputs": [
    {
     "name": "stdout",
     "output_type": "stream",
     "text": [
      "/Users/dorislee/Desktop/Research/vizdatasci/datasci-api\n"
     ]
    }
   ],
   "source": [
    "cd ../.."
   ]
  },
  {
   "cell_type": "markdown",
   "metadata": {},
   "source": [
    "List of things to demonstrate: \n",
    "- ability to view intermediate collections (make dobj.display() simply just dobj print like df)\n",
    "    - single vis with Row\n",
    "    - vis collection without ranking (just browse)\n",
    "- ✔ ability to do data cleaning and other Pythonic things easily and import/export through Dataset\n",
    "- similarity search\n",
    "- showMore(): with multiple tabs\n",
    "- overview(): with multiple tabs\n",
    "- Nice-to-have: ability to select some vis and export it into a python variable\n"
   ]
  },
  {
   "cell_type": "code",
   "execution_count": 2,
   "metadata": {},
   "outputs": [],
   "source": [
    "%load_ext autoreload\n",
    "%autoreload 2\n",
    "from dataset.Dataset import Dataset\n",
    "from dataObj.dataObj import DataObj\n",
    "from dataObj.Row import Row\n",
    "from dataObj.Column import Column"
   ]
  },
  {
   "cell_type": "code",
   "execution_count": 3,
   "metadata": {},
   "outputs": [],
   "source": [
    "dataset = Dataset(\"data/cars.csv\",schema=[{\"Year\":{\"dataType\":\"date\"}}])"
   ]
  },
  {
   "cell_type": "code",
   "execution_count": 4,
   "metadata": {},
   "outputs": [],
   "source": [
    "# lux.overview(dataset)\n",
    "# --> generate correlation and distribution\n",
    "# Click on Median Earnings distribution and "
   ]
  },
  {
   "cell_type": "code",
   "execution_count": 5,
   "metadata": {},
   "outputs": [
    {
     "data": {
      "application/vnd.jupyter.widget-view+json": {
       "model_id": "6018b40dfdd04112b620ba234e5b55d3",
       "version_major": 2,
       "version_minor": 0
      },
      "text/plain": [
       "DisplayWidget(recommendations=[{'action': 'Correlation', 'description': 'Show relationships between two quanti…"
      ]
     },
     "metadata": {},
     "output_type": "display_data"
    }
   ],
   "source": [
    "dobj = DataObj(dataset,[Column(\"?\",dataModel=\"measure\"),Column(\"?\",dataModel=\"measure\")])\n",
    "dobj.correlation()\n",
    "dobj.display()"
   ]
  },
  {
   "cell_type": "code",
   "execution_count": 6,
   "metadata": {},
   "outputs": [
    {
     "data": {
      "application/vnd.jupyter.widget-view+json": {
       "model_id": "c6c6aa7a97ac47ae93386f333a5bf672",
       "version_major": 2,
       "version_minor": 0
      },
      "text/plain": [
       "DisplayWidget(recommendations=[{'action': 'Distribution', 'description': 'Show univariate count distributions …"
      ]
     },
     "metadata": {},
     "output_type": "display_data"
    }
   ],
   "source": [
    "dobj = DataObj(dataset,[Column(\"?\",dataModel=\"measure\")])\n",
    "dobj.distribution()\n",
    "dobj.display()"
   ]
  },
  {
   "cell_type": "code",
   "execution_count": 7,
   "metadata": {},
   "outputs": [],
   "source": [
    "# Select a vis, look at how it breaks down by different filter on Regions\n",
    "# [Mockup a Frontier workflow]"
   ]
  },
  {
   "cell_type": "code",
   "execution_count": 8,
   "metadata": {},
   "outputs": [
    {
     "data": {
      "application/vnd.jupyter.widget-view+json": {
       "model_id": "32552a6e0d4c49bcb71513b11c8b4732",
       "version_major": 2,
       "version_minor": 0
      },
      "text/plain": [
       "DisplayWidget(current_view={'config': {'view': {'continuousWidth': 400, 'continuousHeight': 300}, 'mark': {'to…"
      ]
     },
     "metadata": {},
     "output_type": "display_data"
    }
   ],
   "source": [
    "dobj = DataObj(dataset,[Column(\"MilesPerGal\",dataModel=\"measure\"),Column(\"Horsepower\",dataModel=\"measure\")])\n",
    "\n",
    "dobj.enhance()\n",
    "\n",
    "dobj.display()"
   ]
  },
  {
   "cell_type": "code",
   "execution_count": 9,
   "metadata": {},
   "outputs": [],
   "source": [
    "# Found out that name is too much, so drop name as a column and add in Brand information"
   ]
  },
  {
   "cell_type": "code",
   "execution_count": 10,
   "metadata": {},
   "outputs": [],
   "source": [
    "import pandas as pd"
   ]
  },
  {
   "cell_type": "code",
   "execution_count": 50,
   "metadata": {},
   "outputs": [],
   "source": [
    "brand_df = pd.read_csv(\"data/car_brand.csv\")"
   ]
  },
  {
   "cell_type": "code",
   "execution_count": 51,
   "metadata": {},
   "outputs": [
    {
     "data": {
      "text/html": [
       "<div>\n",
       "<style scoped>\n",
       "    .dataframe tbody tr th:only-of-type {\n",
       "        vertical-align: middle;\n",
       "    }\n",
       "\n",
       "    .dataframe tbody tr th {\n",
       "        vertical-align: top;\n",
       "    }\n",
       "\n",
       "    .dataframe thead th {\n",
       "        text-align: right;\n",
       "    }\n",
       "</style>\n",
       "<table border=\"1\" class=\"dataframe\">\n",
       "  <thead>\n",
       "    <tr style=\"text-align: right;\">\n",
       "      <th></th>\n",
       "      <th>Name</th>\n",
       "      <th>Brand</th>\n",
       "    </tr>\n",
       "  </thead>\n",
       "  <tbody>\n",
       "    <tr>\n",
       "      <th>0</th>\n",
       "      <td>chevrolet chevelle malibu</td>\n",
       "      <td>chevrolet</td>\n",
       "    </tr>\n",
       "    <tr>\n",
       "      <th>1</th>\n",
       "      <td>buick skylark 320</td>\n",
       "      <td>buick</td>\n",
       "    </tr>\n",
       "    <tr>\n",
       "      <th>2</th>\n",
       "      <td>plymouth satellite</td>\n",
       "      <td>plymouth</td>\n",
       "    </tr>\n",
       "    <tr>\n",
       "      <th>3</th>\n",
       "      <td>amc rebel sst</td>\n",
       "      <td>amc</td>\n",
       "    </tr>\n",
       "    <tr>\n",
       "      <th>4</th>\n",
       "      <td>ford torino</td>\n",
       "      <td>ford</td>\n",
       "    </tr>\n",
       "  </tbody>\n",
       "</table>\n",
       "</div>"
      ],
      "text/plain": [
       "                        Name      Brand\n",
       "0  chevrolet chevelle malibu  chevrolet\n",
       "1          buick skylark 320      buick\n",
       "2         plymouth satellite   plymouth\n",
       "3              amc rebel sst        amc\n",
       "4                ford torino       ford"
      ]
     },
     "execution_count": 51,
     "metadata": {},
     "output_type": "execute_result"
    }
   ],
   "source": [
    "brand_df.head()"
   ]
  },
  {
   "cell_type": "code",
   "execution_count": 52,
   "metadata": {},
   "outputs": [],
   "source": [
    "dataset = Dataset(\"data/cars.csv\",schema=[{\"Year\":{\"dataType\":\"date\"}}])"
   ]
  },
  {
   "cell_type": "code",
   "execution_count": 53,
   "metadata": {},
   "outputs": [
    {
     "data": {
      "text/html": [
       "<div>\n",
       "<style scoped>\n",
       "    .dataframe tbody tr th:only-of-type {\n",
       "        vertical-align: middle;\n",
       "    }\n",
       "\n",
       "    .dataframe tbody tr th {\n",
       "        vertical-align: top;\n",
       "    }\n",
       "\n",
       "    .dataframe thead th {\n",
       "        text-align: right;\n",
       "    }\n",
       "</style>\n",
       "<table border=\"1\" class=\"dataframe\">\n",
       "  <thead>\n",
       "    <tr style=\"text-align: right;\">\n",
       "      <th></th>\n",
       "      <th>Name</th>\n",
       "      <th>MilesPerGal</th>\n",
       "      <th>Cylinders</th>\n",
       "      <th>Displacement</th>\n",
       "      <th>Horsepower</th>\n",
       "      <th>Weight</th>\n",
       "      <th>Acceleration</th>\n",
       "      <th>Year</th>\n",
       "      <th>Origin</th>\n",
       "    </tr>\n",
       "  </thead>\n",
       "  <tbody>\n",
       "    <tr>\n",
       "      <th>0</th>\n",
       "      <td>chevrolet chevelle malibu</td>\n",
       "      <td>18.0</td>\n",
       "      <td>8</td>\n",
       "      <td>307.0</td>\n",
       "      <td>130</td>\n",
       "      <td>3504</td>\n",
       "      <td>12.0</td>\n",
       "      <td>1970</td>\n",
       "      <td>USA</td>\n",
       "    </tr>\n",
       "    <tr>\n",
       "      <th>1</th>\n",
       "      <td>buick skylark 320</td>\n",
       "      <td>15.0</td>\n",
       "      <td>8</td>\n",
       "      <td>350.0</td>\n",
       "      <td>165</td>\n",
       "      <td>3693</td>\n",
       "      <td>11.5</td>\n",
       "      <td>1970</td>\n",
       "      <td>USA</td>\n",
       "    </tr>\n",
       "    <tr>\n",
       "      <th>2</th>\n",
       "      <td>plymouth satellite</td>\n",
       "      <td>18.0</td>\n",
       "      <td>8</td>\n",
       "      <td>318.0</td>\n",
       "      <td>150</td>\n",
       "      <td>3436</td>\n",
       "      <td>11.0</td>\n",
       "      <td>1970</td>\n",
       "      <td>USA</td>\n",
       "    </tr>\n",
       "    <tr>\n",
       "      <th>3</th>\n",
       "      <td>amc rebel sst</td>\n",
       "      <td>16.0</td>\n",
       "      <td>8</td>\n",
       "      <td>304.0</td>\n",
       "      <td>150</td>\n",
       "      <td>3433</td>\n",
       "      <td>12.0</td>\n",
       "      <td>1970</td>\n",
       "      <td>USA</td>\n",
       "    </tr>\n",
       "    <tr>\n",
       "      <th>4</th>\n",
       "      <td>ford torino</td>\n",
       "      <td>17.0</td>\n",
       "      <td>8</td>\n",
       "      <td>302.0</td>\n",
       "      <td>140</td>\n",
       "      <td>3449</td>\n",
       "      <td>10.5</td>\n",
       "      <td>1970</td>\n",
       "      <td>USA</td>\n",
       "    </tr>\n",
       "  </tbody>\n",
       "</table>\n",
       "</div>"
      ],
      "text/plain": [
       "                        Name  MilesPerGal  Cylinders  Displacement  \\\n",
       "0  chevrolet chevelle malibu         18.0          8         307.0   \n",
       "1          buick skylark 320         15.0          8         350.0   \n",
       "2         plymouth satellite         18.0          8         318.0   \n",
       "3              amc rebel sst         16.0          8         304.0   \n",
       "4                ford torino         17.0          8         302.0   \n",
       "\n",
       "   Horsepower  Weight  Acceleration  Year Origin  \n",
       "0         130    3504          12.0  1970    USA  \n",
       "1         165    3693          11.5  1970    USA  \n",
       "2         150    3436          11.0  1970    USA  \n",
       "3         150    3433          12.0  1970    USA  \n",
       "4         140    3449          10.5  1970    USA  "
      ]
     },
     "execution_count": 53,
     "metadata": {},
     "output_type": "execute_result"
    }
   ],
   "source": [
    "dataset.df.head()"
   ]
  },
  {
   "cell_type": "code",
   "execution_count": 62,
   "metadata": {},
   "outputs": [],
   "source": [
    "df = dataset.df.merge(brand_df,how=\"inner\")\n",
    "df = df.drop(columns=[\"Name\"])\n",
    "dataset.set_df(df)"
   ]
  },
  {
   "cell_type": "code",
   "execution_count": 74,
   "metadata": {},
   "outputs": [
    {
     "data": {
      "application/vnd.jupyter.widget-view+json": {
       "model_id": "75e4cab4b6c845d1a2f75a715ebf5f43",
       "version_major": 2,
       "version_minor": 0
      },
      "text/plain": [
       "DisplayWidget(current_view={'config': {'view': {'continuousWidth': 400, 'continuousHeight': 300}, 'mark': {'to…"
      ]
     },
     "metadata": {},
     "output_type": "display_data"
    }
   ],
   "source": [
    "dobj = DataObj(dataset,[Column(\"Brand\")])\n",
    "# dobj.enhance()\n",
    "dobj.display()"
   ]
  },
  {
   "cell_type": "code",
   "execution_count": 76,
   "metadata": {},
   "outputs": [
    {
     "data": {
      "application/vnd.jupyter.widget-view+json": {
       "model_id": "9dd68fc513f04e94953cc121f29d8054",
       "version_major": 2,
       "version_minor": 0
      },
      "text/plain": [
       "DisplayWidget(current_view={'config': {'view': {'continuousWidth': 400, 'continuousHeight': 300}, 'mark': {'to…"
      ]
     },
     "metadata": {},
     "output_type": "display_data"
    }
   ],
   "source": [
    "# we want to take what we had earlier and then break it down by different brands to see how the relationship changes\n",
    "dobj = DataObj(dataset,[Column(\"MilesPerGal\",dataModel=\"measure\"),\n",
    "                        Column(\"Horsepower\",dataModel=\"measure\"),\n",
    "                        Row(\"Brand\",\"?\")])\n",
    "dobj.filter()\n",
    "dobj.display()\n"
   ]
  },
  {
   "cell_type": "code",
   "execution_count": 7,
   "metadata": {},
   "outputs": [
    {
     "ename": "KeyError",
     "evalue": "'Brand'",
     "output_type": "error",
     "traceback": [
      "\u001b[0;31m---------------------------------------------------------------------------\u001b[0m",
      "\u001b[0;31mKeyError\u001b[0m                                  Traceback (most recent call last)",
      "\u001b[0;32m~/.virtualenvs/api/lib/python3.7/site-packages/pandas/core/indexes/base.py\u001b[0m in \u001b[0;36mget_loc\u001b[0;34m(self, key, method, tolerance)\u001b[0m\n\u001b[1;32m   2896\u001b[0m             \u001b[0;32mtry\u001b[0m\u001b[0;34m:\u001b[0m\u001b[0;34m\u001b[0m\u001b[0;34m\u001b[0m\u001b[0m\n\u001b[0;32m-> 2897\u001b[0;31m                 \u001b[0;32mreturn\u001b[0m \u001b[0mself\u001b[0m\u001b[0;34m.\u001b[0m\u001b[0m_engine\u001b[0m\u001b[0;34m.\u001b[0m\u001b[0mget_loc\u001b[0m\u001b[0;34m(\u001b[0m\u001b[0mkey\u001b[0m\u001b[0;34m)\u001b[0m\u001b[0;34m\u001b[0m\u001b[0;34m\u001b[0m\u001b[0m\n\u001b[0m\u001b[1;32m   2898\u001b[0m             \u001b[0;32mexcept\u001b[0m \u001b[0mKeyError\u001b[0m\u001b[0;34m:\u001b[0m\u001b[0;34m\u001b[0m\u001b[0;34m\u001b[0m\u001b[0m\n",
      "\u001b[0;32mpandas/_libs/index.pyx\u001b[0m in \u001b[0;36mpandas._libs.index.IndexEngine.get_loc\u001b[0;34m()\u001b[0m\n",
      "\u001b[0;32mpandas/_libs/index.pyx\u001b[0m in \u001b[0;36mpandas._libs.index.IndexEngine.get_loc\u001b[0;34m()\u001b[0m\n",
      "\u001b[0;32mpandas/_libs/hashtable_class_helper.pxi\u001b[0m in \u001b[0;36mpandas._libs.hashtable.PyObjectHashTable.get_item\u001b[0;34m()\u001b[0m\n",
      "\u001b[0;32mpandas/_libs/hashtable_class_helper.pxi\u001b[0m in \u001b[0;36mpandas._libs.hashtable.PyObjectHashTable.get_item\u001b[0;34m()\u001b[0m\n",
      "\u001b[0;31mKeyError\u001b[0m: 'Brand'",
      "\nDuring handling of the above exception, another exception occurred:\n",
      "\u001b[0;31mKeyError\u001b[0m                                  Traceback (most recent call last)",
      "\u001b[0;32m<ipython-input-7-3556df61092d>\u001b[0m in \u001b[0;36m<module>\u001b[0;34m\u001b[0m\n\u001b[1;32m      1\u001b[0m dobj = DataObj(dataset,[Column(\"Horsepower\",dataModel=\"measure\"),\n\u001b[0;32m----> 2\u001b[0;31m                         Row(\"Brand\",\"?\")])\n\u001b[0m\u001b[1;32m      3\u001b[0m \u001b[0mdobj\u001b[0m\u001b[0;34m.\u001b[0m\u001b[0mfilter\u001b[0m\u001b[0;34m(\u001b[0m\u001b[0;34m)\u001b[0m\u001b[0;34m\u001b[0m\u001b[0;34m\u001b[0m\u001b[0m\n\u001b[1;32m      4\u001b[0m \u001b[0mdobj\u001b[0m\u001b[0;34m.\u001b[0m\u001b[0mdisplay\u001b[0m\u001b[0;34m(\u001b[0m\u001b[0;34m)\u001b[0m\u001b[0;34m\u001b[0m\u001b[0;34m\u001b[0m\u001b[0m\n",
      "\u001b[0;32m~/Desktop/Research/vizdatasci/datasci-api/dataObj/dataObj.py\u001b[0m in \u001b[0;36m__init__\u001b[0;34m(self, dataset, spec, title)\u001b[0m\n\u001b[1;32m     23\u001b[0m         \u001b[0mself\u001b[0m\u001b[0;34m.\u001b[0m\u001b[0mrecommendation\u001b[0m \u001b[0;34m=\u001b[0m \u001b[0;34m{\u001b[0m\u001b[0;34m}\u001b[0m\u001b[0;34m\u001b[0m\u001b[0;34m\u001b[0m\u001b[0m\n\u001b[1;32m     24\u001b[0m         \u001b[0mself\u001b[0m\u001b[0;34m.\u001b[0m\u001b[0mwidgetJSON\u001b[0m \u001b[0;34m=\u001b[0m \u001b[0;34m{\u001b[0m\u001b[0;34m}\u001b[0m\u001b[0;34m\u001b[0m\u001b[0;34m\u001b[0m\u001b[0m\n\u001b[0;32m---> 25\u001b[0;31m         \u001b[0mself\u001b[0m\u001b[0;34m.\u001b[0m\u001b[0mcompile\u001b[0m\u001b[0;34m(\u001b[0m\u001b[0;34m)\u001b[0m\u001b[0;34m\u001b[0m\u001b[0;34m\u001b[0m\u001b[0m\n\u001b[0m\u001b[1;32m     26\u001b[0m \u001b[0;34m\u001b[0m\u001b[0m\n\u001b[1;32m     27\u001b[0m     \u001b[0;32mdef\u001b[0m \u001b[0m__repr__\u001b[0m\u001b[0;34m(\u001b[0m\u001b[0mself\u001b[0m\u001b[0;34m)\u001b[0m\u001b[0;34m:\u001b[0m\u001b[0;34m\u001b[0m\u001b[0;34m\u001b[0m\u001b[0m\n",
      "\u001b[0;32m~/Desktop/Research/vizdatasci/datasci-api/dataObj/dataObj.py\u001b[0m in \u001b[0;36mcompile\u001b[0;34m(self, enumerateCollection)\u001b[0m\n\u001b[1;32m     46\u001b[0m         \u001b[0;31m# Input: DataObj --> Output: DataObjCollection/False\u001b[0m\u001b[0;34m\u001b[0m\u001b[0;34m\u001b[0m\u001b[0;34m\u001b[0m\u001b[0m\n\u001b[1;32m     47\u001b[0m         \u001b[0;32mif\u001b[0m \u001b[0;34m(\u001b[0m\u001b[0menumerateCollection\u001b[0m\u001b[0;34m)\u001b[0m\u001b[0;34m:\u001b[0m\u001b[0;34m\u001b[0m\u001b[0;34m\u001b[0m\u001b[0m\n\u001b[0;32m---> 48\u001b[0;31m             \u001b[0mdataObjCollection\u001b[0m \u001b[0;34m=\u001b[0m \u001b[0mcompiler\u001b[0m\u001b[0;34m.\u001b[0m\u001b[0menumerateCollection\u001b[0m\u001b[0;34m(\u001b[0m\u001b[0mdobj\u001b[0m\u001b[0;34m)\u001b[0m\u001b[0;34m\u001b[0m\u001b[0;34m\u001b[0m\u001b[0m\n\u001b[0m\u001b[1;32m     49\u001b[0m         \u001b[0;32melse\u001b[0m\u001b[0;34m:\u001b[0m\u001b[0;34m\u001b[0m\u001b[0;34m\u001b[0m\u001b[0m\n\u001b[1;32m     50\u001b[0m             \u001b[0mdataObjCollection\u001b[0m \u001b[0;34m=\u001b[0m \u001b[0;32mFalse\u001b[0m\u001b[0;34m\u001b[0m\u001b[0;34m\u001b[0m\u001b[0m\n",
      "\u001b[0;32m~/Desktop/Research/vizdatasci/datasci-api/compiler/Compiler.py\u001b[0m in \u001b[0;36menumerateCollection\u001b[0;34m(self, dobj)\u001b[0m\n\u001b[1;32m     82\u001b[0m                         \u001b[0mcolAttrs\u001b[0m\u001b[0;34m.\u001b[0m\u001b[0mappend\u001b[0m\u001b[0;34m(\u001b[0m\u001b[0mpopulateOptions\u001b[0m\u001b[0;34m(\u001b[0m\u001b[0mdobj\u001b[0m\u001b[0;34m,\u001b[0m \u001b[0mcolSpecs\u001b[0m\u001b[0;34m[\u001b[0m\u001b[0;36m1\u001b[0m\u001b[0;34m]\u001b[0m\u001b[0;34m)\u001b[0m\u001b[0;34m)\u001b[0m\u001b[0;34m\u001b[0m\u001b[0;34m\u001b[0m\u001b[0m\n\u001b[1;32m     83\u001b[0m                 \u001b[0;32mif\u001b[0m \u001b[0mlen\u001b[0m\u001b[0;34m(\u001b[0m\u001b[0mrowSpecs\u001b[0m\u001b[0;34m)\u001b[0m \u001b[0;34m>\u001b[0m \u001b[0;36m0\u001b[0m\u001b[0;34m:\u001b[0m\u001b[0;34m\u001b[0m\u001b[0;34m\u001b[0m\u001b[0m\n\u001b[0;32m---> 84\u001b[0;31m                         \u001b[0mrowVals\u001b[0m \u001b[0;34m=\u001b[0m \u001b[0mpopulateOptions\u001b[0m\u001b[0;34m(\u001b[0m\u001b[0mdobj\u001b[0m\u001b[0;34m,\u001b[0m \u001b[0mrowSpecs\u001b[0m\u001b[0;34m[\u001b[0m\u001b[0;36m0\u001b[0m\u001b[0;34m]\u001b[0m\u001b[0;34m)\u001b[0m  \u001b[0;31m# populate rowvals with all unique possibilities\u001b[0m\u001b[0;34m\u001b[0m\u001b[0;34m\u001b[0m\u001b[0m\n\u001b[0m\u001b[1;32m     85\u001b[0m                         \u001b[0mfAttr\u001b[0m \u001b[0;34m=\u001b[0m \u001b[0mrowSpecs\u001b[0m\u001b[0;34m[\u001b[0m\u001b[0;36m0\u001b[0m\u001b[0;34m]\u001b[0m\u001b[0;34m.\u001b[0m\u001b[0mfAttribute\u001b[0m\u001b[0;34m\u001b[0m\u001b[0;34m\u001b[0m\u001b[0m\n\u001b[1;32m     86\u001b[0m \t\tif all(len(attrs) <= 1 for attrs in colAttrs) and len(\n",
      "\u001b[0;32m~/Desktop/Research/vizdatasci/datasci-api/compiler/Compiler.py\u001b[0m in \u001b[0;36mpopulateOptions\u001b[0;34m(dobj, rowCol)\u001b[0m\n\u001b[1;32m    263\u001b[0m         \u001b[0;32melif\u001b[0m \u001b[0mrowCol\u001b[0m\u001b[0;34m.\u001b[0m\u001b[0mclassName\u001b[0m \u001b[0;34m==\u001b[0m \u001b[0;34m\"Row\"\u001b[0m\u001b[0;34m:\u001b[0m\u001b[0;34m\u001b[0m\u001b[0;34m\u001b[0m\u001b[0m\n\u001b[1;32m    264\u001b[0m                 \u001b[0;32mif\u001b[0m \u001b[0mrowCol\u001b[0m\u001b[0;34m.\u001b[0m\u001b[0mfVal\u001b[0m \u001b[0;34m==\u001b[0m \u001b[0;34m\"?\"\u001b[0m\u001b[0;34m:\u001b[0m\u001b[0;34m\u001b[0m\u001b[0;34m\u001b[0m\u001b[0m\n\u001b[0;32m--> 265\u001b[0;31m                         \u001b[0moptions\u001b[0m \u001b[0;34m=\u001b[0m \u001b[0mdobj\u001b[0m\u001b[0;34m.\u001b[0m\u001b[0mdataset\u001b[0m\u001b[0;34m.\u001b[0m\u001b[0mdf\u001b[0m\u001b[0;34m[\u001b[0m\u001b[0mrowCol\u001b[0m\u001b[0;34m.\u001b[0m\u001b[0mfAttribute\u001b[0m\u001b[0;34m]\u001b[0m\u001b[0;34m.\u001b[0m\u001b[0munique\u001b[0m\u001b[0;34m(\u001b[0m\u001b[0;34m)\u001b[0m\u001b[0;34m\u001b[0m\u001b[0;34m\u001b[0m\u001b[0m\n\u001b[0m\u001b[1;32m    266\u001b[0m                 \u001b[0;32melse\u001b[0m\u001b[0;34m:\u001b[0m\u001b[0;34m\u001b[0m\u001b[0;34m\u001b[0m\u001b[0m\n\u001b[1;32m    267\u001b[0m                         \u001b[0moptions\u001b[0m \u001b[0;34m=\u001b[0m \u001b[0mconvert2List\u001b[0m\u001b[0;34m(\u001b[0m\u001b[0mrowCol\u001b[0m\u001b[0;34m.\u001b[0m\u001b[0mfVal\u001b[0m\u001b[0;34m)\u001b[0m\u001b[0;34m\u001b[0m\u001b[0;34m\u001b[0m\u001b[0m\n",
      "\u001b[0;32m~/.virtualenvs/api/lib/python3.7/site-packages/pandas/core/frame.py\u001b[0m in \u001b[0;36m__getitem__\u001b[0;34m(self, key)\u001b[0m\n\u001b[1;32m   2993\u001b[0m             \u001b[0;32mif\u001b[0m \u001b[0mself\u001b[0m\u001b[0;34m.\u001b[0m\u001b[0mcolumns\u001b[0m\u001b[0;34m.\u001b[0m\u001b[0mnlevels\u001b[0m \u001b[0;34m>\u001b[0m \u001b[0;36m1\u001b[0m\u001b[0;34m:\u001b[0m\u001b[0;34m\u001b[0m\u001b[0;34m\u001b[0m\u001b[0m\n\u001b[1;32m   2994\u001b[0m                 \u001b[0;32mreturn\u001b[0m \u001b[0mself\u001b[0m\u001b[0;34m.\u001b[0m\u001b[0m_getitem_multilevel\u001b[0m\u001b[0;34m(\u001b[0m\u001b[0mkey\u001b[0m\u001b[0;34m)\u001b[0m\u001b[0;34m\u001b[0m\u001b[0;34m\u001b[0m\u001b[0m\n\u001b[0;32m-> 2995\u001b[0;31m             \u001b[0mindexer\u001b[0m \u001b[0;34m=\u001b[0m \u001b[0mself\u001b[0m\u001b[0;34m.\u001b[0m\u001b[0mcolumns\u001b[0m\u001b[0;34m.\u001b[0m\u001b[0mget_loc\u001b[0m\u001b[0;34m(\u001b[0m\u001b[0mkey\u001b[0m\u001b[0;34m)\u001b[0m\u001b[0;34m\u001b[0m\u001b[0;34m\u001b[0m\u001b[0m\n\u001b[0m\u001b[1;32m   2996\u001b[0m             \u001b[0;32mif\u001b[0m \u001b[0mis_integer\u001b[0m\u001b[0;34m(\u001b[0m\u001b[0mindexer\u001b[0m\u001b[0;34m)\u001b[0m\u001b[0;34m:\u001b[0m\u001b[0;34m\u001b[0m\u001b[0;34m\u001b[0m\u001b[0m\n\u001b[1;32m   2997\u001b[0m                 \u001b[0mindexer\u001b[0m \u001b[0;34m=\u001b[0m \u001b[0;34m[\u001b[0m\u001b[0mindexer\u001b[0m\u001b[0;34m]\u001b[0m\u001b[0;34m\u001b[0m\u001b[0;34m\u001b[0m\u001b[0m\n",
      "\u001b[0;32m~/.virtualenvs/api/lib/python3.7/site-packages/pandas/core/indexes/base.py\u001b[0m in \u001b[0;36mget_loc\u001b[0;34m(self, key, method, tolerance)\u001b[0m\n\u001b[1;32m   2897\u001b[0m                 \u001b[0;32mreturn\u001b[0m \u001b[0mself\u001b[0m\u001b[0;34m.\u001b[0m\u001b[0m_engine\u001b[0m\u001b[0;34m.\u001b[0m\u001b[0mget_loc\u001b[0m\u001b[0;34m(\u001b[0m\u001b[0mkey\u001b[0m\u001b[0;34m)\u001b[0m\u001b[0;34m\u001b[0m\u001b[0;34m\u001b[0m\u001b[0m\n\u001b[1;32m   2898\u001b[0m             \u001b[0;32mexcept\u001b[0m \u001b[0mKeyError\u001b[0m\u001b[0;34m:\u001b[0m\u001b[0;34m\u001b[0m\u001b[0;34m\u001b[0m\u001b[0m\n\u001b[0;32m-> 2899\u001b[0;31m                 \u001b[0;32mreturn\u001b[0m \u001b[0mself\u001b[0m\u001b[0;34m.\u001b[0m\u001b[0m_engine\u001b[0m\u001b[0;34m.\u001b[0m\u001b[0mget_loc\u001b[0m\u001b[0;34m(\u001b[0m\u001b[0mself\u001b[0m\u001b[0;34m.\u001b[0m\u001b[0m_maybe_cast_indexer\u001b[0m\u001b[0;34m(\u001b[0m\u001b[0mkey\u001b[0m\u001b[0;34m)\u001b[0m\u001b[0;34m)\u001b[0m\u001b[0;34m\u001b[0m\u001b[0;34m\u001b[0m\u001b[0m\n\u001b[0m\u001b[1;32m   2900\u001b[0m         \u001b[0mindexer\u001b[0m \u001b[0;34m=\u001b[0m \u001b[0mself\u001b[0m\u001b[0;34m.\u001b[0m\u001b[0mget_indexer\u001b[0m\u001b[0;34m(\u001b[0m\u001b[0;34m[\u001b[0m\u001b[0mkey\u001b[0m\u001b[0;34m]\u001b[0m\u001b[0;34m,\u001b[0m \u001b[0mmethod\u001b[0m\u001b[0;34m=\u001b[0m\u001b[0mmethod\u001b[0m\u001b[0;34m,\u001b[0m \u001b[0mtolerance\u001b[0m\u001b[0;34m=\u001b[0m\u001b[0mtolerance\u001b[0m\u001b[0;34m)\u001b[0m\u001b[0;34m\u001b[0m\u001b[0;34m\u001b[0m\u001b[0m\n\u001b[1;32m   2901\u001b[0m         \u001b[0;32mif\u001b[0m \u001b[0mindexer\u001b[0m\u001b[0;34m.\u001b[0m\u001b[0mndim\u001b[0m \u001b[0;34m>\u001b[0m \u001b[0;36m1\u001b[0m \u001b[0;32mor\u001b[0m \u001b[0mindexer\u001b[0m\u001b[0;34m.\u001b[0m\u001b[0msize\u001b[0m \u001b[0;34m>\u001b[0m \u001b[0;36m1\u001b[0m\u001b[0;34m:\u001b[0m\u001b[0;34m\u001b[0m\u001b[0;34m\u001b[0m\u001b[0m\n",
      "\u001b[0;32mpandas/_libs/index.pyx\u001b[0m in \u001b[0;36mpandas._libs.index.IndexEngine.get_loc\u001b[0;34m()\u001b[0m\n",
      "\u001b[0;32mpandas/_libs/index.pyx\u001b[0m in \u001b[0;36mpandas._libs.index.IndexEngine.get_loc\u001b[0;34m()\u001b[0m\n",
      "\u001b[0;32mpandas/_libs/hashtable_class_helper.pxi\u001b[0m in \u001b[0;36mpandas._libs.hashtable.PyObjectHashTable.get_item\u001b[0;34m()\u001b[0m\n",
      "\u001b[0;32mpandas/_libs/hashtable_class_helper.pxi\u001b[0m in \u001b[0;36mpandas._libs.hashtable.PyObjectHashTable.get_item\u001b[0;34m()\u001b[0m\n",
      "\u001b[0;31mKeyError\u001b[0m: 'Brand'"
     ]
    }
   ],
   "source": [
    "dobj = DataObj(dataset,[Column(\"Horsepower\",dataModel=\"measure\"),\n",
    "                        Row(\"Brand\",\"?\")])\n",
    "dobj.filter()\n",
    "dobj.display()"
   ]
  },
  {
   "cell_type": "code",
   "execution_count": null,
   "metadata": {},
   "outputs": [],
   "source": []
  }
 ],
 "metadata": {
  "history": [
   {
    "code": "cd ../..",
    "id": "8585afcb11bd4ef88de6a2b17592645c",
    "idx": 0,
    "time": "2020-01-09T19:15:29.302Z",
    "type": "exec"
   },
   {
    "id": "8585afcb11bd4ef88de6a2b17592645c",
    "time": "2020-01-09T19:15:29.325Z",
    "type": "completion"
   },
   {
    "code": "%load_ext autoreload\n%autoreload 2\nfrom dataset.Dataset import Dataset\nfrom dataObj.dataObj import DataObj\nfrom dataObj.Row import Row\nfrom dataObj.Column import Column",
    "id": "40771fc434ab479d8c254411bcb1944d",
    "idx": 2,
    "time": "2020-01-09T19:15:29.924Z",
    "type": "exec"
   },
   {
    "id": "40771fc434ab479d8c254411bcb1944d",
    "time": "2020-01-09T19:15:30.724Z",
    "type": "completion"
   },
   {
    "code": "cd ../..",
    "id": "8585afcb11bd4ef88de6a2b17592645c",
    "idx": 0,
    "time": "2020-01-09T19:15:57.486Z",
    "type": "exec"
   },
   {
    "id": "8585afcb11bd4ef88de6a2b17592645c",
    "time": "2020-01-09T19:15:57.520Z",
    "type": "completion"
   },
   {
    "code": "%load_ext autoreload\n%autoreload 2\nfrom dataset.Dataset import Dataset\nfrom dataObj.dataObj import DataObj\nfrom dataObj.Row import Row\nfrom dataObj.Column import Column",
    "id": "40771fc434ab479d8c254411bcb1944d",
    "idx": 2,
    "time": "2020-01-09T19:15:58.142Z",
    "type": "exec"
   },
   {
    "id": "40771fc434ab479d8c254411bcb1944d",
    "time": "2020-01-09T19:15:58.166Z",
    "type": "completion"
   },
   {
    "code": "dataset = Dataset(\"data/college.csv\")\n# dataset = Dataset(\"data/cars.csv\")",
    "id": "d00d4ed5ed9a494287bda6fe6118805d",
    "idx": 3,
    "time": "2020-01-09T19:15:59.158Z",
    "type": "exec"
   },
   {
    "id": "d00d4ed5ed9a494287bda6fe6118805d",
    "time": "2020-01-09T19:15:59.321Z",
    "type": "completion"
   },
   {
    "code": "dataset = Dataset(\"data/cars.csv\",schema=[{\"Year\":{\"dataType\":\"date\"}},{\"Cylinders\":{\"dataModel\":\"dimension\"}}])",
    "id": "d00d4ed5ed9a494287bda6fe6118805d",
    "idx": 3,
    "time": "2020-01-09T19:16:11.992Z",
    "type": "exec"
   },
   {
    "id": "d00d4ed5ed9a494287bda6fe6118805d",
    "time": "2020-01-09T19:16:12.038Z",
    "type": "completion"
   },
   {
    "code": "cd ../..",
    "id": "8585afcb11bd4ef88de6a2b17592645c",
    "idx": 0,
    "time": "2020-01-09T19:16:21.437Z",
    "type": "exec"
   },
   {
    "id": "8585afcb11bd4ef88de6a2b17592645c",
    "time": "2020-01-09T19:16:21.454Z",
    "type": "completion"
   },
   {
    "code": "%load_ext autoreload\n%autoreload 2\nfrom dataset.Dataset import Dataset\nfrom dataObj.dataObj import DataObj\nfrom dataObj.Row import Row\nfrom dataObj.Column import Column",
    "id": "40771fc434ab479d8c254411bcb1944d",
    "idx": 2,
    "time": "2020-01-09T19:16:21.917Z",
    "type": "exec"
   },
   {
    "code": "dataset = Dataset(\"data/cars.csv\",schema=[{\"Year\":{\"dataType\":\"date\"}},{\"Cylinders\":{\"dataModel\":\"dimension\"}}])",
    "id": "d00d4ed5ed9a494287bda6fe6118805d",
    "idx": 3,
    "time": "2020-01-09T19:16:22.069Z",
    "type": "exec"
   },
   {
    "id": "40771fc434ab479d8c254411bcb1944d",
    "time": "2020-01-09T19:16:22.370Z",
    "type": "completion"
   },
   {
    "id": "d00d4ed5ed9a494287bda6fe6118805d",
    "time": "2020-01-09T19:16:22.494Z",
    "type": "completion"
   },
   {
    "code": "dataset = Dataset(\"data/cars.csv\",schema=[{\"Year\":{\"dataType\":\"date\"}}])",
    "id": "d00d4ed5ed9a494287bda6fe6118805d",
    "idx": 3,
    "time": "2020-01-09T19:16:48.240Z",
    "type": "exec"
   },
   {
    "id": "d00d4ed5ed9a494287bda6fe6118805d",
    "time": "2020-01-09T19:16:48.270Z",
    "type": "completion"
   },
   {
    "code": "# lux.overview(dataset)\n# --> generate correlation and distribution\n# Click on Median Earnings distribution and ",
    "id": "8afde88d73ed40a4a780d1057f8622ea",
    "idx": 4,
    "time": "2020-01-09T19:16:51.269Z",
    "type": "exec"
   },
   {
    "id": "8afde88d73ed40a4a780d1057f8622ea",
    "time": "2020-01-09T19:16:51.292Z",
    "type": "completion"
   },
   {
    "code": "dobj = DataObj(dataset,[Column(\"?\",dataModel=\"measure\"),Column(\"?\",dataModel=\"measure\")])\ndobj.correlation()\ndobj.display()",
    "id": "dc32153e771745379ee8d0d435b8a2a4",
    "idx": 5,
    "time": "2020-01-09T19:16:51.583Z",
    "type": "exec"
   },
   {
    "code": "dobj = DataObj(dataset,[Column(\"?\",dataModel=\"measure\")])\ndobj.distribution()\ndobj.display()",
    "id": "6c213e241380442b9ef2e140f94cd8f8",
    "idx": 6,
    "time": "2020-01-09T19:16:52.201Z",
    "type": "exec"
   },
   {
    "id": "dc32153e771745379ee8d0d435b8a2a4",
    "time": "2020-01-09T19:16:52.581Z",
    "type": "completion"
   },
   {
    "id": "6c213e241380442b9ef2e140f94cd8f8",
    "time": "2020-01-09T19:16:52.918Z",
    "type": "completion"
   },
   {
    "code": "dobj = DataObj(dataset,[Column(\"MilesPerGal\",dataModel=\"measure\"),Column(\"Horsepower\",dataModel=\"measure\")])",
    "id": "994a000c00c848f2a2903feefc9a7800",
    "idx": 8,
    "time": "2020-01-09T19:18:14.863Z",
    "type": "exec"
   },
   {
    "id": "994a000c00c848f2a2903feefc9a7800",
    "time": "2020-01-09T19:18:14.914Z",
    "type": "completion"
   },
   {
    "code": "dobj.enhance()",
    "id": "91b4ec0ed034424380c8568324e102f2",
    "idx": 9,
    "time": "2020-01-09T19:18:19.382Z",
    "type": "exec"
   },
   {
    "id": "91b4ec0ed034424380c8568324e102f2",
    "time": "2020-01-09T19:18:19.451Z",
    "type": "completion"
   },
   {
    "code": "dobj.enhance()",
    "id": "91b4ec0ed034424380c8568324e102f2",
    "idx": 9,
    "time": "2020-01-09T19:19:54.650Z",
    "type": "exec"
   },
   {
    "id": "91b4ec0ed034424380c8568324e102f2",
    "time": "2020-01-09T19:19:54.703Z",
    "type": "completion"
   },
   {
    "code": "dobj.enhance()",
    "id": "91b4ec0ed034424380c8568324e102f2",
    "idx": 9,
    "time": "2020-01-09T19:20:24.618Z",
    "type": "exec"
   },
   {
    "id": "91b4ec0ed034424380c8568324e102f2",
    "time": "2020-01-09T19:20:24.679Z",
    "type": "completion"
   },
   {
    "code": "dobj.enhance()",
    "id": "91b4ec0ed034424380c8568324e102f2",
    "idx": 9,
    "time": "2020-01-09T19:21:25.819Z",
    "type": "exec"
   },
   {
    "id": "91b4ec0ed034424380c8568324e102f2",
    "time": "2020-01-09T19:21:25.882Z",
    "type": "completion"
   },
   {
    "code": "dobj.enhance()",
    "id": "91b4ec0ed034424380c8568324e102f2",
    "idx": 9,
    "time": "2020-01-09T19:21:36.786Z",
    "type": "exec"
   },
   {
    "id": "91b4ec0ed034424380c8568324e102f2",
    "time": "2020-01-09T19:21:36.860Z",
    "type": "completion"
   },
   {
    "code": "dobj.display()",
    "id": "1963c4c3ab024e9b8d523d89504c2e3a",
    "idx": 10,
    "time": "2020-01-09T19:21:48.437Z",
    "type": "exec"
   },
   {
    "id": "1963c4c3ab024e9b8d523d89504c2e3a",
    "time": "2020-01-09T19:21:48.988Z",
    "type": "completion"
   },
   {
    "code": "dobj = DataObj(dataset,[Column(\"MilesPerGal\",dataModel=\"measure\"),Column(\"Horsepower\",dataModel=\"measure\")])",
    "id": "994a000c00c848f2a2903feefc9a7800",
    "idx": 8,
    "time": "2020-01-09T19:24:46.648Z",
    "type": "exec"
   },
   {
    "id": "994a000c00c848f2a2903feefc9a7800",
    "time": "2020-01-09T19:24:46.708Z",
    "type": "completion"
   },
   {
    "code": "dobj.enhance()",
    "id": "91b4ec0ed034424380c8568324e102f2",
    "idx": 9,
    "time": "2020-01-09T19:24:47.222Z",
    "type": "exec"
   },
   {
    "id": "91b4ec0ed034424380c8568324e102f2",
    "time": "2020-01-09T19:24:47.274Z",
    "type": "completion"
   },
   {
    "code": "dobj.display()",
    "id": "1963c4c3ab024e9b8d523d89504c2e3a",
    "idx": 10,
    "time": "2020-01-09T19:24:48.094Z",
    "type": "exec"
   },
   {
    "id": "1963c4c3ab024e9b8d523d89504c2e3a",
    "time": "2020-01-09T19:24:48.634Z",
    "type": "completion"
   },
   {
    "code": "cars.csv",
    "id": "560a520048ac4356917a0915c9fdd33a",
    "idx": 11,
    "time": "2020-01-09T19:27:50.212Z",
    "type": "exec"
   },
   {
    "id": "560a520048ac4356917a0915c9fdd33a",
    "time": "2020-01-09T19:27:50.265Z",
    "type": "completion"
   },
   {
    "code": "dataset",
    "id": "560a520048ac4356917a0915c9fdd33a",
    "idx": 11,
    "time": "2020-01-09T19:27:56.475Z",
    "type": "exec"
   },
   {
    "id": "560a520048ac4356917a0915c9fdd33a",
    "time": "2020-01-09T19:27:56.515Z",
    "type": "completion"
   },
   {
    "code": "dataset.df",
    "id": "560a520048ac4356917a0915c9fdd33a",
    "idx": 11,
    "time": "2020-01-09T19:27:58.947Z",
    "type": "exec"
   },
   {
    "id": "560a520048ac4356917a0915c9fdd33a",
    "time": "2020-01-09T19:27:59.015Z",
    "type": "completion"
   },
   {
    "code": "dataset.df[[\"Name\",\"Brand\"]]",
    "id": "560a520048ac4356917a0915c9fdd33a",
    "idx": 11,
    "time": "2020-01-09T19:28:11.139Z",
    "type": "exec"
   },
   {
    "id": "560a520048ac4356917a0915c9fdd33a",
    "time": "2020-01-09T19:28:11.180Z",
    "type": "completion"
   },
   {
    "code": "dataset.df[[\"Name\",\"Brand\"]].to_csv(\"car_brand.csv\",index=None)",
    "id": "560a520048ac4356917a0915c9fdd33a",
    "idx": 11,
    "time": "2020-01-09T19:50:38.474Z",
    "type": "exec"
   },
   {
    "id": "560a520048ac4356917a0915c9fdd33a",
    "time": "2020-01-09T19:50:38.509Z",
    "type": "completion"
   },
   {
    "code": "import pandas as pd",
    "id": "9345dc28ad434ca4964461ae2005c50e",
    "idx": 12,
    "time": "2020-01-09T19:52:18.230Z",
    "type": "exec"
   },
   {
    "id": "9345dc28ad434ca4964461ae2005c50e",
    "time": "2020-01-09T19:52:18.286Z",
    "type": "completion"
   },
   {
    "code": "df = pd.read_csv(\"data/cars.csv\")",
    "id": "9099b4ca229141c48a1854301d9ec773",
    "idx": 13,
    "time": "2020-01-09T19:53:08.302Z",
    "type": "exec"
   },
   {
    "id": "9099b4ca229141c48a1854301d9ec773",
    "time": "2020-01-09T19:53:08.352Z",
    "type": "completion"
   },
   {
    "code": "df.drop(\"Brand\")",
    "id": "d6f621702d0442f48b17dcda0027f8ce",
    "idx": 14,
    "time": "2020-01-09T19:53:13.894Z",
    "type": "exec"
   },
   {
    "id": "d6f621702d0442f48b17dcda0027f8ce",
    "time": "2020-01-09T19:53:13.959Z",
    "type": "completion"
   },
   {
    "code": "df = df.drop(columns=\"Brand\")",
    "id": "d6f621702d0442f48b17dcda0027f8ce",
    "idx": 14,
    "time": "2020-01-09T19:53:24.364Z",
    "type": "exec"
   },
   {
    "id": "d6f621702d0442f48b17dcda0027f8ce",
    "time": "2020-01-09T19:53:24.403Z",
    "type": "completion"
   },
   {
    "code": "df",
    "id": "5e68bc0fa9f94145805c22f7f069e0ae",
    "idx": 15,
    "time": "2020-01-09T19:53:25.871Z",
    "type": "exec"
   },
   {
    "id": "5e68bc0fa9f94145805c22f7f069e0ae",
    "time": "2020-01-09T19:53:25.924Z",
    "type": "completion"
   },
   {
    "code": "df.to_csv(\"data/cars.csv\",index=None)",
    "id": "5e68bc0fa9f94145805c22f7f069e0ae",
    "idx": 15,
    "time": "2020-01-09T19:53:40.485Z",
    "type": "exec"
   },
   {
    "id": "5e68bc0fa9f94145805c22f7f069e0ae",
    "time": "2020-01-09T19:53:40.520Z",
    "type": "completion"
   },
   {
    "code": "%load_ext autoreload\n%autoreload 2\nfrom dataset.Dataset import Dataset\nfrom dataObj.dataObj import DataObj\nfrom dataObj.Row import Row\nfrom dataObj.Column import Column",
    "id": "40771fc434ab479d8c254411bcb1944d",
    "idx": 2,
    "time": "2020-01-09T19:54:23.943Z",
    "type": "exec"
   },
   {
    "id": "40771fc434ab479d8c254411bcb1944d",
    "time": "2020-01-09T19:54:23.969Z",
    "type": "completion"
   },
   {
    "code": "cd ../..",
    "id": "8585afcb11bd4ef88de6a2b17592645c",
    "idx": 0,
    "time": "2020-01-09T19:54:27.471Z",
    "type": "exec"
   },
   {
    "code": "%load_ext autoreload\n%autoreload 2\nfrom dataset.Dataset import Dataset\nfrom dataObj.dataObj import DataObj\nfrom dataObj.Row import Row\nfrom dataObj.Column import Column",
    "id": "40771fc434ab479d8c254411bcb1944d",
    "idx": 2,
    "time": "2020-01-09T19:54:28.084Z",
    "type": "exec"
   },
   {
    "code": "dataset = Dataset(\"data/cars.csv\",schema=[{\"Year\":{\"dataType\":\"date\"}}])",
    "id": "d00d4ed5ed9a494287bda6fe6118805d",
    "idx": 3,
    "time": "2020-01-09T19:54:28.676Z",
    "type": "exec"
   },
   {
    "id": "8585afcb11bd4ef88de6a2b17592645c",
    "time": "2020-01-09T19:54:29.260Z",
    "type": "completion"
   },
   {
    "code": "# lux.overview(dataset)\n# --> generate correlation and distribution\n# Click on Median Earnings distribution and ",
    "id": "8afde88d73ed40a4a780d1057f8622ea",
    "idx": 4,
    "time": "2020-01-09T19:54:29.948Z",
    "type": "exec"
   },
   {
    "id": "40771fc434ab479d8c254411bcb1944d",
    "time": "2020-01-09T19:54:30.002Z",
    "type": "completion"
   },
   {
    "id": "d00d4ed5ed9a494287bda6fe6118805d",
    "time": "2020-01-09T19:54:30.029Z",
    "type": "completion"
   },
   {
    "id": "8afde88d73ed40a4a780d1057f8622ea",
    "time": "2020-01-09T19:54:30.049Z",
    "type": "completion"
   },
   {
    "code": "dobj = DataObj(dataset,[Column(\"?\",dataModel=\"measure\"),Column(\"?\",dataModel=\"measure\")])\ndobj.correlation()\ndobj.display()",
    "id": "dc32153e771745379ee8d0d435b8a2a4",
    "idx": 5,
    "time": "2020-01-09T19:54:30.583Z",
    "type": "exec"
   },
   {
    "id": "dc32153e771745379ee8d0d435b8a2a4",
    "time": "2020-01-09T19:54:31.756Z",
    "type": "completion"
   },
   {
    "code": "dobj = DataObj(dataset,[Column(\"?\",dataModel=\"measure\")])\ndobj.distribution()\ndobj.display()",
    "id": "6c213e241380442b9ef2e140f94cd8f8",
    "idx": 6,
    "time": "2020-01-09T19:54:38.305Z",
    "type": "exec"
   },
   {
    "id": "6c213e241380442b9ef2e140f94cd8f8",
    "time": "2020-01-09T19:54:38.594Z",
    "type": "completion"
   },
   {
    "code": "dobj = DataObj(dataset,[Column(\"?\")])\ndobj.distribution()\ndobj.display()",
    "id": "6c213e241380442b9ef2e140f94cd8f8",
    "idx": 6,
    "time": "2020-01-09T19:54:45.240Z",
    "type": "exec"
   },
   {
    "id": "6c213e241380442b9ef2e140f94cd8f8",
    "time": "2020-01-09T19:54:45.856Z",
    "type": "completion"
   },
   {
    "code": "dobj = DataObj(dataset,[Column(\"?\",dataModel=\"measure\")])\ndobj.distribution()\ndobj.display()",
    "id": "6c213e241380442b9ef2e140f94cd8f8",
    "idx": 6,
    "time": "2020-01-09T19:55:02.654Z",
    "type": "exec"
   },
   {
    "id": "6c213e241380442b9ef2e140f94cd8f8",
    "time": "2020-01-09T19:55:02.958Z",
    "type": "completion"
   },
   {
    "code": "dobj = DataObj(dataset,[Column(\"MilesPerGal\",dataModel=\"measure\"),Column(\"Horsepower\",dataModel=\"measure\")])",
    "id": "994a000c00c848f2a2903feefc9a7800",
    "idx": 8,
    "time": "2020-01-09T19:57:23.570Z",
    "type": "exec"
   },
   {
    "id": "994a000c00c848f2a2903feefc9a7800",
    "time": "2020-01-09T19:57:23.598Z",
    "type": "completion"
   },
   {
    "code": "dobj.enhance()",
    "id": "91b4ec0ed034424380c8568324e102f2",
    "idx": 9,
    "time": "2020-01-09T19:57:26.089Z",
    "type": "exec"
   },
   {
    "id": "91b4ec0ed034424380c8568324e102f2",
    "time": "2020-01-09T19:57:26.137Z",
    "type": "completion"
   },
   {
    "code": "dobj.display()",
    "id": "1963c4c3ab024e9b8d523d89504c2e3a",
    "idx": 10,
    "time": "2020-01-09T19:57:26.572Z",
    "type": "exec"
   },
   {
    "id": "1963c4c3ab024e9b8d523d89504c2e3a",
    "time": "2020-01-09T19:57:27.225Z",
    "type": "completion"
   },
   {
    "code": "# Found out that name is too much, so drop name as a column and add in Brand information",
    "id": "81d78b761a1f4d528888a5a3a7d24b23",
    "idx": 11,
    "time": "2020-01-09T20:14:36.047Z",
    "type": "exec"
   },
   {
    "id": "81d78b761a1f4d528888a5a3a7d24b23",
    "time": "2020-01-09T20:14:36.109Z",
    "type": "completion"
   },
   {
    "code": "dataset.df",
    "id": "05dc3aa7da9e4cc387febc064ce2ceb0",
    "idx": 12,
    "time": "2020-01-09T20:14:42.968Z",
    "type": "exec"
   },
   {
    "id": "05dc3aa7da9e4cc387febc064ce2ceb0",
    "time": "2020-01-09T20:14:43.037Z",
    "type": "completion"
   },
   {
    "code": "import pandas as pd",
    "id": "68f9f48b967841dea053f6fbbe1d8ded",
    "idx": 12,
    "time": "2020-01-09T20:15:05.120Z",
    "type": "exec"
   },
   {
    "id": "68f9f48b967841dea053f6fbbe1d8ded",
    "time": "2020-01-09T20:15:05.148Z",
    "type": "completion"
   },
   {
    "code": "brand_df = pd.read_csv(\"data/car_brand.csv\")",
    "id": "4fa1f83ac2e94e5e81b735834822cf53",
    "idx": 13,
    "time": "2020-01-09T20:15:25.176Z",
    "type": "exec"
   },
   {
    "id": "4fa1f83ac2e94e5e81b735834822cf53",
    "time": "2020-01-09T20:15:25.208Z",
    "type": "completion"
   },
   {
    "code": "brand_df.head()",
    "id": "f8790eb8495a4efd9415db2b67090b35",
    "idx": 14,
    "time": "2020-01-09T20:15:29.589Z",
    "type": "exec"
   },
   {
    "id": "f8790eb8495a4efd9415db2b67090b35",
    "time": "2020-01-09T20:15:29.622Z",
    "type": "completion"
   },
   {
    "code": "dataset.df.join(brand_df)",
    "id": "05dc3aa7da9e4cc387febc064ce2ceb0",
    "idx": 15,
    "time": "2020-01-09T20:15:51.026Z",
    "type": "exec"
   },
   {
    "id": "05dc3aa7da9e4cc387febc064ce2ceb0",
    "time": "2020-01-09T20:15:51.204Z",
    "type": "completion"
   },
   {
    "code": "dataset.df.merge(brand_df)",
    "id": "05dc3aa7da9e4cc387febc064ce2ceb0",
    "idx": 15,
    "time": "2020-01-09T20:15:56.232Z",
    "type": "exec"
   },
   {
    "id": "05dc3aa7da9e4cc387febc064ce2ceb0",
    "time": "2020-01-09T20:15:56.320Z",
    "type": "completion"
   },
   {
    "code": "dataset.df = dataset.df.merge(brand_df)",
    "id": "05dc3aa7da9e4cc387febc064ce2ceb0",
    "idx": 15,
    "time": "2020-01-09T20:16:01.996Z",
    "type": "exec"
   },
   {
    "id": "05dc3aa7da9e4cc387febc064ce2ceb0",
    "time": "2020-01-09T20:16:02.031Z",
    "type": "completion"
   },
   {
    "code": "dataset.df",
    "id": "cb96503c52f14a6780515620b5cfba00",
    "idx": 16,
    "time": "2020-01-09T20:16:03.337Z",
    "type": "exec"
   },
   {
    "id": "cb96503c52f14a6780515620b5cfba00",
    "time": "2020-01-09T20:16:03.414Z",
    "type": "completion"
   },
   {
    "code": "dataset.df = dataset.df.join(brand_df)",
    "id": "05dc3aa7da9e4cc387febc064ce2ceb0",
    "idx": 15,
    "time": "2020-01-09T20:16:27.802Z",
    "type": "exec"
   },
   {
    "id": "05dc3aa7da9e4cc387febc064ce2ceb0",
    "time": "2020-01-09T20:16:27.859Z",
    "type": "completion"
   },
   {
    "code": "dataset = Dataset(\"data/cars.csv\",schema=[{\"Year\":{\"dataType\":\"date\"}}])",
    "id": "17275a5ec0244bb0a9f2c0e4828d010a",
    "idx": 15,
    "time": "2020-01-09T20:16:39.954Z",
    "type": "exec"
   },
   {
    "id": "17275a5ec0244bb0a9f2c0e4828d010a",
    "time": "2020-01-09T20:16:39.984Z",
    "type": "completion"
   },
   {
    "code": "dataset.df.join(brand_df)",
    "id": "05dc3aa7da9e4cc387febc064ce2ceb0",
    "idx": 16,
    "time": "2020-01-09T20:16:41.515Z",
    "type": "exec"
   },
   {
    "id": "05dc3aa7da9e4cc387febc064ce2ceb0",
    "time": "2020-01-09T20:16:41.573Z",
    "type": "completion"
   },
   {
    "code": "dataset.df.join(brand_df,on=\"Name\")",
    "id": "05dc3aa7da9e4cc387febc064ce2ceb0",
    "idx": 16,
    "time": "2020-01-09T20:16:51.468Z",
    "type": "exec"
   },
   {
    "id": "05dc3aa7da9e4cc387febc064ce2ceb0",
    "time": "2020-01-09T20:16:51.532Z",
    "type": "completion"
   },
   {
    "code": "df",
    "id": "c42b5075fbb442889d5f770ae83b78b0",
    "idx": 16,
    "time": "2020-01-09T20:17:00.907Z",
    "type": "exec"
   },
   {
    "id": "c42b5075fbb442889d5f770ae83b78b0",
    "time": "2020-01-09T20:17:00.936Z",
    "type": "completion"
   },
   {
    "code": "dataset.df",
    "id": "c42b5075fbb442889d5f770ae83b78b0",
    "idx": 16,
    "time": "2020-01-09T20:17:04.609Z",
    "type": "exec"
   },
   {
    "id": "c42b5075fbb442889d5f770ae83b78b0",
    "time": "2020-01-09T20:17:04.646Z",
    "type": "completion"
   },
   {
    "code": "dataset.df.head()",
    "id": "c42b5075fbb442889d5f770ae83b78b0",
    "idx": 16,
    "time": "2020-01-09T20:17:09.242Z",
    "type": "exec"
   },
   {
    "id": "c42b5075fbb442889d5f770ae83b78b0",
    "time": "2020-01-09T20:17:09.285Z",
    "type": "completion"
   },
   {
    "code": "dataset.df.concat(brand_df,on=\"Name\")",
    "id": "05dc3aa7da9e4cc387febc064ce2ceb0",
    "idx": 17,
    "time": "2020-01-09T20:19:05.330Z",
    "type": "exec"
   },
   {
    "id": "05dc3aa7da9e4cc387febc064ce2ceb0",
    "time": "2020-01-09T20:19:05.388Z",
    "type": "completion"
   },
   {
    "code": "pd.concat(dataset.df,brand_df,join=\"inner\")",
    "id": "05dc3aa7da9e4cc387febc064ce2ceb0",
    "idx": 17,
    "time": "2020-01-09T20:19:38.023Z",
    "type": "exec"
   },
   {
    "id": "05dc3aa7da9e4cc387febc064ce2ceb0",
    "time": "2020-01-09T20:19:38.068Z",
    "type": "completion"
   },
   {
    "code": "pd.concat(dataset.df,brand_df)",
    "id": "05dc3aa7da9e4cc387febc064ce2ceb0",
    "idx": 17,
    "time": "2020-01-09T20:19:41.455Z",
    "type": "exec"
   },
   {
    "id": "05dc3aa7da9e4cc387febc064ce2ceb0",
    "time": "2020-01-09T20:19:41.512Z",
    "type": "completion"
   },
   {
    "code": "pd.concat([dataset.df,brand_df])",
    "id": "05dc3aa7da9e4cc387febc064ce2ceb0",
    "idx": 17,
    "time": "2020-01-09T20:19:52.335Z",
    "type": "exec"
   },
   {
    "id": "05dc3aa7da9e4cc387febc064ce2ceb0",
    "time": "2020-01-09T20:19:52.405Z",
    "type": "completion"
   },
   {
    "code": "pd.merge([dataset.df,brand_df])",
    "id": "05dc3aa7da9e4cc387febc064ce2ceb0",
    "idx": 17,
    "time": "2020-01-09T20:20:07.719Z",
    "type": "exec"
   },
   {
    "id": "05dc3aa7da9e4cc387febc064ce2ceb0",
    "time": "2020-01-09T20:20:07.768Z",
    "type": "completion"
   },
   {
    "code": "dataset.df.merge(brand_df)",
    "id": "05dc3aa7da9e4cc387febc064ce2ceb0",
    "idx": 17,
    "time": "2020-01-09T20:20:18.621Z",
    "type": "exec"
   },
   {
    "id": "05dc3aa7da9e4cc387febc064ce2ceb0",
    "time": "2020-01-09T20:20:18.716Z",
    "type": "completion"
   },
   {
    "code": "len(dataset.df)",
    "id": "0af39eb3efdb47368c2bb226b4dd9ae3",
    "idx": 17,
    "time": "2020-01-09T20:20:26.008Z",
    "type": "exec"
   },
   {
    "id": "0af39eb3efdb47368c2bb226b4dd9ae3",
    "time": "2020-01-09T20:20:26.040Z",
    "type": "completion"
   },
   {
    "code": "pd.concat([dataset.df,brand_df],join=\"inner\")",
    "id": "05dc3aa7da9e4cc387febc064ce2ceb0",
    "idx": 18,
    "time": "2020-01-09T20:20:56.797Z",
    "type": "exec"
   },
   {
    "id": "05dc3aa7da9e4cc387febc064ce2ceb0",
    "time": "2020-01-09T20:20:56.846Z",
    "type": "completion"
   },
   {
    "code": "pd.concat([dataset.df,brand_df],join=\"outer\")",
    "id": "05dc3aa7da9e4cc387febc064ce2ceb0",
    "idx": 18,
    "time": "2020-01-09T20:21:05.945Z",
    "type": "exec"
   },
   {
    "id": "05dc3aa7da9e4cc387febc064ce2ceb0",
    "time": "2020-01-09T20:21:05.994Z",
    "type": "completion"
   },
   {
    "code": "dataset.df.merge(brand_df)",
    "id": "9ac3815d001e470e82da11563336123e",
    "idx": 18,
    "time": "2020-01-09T20:21:24.642Z",
    "type": "exec"
   },
   {
    "id": "9ac3815d001e470e82da11563336123e",
    "time": "2020-01-09T20:21:24.749Z",
    "type": "completion"
   },
   {
    "code": "dataset.df.join(brand_df)",
    "id": "9ac3815d001e470e82da11563336123e",
    "idx": 18,
    "time": "2020-01-09T20:21:30.834Z",
    "type": "exec"
   },
   {
    "id": "9ac3815d001e470e82da11563336123e",
    "time": "2020-01-09T20:21:30.907Z",
    "type": "completion"
   },
   {
    "code": "dataset.df.join(brand_df,on=\"Name\")",
    "id": "9ac3815d001e470e82da11563336123e",
    "idx": 18,
    "time": "2020-01-09T20:21:42.442Z",
    "type": "exec"
   },
   {
    "id": "9ac3815d001e470e82da11563336123e",
    "time": "2020-01-09T20:21:42.527Z",
    "type": "completion"
   },
   {
    "code": "brand_df",
    "id": "ce74fe9c3226405e823ad0802d0512d3",
    "idx": 18,
    "time": "2020-01-09T20:22:00.808Z",
    "type": "exec"
   },
   {
    "id": "ce74fe9c3226405e823ad0802d0512d3",
    "time": "2020-01-09T20:22:00.839Z",
    "type": "completion"
   },
   {
    "code": "brand_df.join(dataset.df,on=\"Name\")",
    "id": "9ac3815d001e470e82da11563336123e",
    "idx": 18,
    "time": "2020-01-09T20:22:12.755Z",
    "type": "exec"
   },
   {
    "id": "9ac3815d001e470e82da11563336123e",
    "time": "2020-01-09T20:22:12.830Z",
    "type": "completion"
   },
   {
    "code": "brand_df.merge(dataset.df)",
    "id": "a48b2f17206b499f86052f8fd8b4dfd4",
    "idx": 18,
    "time": "2020-01-09T20:22:58.767Z",
    "type": "exec"
   },
   {
    "id": "a48b2f17206b499f86052f8fd8b4dfd4",
    "time": "2020-01-09T20:22:58.852Z",
    "type": "completion"
   },
   {
    "code": "len(brand_df)",
    "id": "5ea5df0533f34ee98bae1201ca81dc54",
    "idx": 18,
    "time": "2020-01-09T20:23:09.282Z",
    "type": "exec"
   },
   {
    "id": "5ea5df0533f34ee98bae1201ca81dc54",
    "time": "2020-01-09T20:23:09.317Z",
    "type": "completion"
   },
   {
    "code": "brand_df.merge(dataset.df,how=\"outer\")",
    "id": "a48b2f17206b499f86052f8fd8b4dfd4",
    "idx": 19,
    "time": "2020-01-09T20:23:17.444Z",
    "type": "exec"
   },
   {
    "id": "a48b2f17206b499f86052f8fd8b4dfd4",
    "time": "2020-01-09T20:23:17.499Z",
    "type": "completion"
   },
   {
    "code": "brand_df.merge(dataset.df,how=\"inner\")",
    "id": "a48b2f17206b499f86052f8fd8b4dfd4",
    "idx": 19,
    "time": "2020-01-09T20:23:20.899Z",
    "type": "exec"
   },
   {
    "id": "a48b2f17206b499f86052f8fd8b4dfd4",
    "time": "2020-01-09T20:23:20.954Z",
    "type": "completion"
   },
   {
    "code": "brand_df",
    "id": "b9ec7ffdb864472983995550454964b9",
    "idx": 19,
    "time": "2020-01-09T20:24:10.957Z",
    "type": "exec"
   },
   {
    "id": "b9ec7ffdb864472983995550454964b9",
    "time": "2020-01-09T20:24:10.994Z",
    "type": "completion"
   },
   {
    "code": "brand_df = brand_df.drop_duplicates()",
    "id": "b9ec7ffdb864472983995550454964b9",
    "idx": 19,
    "time": "2020-01-09T20:24:20.251Z",
    "type": "exec"
   },
   {
    "id": "b9ec7ffdb864472983995550454964b9",
    "time": "2020-01-09T20:24:20.308Z",
    "type": "completion"
   },
   {
    "code": "brand_df.merge(dataset.df,how=\"inner\")",
    "id": "a48b2f17206b499f86052f8fd8b4dfd4",
    "idx": 20,
    "time": "2020-01-09T20:24:21.885Z",
    "type": "exec"
   },
   {
    "id": "a48b2f17206b499f86052f8fd8b4dfd4",
    "time": "2020-01-09T20:24:21.967Z",
    "type": "completion"
   },
   {
    "code": "brand_df = brand_df.drop_duplicates()\nbrand_df.to_csv(\"data/car_brand.csv\",index=None)",
    "id": "b9ec7ffdb864472983995550454964b9",
    "idx": 19,
    "time": "2020-01-09T20:24:49.687Z",
    "type": "exec"
   },
   {
    "id": "b9ec7ffdb864472983995550454964b9",
    "time": "2020-01-09T20:24:49.723Z",
    "type": "completion"
   },
   {
    "code": "brand_df = pd.read_csv(\"data/car_brand.csv\")",
    "id": "4fa1f83ac2e94e5e81b735834822cf53",
    "idx": 13,
    "time": "2020-01-09T20:24:54.516Z",
    "type": "exec"
   },
   {
    "id": "4fa1f83ac2e94e5e81b735834822cf53",
    "time": "2020-01-09T20:24:54.550Z",
    "type": "completion"
   },
   {
    "code": "brand_df.head()",
    "id": "f8790eb8495a4efd9415db2b67090b35",
    "idx": 14,
    "time": "2020-01-09T20:24:55.133Z",
    "type": "exec"
   },
   {
    "id": "f8790eb8495a4efd9415db2b67090b35",
    "time": "2020-01-09T20:24:55.192Z",
    "type": "completion"
   },
   {
    "code": "dataset = Dataset(\"data/cars.csv\",schema=[{\"Year\":{\"dataType\":\"date\"}}])",
    "id": "17275a5ec0244bb0a9f2c0e4828d010a",
    "idx": 15,
    "time": "2020-01-09T20:24:56.301Z",
    "type": "exec"
   },
   {
    "id": "17275a5ec0244bb0a9f2c0e4828d010a",
    "time": "2020-01-09T20:24:56.373Z",
    "type": "completion"
   },
   {
    "code": "dataset.df.head()",
    "id": "c42b5075fbb442889d5f770ae83b78b0",
    "idx": 16,
    "time": "2020-01-09T20:24:56.675Z",
    "type": "exec"
   },
   {
    "id": "c42b5075fbb442889d5f770ae83b78b0",
    "time": "2020-01-09T20:24:56.723Z",
    "type": "completion"
   },
   {
    "code": "len(dataset.df)",
    "id": "0af39eb3efdb47368c2bb226b4dd9ae3",
    "idx": 17,
    "time": "2020-01-09T20:24:58.244Z",
    "type": "exec"
   },
   {
    "id": "0af39eb3efdb47368c2bb226b4dd9ae3",
    "time": "2020-01-09T20:24:58.281Z",
    "type": "completion"
   },
   {
    "code": "len(brand_df)",
    "id": "5ea5df0533f34ee98bae1201ca81dc54",
    "idx": 18,
    "time": "2020-01-09T20:24:58.501Z",
    "type": "exec"
   },
   {
    "id": "5ea5df0533f34ee98bae1201ca81dc54",
    "time": "2020-01-09T20:24:58.537Z",
    "type": "completion"
   },
   {
    "code": "brand_df.merge(dataset.df,how=\"inner\")",
    "id": "a48b2f17206b499f86052f8fd8b4dfd4",
    "idx": 17,
    "time": "2020-01-09T20:25:04.620Z",
    "type": "exec"
   },
   {
    "id": "a48b2f17206b499f86052f8fd8b4dfd4",
    "time": "2020-01-09T20:25:04.724Z",
    "type": "completion"
   },
   {
    "code": "dataset.df.merge(brand_df,how=\"inner\")",
    "id": "a48b2f17206b499f86052f8fd8b4dfd4",
    "idx": 17,
    "time": "2020-01-09T20:25:20.086Z",
    "type": "exec"
   },
   {
    "id": "a48b2f17206b499f86052f8fd8b4dfd4",
    "time": "2020-01-09T20:25:20.133Z",
    "type": "completion"
   },
   {
    "code": "dataset.df = dataset.df.merge(brand_df,how=\"inner\")",
    "id": "a48b2f17206b499f86052f8fd8b4dfd4",
    "idx": 17,
    "time": "2020-01-09T20:25:26.079Z",
    "type": "exec"
   },
   {
    "id": "a48b2f17206b499f86052f8fd8b4dfd4",
    "time": "2020-01-09T20:25:26.118Z",
    "type": "completion"
   },
   {
    "code": "dataset.df = dataset.df.drop(columns=[\"Name\"])",
    "id": "cb96503c52f14a6780515620b5cfba00",
    "idx": 18,
    "time": "2020-01-09T20:25:37.782Z",
    "type": "exec"
   },
   {
    "id": "cb96503c52f14a6780515620b5cfba00",
    "time": "2020-01-09T20:25:37.827Z",
    "type": "completion"
   },
   {
    "code": "dobj = DataObj(dataset,[Column(\"MilesPerGal\",dataModel=\"measure\"),Column(\"Horsepower\",dataModel=\"measure\")])\n\ndobj.enhance()\n\ndobj.display()",
    "id": "994a000c00c848f2a2903feefc9a7800",
    "idx": 8,
    "time": "2020-01-09T20:25:47.758Z",
    "type": "exec"
   },
   {
    "id": "994a000c00c848f2a2903feefc9a7800",
    "time": "2020-01-09T20:25:48.293Z",
    "type": "completion"
   },
   {
    "code": "df = dataset.df.merge(brand_df,how=\"inner\")",
    "id": "a48b2f17206b499f86052f8fd8b4dfd4",
    "idx": 15,
    "time": "2020-01-09T20:30:39.745Z",
    "type": "exec"
   },
   {
    "id": "a48b2f17206b499f86052f8fd8b4dfd4",
    "time": "2020-01-09T20:30:39.851Z",
    "type": "completion"
   },
   {
    "code": "df = dataset.df.merge(brand_df,how=\"inner\")\ndf = df.drop(columns=[\"Name\"])\ndataset.set_df(df)",
    "id": "a48b2f17206b499f86052f8fd8b4dfd4",
    "idx": 15,
    "time": "2020-01-09T20:31:04.330Z",
    "type": "exec"
   },
   {
    "id": "a48b2f17206b499f86052f8fd8b4dfd4",
    "time": "2020-01-09T20:31:04.369Z",
    "type": "completion"
   },
   {
    "code": "dobj = DataObj(dataset,[Column(\"MilesPerGal\",dataModel=\"measure\"),Column(\"Horsepower\",dataModel=\"measure\")])\n\ndobj.enhance()\n\ndobj.display()",
    "id": "98f1fd899a6042aa9f76db2d72226d81",
    "idx": 16,
    "time": "2020-01-09T20:31:13.530Z",
    "type": "exec"
   },
   {
    "id": "98f1fd899a6042aa9f76db2d72226d81",
    "time": "2020-01-09T20:31:16.398Z",
    "type": "completion"
   },
   {
    "code": "dobj = DataObj(dataset,[Column(\"Brand\")])\n\ndobj.enhance()\n\ndobj.display()",
    "id": "98f1fd899a6042aa9f76db2d72226d81",
    "idx": 16,
    "time": "2020-01-09T20:31:57.333Z",
    "type": "exec"
   },
   {
    "id": "98f1fd899a6042aa9f76db2d72226d81",
    "time": "2020-01-09T20:32:00.607Z",
    "type": "completion"
   },
   {
    "code": "dobj = DataObj(dataset,[Column(\"Brand\")])\n\ndobj.display()",
    "id": "98f1fd899a6042aa9f76db2d72226d81",
    "idx": 16,
    "time": "2020-01-09T20:33:29.868Z",
    "type": "exec"
   },
   {
    "id": "98f1fd899a6042aa9f76db2d72226d81",
    "time": "2020-01-09T20:33:30.449Z",
    "type": "completion"
   },
   {
    "code": "dobj = DataObj(dataset,[Column(\"Brand\")])\n\ndobj.display()",
    "id": "98f1fd899a6042aa9f76db2d72226d81",
    "idx": 16,
    "time": "2020-01-09T20:34:32.672Z",
    "type": "exec"
   },
   {
    "id": "98f1fd899a6042aa9f76db2d72226d81",
    "time": "2020-01-09T20:34:33.272Z",
    "type": "completion"
   },
   {
    "code": "dobj = DataObj(dataset,[Column(\"Brand\")])\n\ndobj.display()",
    "id": "5b9f4e9e75054afc8a1a39f6fac26615",
    "idx": 16,
    "time": "2020-01-09T20:38:55.693Z",
    "type": "exec"
   },
   {
    "id": "5b9f4e9e75054afc8a1a39f6fac26615",
    "time": "2020-01-09T20:38:55.826Z",
    "type": "completion"
   },
   {
    "code": "dobj = DataObj(dataset,[Column(\"Brand\")])\n\ndobj.display()",
    "id": "5b9f4e9e75054afc8a1a39f6fac26615",
    "idx": 16,
    "time": "2020-01-09T20:42:25.090Z",
    "type": "exec"
   },
   {
    "id": "5b9f4e9e75054afc8a1a39f6fac26615",
    "time": "2020-01-09T20:42:25.664Z",
    "type": "completion"
   },
   {
    "code": "dobj = DataObj(dataset,[Column(\"Brand\",channel=y)])\n\ndobj.display()",
    "id": "5b9f4e9e75054afc8a1a39f6fac26615",
    "idx": 16,
    "time": "2020-01-09T20:42:35.947Z",
    "type": "exec"
   },
   {
    "id": "5b9f4e9e75054afc8a1a39f6fac26615",
    "time": "2020-01-09T20:42:35.978Z",
    "type": "completion"
   },
   {
    "code": "dobj = DataObj(dataset,[Column(\"Brand\",channel=\"y\")])\n\ndobj.display()",
    "id": "5b9f4e9e75054afc8a1a39f6fac26615",
    "idx": 16,
    "time": "2020-01-09T20:42:39.889Z",
    "type": "exec"
   },
   {
    "id": "5b9f4e9e75054afc8a1a39f6fac26615",
    "time": "2020-01-09T20:42:39.923Z",
    "type": "completion"
   },
   {
    "code": "dobj = DataObj(dataset,[Column(\"Brand\")])\n\ndobj.display()",
    "id": "5b9f4e9e75054afc8a1a39f6fac26615",
    "idx": 16,
    "time": "2020-01-09T20:42:52.629Z",
    "type": "exec"
   },
   {
    "id": "5b9f4e9e75054afc8a1a39f6fac26615",
    "time": "2020-01-09T20:42:53.137Z",
    "type": "completion"
   },
   {
    "code": "dobj = DataObj(dataset,[Column(\"Brand\")])\n\ndobj.display()",
    "id": "5b9f4e9e75054afc8a1a39f6fac26615",
    "idx": 16,
    "time": "2020-01-09T20:44:13.797Z",
    "type": "exec"
   },
   {
    "id": "5b9f4e9e75054afc8a1a39f6fac26615",
    "time": "2020-01-09T20:44:14.428Z",
    "type": "completion"
   },
   {
    "code": "dobj = DataObj(dataset,[Column(\"Brand\")])\ndobj.enhance()\ndobj.display()",
    "id": "5b9f4e9e75054afc8a1a39f6fac26615",
    "idx": 16,
    "time": "2020-01-09T20:44:37.670Z",
    "type": "exec"
   },
   {
    "id": "5b9f4e9e75054afc8a1a39f6fac26615",
    "time": "2020-01-09T20:44:40.856Z",
    "type": "completion"
   },
   {
    "code": "dobj = DataObj(dataset,[Column(\"Brand\")])\n# dobj.enhance()\ndobj.display()",
    "id": "5b9f4e9e75054afc8a1a39f6fac26615",
    "idx": 16,
    "time": "2020-01-09T20:45:45.735Z",
    "type": "exec"
   },
   {
    "id": "5b9f4e9e75054afc8a1a39f6fac26615",
    "time": "2020-01-09T20:45:46.302Z",
    "type": "completion"
   },
   {
    "code": "dobj = DataObj(dataset,[Column(\"MilesPerGal\",dataModel=\"measure\"),Column(\"Horsepower\",dataModel=\"measure\")])\n\ndobj.enhance()\n\ndobj.display()",
    "id": "d2473adddc31419b89039797d7aa581b",
    "idx": 8,
    "time": "2020-01-09T20:46:59.687Z",
    "type": "exec"
   },
   {
    "id": "d2473adddc31419b89039797d7aa581b",
    "time": "2020-01-09T20:47:02.505Z",
    "type": "completion"
   },
   {
    "code": "# we want to take what we had earlier and then break it down by different brands to see how the relationship changes\ndobj = DataObj(dataset,[Column(\"MilesPerGal\",dataModel=\"measure\"),\n                        Column(\"Horsepower\",dataModel=\"measure\"),\n                        Row(\"Brand\",\"?\")])\ndobj.filter()\ndobj.display()\n",
    "id": "ed472762299640d48e98cda373820946",
    "idx": 17,
    "time": "2020-01-09T20:49:24.241Z",
    "type": "exec"
   },
   {
    "id": "ed472762299640d48e98cda373820946",
    "time": "2020-01-09T20:49:28.038Z",
    "type": "completion"
   },
   {
    "code": "dobj = DataObj(dataset,[Column(\"Horsepower\",dataModel=\"measure\"),\n                        Row(\"Brand\",\"?\")])\ndobj.filter()\ndobj.display()",
    "id": "f6a9fda7763b4a738bcb4ea45f7bd880",
    "idx": 18,
    "time": "2020-01-09T20:49:50.073Z",
    "type": "exec"
   },
   {
    "id": "f6a9fda7763b4a738bcb4ea45f7bd880",
    "time": "2020-01-09T20:49:52.788Z",
    "type": "completion"
   },
   {
    "code": "cd ../..",
    "id": "d1cc96a31b6544a48a195dce414d3846",
    "idx": 0,
    "time": "2020-01-10T02:16:04.457Z",
    "type": "exec"
   },
   {
    "id": "d1cc96a31b6544a48a195dce414d3846",
    "time": "2020-01-10T02:16:04.487Z",
    "type": "completion"
   },
   {
    "code": "%load_ext autoreload\n%autoreload 2\nfrom dataset.Dataset import Dataset\nfrom dataObj.dataObj import DataObj\nfrom dataObj.Row import Row\nfrom dataObj.Column import Column",
    "id": "56e148f1198f404da928f1a7884178ac",
    "idx": 2,
    "time": "2020-01-10T02:16:04.792Z",
    "type": "exec"
   },
   {
    "code": "dataset = Dataset(\"data/cars.csv\",schema=[{\"Year\":{\"dataType\":\"date\"}}])",
    "id": "265caff7ce8d420db97a3968f30d62d8",
    "idx": 3,
    "time": "2020-01-10T02:16:04.924Z",
    "type": "exec"
   },
   {
    "code": "# lux.overview(dataset)\n# --> generate correlation and distribution\n# Click on Median Earnings distribution and ",
    "id": "0c829998fcb6418683f0d8064d2ffa43",
    "idx": 4,
    "time": "2020-01-10T02:16:05.285Z",
    "type": "exec"
   },
   {
    "id": "56e148f1198f404da928f1a7884178ac",
    "time": "2020-01-10T02:16:05.559Z",
    "type": "completion"
   },
   {
    "code": "dobj = DataObj(dataset,[Column(\"?\",dataModel=\"measure\"),Column(\"?\",dataModel=\"measure\")])\ndobj.correlation()\ndobj.display()",
    "id": "03896e20a73b49f0878bea78497bc5b4",
    "idx": 5,
    "time": "2020-01-10T02:16:05.605Z",
    "type": "exec"
   },
   {
    "id": "265caff7ce8d420db97a3968f30d62d8",
    "time": "2020-01-10T02:16:05.617Z",
    "type": "completion"
   },
   {
    "id": "0c829998fcb6418683f0d8064d2ffa43",
    "time": "2020-01-10T02:16:05.628Z",
    "type": "completion"
   },
   {
    "code": "dobj = DataObj(dataset,[Column(\"?\",dataModel=\"measure\")])\ndobj.distribution()\ndobj.display()",
    "id": "dfa18b7449624b79b2523a055f369e79",
    "idx": 6,
    "time": "2020-01-10T02:16:06.118Z",
    "type": "exec"
   },
   {
    "id": "03896e20a73b49f0878bea78497bc5b4",
    "time": "2020-01-10T02:16:06.534Z",
    "type": "completion"
   },
   {
    "id": "dfa18b7449624b79b2523a055f369e79",
    "time": "2020-01-10T02:16:06.858Z",
    "type": "completion"
   },
   {
    "code": "dobj = DataObj(dataset,[Column(\"Horsepower\",dataModel=\"measure\"),\n                        Row(\"Brand\",\"?\")])\ndobj.filter()\ndobj.display()",
    "id": "87a792a8b4c9483e8b03859ffb84a1cf",
    "idx": 18,
    "time": "2020-01-10T02:26:38.613Z",
    "type": "exec"
   },
   {
    "id": "87a792a8b4c9483e8b03859ffb84a1cf",
    "time": "2020-01-10T02:26:38.815Z",
    "type": "completion"
   },
   {
    "code": "dobj = DataObj(dataset,[Column(\"MilesPerGal\",dataModel=\"measure\"),Column(\"Horsepower\",dataModel=\"measure\")])\n\ndobj.enhance()\n\ndobj.display()",
    "id": "4fefc8e3cf9e413693ae613f92020be3",
    "idx": 8,
    "time": "2020-01-10T02:26:46.139Z",
    "type": "exec"
   },
   {
    "id": "4fefc8e3cf9e413693ae613f92020be3",
    "time": "2020-01-10T02:26:46.656Z",
    "type": "completion"
   },
   {
    "code": "cd ../..",
    "id": "9bd66af7b62348d78dea5886c8326b95",
    "idx": 0,
    "time": "2020-01-10T02:41:29.739Z",
    "type": "exec"
   },
   {
    "id": "9bd66af7b62348d78dea5886c8326b95",
    "time": "2020-01-10T02:41:29.771Z",
    "type": "completion"
   },
   {
    "code": "%load_ext autoreload\n%autoreload 2\nfrom dataset.Dataset import Dataset\nfrom dataObj.dataObj import DataObj\nfrom dataObj.Row import Row\nfrom dataObj.Column import Column",
    "id": "5dc292117f8244dc815f879cc60a9b80",
    "idx": 2,
    "time": "2020-01-10T02:41:30.347Z",
    "type": "exec"
   },
   {
    "code": "dataset = Dataset(\"data/cars.csv\",schema=[{\"Year\":{\"dataType\":\"date\"}}])",
    "id": "31a7142758814a118c500c79fc2d9202",
    "idx": 3,
    "time": "2020-01-10T02:41:30.761Z",
    "type": "exec"
   },
   {
    "code": "# lux.overview(dataset)\n# --> generate correlation and distribution\n# Click on Median Earnings distribution and ",
    "id": "3ab4b637b0eb4cc1ace7b455eb7862b1",
    "idx": 4,
    "time": "2020-01-10T02:41:31.073Z",
    "type": "exec"
   },
   {
    "id": "5dc292117f8244dc815f879cc60a9b80",
    "time": "2020-01-10T02:41:31.086Z",
    "type": "completion"
   },
   {
    "id": "31a7142758814a118c500c79fc2d9202",
    "time": "2020-01-10T02:41:31.097Z",
    "type": "completion"
   },
   {
    "id": "3ab4b637b0eb4cc1ace7b455eb7862b1",
    "time": "2020-01-10T02:41:31.136Z",
    "type": "completion"
   },
   {
    "code": "dobj = DataObj(dataset,[Column(\"?\",dataModel=\"measure\"),Column(\"?\",dataModel=\"measure\")])\ndobj.correlation()\ndobj.display()",
    "id": "747396d7f00842a680d047ff21e503ba",
    "idx": 5,
    "time": "2020-01-10T02:41:31.452Z",
    "type": "exec"
   },
   {
    "code": "dobj = DataObj(dataset,[Column(\"?\",dataModel=\"measure\")])\ndobj.distribution()\ndobj.display()",
    "id": "a949ad5c3b89412c8cca1cc08d3d854b",
    "idx": 6,
    "time": "2020-01-10T02:41:32.104Z",
    "type": "exec"
   },
   {
    "id": "747396d7f00842a680d047ff21e503ba",
    "time": "2020-01-10T02:41:32.407Z",
    "type": "completion"
   },
   {
    "id": "a949ad5c3b89412c8cca1cc08d3d854b",
    "time": "2020-01-10T02:41:32.837Z",
    "type": "completion"
   },
   {
    "code": "dobj = DataObj(dataset,[Column(\"MilesPerGal\",dataModel=\"measure\"),Column(\"Horsepower\",dataModel=\"measure\")])\n\ndobj.enhance()\n\ndobj.display()",
    "id": "5e05526e81164db1857b483c8387aa1d",
    "idx": 8,
    "time": "2020-01-10T02:41:43.196Z",
    "type": "exec"
   },
   {
    "id": "5e05526e81164db1857b483c8387aa1d",
    "time": "2020-01-10T02:41:43.683Z",
    "type": "completion"
   },
   {
    "code": "dobj = DataObj(dataset,[Column(\"MilesPerGal\",dataModel=\"measure\"),Column(\"Horsepower\",dataModel=\"measure\")])\n\ndobj.enhance()\n\ndobj.display()",
    "id": "5e05526e81164db1857b483c8387aa1d",
    "idx": 8,
    "time": "2020-01-10T02:41:55.439Z",
    "type": "exec"
   },
   {
    "id": "5e05526e81164db1857b483c8387aa1d",
    "time": "2020-01-10T02:41:55.932Z",
    "type": "completion"
   },
   {
    "code": "cd ../..",
    "id": "15009157042b48e2a0ef152742d283c0",
    "idx": 0,
    "time": "2020-01-10T02:51:10.926Z",
    "type": "exec"
   },
   {
    "id": "15009157042b48e2a0ef152742d283c0",
    "time": "2020-01-10T02:51:10.958Z",
    "type": "completion"
   },
   {
    "code": "%load_ext autoreload\n%autoreload 2\nfrom dataset.Dataset import Dataset\nfrom dataObj.dataObj import DataObj\nfrom dataObj.Row import Row\nfrom dataObj.Column import Column",
    "id": "36db629e52a14444897b63bf8fa966de",
    "idx": 2,
    "time": "2020-01-10T02:51:11.509Z",
    "type": "exec"
   },
   {
    "code": "dataset = Dataset(\"data/cars.csv\",schema=[{\"Year\":{\"dataType\":\"date\"}}])",
    "id": "10e16c7df4214cfbab6e63b00b8fe29d",
    "idx": 3,
    "time": "2020-01-10T02:51:11.590Z",
    "type": "exec"
   },
   {
    "code": "# lux.overview(dataset)\n# --> generate correlation and distribution\n# Click on Median Earnings distribution and ",
    "id": "ba92dc0f74c54bd0987cacb6f547853e",
    "idx": 4,
    "time": "2020-01-10T02:51:11.674Z",
    "type": "exec"
   },
   {
    "code": "dobj = DataObj(dataset,[Column(\"?\",dataModel=\"measure\"),Column(\"?\",dataModel=\"measure\")])\ndobj.correlation()\ndobj.display()",
    "id": "b1ecb745fe3244e1afd451ba45956b6c",
    "idx": 5,
    "time": "2020-01-10T02:51:11.759Z",
    "type": "exec"
   },
   {
    "code": "dobj = DataObj(dataset,[Column(\"?\",dataModel=\"measure\")])\ndobj.distribution()\ndobj.display()",
    "id": "9214c1ed1e7b44408f6ca27719786a5c",
    "idx": 6,
    "time": "2020-01-10T02:51:11.994Z",
    "type": "exec"
   },
   {
    "id": "36db629e52a14444897b63bf8fa966de",
    "time": "2020-01-10T02:51:12.013Z",
    "type": "completion"
   },
   {
    "id": "10e16c7df4214cfbab6e63b00b8fe29d",
    "time": "2020-01-10T02:51:12.026Z",
    "type": "completion"
   },
   {
    "id": "ba92dc0f74c54bd0987cacb6f547853e",
    "time": "2020-01-10T02:51:12.059Z",
    "type": "completion"
   },
   {
    "id": "b1ecb745fe3244e1afd451ba45956b6c",
    "time": "2020-01-10T02:51:12.904Z",
    "type": "completion"
   },
   {
    "id": "9214c1ed1e7b44408f6ca27719786a5c",
    "time": "2020-01-10T02:51:13.346Z",
    "type": "completion"
   },
   {
    "code": "# Select a vis, look at how it breaks down by different filter on Regions\n# [Mockup a Frontier workflow]",
    "id": "602b4dfb9a0643c2bd0086049e9e6cf3",
    "idx": 7,
    "time": "2020-01-10T02:51:13.893Z",
    "type": "exec"
   },
   {
    "id": "602b4dfb9a0643c2bd0086049e9e6cf3",
    "time": "2020-01-10T02:51:13.925Z",
    "type": "completion"
   },
   {
    "code": "dobj = DataObj(dataset,[Column(\"MilesPerGal\",dataModel=\"measure\"),Column(\"Horsepower\",dataModel=\"measure\")])\n\ndobj.enhance()\n\ndobj.display()",
    "id": "a0fd27e7b1924f2aa4020779a140e9fb",
    "idx": 8,
    "time": "2020-01-10T02:51:14.604Z",
    "type": "exec"
   },
   {
    "id": "a0fd27e7b1924f2aa4020779a140e9fb",
    "time": "2020-01-10T02:51:15.062Z",
    "type": "completion"
   },
   {
    "code": "# Found out that name is too much, so drop name as a column and add in Brand information",
    "id": "efa6fee95afc4a8489ff612c26017c96",
    "idx": 9,
    "time": "2020-01-10T02:51:15.346Z",
    "type": "exec"
   },
   {
    "id": "efa6fee95afc4a8489ff612c26017c96",
    "time": "2020-01-10T02:51:15.383Z",
    "type": "completion"
   },
   {
    "code": "cd ../..",
    "id": "85a3604ad97c4b279ffad0f64e8a53a4",
    "idx": 0,
    "time": "2020-01-10T03:02:21.510Z",
    "type": "exec"
   },
   {
    "id": "85a3604ad97c4b279ffad0f64e8a53a4",
    "time": "2020-01-10T03:02:21.545Z",
    "type": "completion"
   },
   {
    "code": "%load_ext autoreload\n%autoreload 2\nfrom dataset.Dataset import Dataset\nfrom dataObj.dataObj import DataObj\nfrom dataObj.Row import Row\nfrom dataObj.Column import Column",
    "id": "602a04f2c9384a598b79ed561940a6df",
    "idx": 2,
    "time": "2020-01-10T03:02:22.002Z",
    "type": "exec"
   },
   {
    "code": "dataset = Dataset(\"data/cars.csv\",schema=[{\"Year\":{\"dataType\":\"date\"}}])",
    "id": "e695983806f84ed28622ca6b993734a9",
    "idx": 3,
    "time": "2020-01-10T03:02:22.132Z",
    "type": "exec"
   },
   {
    "code": "# lux.overview(dataset)\n# --> generate correlation and distribution\n# Click on Median Earnings distribution and ",
    "id": "ddf4078c1f7342fd9d42b16e95c95c21",
    "idx": 4,
    "time": "2020-01-10T03:02:22.269Z",
    "type": "exec"
   },
   {
    "code": "dobj = DataObj(dataset,[Column(\"?\",dataModel=\"measure\"),Column(\"?\",dataModel=\"measure\")])\ndobj.correlation()\ndobj.display()",
    "id": "482a6f2d85f74649a6ff2f4f720391da",
    "idx": 5,
    "time": "2020-01-10T03:02:22.405Z",
    "type": "exec"
   },
   {
    "id": "602a04f2c9384a598b79ed561940a6df",
    "time": "2020-01-10T03:02:22.500Z",
    "type": "completion"
   },
   {
    "code": "dobj = DataObj(dataset,[Column(\"?\",dataModel=\"measure\")])\ndobj.distribution()\ndobj.display()",
    "id": "d181038534174aa8ab5d0912d6bc563f",
    "idx": 6,
    "time": "2020-01-10T03:02:22.521Z",
    "type": "exec"
   },
   {
    "id": "e695983806f84ed28622ca6b993734a9",
    "time": "2020-01-10T03:02:22.551Z",
    "type": "completion"
   },
   {
    "id": "ddf4078c1f7342fd9d42b16e95c95c21",
    "time": "2020-01-10T03:02:22.554Z",
    "type": "completion"
   },
   {
    "code": "# Select a vis, look at how it breaks down by different filter on Regions\n# [Mockup a Frontier workflow]",
    "id": "3df7a055705e4db78a0d19b1bbd0bb17",
    "idx": 7,
    "time": "2020-01-10T03:02:22.652Z",
    "type": "exec"
   },
   {
    "code": "dobj = DataObj(dataset,[Column(\"MilesPerGal\",dataModel=\"measure\"),Column(\"Horsepower\",dataModel=\"measure\")])\n\ndobj.enhance()\n\ndobj.display()",
    "id": "16d888afffdc4d0f86d9639e11781a01",
    "idx": 8,
    "time": "2020-01-10T03:02:22.777Z",
    "type": "exec"
   },
   {
    "code": "# Found out that name is too much, so drop name as a column and add in Brand information",
    "id": "3054813018d8460c9fb53e67a369f60f",
    "idx": 9,
    "time": "2020-01-10T03:02:23.173Z",
    "type": "exec"
   },
   {
    "id": "482a6f2d85f74649a6ff2f4f720391da",
    "time": "2020-01-10T03:02:23.436Z",
    "type": "completion"
   },
   {
    "code": "import pandas as pd",
    "id": "f20fa47107e947548a71d951ce0a9e4c",
    "idx": 10,
    "time": "2020-01-10T03:02:23.865Z",
    "type": "exec"
   },
   {
    "id": "d181038534174aa8ab5d0912d6bc563f",
    "time": "2020-01-10T03:02:23.927Z",
    "type": "completion"
   },
   {
    "id": "3df7a055705e4db78a0d19b1bbd0bb17",
    "time": "2020-01-10T03:02:23.929Z",
    "type": "completion"
   },
   {
    "id": "16d888afffdc4d0f86d9639e11781a01",
    "time": "2020-01-10T03:02:24.168Z",
    "type": "completion"
   },
   {
    "id": "3054813018d8460c9fb53e67a369f60f",
    "time": "2020-01-10T03:02:24.180Z",
    "type": "completion"
   },
   {
    "id": "f20fa47107e947548a71d951ce0a9e4c",
    "time": "2020-01-10T03:02:24.182Z",
    "type": "completion"
   }
  ],
  "kernelspec": {
   "display_name": "Python 3",
   "language": "python",
   "name": "python3"
  },
  "language_info": {
   "codemirror_mode": {
    "name": "ipython",
    "version": 3
   },
   "file_extension": ".py",
   "mimetype": "text/x-python",
   "name": "python",
   "nbconvert_exporter": "python",
   "pygments_lexer": "ipython3",
   "version": "3.7.5"
  }
 },
 "nbformat": 4,
 "nbformat_minor": 2
}
