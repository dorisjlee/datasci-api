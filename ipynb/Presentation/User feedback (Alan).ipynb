{
 "cells": [
  {
   "cell_type": "code",
   "execution_count": 1,
   "metadata": {},
   "outputs": [
    {
     "name": "stdout",
     "output_type": "stream",
     "text": [
      "/Users/dorislee/Desktop/Research/vizdatasci/datasci-api\n"
     ]
    }
   ],
   "source": [
    "cd ../.."
   ]
  },
  {
   "cell_type": "markdown",
   "metadata": {},
   "source": [
    "List of things to demonstrate: \n",
    "- ability to view intermediate collections (make dobj.display() simply just dobj print like df)\n",
    "    - single vis with Row\n",
    "    - vis collection without ranking (just browse)\n",
    "- ✔ ability to do data cleaning and other Pythonic things easily and import/export through Dataset\n",
    "- similarity search\n",
    "- showMore(): with multiple tabs\n",
    "- overview(): with multiple tabs\n",
    "- Nice-to-have: ability to select some vis and export it into a python variable\n"
   ]
  },
  {
   "cell_type": "code",
   "execution_count": 2,
   "metadata": {},
   "outputs": [],
   "source": [
    "%load_ext autoreload\n",
    "%autoreload 2\n",
    "import lux"
   ]
  },
  {
   "cell_type": "code",
   "execution_count": 3,
   "metadata": {},
   "outputs": [],
   "source": [
    "dataset = lux.Dataset(\"lux/data/car.csv\",schema=[{\"Year\":{\"dataType\":\"date\"}}])"
   ]
  },
  {
   "cell_type": "code",
   "execution_count": 4,
   "metadata": {},
   "outputs": [
    {
     "data": {
      "text/html": [
       "<div>\n",
       "<style scoped>\n",
       "    .dataframe tbody tr th:only-of-type {\n",
       "        vertical-align: middle;\n",
       "    }\n",
       "\n",
       "    .dataframe tbody tr th {\n",
       "        vertical-align: top;\n",
       "    }\n",
       "\n",
       "    .dataframe thead th {\n",
       "        text-align: right;\n",
       "    }\n",
       "</style>\n",
       "<table border=\"1\" class=\"dataframe\">\n",
       "  <thead>\n",
       "    <tr style=\"text-align: right;\">\n",
       "      <th></th>\n",
       "      <th>Name</th>\n",
       "      <th>MilesPerGal</th>\n",
       "      <th>Cylinders</th>\n",
       "      <th>Displacement</th>\n",
       "      <th>Horsepower</th>\n",
       "      <th>Weight</th>\n",
       "      <th>Acceleration</th>\n",
       "      <th>Year</th>\n",
       "      <th>Origin</th>\n",
       "    </tr>\n",
       "  </thead>\n",
       "  <tbody>\n",
       "    <tr>\n",
       "      <th>0</th>\n",
       "      <td>chevrolet chevelle malibu</td>\n",
       "      <td>18.0</td>\n",
       "      <td>8</td>\n",
       "      <td>307.0</td>\n",
       "      <td>130</td>\n",
       "      <td>3504</td>\n",
       "      <td>12.0</td>\n",
       "      <td>1970</td>\n",
       "      <td>USA</td>\n",
       "    </tr>\n",
       "    <tr>\n",
       "      <th>1</th>\n",
       "      <td>buick skylark 320</td>\n",
       "      <td>15.0</td>\n",
       "      <td>8</td>\n",
       "      <td>350.0</td>\n",
       "      <td>165</td>\n",
       "      <td>3693</td>\n",
       "      <td>11.5</td>\n",
       "      <td>1970</td>\n",
       "      <td>USA</td>\n",
       "    </tr>\n",
       "    <tr>\n",
       "      <th>2</th>\n",
       "      <td>plymouth satellite</td>\n",
       "      <td>18.0</td>\n",
       "      <td>8</td>\n",
       "      <td>318.0</td>\n",
       "      <td>150</td>\n",
       "      <td>3436</td>\n",
       "      <td>11.0</td>\n",
       "      <td>1970</td>\n",
       "      <td>USA</td>\n",
       "    </tr>\n",
       "    <tr>\n",
       "      <th>3</th>\n",
       "      <td>amc rebel sst</td>\n",
       "      <td>16.0</td>\n",
       "      <td>8</td>\n",
       "      <td>304.0</td>\n",
       "      <td>150</td>\n",
       "      <td>3433</td>\n",
       "      <td>12.0</td>\n",
       "      <td>1970</td>\n",
       "      <td>USA</td>\n",
       "    </tr>\n",
       "    <tr>\n",
       "      <th>4</th>\n",
       "      <td>ford torino</td>\n",
       "      <td>17.0</td>\n",
       "      <td>8</td>\n",
       "      <td>302.0</td>\n",
       "      <td>140</td>\n",
       "      <td>3449</td>\n",
       "      <td>10.5</td>\n",
       "      <td>1970</td>\n",
       "      <td>USA</td>\n",
       "    </tr>\n",
       "  </tbody>\n",
       "</table>\n",
       "</div>"
      ],
      "text/plain": [
       "                        Name  MilesPerGal  Cylinders  Displacement  \\\n",
       "0  chevrolet chevelle malibu         18.0          8         307.0   \n",
       "1          buick skylark 320         15.0          8         350.0   \n",
       "2         plymouth satellite         18.0          8         318.0   \n",
       "3              amc rebel sst         16.0          8         304.0   \n",
       "4                ford torino         17.0          8         302.0   \n",
       "\n",
       "   Horsepower  Weight  Acceleration  Year Origin  \n",
       "0         130    3504          12.0  1970    USA  \n",
       "1         165    3693          11.5  1970    USA  \n",
       "2         150    3436          11.0  1970    USA  \n",
       "3         150    3433          12.0  1970    USA  \n",
       "4         140    3449          10.5  1970    USA  "
      ]
     },
     "execution_count": 4,
     "metadata": {},
     "output_type": "execute_result"
    }
   ],
   "source": [
    "dataset.df.head()"
   ]
  },
  {
   "cell_type": "code",
   "execution_count": 5,
   "metadata": {},
   "outputs": [
    {
     "data": {
      "text/plain": [
       "392"
      ]
     },
     "execution_count": 5,
     "metadata": {},
     "output_type": "execute_result"
    }
   ],
   "source": [
    "len(dataset.df)"
   ]
  },
  {
   "cell_type": "code",
   "execution_count": 6,
   "metadata": {},
   "outputs": [
    {
     "data": {
      "application/vnd.jupyter.widget-view+json": {
       "model_id": "2e56954eb1a842c6b4548f99d7fd55fe",
       "version_major": 2,
       "version_minor": 0
      },
      "text/plain": [
       "DisplayWidget(current_view={'config': {'view': {'continuousWidth': 400, 'continuousHeight': 300}}, 'data': {'n…"
      ]
     },
     "metadata": {},
     "output_type": "display_data"
    }
   ],
   "source": [
    "# Predict acceleration w.r.t other columns\n",
    "dobj = lux.DataObj(dataset,[lux.Column(\"Acceleration\"), lux.Column(\"?\",dataModel=\"dimension\")])\n",
    "dobj.display()\n",
    "# expecting only to see RHS, not LHS, when recieve other things it is unexpected or jarring. (Nice to have)\n",
    "# want to have the 1st bar chart sorted\n",
    "# Very interesting that Japan cars have lower acceleration, Euripe higher acceleration"
   ]
  },
  {
   "cell_type": "code",
   "execution_count": 7,
   "metadata": {},
   "outputs": [
    {
     "data": {
      "application/vnd.jupyter.widget-view+json": {
       "model_id": "e7896edc2a024513afbbed1109fb0403",
       "version_major": 2,
       "version_minor": 0
      },
      "text/plain": [
       "DisplayWidget(current_view={'config': {'view': {'continuousWidth': 400, 'continuousHeight': 300}}, 'data': {'n…"
      ]
     },
     "metadata": {},
     "output_type": "display_data"
    }
   ],
   "source": [
    "dobj = lux.DataObj(dataset,[lux.Column(\"Acceleration\"), lux.Column(\"?\",dataModel=\"measure\")])\n",
    "dobj.display()\n",
    "# dimension and measure is "
   ]
  },
  {
   "cell_type": "code",
   "execution_count": 8,
   "metadata": {
    "scrolled": true
   },
   "outputs": [
    {
     "data": {
      "application/vnd.jupyter.widget-view+json": {
       "model_id": "30616c698eb54a14aba7bdf2f1a874ce",
       "version_major": 2,
       "version_minor": 0
      },
      "text/plain": [
       "DisplayWidget(current_view={'config': {'view': {'continuousWidth': 400, 'continuousHeight': 300}}, 'data': {'n…"
      ]
     },
     "metadata": {},
     "output_type": "display_data"
    }
   ],
   "source": [
    "# user would not have added the constraints\n",
    "# categorical bar charts (suggest that it is ordinal), detect via rule, so that it is sorted \n",
    "dobj = lux.DataObj(dataset,[lux.Column(\"Acceleration\"), lux.Column(\"?\")])\n",
    "dobj.display()\n",
    "# thinks that Acceleration is measured inversely, since it is negatively correlated with other variables"
   ]
  },
  {
   "cell_type": "code",
   "execution_count": 9,
   "metadata": {},
   "outputs": [
    {
     "data": {
      "application/vnd.jupyter.widget-view+json": {
       "model_id": "785eb6b9e8f64c8eb5558dffe48181fb",
       "version_major": 2,
       "version_minor": 0
      },
      "text/plain": [
       "DisplayWidget(current_view={'config': {'view': {'continuousWidth': 400, 'continuousHeight': 300}, 'mark': {'to…"
      ]
     },
     "metadata": {},
     "output_type": "display_data"
    }
   ],
   "source": [
    "dobj = lux.DataObj(dataset,[lux.Column(\"Acceleration\"), lux.Column(\"Weight\"), lux.Column(\"Horsepower\")])\n",
    "dobj.display()\n",
    "# Hypothesis: Expect high horsepower --> high acceleration\n",
    "# does the added horsepower (+added weight), cancels the acceleration"
   ]
  },
  {
   "cell_type": "code",
   "execution_count": 10,
   "metadata": {},
   "outputs": [
    {
     "data": {
      "application/vnd.jupyter.widget-view+json": {
       "model_id": "5c8c60e7256f468a8e0fca0c0a7ce01f",
       "version_major": 2,
       "version_minor": 0
      },
      "text/plain": [
       "DisplayWidget(current_view={'config': {'view': {'continuousWidth': 400, 'continuousHeight': 300}, 'mark': {'to…"
      ]
     },
     "metadata": {},
     "output_type": "display_data"
    }
   ],
   "source": [
    "dobj = lux.DataObj(dataset,[lux.Column(\"Acceleration\"),lux.Column(\"Horsepower\")])\n",
    "result = dobj.enhance()\n",
    "result.display()\n",
    "#Weight, Horsepower, Acceleration is competing/confounding factor\n",
    "# I might be looking at possible factors that would be confounding\n",
    "# if i see structure in color, then there is a causal trends.\n",
    "# if two quantitative variable, then plot correlation line (p value of significance)"
   ]
  },
  {
   "cell_type": "code",
   "execution_count": 11,
   "metadata": {},
   "outputs": [],
   "source": [
    "dobj = lux.DataObj(dataset,[lux.Column(\"?\",dataType=\"quantitative\"),lux.Column(\"?\",dataType=\"quantitative\")])\n",
    "result = dobj.correlation()"
   ]
  },
  {
   "cell_type": "code",
   "execution_count": 30,
   "metadata": {},
   "outputs": [],
   "source": [
    "# Classification: Relationship between a binary variable and all quantitative values\n",
    "# For binary variable, I would look at the splitted histogram"
   ]
  },
  {
   "cell_type": "code",
   "execution_count": 12,
   "metadata": {
    "scrolled": true
   },
   "outputs": [
    {
     "data": {
      "application/vnd.jupyter.widget-view+json": {
       "model_id": "fee4bd31511c4a39b59ff6e92e57fa21",
       "version_major": 2,
       "version_minor": 0
      },
      "text/plain": [
       "DisplayWidget(recommendations=[{'action': 'Correlation', 'description': 'Show relationships between two quanti…"
      ]
     },
     "metadata": {},
     "output_type": "display_data"
    }
   ],
   "source": [
    "result.display()"
   ]
  },
  {
   "cell_type": "code",
   "execution_count": 13,
   "metadata": {},
   "outputs": [
    {
     "data": {
      "application/vnd.jupyter.widget-view+json": {
       "model_id": "35b1c99662d345819e3ed7dd1cdf0988",
       "version_major": 2,
       "version_minor": 0
      },
      "text/plain": [
       "DisplayWidget(current_view={'config': {'view': {'continuousWidth': 400, 'continuousHeight': 300}}, 'data': {'n…"
      ]
     },
     "metadata": {},
     "output_type": "display_data"
    }
   ],
   "source": [
    "dobj = lux.DataObj(dataset,[lux.Column(\"Acceleration\",dataType=\"quantitative\"),lux.Row(\"Origin\",\"?\")])\n",
    "dobj.display()\n",
    "# Histo should share the same scale (x min, xmax)\n",
    "# add option to overlay  (good for binary) v.s. separate plots (if too cluttered)"
   ]
  },
  {
   "cell_type": "code",
   "execution_count": null,
   "metadata": {},
   "outputs": [],
   "source": []
  },
  {
   "cell_type": "code",
   "execution_count": null,
   "metadata": {},
   "outputs": [],
   "source": []
  },
  {
   "cell_type": "code",
   "execution_count": null,
   "metadata": {},
   "outputs": [],
   "source": []
  }
 ],
 "metadata": {
  "history": [
   {
    "code": "cd ../..",
    "id": "8585afcb11bd4ef88de6a2b17592645c",
    "idx": 0,
    "time": "2020-01-09T19:15:29.302Z",
    "type": "exec"
   },
   {
    "id": "8585afcb11bd4ef88de6a2b17592645c",
    "time": "2020-01-09T19:15:29.325Z",
    "type": "completion"
   },
   {
    "code": "%load_ext autoreload\n%autoreload 2\nfrom dataset.Dataset import Dataset\nfrom dataObj.dataObj import DataObj\nfrom dataObj.Row import Row\nfrom dataObj.Column import Column",
    "id": "40771fc434ab479d8c254411bcb1944d",
    "idx": 2,
    "time": "2020-01-09T19:15:29.924Z",
    "type": "exec"
   },
   {
    "id": "40771fc434ab479d8c254411bcb1944d",
    "time": "2020-01-09T19:15:30.724Z",
    "type": "completion"
   },
   {
    "code": "cd ../..",
    "id": "8585afcb11bd4ef88de6a2b17592645c",
    "idx": 0,
    "time": "2020-01-09T19:15:57.486Z",
    "type": "exec"
   },
   {
    "id": "8585afcb11bd4ef88de6a2b17592645c",
    "time": "2020-01-09T19:15:57.520Z",
    "type": "completion"
   },
   {
    "code": "%load_ext autoreload\n%autoreload 2\nfrom dataset.Dataset import Dataset\nfrom dataObj.dataObj import DataObj\nfrom dataObj.Row import Row\nfrom dataObj.Column import Column",
    "id": "40771fc434ab479d8c254411bcb1944d",
    "idx": 2,
    "time": "2020-01-09T19:15:58.142Z",
    "type": "exec"
   },
   {
    "id": "40771fc434ab479d8c254411bcb1944d",
    "time": "2020-01-09T19:15:58.166Z",
    "type": "completion"
   },
   {
    "code": "dataset = Dataset(\"data/college.csv\")\n# dataset = Dataset(\"data/cars.csv\")",
    "id": "d00d4ed5ed9a494287bda6fe6118805d",
    "idx": 3,
    "time": "2020-01-09T19:15:59.158Z",
    "type": "exec"
   },
   {
    "id": "d00d4ed5ed9a494287bda6fe6118805d",
    "time": "2020-01-09T19:15:59.321Z",
    "type": "completion"
   },
   {
    "code": "dataset = Dataset(\"data/cars.csv\",schema=[{\"Year\":{\"dataType\":\"date\"}},{\"Cylinders\":{\"dataModel\":\"dimension\"}}])",
    "id": "d00d4ed5ed9a494287bda6fe6118805d",
    "idx": 3,
    "time": "2020-01-09T19:16:11.992Z",
    "type": "exec"
   },
   {
    "id": "d00d4ed5ed9a494287bda6fe6118805d",
    "time": "2020-01-09T19:16:12.038Z",
    "type": "completion"
   },
   {
    "code": "cd ../..",
    "id": "8585afcb11bd4ef88de6a2b17592645c",
    "idx": 0,
    "time": "2020-01-09T19:16:21.437Z",
    "type": "exec"
   },
   {
    "id": "8585afcb11bd4ef88de6a2b17592645c",
    "time": "2020-01-09T19:16:21.454Z",
    "type": "completion"
   },
   {
    "code": "%load_ext autoreload\n%autoreload 2\nfrom dataset.Dataset import Dataset\nfrom dataObj.dataObj import DataObj\nfrom dataObj.Row import Row\nfrom dataObj.Column import Column",
    "id": "40771fc434ab479d8c254411bcb1944d",
    "idx": 2,
    "time": "2020-01-09T19:16:21.917Z",
    "type": "exec"
   },
   {
    "code": "dataset = Dataset(\"data/cars.csv\",schema=[{\"Year\":{\"dataType\":\"date\"}},{\"Cylinders\":{\"dataModel\":\"dimension\"}}])",
    "id": "d00d4ed5ed9a494287bda6fe6118805d",
    "idx": 3,
    "time": "2020-01-09T19:16:22.069Z",
    "type": "exec"
   },
   {
    "id": "40771fc434ab479d8c254411bcb1944d",
    "time": "2020-01-09T19:16:22.370Z",
    "type": "completion"
   },
   {
    "id": "d00d4ed5ed9a494287bda6fe6118805d",
    "time": "2020-01-09T19:16:22.494Z",
    "type": "completion"
   },
   {
    "code": "dataset = Dataset(\"data/cars.csv\",schema=[{\"Year\":{\"dataType\":\"date\"}}])",
    "id": "d00d4ed5ed9a494287bda6fe6118805d",
    "idx": 3,
    "time": "2020-01-09T19:16:48.240Z",
    "type": "exec"
   },
   {
    "id": "d00d4ed5ed9a494287bda6fe6118805d",
    "time": "2020-01-09T19:16:48.270Z",
    "type": "completion"
   },
   {
    "code": "# lux.overview(dataset)\n# --> generate correlation and distribution\n# Click on Median Earnings distribution and ",
    "id": "8afde88d73ed40a4a780d1057f8622ea",
    "idx": 4,
    "time": "2020-01-09T19:16:51.269Z",
    "type": "exec"
   },
   {
    "id": "8afde88d73ed40a4a780d1057f8622ea",
    "time": "2020-01-09T19:16:51.292Z",
    "type": "completion"
   },
   {
    "code": "dobj = DataObj(dataset,[Column(\"?\",dataModel=\"measure\"),Column(\"?\",dataModel=\"measure\")])\ndobj.correlation()\ndobj.display()",
    "id": "dc32153e771745379ee8d0d435b8a2a4",
    "idx": 5,
    "time": "2020-01-09T19:16:51.583Z",
    "type": "exec"
   },
   {
    "code": "dobj = DataObj(dataset,[Column(\"?\",dataModel=\"measure\")])\ndobj.distribution()\ndobj.display()",
    "id": "6c213e241380442b9ef2e140f94cd8f8",
    "idx": 6,
    "time": "2020-01-09T19:16:52.201Z",
    "type": "exec"
   },
   {
    "id": "dc32153e771745379ee8d0d435b8a2a4",
    "time": "2020-01-09T19:16:52.581Z",
    "type": "completion"
   },
   {
    "id": "6c213e241380442b9ef2e140f94cd8f8",
    "time": "2020-01-09T19:16:52.918Z",
    "type": "completion"
   },
   {
    "code": "dobj = DataObj(dataset,[Column(\"MilesPerGal\",dataModel=\"measure\"),Column(\"Horsepower\",dataModel=\"measure\")])",
    "id": "994a000c00c848f2a2903feefc9a7800",
    "idx": 8,
    "time": "2020-01-09T19:18:14.863Z",
    "type": "exec"
   },
   {
    "id": "994a000c00c848f2a2903feefc9a7800",
    "time": "2020-01-09T19:18:14.914Z",
    "type": "completion"
   },
   {
    "code": "dobj.enhance()",
    "id": "91b4ec0ed034424380c8568324e102f2",
    "idx": 9,
    "time": "2020-01-09T19:18:19.382Z",
    "type": "exec"
   },
   {
    "id": "91b4ec0ed034424380c8568324e102f2",
    "time": "2020-01-09T19:18:19.451Z",
    "type": "completion"
   },
   {
    "code": "dobj.enhance()",
    "id": "91b4ec0ed034424380c8568324e102f2",
    "idx": 9,
    "time": "2020-01-09T19:19:54.650Z",
    "type": "exec"
   },
   {
    "id": "91b4ec0ed034424380c8568324e102f2",
    "time": "2020-01-09T19:19:54.703Z",
    "type": "completion"
   },
   {
    "code": "dobj.enhance()",
    "id": "91b4ec0ed034424380c8568324e102f2",
    "idx": 9,
    "time": "2020-01-09T19:20:24.618Z",
    "type": "exec"
   },
   {
    "id": "91b4ec0ed034424380c8568324e102f2",
    "time": "2020-01-09T19:20:24.679Z",
    "type": "completion"
   },
   {
    "code": "dobj.enhance()",
    "id": "91b4ec0ed034424380c8568324e102f2",
    "idx": 9,
    "time": "2020-01-09T19:21:25.819Z",
    "type": "exec"
   },
   {
    "id": "91b4ec0ed034424380c8568324e102f2",
    "time": "2020-01-09T19:21:25.882Z",
    "type": "completion"
   },
   {
    "code": "dobj.enhance()",
    "id": "91b4ec0ed034424380c8568324e102f2",
    "idx": 9,
    "time": "2020-01-09T19:21:36.786Z",
    "type": "exec"
   },
   {
    "id": "91b4ec0ed034424380c8568324e102f2",
    "time": "2020-01-09T19:21:36.860Z",
    "type": "completion"
   },
   {
    "code": "dobj.display()",
    "id": "1963c4c3ab024e9b8d523d89504c2e3a",
    "idx": 10,
    "time": "2020-01-09T19:21:48.437Z",
    "type": "exec"
   },
   {
    "id": "1963c4c3ab024e9b8d523d89504c2e3a",
    "time": "2020-01-09T19:21:48.988Z",
    "type": "completion"
   },
   {
    "code": "dobj = DataObj(dataset,[Column(\"MilesPerGal\",dataModel=\"measure\"),Column(\"Horsepower\",dataModel=\"measure\")])",
    "id": "994a000c00c848f2a2903feefc9a7800",
    "idx": 8,
    "time": "2020-01-09T19:24:46.648Z",
    "type": "exec"
   },
   {
    "id": "994a000c00c848f2a2903feefc9a7800",
    "time": "2020-01-09T19:24:46.708Z",
    "type": "completion"
   },
   {
    "code": "dobj.enhance()",
    "id": "91b4ec0ed034424380c8568324e102f2",
    "idx": 9,
    "time": "2020-01-09T19:24:47.222Z",
    "type": "exec"
   },
   {
    "id": "91b4ec0ed034424380c8568324e102f2",
    "time": "2020-01-09T19:24:47.274Z",
    "type": "completion"
   },
   {
    "code": "dobj.display()",
    "id": "1963c4c3ab024e9b8d523d89504c2e3a",
    "idx": 10,
    "time": "2020-01-09T19:24:48.094Z",
    "type": "exec"
   },
   {
    "id": "1963c4c3ab024e9b8d523d89504c2e3a",
    "time": "2020-01-09T19:24:48.634Z",
    "type": "completion"
   },
   {
    "code": "cars.csv",
    "id": "560a520048ac4356917a0915c9fdd33a",
    "idx": 11,
    "time": "2020-01-09T19:27:50.212Z",
    "type": "exec"
   },
   {
    "id": "560a520048ac4356917a0915c9fdd33a",
    "time": "2020-01-09T19:27:50.265Z",
    "type": "completion"
   },
   {
    "code": "dataset",
    "id": "560a520048ac4356917a0915c9fdd33a",
    "idx": 11,
    "time": "2020-01-09T19:27:56.475Z",
    "type": "exec"
   },
   {
    "id": "560a520048ac4356917a0915c9fdd33a",
    "time": "2020-01-09T19:27:56.515Z",
    "type": "completion"
   },
   {
    "code": "dataset.df",
    "id": "560a520048ac4356917a0915c9fdd33a",
    "idx": 11,
    "time": "2020-01-09T19:27:58.947Z",
    "type": "exec"
   },
   {
    "id": "560a520048ac4356917a0915c9fdd33a",
    "time": "2020-01-09T19:27:59.015Z",
    "type": "completion"
   },
   {
    "code": "dataset.df[[\"Name\",\"Brand\"]]",
    "id": "560a520048ac4356917a0915c9fdd33a",
    "idx": 11,
    "time": "2020-01-09T19:28:11.139Z",
    "type": "exec"
   },
   {
    "id": "560a520048ac4356917a0915c9fdd33a",
    "time": "2020-01-09T19:28:11.180Z",
    "type": "completion"
   },
   {
    "code": "dataset.df[[\"Name\",\"Brand\"]].to_csv(\"car_brand.csv\",index=None)",
    "id": "560a520048ac4356917a0915c9fdd33a",
    "idx": 11,
    "time": "2020-01-09T19:50:38.474Z",
    "type": "exec"
   },
   {
    "id": "560a520048ac4356917a0915c9fdd33a",
    "time": "2020-01-09T19:50:38.509Z",
    "type": "completion"
   },
   {
    "code": "import pandas as pd",
    "id": "9345dc28ad434ca4964461ae2005c50e",
    "idx": 12,
    "time": "2020-01-09T19:52:18.230Z",
    "type": "exec"
   },
   {
    "id": "9345dc28ad434ca4964461ae2005c50e",
    "time": "2020-01-09T19:52:18.286Z",
    "type": "completion"
   },
   {
    "code": "df = pd.read_csv(\"data/cars.csv\")",
    "id": "9099b4ca229141c48a1854301d9ec773",
    "idx": 13,
    "time": "2020-01-09T19:53:08.302Z",
    "type": "exec"
   },
   {
    "id": "9099b4ca229141c48a1854301d9ec773",
    "time": "2020-01-09T19:53:08.352Z",
    "type": "completion"
   },
   {
    "code": "df.drop(\"Brand\")",
    "id": "d6f621702d0442f48b17dcda0027f8ce",
    "idx": 14,
    "time": "2020-01-09T19:53:13.894Z",
    "type": "exec"
   },
   {
    "id": "d6f621702d0442f48b17dcda0027f8ce",
    "time": "2020-01-09T19:53:13.959Z",
    "type": "completion"
   },
   {
    "code": "df = df.drop(columns=\"Brand\")",
    "id": "d6f621702d0442f48b17dcda0027f8ce",
    "idx": 14,
    "time": "2020-01-09T19:53:24.364Z",
    "type": "exec"
   },
   {
    "id": "d6f621702d0442f48b17dcda0027f8ce",
    "time": "2020-01-09T19:53:24.403Z",
    "type": "completion"
   },
   {
    "code": "df",
    "id": "5e68bc0fa9f94145805c22f7f069e0ae",
    "idx": 15,
    "time": "2020-01-09T19:53:25.871Z",
    "type": "exec"
   },
   {
    "id": "5e68bc0fa9f94145805c22f7f069e0ae",
    "time": "2020-01-09T19:53:25.924Z",
    "type": "completion"
   },
   {
    "code": "df.to_csv(\"data/cars.csv\",index=None)",
    "id": "5e68bc0fa9f94145805c22f7f069e0ae",
    "idx": 15,
    "time": "2020-01-09T19:53:40.485Z",
    "type": "exec"
   },
   {
    "id": "5e68bc0fa9f94145805c22f7f069e0ae",
    "time": "2020-01-09T19:53:40.520Z",
    "type": "completion"
   },
   {
    "code": "%load_ext autoreload\n%autoreload 2\nfrom dataset.Dataset import Dataset\nfrom dataObj.dataObj import DataObj\nfrom dataObj.Row import Row\nfrom dataObj.Column import Column",
    "id": "40771fc434ab479d8c254411bcb1944d",
    "idx": 2,
    "time": "2020-01-09T19:54:23.943Z",
    "type": "exec"
   },
   {
    "id": "40771fc434ab479d8c254411bcb1944d",
    "time": "2020-01-09T19:54:23.969Z",
    "type": "completion"
   },
   {
    "code": "cd ../..",
    "id": "8585afcb11bd4ef88de6a2b17592645c",
    "idx": 0,
    "time": "2020-01-09T19:54:27.471Z",
    "type": "exec"
   },
   {
    "code": "%load_ext autoreload\n%autoreload 2\nfrom dataset.Dataset import Dataset\nfrom dataObj.dataObj import DataObj\nfrom dataObj.Row import Row\nfrom dataObj.Column import Column",
    "id": "40771fc434ab479d8c254411bcb1944d",
    "idx": 2,
    "time": "2020-01-09T19:54:28.084Z",
    "type": "exec"
   },
   {
    "code": "dataset = Dataset(\"data/cars.csv\",schema=[{\"Year\":{\"dataType\":\"date\"}}])",
    "id": "d00d4ed5ed9a494287bda6fe6118805d",
    "idx": 3,
    "time": "2020-01-09T19:54:28.676Z",
    "type": "exec"
   },
   {
    "id": "8585afcb11bd4ef88de6a2b17592645c",
    "time": "2020-01-09T19:54:29.260Z",
    "type": "completion"
   },
   {
    "code": "# lux.overview(dataset)\n# --> generate correlation and distribution\n# Click on Median Earnings distribution and ",
    "id": "8afde88d73ed40a4a780d1057f8622ea",
    "idx": 4,
    "time": "2020-01-09T19:54:29.948Z",
    "type": "exec"
   },
   {
    "id": "40771fc434ab479d8c254411bcb1944d",
    "time": "2020-01-09T19:54:30.002Z",
    "type": "completion"
   },
   {
    "id": "d00d4ed5ed9a494287bda6fe6118805d",
    "time": "2020-01-09T19:54:30.029Z",
    "type": "completion"
   },
   {
    "id": "8afde88d73ed40a4a780d1057f8622ea",
    "time": "2020-01-09T19:54:30.049Z",
    "type": "completion"
   },
   {
    "code": "dobj = DataObj(dataset,[Column(\"?\",dataModel=\"measure\"),Column(\"?\",dataModel=\"measure\")])\ndobj.correlation()\ndobj.display()",
    "id": "dc32153e771745379ee8d0d435b8a2a4",
    "idx": 5,
    "time": "2020-01-09T19:54:30.583Z",
    "type": "exec"
   },
   {
    "id": "dc32153e771745379ee8d0d435b8a2a4",
    "time": "2020-01-09T19:54:31.756Z",
    "type": "completion"
   },
   {
    "code": "dobj = DataObj(dataset,[Column(\"?\",dataModel=\"measure\")])\ndobj.distribution()\ndobj.display()",
    "id": "6c213e241380442b9ef2e140f94cd8f8",
    "idx": 6,
    "time": "2020-01-09T19:54:38.305Z",
    "type": "exec"
   },
   {
    "id": "6c213e241380442b9ef2e140f94cd8f8",
    "time": "2020-01-09T19:54:38.594Z",
    "type": "completion"
   },
   {
    "code": "dobj = DataObj(dataset,[Column(\"?\")])\ndobj.distribution()\ndobj.display()",
    "id": "6c213e241380442b9ef2e140f94cd8f8",
    "idx": 6,
    "time": "2020-01-09T19:54:45.240Z",
    "type": "exec"
   },
   {
    "id": "6c213e241380442b9ef2e140f94cd8f8",
    "time": "2020-01-09T19:54:45.856Z",
    "type": "completion"
   },
   {
    "code": "dobj = DataObj(dataset,[Column(\"?\",dataModel=\"measure\")])\ndobj.distribution()\ndobj.display()",
    "id": "6c213e241380442b9ef2e140f94cd8f8",
    "idx": 6,
    "time": "2020-01-09T19:55:02.654Z",
    "type": "exec"
   },
   {
    "id": "6c213e241380442b9ef2e140f94cd8f8",
    "time": "2020-01-09T19:55:02.958Z",
    "type": "completion"
   },
   {
    "code": "dobj = DataObj(dataset,[Column(\"MilesPerGal\",dataModel=\"measure\"),Column(\"Horsepower\",dataModel=\"measure\")])",
    "id": "994a000c00c848f2a2903feefc9a7800",
    "idx": 8,
    "time": "2020-01-09T19:57:23.570Z",
    "type": "exec"
   },
   {
    "id": "994a000c00c848f2a2903feefc9a7800",
    "time": "2020-01-09T19:57:23.598Z",
    "type": "completion"
   },
   {
    "code": "dobj.enhance()",
    "id": "91b4ec0ed034424380c8568324e102f2",
    "idx": 9,
    "time": "2020-01-09T19:57:26.089Z",
    "type": "exec"
   },
   {
    "id": "91b4ec0ed034424380c8568324e102f2",
    "time": "2020-01-09T19:57:26.137Z",
    "type": "completion"
   },
   {
    "code": "dobj.display()",
    "id": "1963c4c3ab024e9b8d523d89504c2e3a",
    "idx": 10,
    "time": "2020-01-09T19:57:26.572Z",
    "type": "exec"
   },
   {
    "id": "1963c4c3ab024e9b8d523d89504c2e3a",
    "time": "2020-01-09T19:57:27.225Z",
    "type": "completion"
   },
   {
    "code": "# Found out that name is too much, so drop name as a column and add in Brand information",
    "id": "81d78b761a1f4d528888a5a3a7d24b23",
    "idx": 11,
    "time": "2020-01-09T20:14:36.047Z",
    "type": "exec"
   },
   {
    "id": "81d78b761a1f4d528888a5a3a7d24b23",
    "time": "2020-01-09T20:14:36.109Z",
    "type": "completion"
   },
   {
    "code": "dataset.df",
    "id": "05dc3aa7da9e4cc387febc064ce2ceb0",
    "idx": 12,
    "time": "2020-01-09T20:14:42.968Z",
    "type": "exec"
   },
   {
    "id": "05dc3aa7da9e4cc387febc064ce2ceb0",
    "time": "2020-01-09T20:14:43.037Z",
    "type": "completion"
   },
   {
    "code": "import pandas as pd",
    "id": "68f9f48b967841dea053f6fbbe1d8ded",
    "idx": 12,
    "time": "2020-01-09T20:15:05.120Z",
    "type": "exec"
   },
   {
    "id": "68f9f48b967841dea053f6fbbe1d8ded",
    "time": "2020-01-09T20:15:05.148Z",
    "type": "completion"
   },
   {
    "code": "brand_df = pd.read_csv(\"data/car_brand.csv\")",
    "id": "4fa1f83ac2e94e5e81b735834822cf53",
    "idx": 13,
    "time": "2020-01-09T20:15:25.176Z",
    "type": "exec"
   },
   {
    "id": "4fa1f83ac2e94e5e81b735834822cf53",
    "time": "2020-01-09T20:15:25.208Z",
    "type": "completion"
   },
   {
    "code": "brand_df.head()",
    "id": "f8790eb8495a4efd9415db2b67090b35",
    "idx": 14,
    "time": "2020-01-09T20:15:29.589Z",
    "type": "exec"
   },
   {
    "id": "f8790eb8495a4efd9415db2b67090b35",
    "time": "2020-01-09T20:15:29.622Z",
    "type": "completion"
   },
   {
    "code": "dataset.df.join(brand_df)",
    "id": "05dc3aa7da9e4cc387febc064ce2ceb0",
    "idx": 15,
    "time": "2020-01-09T20:15:51.026Z",
    "type": "exec"
   },
   {
    "id": "05dc3aa7da9e4cc387febc064ce2ceb0",
    "time": "2020-01-09T20:15:51.204Z",
    "type": "completion"
   },
   {
    "code": "dataset.df.merge(brand_df)",
    "id": "05dc3aa7da9e4cc387febc064ce2ceb0",
    "idx": 15,
    "time": "2020-01-09T20:15:56.232Z",
    "type": "exec"
   },
   {
    "id": "05dc3aa7da9e4cc387febc064ce2ceb0",
    "time": "2020-01-09T20:15:56.320Z",
    "type": "completion"
   },
   {
    "code": "dataset.df = dataset.df.merge(brand_df)",
    "id": "05dc3aa7da9e4cc387febc064ce2ceb0",
    "idx": 15,
    "time": "2020-01-09T20:16:01.996Z",
    "type": "exec"
   },
   {
    "id": "05dc3aa7da9e4cc387febc064ce2ceb0",
    "time": "2020-01-09T20:16:02.031Z",
    "type": "completion"
   },
   {
    "code": "dataset.df",
    "id": "cb96503c52f14a6780515620b5cfba00",
    "idx": 16,
    "time": "2020-01-09T20:16:03.337Z",
    "type": "exec"
   },
   {
    "id": "cb96503c52f14a6780515620b5cfba00",
    "time": "2020-01-09T20:16:03.414Z",
    "type": "completion"
   },
   {
    "code": "dataset.df = dataset.df.join(brand_df)",
    "id": "05dc3aa7da9e4cc387febc064ce2ceb0",
    "idx": 15,
    "time": "2020-01-09T20:16:27.802Z",
    "type": "exec"
   },
   {
    "id": "05dc3aa7da9e4cc387febc064ce2ceb0",
    "time": "2020-01-09T20:16:27.859Z",
    "type": "completion"
   },
   {
    "code": "dataset = Dataset(\"data/cars.csv\",schema=[{\"Year\":{\"dataType\":\"date\"}}])",
    "id": "17275a5ec0244bb0a9f2c0e4828d010a",
    "idx": 15,
    "time": "2020-01-09T20:16:39.954Z",
    "type": "exec"
   },
   {
    "id": "17275a5ec0244bb0a9f2c0e4828d010a",
    "time": "2020-01-09T20:16:39.984Z",
    "type": "completion"
   },
   {
    "code": "dataset.df.join(brand_df)",
    "id": "05dc3aa7da9e4cc387febc064ce2ceb0",
    "idx": 16,
    "time": "2020-01-09T20:16:41.515Z",
    "type": "exec"
   },
   {
    "id": "05dc3aa7da9e4cc387febc064ce2ceb0",
    "time": "2020-01-09T20:16:41.573Z",
    "type": "completion"
   },
   {
    "code": "dataset.df.join(brand_df,on=\"Name\")",
    "id": "05dc3aa7da9e4cc387febc064ce2ceb0",
    "idx": 16,
    "time": "2020-01-09T20:16:51.468Z",
    "type": "exec"
   },
   {
    "id": "05dc3aa7da9e4cc387febc064ce2ceb0",
    "time": "2020-01-09T20:16:51.532Z",
    "type": "completion"
   },
   {
    "code": "df",
    "id": "c42b5075fbb442889d5f770ae83b78b0",
    "idx": 16,
    "time": "2020-01-09T20:17:00.907Z",
    "type": "exec"
   },
   {
    "id": "c42b5075fbb442889d5f770ae83b78b0",
    "time": "2020-01-09T20:17:00.936Z",
    "type": "completion"
   },
   {
    "code": "dataset.df",
    "id": "c42b5075fbb442889d5f770ae83b78b0",
    "idx": 16,
    "time": "2020-01-09T20:17:04.609Z",
    "type": "exec"
   },
   {
    "id": "c42b5075fbb442889d5f770ae83b78b0",
    "time": "2020-01-09T20:17:04.646Z",
    "type": "completion"
   },
   {
    "code": "dataset.df.head()",
    "id": "c42b5075fbb442889d5f770ae83b78b0",
    "idx": 16,
    "time": "2020-01-09T20:17:09.242Z",
    "type": "exec"
   },
   {
    "id": "c42b5075fbb442889d5f770ae83b78b0",
    "time": "2020-01-09T20:17:09.285Z",
    "type": "completion"
   },
   {
    "code": "dataset.df.concat(brand_df,on=\"Name\")",
    "id": "05dc3aa7da9e4cc387febc064ce2ceb0",
    "idx": 17,
    "time": "2020-01-09T20:19:05.330Z",
    "type": "exec"
   },
   {
    "id": "05dc3aa7da9e4cc387febc064ce2ceb0",
    "time": "2020-01-09T20:19:05.388Z",
    "type": "completion"
   },
   {
    "code": "pd.concat(dataset.df,brand_df,join=\"inner\")",
    "id": "05dc3aa7da9e4cc387febc064ce2ceb0",
    "idx": 17,
    "time": "2020-01-09T20:19:38.023Z",
    "type": "exec"
   },
   {
    "id": "05dc3aa7da9e4cc387febc064ce2ceb0",
    "time": "2020-01-09T20:19:38.068Z",
    "type": "completion"
   },
   {
    "code": "pd.concat(dataset.df,brand_df)",
    "id": "05dc3aa7da9e4cc387febc064ce2ceb0",
    "idx": 17,
    "time": "2020-01-09T20:19:41.455Z",
    "type": "exec"
   },
   {
    "id": "05dc3aa7da9e4cc387febc064ce2ceb0",
    "time": "2020-01-09T20:19:41.512Z",
    "type": "completion"
   },
   {
    "code": "pd.concat([dataset.df,brand_df])",
    "id": "05dc3aa7da9e4cc387febc064ce2ceb0",
    "idx": 17,
    "time": "2020-01-09T20:19:52.335Z",
    "type": "exec"
   },
   {
    "id": "05dc3aa7da9e4cc387febc064ce2ceb0",
    "time": "2020-01-09T20:19:52.405Z",
    "type": "completion"
   },
   {
    "code": "pd.merge([dataset.df,brand_df])",
    "id": "05dc3aa7da9e4cc387febc064ce2ceb0",
    "idx": 17,
    "time": "2020-01-09T20:20:07.719Z",
    "type": "exec"
   },
   {
    "id": "05dc3aa7da9e4cc387febc064ce2ceb0",
    "time": "2020-01-09T20:20:07.768Z",
    "type": "completion"
   },
   {
    "code": "dataset.df.merge(brand_df)",
    "id": "05dc3aa7da9e4cc387febc064ce2ceb0",
    "idx": 17,
    "time": "2020-01-09T20:20:18.621Z",
    "type": "exec"
   },
   {
    "id": "05dc3aa7da9e4cc387febc064ce2ceb0",
    "time": "2020-01-09T20:20:18.716Z",
    "type": "completion"
   },
   {
    "code": "len(dataset.df)",
    "id": "0af39eb3efdb47368c2bb226b4dd9ae3",
    "idx": 17,
    "time": "2020-01-09T20:20:26.008Z",
    "type": "exec"
   },
   {
    "id": "0af39eb3efdb47368c2bb226b4dd9ae3",
    "time": "2020-01-09T20:20:26.040Z",
    "type": "completion"
   },
   {
    "code": "pd.concat([dataset.df,brand_df],join=\"inner\")",
    "id": "05dc3aa7da9e4cc387febc064ce2ceb0",
    "idx": 18,
    "time": "2020-01-09T20:20:56.797Z",
    "type": "exec"
   },
   {
    "id": "05dc3aa7da9e4cc387febc064ce2ceb0",
    "time": "2020-01-09T20:20:56.846Z",
    "type": "completion"
   },
   {
    "code": "pd.concat([dataset.df,brand_df],join=\"outer\")",
    "id": "05dc3aa7da9e4cc387febc064ce2ceb0",
    "idx": 18,
    "time": "2020-01-09T20:21:05.945Z",
    "type": "exec"
   },
   {
    "id": "05dc3aa7da9e4cc387febc064ce2ceb0",
    "time": "2020-01-09T20:21:05.994Z",
    "type": "completion"
   },
   {
    "code": "dataset.df.merge(brand_df)",
    "id": "9ac3815d001e470e82da11563336123e",
    "idx": 18,
    "time": "2020-01-09T20:21:24.642Z",
    "type": "exec"
   },
   {
    "id": "9ac3815d001e470e82da11563336123e",
    "time": "2020-01-09T20:21:24.749Z",
    "type": "completion"
   },
   {
    "code": "dataset.df.join(brand_df)",
    "id": "9ac3815d001e470e82da11563336123e",
    "idx": 18,
    "time": "2020-01-09T20:21:30.834Z",
    "type": "exec"
   },
   {
    "id": "9ac3815d001e470e82da11563336123e",
    "time": "2020-01-09T20:21:30.907Z",
    "type": "completion"
   },
   {
    "code": "dataset.df.join(brand_df,on=\"Name\")",
    "id": "9ac3815d001e470e82da11563336123e",
    "idx": 18,
    "time": "2020-01-09T20:21:42.442Z",
    "type": "exec"
   },
   {
    "id": "9ac3815d001e470e82da11563336123e",
    "time": "2020-01-09T20:21:42.527Z",
    "type": "completion"
   },
   {
    "code": "brand_df",
    "id": "ce74fe9c3226405e823ad0802d0512d3",
    "idx": 18,
    "time": "2020-01-09T20:22:00.808Z",
    "type": "exec"
   },
   {
    "id": "ce74fe9c3226405e823ad0802d0512d3",
    "time": "2020-01-09T20:22:00.839Z",
    "type": "completion"
   },
   {
    "code": "brand_df.join(dataset.df,on=\"Name\")",
    "id": "9ac3815d001e470e82da11563336123e",
    "idx": 18,
    "time": "2020-01-09T20:22:12.755Z",
    "type": "exec"
   },
   {
    "id": "9ac3815d001e470e82da11563336123e",
    "time": "2020-01-09T20:22:12.830Z",
    "type": "completion"
   },
   {
    "code": "brand_df.merge(dataset.df)",
    "id": "a48b2f17206b499f86052f8fd8b4dfd4",
    "idx": 18,
    "time": "2020-01-09T20:22:58.767Z",
    "type": "exec"
   },
   {
    "id": "a48b2f17206b499f86052f8fd8b4dfd4",
    "time": "2020-01-09T20:22:58.852Z",
    "type": "completion"
   },
   {
    "code": "len(brand_df)",
    "id": "5ea5df0533f34ee98bae1201ca81dc54",
    "idx": 18,
    "time": "2020-01-09T20:23:09.282Z",
    "type": "exec"
   },
   {
    "id": "5ea5df0533f34ee98bae1201ca81dc54",
    "time": "2020-01-09T20:23:09.317Z",
    "type": "completion"
   },
   {
    "code": "brand_df.merge(dataset.df,how=\"outer\")",
    "id": "a48b2f17206b499f86052f8fd8b4dfd4",
    "idx": 19,
    "time": "2020-01-09T20:23:17.444Z",
    "type": "exec"
   },
   {
    "id": "a48b2f17206b499f86052f8fd8b4dfd4",
    "time": "2020-01-09T20:23:17.499Z",
    "type": "completion"
   },
   {
    "code": "brand_df.merge(dataset.df,how=\"inner\")",
    "id": "a48b2f17206b499f86052f8fd8b4dfd4",
    "idx": 19,
    "time": "2020-01-09T20:23:20.899Z",
    "type": "exec"
   },
   {
    "id": "a48b2f17206b499f86052f8fd8b4dfd4",
    "time": "2020-01-09T20:23:20.954Z",
    "type": "completion"
   },
   {
    "code": "brand_df",
    "id": "b9ec7ffdb864472983995550454964b9",
    "idx": 19,
    "time": "2020-01-09T20:24:10.957Z",
    "type": "exec"
   },
   {
    "id": "b9ec7ffdb864472983995550454964b9",
    "time": "2020-01-09T20:24:10.994Z",
    "type": "completion"
   },
   {
    "code": "brand_df = brand_df.drop_duplicates()",
    "id": "b9ec7ffdb864472983995550454964b9",
    "idx": 19,
    "time": "2020-01-09T20:24:20.251Z",
    "type": "exec"
   },
   {
    "id": "b9ec7ffdb864472983995550454964b9",
    "time": "2020-01-09T20:24:20.308Z",
    "type": "completion"
   },
   {
    "code": "brand_df.merge(dataset.df,how=\"inner\")",
    "id": "a48b2f17206b499f86052f8fd8b4dfd4",
    "idx": 20,
    "time": "2020-01-09T20:24:21.885Z",
    "type": "exec"
   },
   {
    "id": "a48b2f17206b499f86052f8fd8b4dfd4",
    "time": "2020-01-09T20:24:21.967Z",
    "type": "completion"
   },
   {
    "code": "brand_df = brand_df.drop_duplicates()\nbrand_df.to_csv(\"data/car_brand.csv\",index=None)",
    "id": "b9ec7ffdb864472983995550454964b9",
    "idx": 19,
    "time": "2020-01-09T20:24:49.687Z",
    "type": "exec"
   },
   {
    "id": "b9ec7ffdb864472983995550454964b9",
    "time": "2020-01-09T20:24:49.723Z",
    "type": "completion"
   },
   {
    "code": "brand_df = pd.read_csv(\"data/car_brand.csv\")",
    "id": "4fa1f83ac2e94e5e81b735834822cf53",
    "idx": 13,
    "time": "2020-01-09T20:24:54.516Z",
    "type": "exec"
   },
   {
    "id": "4fa1f83ac2e94e5e81b735834822cf53",
    "time": "2020-01-09T20:24:54.550Z",
    "type": "completion"
   },
   {
    "code": "brand_df.head()",
    "id": "f8790eb8495a4efd9415db2b67090b35",
    "idx": 14,
    "time": "2020-01-09T20:24:55.133Z",
    "type": "exec"
   },
   {
    "id": "f8790eb8495a4efd9415db2b67090b35",
    "time": "2020-01-09T20:24:55.192Z",
    "type": "completion"
   },
   {
    "code": "dataset = Dataset(\"data/cars.csv\",schema=[{\"Year\":{\"dataType\":\"date\"}}])",
    "id": "17275a5ec0244bb0a9f2c0e4828d010a",
    "idx": 15,
    "time": "2020-01-09T20:24:56.301Z",
    "type": "exec"
   },
   {
    "id": "17275a5ec0244bb0a9f2c0e4828d010a",
    "time": "2020-01-09T20:24:56.373Z",
    "type": "completion"
   },
   {
    "code": "dataset.df.head()",
    "id": "c42b5075fbb442889d5f770ae83b78b0",
    "idx": 16,
    "time": "2020-01-09T20:24:56.675Z",
    "type": "exec"
   },
   {
    "id": "c42b5075fbb442889d5f770ae83b78b0",
    "time": "2020-01-09T20:24:56.723Z",
    "type": "completion"
   },
   {
    "code": "len(dataset.df)",
    "id": "0af39eb3efdb47368c2bb226b4dd9ae3",
    "idx": 17,
    "time": "2020-01-09T20:24:58.244Z",
    "type": "exec"
   },
   {
    "id": "0af39eb3efdb47368c2bb226b4dd9ae3",
    "time": "2020-01-09T20:24:58.281Z",
    "type": "completion"
   },
   {
    "code": "len(brand_df)",
    "id": "5ea5df0533f34ee98bae1201ca81dc54",
    "idx": 18,
    "time": "2020-01-09T20:24:58.501Z",
    "type": "exec"
   },
   {
    "id": "5ea5df0533f34ee98bae1201ca81dc54",
    "time": "2020-01-09T20:24:58.537Z",
    "type": "completion"
   },
   {
    "code": "brand_df.merge(dataset.df,how=\"inner\")",
    "id": "a48b2f17206b499f86052f8fd8b4dfd4",
    "idx": 17,
    "time": "2020-01-09T20:25:04.620Z",
    "type": "exec"
   },
   {
    "id": "a48b2f17206b499f86052f8fd8b4dfd4",
    "time": "2020-01-09T20:25:04.724Z",
    "type": "completion"
   },
   {
    "code": "dataset.df.merge(brand_df,how=\"inner\")",
    "id": "a48b2f17206b499f86052f8fd8b4dfd4",
    "idx": 17,
    "time": "2020-01-09T20:25:20.086Z",
    "type": "exec"
   },
   {
    "id": "a48b2f17206b499f86052f8fd8b4dfd4",
    "time": "2020-01-09T20:25:20.133Z",
    "type": "completion"
   },
   {
    "code": "dataset.df = dataset.df.merge(brand_df,how=\"inner\")",
    "id": "a48b2f17206b499f86052f8fd8b4dfd4",
    "idx": 17,
    "time": "2020-01-09T20:25:26.079Z",
    "type": "exec"
   },
   {
    "id": "a48b2f17206b499f86052f8fd8b4dfd4",
    "time": "2020-01-09T20:25:26.118Z",
    "type": "completion"
   },
   {
    "code": "dataset.df = dataset.df.drop(columns=[\"Name\"])",
    "id": "cb96503c52f14a6780515620b5cfba00",
    "idx": 18,
    "time": "2020-01-09T20:25:37.782Z",
    "type": "exec"
   },
   {
    "id": "cb96503c52f14a6780515620b5cfba00",
    "time": "2020-01-09T20:25:37.827Z",
    "type": "completion"
   },
   {
    "code": "dobj = DataObj(dataset,[Column(\"MilesPerGal\",dataModel=\"measure\"),Column(\"Horsepower\",dataModel=\"measure\")])\n\ndobj.enhance()\n\ndobj.display()",
    "id": "994a000c00c848f2a2903feefc9a7800",
    "idx": 8,
    "time": "2020-01-09T20:25:47.758Z",
    "type": "exec"
   },
   {
    "id": "994a000c00c848f2a2903feefc9a7800",
    "time": "2020-01-09T20:25:48.293Z",
    "type": "completion"
   },
   {
    "code": "df = dataset.df.merge(brand_df,how=\"inner\")",
    "id": "a48b2f17206b499f86052f8fd8b4dfd4",
    "idx": 15,
    "time": "2020-01-09T20:30:39.745Z",
    "type": "exec"
   },
   {
    "id": "a48b2f17206b499f86052f8fd8b4dfd4",
    "time": "2020-01-09T20:30:39.851Z",
    "type": "completion"
   },
   {
    "code": "df = dataset.df.merge(brand_df,how=\"inner\")\ndf = df.drop(columns=[\"Name\"])\ndataset.set_df(df)",
    "id": "a48b2f17206b499f86052f8fd8b4dfd4",
    "idx": 15,
    "time": "2020-01-09T20:31:04.330Z",
    "type": "exec"
   },
   {
    "id": "a48b2f17206b499f86052f8fd8b4dfd4",
    "time": "2020-01-09T20:31:04.369Z",
    "type": "completion"
   },
   {
    "code": "dobj = DataObj(dataset,[Column(\"MilesPerGal\",dataModel=\"measure\"),Column(\"Horsepower\",dataModel=\"measure\")])\n\ndobj.enhance()\n\ndobj.display()",
    "id": "98f1fd899a6042aa9f76db2d72226d81",
    "idx": 16,
    "time": "2020-01-09T20:31:13.530Z",
    "type": "exec"
   },
   {
    "id": "98f1fd899a6042aa9f76db2d72226d81",
    "time": "2020-01-09T20:31:16.398Z",
    "type": "completion"
   },
   {
    "code": "dobj = DataObj(dataset,[Column(\"Brand\")])\n\ndobj.enhance()\n\ndobj.display()",
    "id": "98f1fd899a6042aa9f76db2d72226d81",
    "idx": 16,
    "time": "2020-01-09T20:31:57.333Z",
    "type": "exec"
   },
   {
    "id": "98f1fd899a6042aa9f76db2d72226d81",
    "time": "2020-01-09T20:32:00.607Z",
    "type": "completion"
   },
   {
    "code": "dobj = DataObj(dataset,[Column(\"Brand\")])\n\ndobj.display()",
    "id": "98f1fd899a6042aa9f76db2d72226d81",
    "idx": 16,
    "time": "2020-01-09T20:33:29.868Z",
    "type": "exec"
   },
   {
    "id": "98f1fd899a6042aa9f76db2d72226d81",
    "time": "2020-01-09T20:33:30.449Z",
    "type": "completion"
   },
   {
    "code": "dobj = DataObj(dataset,[Column(\"Brand\")])\n\ndobj.display()",
    "id": "98f1fd899a6042aa9f76db2d72226d81",
    "idx": 16,
    "time": "2020-01-09T20:34:32.672Z",
    "type": "exec"
   },
   {
    "id": "98f1fd899a6042aa9f76db2d72226d81",
    "time": "2020-01-09T20:34:33.272Z",
    "type": "completion"
   },
   {
    "code": "dobj = DataObj(dataset,[Column(\"Brand\")])\n\ndobj.display()",
    "id": "5b9f4e9e75054afc8a1a39f6fac26615",
    "idx": 16,
    "time": "2020-01-09T20:38:55.693Z",
    "type": "exec"
   },
   {
    "id": "5b9f4e9e75054afc8a1a39f6fac26615",
    "time": "2020-01-09T20:38:55.826Z",
    "type": "completion"
   },
   {
    "code": "dobj = DataObj(dataset,[Column(\"Brand\")])\n\ndobj.display()",
    "id": "5b9f4e9e75054afc8a1a39f6fac26615",
    "idx": 16,
    "time": "2020-01-09T20:42:25.090Z",
    "type": "exec"
   },
   {
    "id": "5b9f4e9e75054afc8a1a39f6fac26615",
    "time": "2020-01-09T20:42:25.664Z",
    "type": "completion"
   },
   {
    "code": "dobj = DataObj(dataset,[Column(\"Brand\",channel=y)])\n\ndobj.display()",
    "id": "5b9f4e9e75054afc8a1a39f6fac26615",
    "idx": 16,
    "time": "2020-01-09T20:42:35.947Z",
    "type": "exec"
   },
   {
    "id": "5b9f4e9e75054afc8a1a39f6fac26615",
    "time": "2020-01-09T20:42:35.978Z",
    "type": "completion"
   },
   {
    "code": "dobj = DataObj(dataset,[Column(\"Brand\",channel=\"y\")])\n\ndobj.display()",
    "id": "5b9f4e9e75054afc8a1a39f6fac26615",
    "idx": 16,
    "time": "2020-01-09T20:42:39.889Z",
    "type": "exec"
   },
   {
    "id": "5b9f4e9e75054afc8a1a39f6fac26615",
    "time": "2020-01-09T20:42:39.923Z",
    "type": "completion"
   },
   {
    "code": "dobj = DataObj(dataset,[Column(\"Brand\")])\n\ndobj.display()",
    "id": "5b9f4e9e75054afc8a1a39f6fac26615",
    "idx": 16,
    "time": "2020-01-09T20:42:52.629Z",
    "type": "exec"
   },
   {
    "id": "5b9f4e9e75054afc8a1a39f6fac26615",
    "time": "2020-01-09T20:42:53.137Z",
    "type": "completion"
   },
   {
    "code": "dobj = DataObj(dataset,[Column(\"Brand\")])\n\ndobj.display()",
    "id": "5b9f4e9e75054afc8a1a39f6fac26615",
    "idx": 16,
    "time": "2020-01-09T20:44:13.797Z",
    "type": "exec"
   },
   {
    "id": "5b9f4e9e75054afc8a1a39f6fac26615",
    "time": "2020-01-09T20:44:14.428Z",
    "type": "completion"
   },
   {
    "code": "dobj = DataObj(dataset,[Column(\"Brand\")])\ndobj.enhance()\ndobj.display()",
    "id": "5b9f4e9e75054afc8a1a39f6fac26615",
    "idx": 16,
    "time": "2020-01-09T20:44:37.670Z",
    "type": "exec"
   },
   {
    "id": "5b9f4e9e75054afc8a1a39f6fac26615",
    "time": "2020-01-09T20:44:40.856Z",
    "type": "completion"
   },
   {
    "code": "dobj = DataObj(dataset,[Column(\"Brand\")])\n# dobj.enhance()\ndobj.display()",
    "id": "5b9f4e9e75054afc8a1a39f6fac26615",
    "idx": 16,
    "time": "2020-01-09T20:45:45.735Z",
    "type": "exec"
   },
   {
    "id": "5b9f4e9e75054afc8a1a39f6fac26615",
    "time": "2020-01-09T20:45:46.302Z",
    "type": "completion"
   },
   {
    "code": "dobj = DataObj(dataset,[Column(\"MilesPerGal\",dataModel=\"measure\"),Column(\"Horsepower\",dataModel=\"measure\")])\n\ndobj.enhance()\n\ndobj.display()",
    "id": "d2473adddc31419b89039797d7aa581b",
    "idx": 8,
    "time": "2020-01-09T20:46:59.687Z",
    "type": "exec"
   },
   {
    "id": "d2473adddc31419b89039797d7aa581b",
    "time": "2020-01-09T20:47:02.505Z",
    "type": "completion"
   },
   {
    "code": "# we want to take what we had earlier and then break it down by different brands to see how the relationship changes\ndobj = DataObj(dataset,[Column(\"MilesPerGal\",dataModel=\"measure\"),\n                        Column(\"Horsepower\",dataModel=\"measure\"),\n                        Row(\"Brand\",\"?\")])\ndobj.filter()\ndobj.display()\n",
    "id": "ed472762299640d48e98cda373820946",
    "idx": 17,
    "time": "2020-01-09T20:49:24.241Z",
    "type": "exec"
   },
   {
    "id": "ed472762299640d48e98cda373820946",
    "time": "2020-01-09T20:49:28.038Z",
    "type": "completion"
   },
   {
    "code": "dobj = DataObj(dataset,[Column(\"Horsepower\",dataModel=\"measure\"),\n                        Row(\"Brand\",\"?\")])\ndobj.filter()\ndobj.display()",
    "id": "f6a9fda7763b4a738bcb4ea45f7bd880",
    "idx": 18,
    "time": "2020-01-09T20:49:50.073Z",
    "type": "exec"
   },
   {
    "id": "f6a9fda7763b4a738bcb4ea45f7bd880",
    "time": "2020-01-09T20:49:52.788Z",
    "type": "completion"
   },
   {
    "code": "cd ../..",
    "id": "d1cc96a31b6544a48a195dce414d3846",
    "idx": 0,
    "time": "2020-01-10T02:16:04.457Z",
    "type": "exec"
   },
   {
    "id": "d1cc96a31b6544a48a195dce414d3846",
    "time": "2020-01-10T02:16:04.487Z",
    "type": "completion"
   },
   {
    "code": "%load_ext autoreload\n%autoreload 2\nfrom dataset.Dataset import Dataset\nfrom dataObj.dataObj import DataObj\nfrom dataObj.Row import Row\nfrom dataObj.Column import Column",
    "id": "56e148f1198f404da928f1a7884178ac",
    "idx": 2,
    "time": "2020-01-10T02:16:04.792Z",
    "type": "exec"
   },
   {
    "code": "dataset = Dataset(\"data/cars.csv\",schema=[{\"Year\":{\"dataType\":\"date\"}}])",
    "id": "265caff7ce8d420db97a3968f30d62d8",
    "idx": 3,
    "time": "2020-01-10T02:16:04.924Z",
    "type": "exec"
   },
   {
    "code": "# lux.overview(dataset)\n# --> generate correlation and distribution\n# Click on Median Earnings distribution and ",
    "id": "0c829998fcb6418683f0d8064d2ffa43",
    "idx": 4,
    "time": "2020-01-10T02:16:05.285Z",
    "type": "exec"
   },
   {
    "id": "56e148f1198f404da928f1a7884178ac",
    "time": "2020-01-10T02:16:05.559Z",
    "type": "completion"
   },
   {
    "code": "dobj = DataObj(dataset,[Column(\"?\",dataModel=\"measure\"),Column(\"?\",dataModel=\"measure\")])\ndobj.correlation()\ndobj.display()",
    "id": "03896e20a73b49f0878bea78497bc5b4",
    "idx": 5,
    "time": "2020-01-10T02:16:05.605Z",
    "type": "exec"
   },
   {
    "id": "265caff7ce8d420db97a3968f30d62d8",
    "time": "2020-01-10T02:16:05.617Z",
    "type": "completion"
   },
   {
    "id": "0c829998fcb6418683f0d8064d2ffa43",
    "time": "2020-01-10T02:16:05.628Z",
    "type": "completion"
   },
   {
    "code": "dobj = DataObj(dataset,[Column(\"?\",dataModel=\"measure\")])\ndobj.distribution()\ndobj.display()",
    "id": "dfa18b7449624b79b2523a055f369e79",
    "idx": 6,
    "time": "2020-01-10T02:16:06.118Z",
    "type": "exec"
   },
   {
    "id": "03896e20a73b49f0878bea78497bc5b4",
    "time": "2020-01-10T02:16:06.534Z",
    "type": "completion"
   },
   {
    "id": "dfa18b7449624b79b2523a055f369e79",
    "time": "2020-01-10T02:16:06.858Z",
    "type": "completion"
   },
   {
    "code": "dobj = DataObj(dataset,[Column(\"Horsepower\",dataModel=\"measure\"),\n                        Row(\"Brand\",\"?\")])\ndobj.filter()\ndobj.display()",
    "id": "87a792a8b4c9483e8b03859ffb84a1cf",
    "idx": 18,
    "time": "2020-01-10T02:26:38.613Z",
    "type": "exec"
   },
   {
    "id": "87a792a8b4c9483e8b03859ffb84a1cf",
    "time": "2020-01-10T02:26:38.815Z",
    "type": "completion"
   },
   {
    "code": "dobj = DataObj(dataset,[Column(\"MilesPerGal\",dataModel=\"measure\"),Column(\"Horsepower\",dataModel=\"measure\")])\n\ndobj.enhance()\n\ndobj.display()",
    "id": "4fefc8e3cf9e413693ae613f92020be3",
    "idx": 8,
    "time": "2020-01-10T02:26:46.139Z",
    "type": "exec"
   },
   {
    "id": "4fefc8e3cf9e413693ae613f92020be3",
    "time": "2020-01-10T02:26:46.656Z",
    "type": "completion"
   },
   {
    "code": "cd ../..",
    "id": "9bd66af7b62348d78dea5886c8326b95",
    "idx": 0,
    "time": "2020-01-10T02:41:29.739Z",
    "type": "exec"
   },
   {
    "id": "9bd66af7b62348d78dea5886c8326b95",
    "time": "2020-01-10T02:41:29.771Z",
    "type": "completion"
   },
   {
    "code": "%load_ext autoreload\n%autoreload 2\nfrom dataset.Dataset import Dataset\nfrom dataObj.dataObj import DataObj\nfrom dataObj.Row import Row\nfrom dataObj.Column import Column",
    "id": "5dc292117f8244dc815f879cc60a9b80",
    "idx": 2,
    "time": "2020-01-10T02:41:30.347Z",
    "type": "exec"
   },
   {
    "code": "dataset = Dataset(\"data/cars.csv\",schema=[{\"Year\":{\"dataType\":\"date\"}}])",
    "id": "31a7142758814a118c500c79fc2d9202",
    "idx": 3,
    "time": "2020-01-10T02:41:30.761Z",
    "type": "exec"
   },
   {
    "code": "# lux.overview(dataset)\n# --> generate correlation and distribution\n# Click on Median Earnings distribution and ",
    "id": "3ab4b637b0eb4cc1ace7b455eb7862b1",
    "idx": 4,
    "time": "2020-01-10T02:41:31.073Z",
    "type": "exec"
   },
   {
    "id": "5dc292117f8244dc815f879cc60a9b80",
    "time": "2020-01-10T02:41:31.086Z",
    "type": "completion"
   },
   {
    "id": "31a7142758814a118c500c79fc2d9202",
    "time": "2020-01-10T02:41:31.097Z",
    "type": "completion"
   },
   {
    "id": "3ab4b637b0eb4cc1ace7b455eb7862b1",
    "time": "2020-01-10T02:41:31.136Z",
    "type": "completion"
   },
   {
    "code": "dobj = DataObj(dataset,[Column(\"?\",dataModel=\"measure\"),Column(\"?\",dataModel=\"measure\")])\ndobj.correlation()\ndobj.display()",
    "id": "747396d7f00842a680d047ff21e503ba",
    "idx": 5,
    "time": "2020-01-10T02:41:31.452Z",
    "type": "exec"
   },
   {
    "code": "dobj = DataObj(dataset,[Column(\"?\",dataModel=\"measure\")])\ndobj.distribution()\ndobj.display()",
    "id": "a949ad5c3b89412c8cca1cc08d3d854b",
    "idx": 6,
    "time": "2020-01-10T02:41:32.104Z",
    "type": "exec"
   },
   {
    "id": "747396d7f00842a680d047ff21e503ba",
    "time": "2020-01-10T02:41:32.407Z",
    "type": "completion"
   },
   {
    "id": "a949ad5c3b89412c8cca1cc08d3d854b",
    "time": "2020-01-10T02:41:32.837Z",
    "type": "completion"
   },
   {
    "code": "dobj = DataObj(dataset,[Column(\"MilesPerGal\",dataModel=\"measure\"),Column(\"Horsepower\",dataModel=\"measure\")])\n\ndobj.enhance()\n\ndobj.display()",
    "id": "5e05526e81164db1857b483c8387aa1d",
    "idx": 8,
    "time": "2020-01-10T02:41:43.196Z",
    "type": "exec"
   },
   {
    "id": "5e05526e81164db1857b483c8387aa1d",
    "time": "2020-01-10T02:41:43.683Z",
    "type": "completion"
   },
   {
    "code": "dobj = DataObj(dataset,[Column(\"MilesPerGal\",dataModel=\"measure\"),Column(\"Horsepower\",dataModel=\"measure\")])\n\ndobj.enhance()\n\ndobj.display()",
    "id": "5e05526e81164db1857b483c8387aa1d",
    "idx": 8,
    "time": "2020-01-10T02:41:55.439Z",
    "type": "exec"
   },
   {
    "id": "5e05526e81164db1857b483c8387aa1d",
    "time": "2020-01-10T02:41:55.932Z",
    "type": "completion"
   },
   {
    "code": "cd ../..",
    "id": "15009157042b48e2a0ef152742d283c0",
    "idx": 0,
    "time": "2020-01-10T02:51:10.926Z",
    "type": "exec"
   },
   {
    "id": "15009157042b48e2a0ef152742d283c0",
    "time": "2020-01-10T02:51:10.958Z",
    "type": "completion"
   },
   {
    "code": "%load_ext autoreload\n%autoreload 2\nfrom dataset.Dataset import Dataset\nfrom dataObj.dataObj import DataObj\nfrom dataObj.Row import Row\nfrom dataObj.Column import Column",
    "id": "36db629e52a14444897b63bf8fa966de",
    "idx": 2,
    "time": "2020-01-10T02:51:11.509Z",
    "type": "exec"
   },
   {
    "code": "dataset = Dataset(\"data/cars.csv\",schema=[{\"Year\":{\"dataType\":\"date\"}}])",
    "id": "10e16c7df4214cfbab6e63b00b8fe29d",
    "idx": 3,
    "time": "2020-01-10T02:51:11.590Z",
    "type": "exec"
   },
   {
    "code": "# lux.overview(dataset)\n# --> generate correlation and distribution\n# Click on Median Earnings distribution and ",
    "id": "ba92dc0f74c54bd0987cacb6f547853e",
    "idx": 4,
    "time": "2020-01-10T02:51:11.674Z",
    "type": "exec"
   },
   {
    "code": "dobj = DataObj(dataset,[Column(\"?\",dataModel=\"measure\"),Column(\"?\",dataModel=\"measure\")])\ndobj.correlation()\ndobj.display()",
    "id": "b1ecb745fe3244e1afd451ba45956b6c",
    "idx": 5,
    "time": "2020-01-10T02:51:11.759Z",
    "type": "exec"
   },
   {
    "code": "dobj = DataObj(dataset,[Column(\"?\",dataModel=\"measure\")])\ndobj.distribution()\ndobj.display()",
    "id": "9214c1ed1e7b44408f6ca27719786a5c",
    "idx": 6,
    "time": "2020-01-10T02:51:11.994Z",
    "type": "exec"
   },
   {
    "id": "36db629e52a14444897b63bf8fa966de",
    "time": "2020-01-10T02:51:12.013Z",
    "type": "completion"
   },
   {
    "id": "10e16c7df4214cfbab6e63b00b8fe29d",
    "time": "2020-01-10T02:51:12.026Z",
    "type": "completion"
   },
   {
    "id": "ba92dc0f74c54bd0987cacb6f547853e",
    "time": "2020-01-10T02:51:12.059Z",
    "type": "completion"
   },
   {
    "id": "b1ecb745fe3244e1afd451ba45956b6c",
    "time": "2020-01-10T02:51:12.904Z",
    "type": "completion"
   },
   {
    "id": "9214c1ed1e7b44408f6ca27719786a5c",
    "time": "2020-01-10T02:51:13.346Z",
    "type": "completion"
   },
   {
    "code": "# Select a vis, look at how it breaks down by different filter on Regions\n# [Mockup a Frontier workflow]",
    "id": "602b4dfb9a0643c2bd0086049e9e6cf3",
    "idx": 7,
    "time": "2020-01-10T02:51:13.893Z",
    "type": "exec"
   },
   {
    "id": "602b4dfb9a0643c2bd0086049e9e6cf3",
    "time": "2020-01-10T02:51:13.925Z",
    "type": "completion"
   },
   {
    "code": "dobj = DataObj(dataset,[Column(\"MilesPerGal\",dataModel=\"measure\"),Column(\"Horsepower\",dataModel=\"measure\")])\n\ndobj.enhance()\n\ndobj.display()",
    "id": "a0fd27e7b1924f2aa4020779a140e9fb",
    "idx": 8,
    "time": "2020-01-10T02:51:14.604Z",
    "type": "exec"
   },
   {
    "id": "a0fd27e7b1924f2aa4020779a140e9fb",
    "time": "2020-01-10T02:51:15.062Z",
    "type": "completion"
   },
   {
    "code": "# Found out that name is too much, so drop name as a column and add in Brand information",
    "id": "efa6fee95afc4a8489ff612c26017c96",
    "idx": 9,
    "time": "2020-01-10T02:51:15.346Z",
    "type": "exec"
   },
   {
    "id": "efa6fee95afc4a8489ff612c26017c96",
    "time": "2020-01-10T02:51:15.383Z",
    "type": "completion"
   },
   {
    "code": "cd ../..",
    "id": "85a3604ad97c4b279ffad0f64e8a53a4",
    "idx": 0,
    "time": "2020-01-10T03:02:21.510Z",
    "type": "exec"
   },
   {
    "id": "85a3604ad97c4b279ffad0f64e8a53a4",
    "time": "2020-01-10T03:02:21.545Z",
    "type": "completion"
   },
   {
    "code": "%load_ext autoreload\n%autoreload 2\nfrom dataset.Dataset import Dataset\nfrom dataObj.dataObj import DataObj\nfrom dataObj.Row import Row\nfrom dataObj.Column import Column",
    "id": "602a04f2c9384a598b79ed561940a6df",
    "idx": 2,
    "time": "2020-01-10T03:02:22.002Z",
    "type": "exec"
   },
   {
    "code": "dataset = Dataset(\"data/cars.csv\",schema=[{\"Year\":{\"dataType\":\"date\"}}])",
    "id": "e695983806f84ed28622ca6b993734a9",
    "idx": 3,
    "time": "2020-01-10T03:02:22.132Z",
    "type": "exec"
   },
   {
    "code": "# lux.overview(dataset)\n# --> generate correlation and distribution\n# Click on Median Earnings distribution and ",
    "id": "ddf4078c1f7342fd9d42b16e95c95c21",
    "idx": 4,
    "time": "2020-01-10T03:02:22.269Z",
    "type": "exec"
   },
   {
    "code": "dobj = DataObj(dataset,[Column(\"?\",dataModel=\"measure\"),Column(\"?\",dataModel=\"measure\")])\ndobj.correlation()\ndobj.display()",
    "id": "482a6f2d85f74649a6ff2f4f720391da",
    "idx": 5,
    "time": "2020-01-10T03:02:22.405Z",
    "type": "exec"
   },
   {
    "id": "602a04f2c9384a598b79ed561940a6df",
    "time": "2020-01-10T03:02:22.500Z",
    "type": "completion"
   },
   {
    "code": "dobj = DataObj(dataset,[Column(\"?\",dataModel=\"measure\")])\ndobj.distribution()\ndobj.display()",
    "id": "d181038534174aa8ab5d0912d6bc563f",
    "idx": 6,
    "time": "2020-01-10T03:02:22.521Z",
    "type": "exec"
   },
   {
    "id": "e695983806f84ed28622ca6b993734a9",
    "time": "2020-01-10T03:02:22.551Z",
    "type": "completion"
   },
   {
    "id": "ddf4078c1f7342fd9d42b16e95c95c21",
    "time": "2020-01-10T03:02:22.554Z",
    "type": "completion"
   },
   {
    "code": "# Select a vis, look at how it breaks down by different filter on Regions\n# [Mockup a Frontier workflow]",
    "id": "3df7a055705e4db78a0d19b1bbd0bb17",
    "idx": 7,
    "time": "2020-01-10T03:02:22.652Z",
    "type": "exec"
   },
   {
    "code": "dobj = DataObj(dataset,[Column(\"MilesPerGal\",dataModel=\"measure\"),Column(\"Horsepower\",dataModel=\"measure\")])\n\ndobj.enhance()\n\ndobj.display()",
    "id": "16d888afffdc4d0f86d9639e11781a01",
    "idx": 8,
    "time": "2020-01-10T03:02:22.777Z",
    "type": "exec"
   },
   {
    "code": "# Found out that name is too much, so drop name as a column and add in Brand information",
    "id": "3054813018d8460c9fb53e67a369f60f",
    "idx": 9,
    "time": "2020-01-10T03:02:23.173Z",
    "type": "exec"
   },
   {
    "id": "482a6f2d85f74649a6ff2f4f720391da",
    "time": "2020-01-10T03:02:23.436Z",
    "type": "completion"
   },
   {
    "code": "import pandas as pd",
    "id": "f20fa47107e947548a71d951ce0a9e4c",
    "idx": 10,
    "time": "2020-01-10T03:02:23.865Z",
    "type": "exec"
   },
   {
    "id": "d181038534174aa8ab5d0912d6bc563f",
    "time": "2020-01-10T03:02:23.927Z",
    "type": "completion"
   },
   {
    "id": "3df7a055705e4db78a0d19b1bbd0bb17",
    "time": "2020-01-10T03:02:23.929Z",
    "type": "completion"
   },
   {
    "id": "16d888afffdc4d0f86d9639e11781a01",
    "time": "2020-01-10T03:02:24.168Z",
    "type": "completion"
   },
   {
    "id": "3054813018d8460c9fb53e67a369f60f",
    "time": "2020-01-10T03:02:24.180Z",
    "type": "completion"
   },
   {
    "id": "f20fa47107e947548a71d951ce0a9e4c",
    "time": "2020-01-10T03:02:24.182Z",
    "type": "completion"
   },
   {
    "code": "cd ../..",
    "id": "85a3604ad97c4b279ffad0f64e8a53a4",
    "idx": 0,
    "time": "2020-01-10T03:08:56.926Z",
    "type": "exec"
   },
   {
    "id": "85a3604ad97c4b279ffad0f64e8a53a4",
    "time": "2020-01-10T03:08:57.075Z",
    "type": "completion"
   },
   {
    "code": "%load_ext autoreload\n%autoreload 2\nfrom dataset.Dataset import Dataset\nfrom dataObj.dataObj import DataObj\nfrom dataObj.Row import Row\nfrom dataObj.Column import Column",
    "id": "602a04f2c9384a598b79ed561940a6df",
    "idx": 2,
    "time": "2020-01-10T03:08:57.263Z",
    "type": "exec"
   },
   {
    "code": "dataset = Dataset(\"data/car.csv\",schema=[{\"Year\":{\"dataType\":\"date\"}}])",
    "id": "e695983806f84ed28622ca6b993734a9",
    "idx": 3,
    "time": "2020-01-10T03:08:57.444Z",
    "type": "exec"
   },
   {
    "id": "602a04f2c9384a598b79ed561940a6df",
    "time": "2020-01-10T03:08:57.760Z",
    "type": "completion"
   },
   {
    "id": "e695983806f84ed28622ca6b993734a9",
    "time": "2020-01-10T03:08:57.813Z",
    "type": "completion"
   },
   {
    "code": "# lux.overview(dataset)\n# --> generate correlation and distribution\n# Click on Median Earnings distribution and ",
    "id": "ddf4078c1f7342fd9d42b16e95c95c21",
    "idx": 4,
    "time": "2020-01-10T03:09:00.264Z",
    "type": "exec"
   },
   {
    "id": "ddf4078c1f7342fd9d42b16e95c95c21",
    "time": "2020-01-10T03:09:00.291Z",
    "type": "completion"
   },
   {
    "code": "dobj = DataObj(dataset,[Column(\"?\",dataModel=\"measure\"),Column(\"?\",dataModel=\"measure\")])\ndobj.correlation()\ndobj.display()",
    "id": "482a6f2d85f74649a6ff2f4f720391da",
    "idx": 5,
    "time": "2020-01-10T03:09:00.768Z",
    "type": "exec"
   },
   {
    "code": "dobj = DataObj(dataset,[Column(\"?\",dataModel=\"measure\")])\ndobj.distribution()\ndobj.display()",
    "id": "d181038534174aa8ab5d0912d6bc563f",
    "idx": 6,
    "time": "2020-01-10T03:09:00.846Z",
    "type": "exec"
   },
   {
    "code": "# Select a vis, look at how it breaks down by different filter on Regions\n# [Mockup a Frontier workflow]",
    "id": "3df7a055705e4db78a0d19b1bbd0bb17",
    "idx": 7,
    "time": "2020-01-10T03:09:00.928Z",
    "type": "exec"
   },
   {
    "code": "dobj = DataObj(dataset,[Column(\"MilesPerGal\",dataModel=\"measure\"),Column(\"Horsepower\",dataModel=\"measure\")])\n\ndobj.enhance()\n\ndobj.display()",
    "id": "16d888afffdc4d0f86d9639e11781a01",
    "idx": 8,
    "time": "2020-01-10T03:09:01.014Z",
    "type": "exec"
   },
   {
    "code": "# Found out that name is too much, so drop name as a column and add in Brand information",
    "id": "3054813018d8460c9fb53e67a369f60f",
    "idx": 9,
    "time": "2020-01-10T03:09:01.096Z",
    "type": "exec"
   },
   {
    "code": "import pandas as pd",
    "id": "f20fa47107e947548a71d951ce0a9e4c",
    "idx": 10,
    "time": "2020-01-10T03:09:01.180Z",
    "type": "exec"
   },
   {
    "code": "brand_df = pd.read_csv(\"data/car_brand.csv\")",
    "id": "2684961d709b4dfaa6860f9f801800e2",
    "idx": 11,
    "time": "2020-01-10T03:09:01.264Z",
    "type": "exec"
   },
   {
    "code": "brand_df.head()",
    "id": "64c4f32266ef454b85ef213780d4fa34",
    "idx": 12,
    "time": "2020-01-10T03:09:01.556Z",
    "type": "exec"
   },
   {
    "id": "482a6f2d85f74649a6ff2f4f720391da",
    "time": "2020-01-10T03:09:01.712Z",
    "type": "completion"
   },
   {
    "code": "dataset = Dataset(\"data/cars.csv\",schema=[{\"Year\":{\"dataType\":\"date\"}}])",
    "id": "7f9cdb7f368d439f867267d5187273ae",
    "idx": 13,
    "time": "2020-01-10T03:09:02.072Z",
    "type": "exec"
   },
   {
    "id": "d181038534174aa8ab5d0912d6bc563f",
    "time": "2020-01-10T03:09:02.146Z",
    "type": "completion"
   },
   {
    "id": "3df7a055705e4db78a0d19b1bbd0bb17",
    "time": "2020-01-10T03:09:02.151Z",
    "type": "completion"
   },
   {
    "id": "16d888afffdc4d0f86d9639e11781a01",
    "time": "2020-01-10T03:09:02.401Z",
    "type": "completion"
   },
   {
    "id": "3054813018d8460c9fb53e67a369f60f",
    "time": "2020-01-10T03:09:02.404Z",
    "type": "completion"
   },
   {
    "id": "f20fa47107e947548a71d951ce0a9e4c",
    "time": "2020-01-10T03:09:02.665Z",
    "type": "completion"
   },
   {
    "id": "2684961d709b4dfaa6860f9f801800e2",
    "time": "2020-01-10T03:09:02.705Z",
    "type": "completion"
   },
   {
    "id": "64c4f32266ef454b85ef213780d4fa34",
    "time": "2020-01-10T03:09:02.713Z",
    "type": "completion"
   },
   {
    "id": "7f9cdb7f368d439f867267d5187273ae",
    "time": "2020-01-10T03:09:02.716Z",
    "type": "completion"
   },
   {
    "code": "dataset.df.head()",
    "id": "1986fa86c7b74a219db796e8934575a2",
    "idx": 14,
    "time": "2020-01-10T03:09:04.167Z",
    "type": "exec"
   },
   {
    "id": "1986fa86c7b74a219db796e8934575a2",
    "time": "2020-01-10T03:09:04.219Z",
    "type": "completion"
   },
   {
    "code": "cd ../..",
    "id": "85a3604ad97c4b279ffad0f64e8a53a4",
    "idx": 0,
    "time": "2020-01-10T03:09:15.968Z",
    "type": "exec"
   },
   {
    "id": "85a3604ad97c4b279ffad0f64e8a53a4",
    "time": "2020-01-10T03:09:16.001Z",
    "type": "completion"
   },
   {
    "code": "%load_ext autoreload\n%autoreload 2\nfrom dataset.Dataset import Dataset\nfrom dataObj.dataObj import DataObj\nfrom dataObj.Row import Row\nfrom dataObj.Column import Column",
    "id": "602a04f2c9384a598b79ed561940a6df",
    "idx": 2,
    "time": "2020-01-10T03:09:16.553Z",
    "type": "exec"
   },
   {
    "code": "dataset = Dataset(\"data/car.csv\",schema=[{\"Year\":{\"dataType\":\"date\"}}])",
    "id": "e695983806f84ed28622ca6b993734a9",
    "idx": 3,
    "time": "2020-01-10T03:09:16.633Z",
    "type": "exec"
   },
   {
    "code": "# lux.overview(dataset)\n# --> generate correlation and distribution\n# Click on Median Earnings distribution and ",
    "id": "ddf4078c1f7342fd9d42b16e95c95c21",
    "idx": 4,
    "time": "2020-01-10T03:09:16.718Z",
    "type": "exec"
   },
   {
    "code": "dobj = DataObj(dataset,[Column(\"?\",dataModel=\"measure\"),Column(\"?\",dataModel=\"measure\")])\ndobj.correlation()\ndobj.display()",
    "id": "482a6f2d85f74649a6ff2f4f720391da",
    "idx": 5,
    "time": "2020-01-10T03:09:16.803Z",
    "type": "exec"
   },
   {
    "code": "dobj = DataObj(dataset,[Column(\"?\",dataModel=\"measure\")])\ndobj.distribution()\ndobj.display()",
    "id": "d181038534174aa8ab5d0912d6bc563f",
    "idx": 6,
    "time": "2020-01-10T03:09:16.886Z",
    "type": "exec"
   },
   {
    "code": "# Select a vis, look at how it breaks down by different filter on Regions\n# [Mockup a Frontier workflow]",
    "id": "3df7a055705e4db78a0d19b1bbd0bb17",
    "idx": 7,
    "time": "2020-01-10T03:09:16.968Z",
    "type": "exec"
   },
   {
    "code": "dobj = DataObj(dataset,[Column(\"MilesPerGal\",dataModel=\"measure\"),Column(\"Horsepower\",dataModel=\"measure\")])\n\ndobj.enhance()\n\ndobj.display()",
    "id": "16d888afffdc4d0f86d9639e11781a01",
    "idx": 8,
    "time": "2020-01-10T03:09:17.053Z",
    "type": "exec"
   },
   {
    "id": "602a04f2c9384a598b79ed561940a6df",
    "time": "2020-01-10T03:09:17.080Z",
    "type": "completion"
   },
   {
    "id": "e695983806f84ed28622ca6b993734a9",
    "time": "2020-01-10T03:09:17.108Z",
    "type": "completion"
   },
   {
    "id": "ddf4078c1f7342fd9d42b16e95c95c21",
    "time": "2020-01-10T03:09:17.118Z",
    "type": "completion"
   },
   {
    "code": "# Found out that name is too much, so drop name as a column and add in Brand information",
    "id": "3054813018d8460c9fb53e67a369f60f",
    "idx": 9,
    "time": "2020-01-10T03:09:17.136Z",
    "type": "exec"
   },
   {
    "code": "import pandas as pd",
    "id": "f20fa47107e947548a71d951ce0a9e4c",
    "idx": 10,
    "time": "2020-01-10T03:09:17.222Z",
    "type": "exec"
   },
   {
    "code": "brand_df = pd.read_csv(\"data/car_brand.csv\")",
    "id": "2684961d709b4dfaa6860f9f801800e2",
    "idx": 11,
    "time": "2020-01-10T03:09:17.304Z",
    "type": "exec"
   },
   {
    "code": "brand_df.head()",
    "id": "64c4f32266ef454b85ef213780d4fa34",
    "idx": 12,
    "time": "2020-01-10T03:09:17.388Z",
    "type": "exec"
   },
   {
    "code": "dataset.df.head()",
    "id": "1986fa86c7b74a219db796e8934575a2",
    "idx": 13,
    "time": "2020-01-10T03:09:17.470Z",
    "type": "exec"
   },
   {
    "code": "df = dataset.df.merge(brand_df,how=\"inner\")\ndf = df.drop(columns=[\"Name\"])\ndataset.set_df(df)",
    "id": "886c06b358e14533a23485b6131a57cd",
    "idx": 14,
    "time": "2020-01-10T03:09:17.553Z",
    "type": "exec"
   },
   {
    "code": "dobj = DataObj(dataset,[Column(\"Brand\")])\n# dobj.enhance()\ndobj.display()",
    "id": "af0de58aaf97461d8eefe831ba288192",
    "idx": 15,
    "time": "2020-01-10T03:09:17.638Z",
    "type": "exec"
   },
   {
    "code": "# we want to take what we had earlier and then break it down by different brands to see how the relationship changes\ndobj = DataObj(dataset,[Column(\"MilesPerGal\",dataModel=\"measure\"),\n                        Column(\"Horsepower\",dataModel=\"measure\"),\n                        Row(\"Brand\",\"?\")])\ndobj.filter()\ndobj.display()\n",
    "id": "fdf700030c20411498f9549df90227f0",
    "idx": 16,
    "time": "2020-01-10T03:09:17.721Z",
    "type": "exec"
   },
   {
    "code": "dobj = DataObj(dataset,[Column(\"Horsepower\",dataModel=\"measure\"),\n                        Row(\"Brand\",\"?\")])\ndobj.filter()\ndobj.display()",
    "id": "4e8f32f42d034f9f8b27fb0ebd62b500",
    "idx": 17,
    "time": "2020-01-10T03:09:17.804Z",
    "type": "exec"
   },
   {
    "id": "482a6f2d85f74649a6ff2f4f720391da",
    "time": "2020-01-10T03:09:18.112Z",
    "type": "completion"
   },
   {
    "id": "d181038534174aa8ab5d0912d6bc563f",
    "time": "2020-01-10T03:09:18.534Z",
    "type": "completion"
   },
   {
    "id": "3df7a055705e4db78a0d19b1bbd0bb17",
    "time": "2020-01-10T03:09:18.536Z",
    "type": "completion"
   },
   {
    "id": "16d888afffdc4d0f86d9639e11781a01",
    "time": "2020-01-10T03:09:18.811Z",
    "type": "completion"
   },
   {
    "id": "3054813018d8460c9fb53e67a369f60f",
    "time": "2020-01-10T03:09:18.814Z",
    "type": "completion"
   },
   {
    "id": "f20fa47107e947548a71d951ce0a9e4c",
    "time": "2020-01-10T03:09:19.106Z",
    "type": "completion"
   },
   {
    "id": "2684961d709b4dfaa6860f9f801800e2",
    "time": "2020-01-10T03:09:19.139Z",
    "type": "completion"
   },
   {
    "id": "64c4f32266ef454b85ef213780d4fa34",
    "time": "2020-01-10T03:09:19.173Z",
    "type": "completion"
   },
   {
    "id": "1986fa86c7b74a219db796e8934575a2",
    "time": "2020-01-10T03:09:19.178Z",
    "type": "completion"
   },
   {
    "id": "886c06b358e14533a23485b6131a57cd",
    "time": "2020-01-10T03:09:19.198Z",
    "type": "completion"
   },
   {
    "id": "af0de58aaf97461d8eefe831ba288192",
    "time": "2020-01-10T03:09:19.292Z",
    "type": "completion"
   },
   {
    "id": "fdf700030c20411498f9549df90227f0",
    "time": "2020-01-10T03:09:21.585Z",
    "type": "completion"
   },
   {
    "id": "4e8f32f42d034f9f8b27fb0ebd62b500",
    "time": "2020-01-10T03:09:23.459Z",
    "type": "completion"
   },
   {
    "code": "cd ../..",
    "id": "85a3604ad97c4b279ffad0f64e8a53a4",
    "idx": 0,
    "time": "2020-01-10T17:07:54.602Z",
    "type": "exec"
   },
   {
    "id": "85a3604ad97c4b279ffad0f64e8a53a4",
    "time": "2020-01-10T17:07:54.636Z",
    "type": "completion"
   },
   {
    "code": "%load_ext autoreload\n%autoreload 2\nfrom lux.dataset.Dataset import Dataset\nfrom lux.dataObj.dataObj import DataObj\nfrom lux.dataObj.Row import Row\nfrom lux.dataObj.Column import Column",
    "id": "602a04f2c9384a598b79ed561940a6df",
    "idx": 2,
    "time": "2020-01-10T17:08:33.946Z",
    "type": "exec"
   },
   {
    "id": "602a04f2c9384a598b79ed561940a6df",
    "time": "2020-01-10T17:08:34.638Z",
    "type": "completion"
   },
   {
    "code": "from lux.dataObj.dataObj import dataObj",
    "id": "1c25f89882c74c6aa762f5555537b676",
    "idx": 3,
    "time": "2020-01-10T17:08:55.145Z",
    "type": "exec"
   },
   {
    "id": "1c25f89882c74c6aa762f5555537b676",
    "time": "2020-01-10T17:08:55.178Z",
    "type": "completion"
   },
   {
    "code": "from lux.dataObj.dataObj import DataObj",
    "id": "1c25f89882c74c6aa762f5555537b676",
    "idx": 3,
    "time": "2020-01-10T17:08:59.849Z",
    "type": "exec"
   },
   {
    "id": "1c25f89882c74c6aa762f5555537b676",
    "time": "2020-01-10T17:08:59.889Z",
    "type": "completion"
   },
   {
    "code": "%load_ext autoreload\n%autoreload 2\nfrom lux.dataset.Dataset import Dataset\nfrom lux.dataObj.dataObj import DataObj\nfrom lux.dataObj.Row import Row\nfrom lux.dataObj.Column import Column",
    "id": "602a04f2c9384a598b79ed561940a6df",
    "idx": 2,
    "time": "2020-01-10T17:09:39.624Z",
    "type": "exec"
   },
   {
    "id": "602a04f2c9384a598b79ed561940a6df",
    "time": "2020-01-10T17:09:39.663Z",
    "type": "completion"
   },
   {
    "code": "%load_ext autoreload\n%autoreload 2\nfrom lux.dataset.Dataset import Dataset\nfrom lux.dataObj.dataObj import DataObj\nfrom lux.dataObj.Row import Row\nfrom lux.dataObj.Column import Column",
    "id": "602a04f2c9384a598b79ed561940a6df",
    "idx": 2,
    "time": "2020-01-10T17:10:10.654Z",
    "type": "exec"
   },
   {
    "id": "602a04f2c9384a598b79ed561940a6df",
    "time": "2020-01-10T17:10:10.700Z",
    "type": "completion"
   },
   {
    "code": "%load_ext autoreload\n%autoreload 2\nfrom lux.dataset.Dataset import Dataset\nfrom lux.dataObj.dataObj import DataObj\nfrom lux.dataObj.Row import Row\nfrom lux.dataObj.Column import Column",
    "id": "602a04f2c9384a598b79ed561940a6df",
    "idx": 2,
    "time": "2020-01-10T17:10:15.645Z",
    "type": "exec"
   },
   {
    "id": "602a04f2c9384a598b79ed561940a6df",
    "time": "2020-01-10T17:10:15.684Z",
    "type": "completion"
   },
   {
    "code": "from lux.vizLib.altair.AltairRenderer import AltairRenderer",
    "id": "dfba89334e23405a8f521e2b8d1fe388",
    "idx": 3,
    "time": "2020-01-10T17:10:32.158Z",
    "type": "exec"
   },
   {
    "id": "dfba89334e23405a8f521e2b8d1fe388",
    "time": "2020-01-10T17:10:32.189Z",
    "type": "completion"
   },
   {
    "code": "%load_ext autoreload\n%autoreload 2\nfrom lux.dataset.Dataset import Dataset\nfrom lux.dataObj.dataObj import DataObj\nfrom lux.dataObj.Row import Row\nfrom lux.dataObj.Column import Column",
    "id": "602a04f2c9384a598b79ed561940a6df",
    "idx": 2,
    "time": "2020-01-10T17:11:01.579Z",
    "type": "exec"
   },
   {
    "id": "602a04f2c9384a598b79ed561940a6df",
    "time": "2020-01-10T17:11:01.620Z",
    "type": "completion"
   },
   {
    "code": "%load_ext autoreload\n%autoreload 2\nfrom lux.dataset.Dataset import Dataset\nfrom lux.dataObj.dataObj import DataObj\nfrom lux.dataObj.Row import Row\nfrom lux.dataObj.Column import Column",
    "id": "602a04f2c9384a598b79ed561940a6df",
    "idx": 2,
    "time": "2020-01-10T17:11:09.452Z",
    "type": "exec"
   },
   {
    "id": "602a04f2c9384a598b79ed561940a6df",
    "time": "2020-01-10T17:11:09.495Z",
    "type": "completion"
   },
   {
    "code": "%load_ext autoreload\n%autoreload 2\nfrom lux.dataset.Dataset import Dataset\nfrom lux.dataObj.dataObj import DataObj\nfrom lux.dataObj.Row import Row\nfrom lux.dataObj.Column import Column",
    "id": "602a04f2c9384a598b79ed561940a6df",
    "idx": 2,
    "time": "2020-01-10T17:11:33.252Z",
    "type": "exec"
   },
   {
    "id": "602a04f2c9384a598b79ed561940a6df",
    "time": "2020-01-10T17:11:33.498Z",
    "type": "completion"
   },
   {
    "code": "%load_ext autoreload\n%autoreload 2\nfrom lux.dataset.Dataset import Dataset\nfrom lux.dataObj.dataObj import DataObj\nfrom lux.dataObj.Row import Row\nfrom lux.dataObj.Column import Column",
    "id": "602a04f2c9384a598b79ed561940a6df",
    "idx": 2,
    "time": "2020-01-10T17:11:47.411Z",
    "type": "exec"
   },
   {
    "id": "602a04f2c9384a598b79ed561940a6df",
    "time": "2020-01-10T17:11:47.446Z",
    "type": "completion"
   },
   {
    "code": "from lux.vizLib.altair.AltairRenderer import AltairRenderer",
    "id": "dfba89334e23405a8f521e2b8d1fe388",
    "idx": 3,
    "time": "2020-01-10T17:11:49.731Z",
    "type": "exec"
   },
   {
    "id": "dfba89334e23405a8f521e2b8d1fe388",
    "time": "2020-01-10T17:11:49.765Z",
    "type": "completion"
   },
   {
    "code": "from lux.dataObj.dataObj import D",
    "id": "1c25f89882c74c6aa762f5555537b676",
    "idx": 4,
    "time": "2020-01-10T17:11:50.833Z",
    "type": "exec"
   },
   {
    "id": "1c25f89882c74c6aa762f5555537b676",
    "time": "2020-01-10T17:11:50.868Z",
    "type": "completion"
   },
   {
    "code": "dataset = lux.Dataset(\"data/car.csv\",schema=[{\"Year\":{\"dataType\":\"date\"}}])",
    "id": "e695983806f84ed28622ca6b993734a9",
    "idx": 3,
    "time": "2020-01-10T17:11:58.107Z",
    "type": "exec"
   },
   {
    "id": "e695983806f84ed28622ca6b993734a9",
    "time": "2020-01-10T17:11:58.135Z",
    "type": "completion"
   },
   {
    "code": "dataset = Dataset(\"data/car.csv\",schema=[{\"Year\":{\"dataType\":\"date\"}}])",
    "id": "e695983806f84ed28622ca6b993734a9",
    "idx": 3,
    "time": "2020-01-10T17:12:02.340Z",
    "type": "exec"
   },
   {
    "id": "e695983806f84ed28622ca6b993734a9",
    "time": "2020-01-10T17:12:02.428Z",
    "type": "completion"
   },
   {
    "code": "ls",
    "id": "cdc0241d28164b769e56d3ab8af5cfd8",
    "idx": 3,
    "time": "2020-01-10T17:12:20.888Z",
    "type": "exec"
   },
   {
    "id": "cdc0241d28164b769e56d3ab8af5cfd8",
    "time": "2020-01-10T17:12:21.032Z",
    "type": "completion"
   },
   {
    "code": "dataset = Dataset(\"lux/data/car.csv\",schema=[{\"Year\":{\"dataType\":\"date\"}}])",
    "id": "e695983806f84ed28622ca6b993734a9",
    "idx": 4,
    "time": "2020-01-10T17:12:30.867Z",
    "type": "exec"
   },
   {
    "id": "e695983806f84ed28622ca6b993734a9",
    "time": "2020-01-10T17:12:30.904Z",
    "type": "completion"
   },
   {
    "code": "dobj = DataObj(dataset,[Column(\"?\",dataModel=\"measure\"),Column(\"?\",dataModel=\"measure\")])\ndobj.correlation()\ndobj.display()",
    "id": "482a6f2d85f74649a6ff2f4f720391da",
    "idx": 5,
    "time": "2020-01-10T17:12:34.143Z",
    "type": "exec"
   },
   {
    "id": "482a6f2d85f74649a6ff2f4f720391da",
    "time": "2020-01-10T17:12:34.185Z",
    "type": "completion"
   },
   {
    "code": "dobj = DataObj(dataset,[Column(\"?\",dataModel=\"measure\"),Column(\"?\",dataModel=\"measure\")])\ndobj.correlation()\ndobj.display()",
    "id": "482a6f2d85f74649a6ff2f4f720391da",
    "idx": 5,
    "time": "2020-01-10T17:23:17.639Z",
    "type": "exec"
   },
   {
    "id": "482a6f2d85f74649a6ff2f4f720391da",
    "time": "2020-01-10T17:23:17.744Z",
    "type": "completion"
   },
   {
    "code": "dobj = DataObj(dataset,[Column(\"?\",dataModel=\"measure\"),Column(\"?\",dataModel=\"measure\")])\ndobj.correlation()\ndobj.display()",
    "id": "482a6f2d85f74649a6ff2f4f720391da",
    "idx": 5,
    "time": "2020-01-10T17:23:55.071Z",
    "type": "exec"
   },
   {
    "id": "482a6f2d85f74649a6ff2f4f720391da",
    "time": "2020-01-10T17:23:55.166Z",
    "type": "completion"
   },
   {
    "code": "dobj = DataObj(dataset,[Column(\"?\",dataModel=\"measure\"),Column(\"?\",dataModel=\"measure\")])\ndobj.correlation()\ndobj.display()",
    "id": "482a6f2d85f74649a6ff2f4f720391da",
    "idx": 5,
    "time": "2020-01-10T17:25:58.596Z",
    "type": "exec"
   },
   {
    "id": "482a6f2d85f74649a6ff2f4f720391da",
    "time": "2020-01-10T17:25:58.968Z",
    "type": "completion"
   },
   {
    "code": "dobj = DataObj(dataset,[Column(\"?\",dataModel=\"measure\"),Column(\"?\",dataModel=\"measure\")])\ndobj.correlation()\ndobj.display()",
    "id": "482a6f2d85f74649a6ff2f4f720391da",
    "idx": 5,
    "time": "2020-01-10T17:26:21.978Z",
    "type": "exec"
   },
   {
    "id": "482a6f2d85f74649a6ff2f4f720391da",
    "time": "2020-01-10T17:26:22.957Z",
    "type": "completion"
   },
   {
    "code": "dobj = DataObj(dataset,[Column(\"?\",dataModel=\"measure\")])\ndobj.distribution()\ndobj.display()",
    "id": "d181038534174aa8ab5d0912d6bc563f",
    "idx": 6,
    "time": "2020-01-10T17:26:24.546Z",
    "type": "exec"
   },
   {
    "id": "d181038534174aa8ab5d0912d6bc563f",
    "time": "2020-01-10T17:26:24.586Z",
    "type": "completion"
   },
   {
    "code": "dobj = DataObj(dataset,[Column(\"?\",dataModel=\"measure\")])\ndobj.distribution()\ndobj.display()",
    "id": "d181038534174aa8ab5d0912d6bc563f",
    "idx": 6,
    "time": "2020-01-10T17:26:45.731Z",
    "type": "exec"
   },
   {
    "id": "d181038534174aa8ab5d0912d6bc563f",
    "time": "2020-01-10T17:26:46.034Z",
    "type": "completion"
   },
   {
    "code": "dobj = DataObj(dataset,[Column(\"MilesPerGal\",dataModel=\"measure\"),Column(\"Horsepower\",dataModel=\"measure\")])\n\ndobj.enhance()\n\ndobj.display()",
    "id": "16d888afffdc4d0f86d9639e11781a01",
    "idx": 8,
    "time": "2020-01-10T17:27:08.093Z",
    "type": "exec"
   },
   {
    "id": "16d888afffdc4d0f86d9639e11781a01",
    "time": "2020-01-10T17:27:08.808Z",
    "type": "completion"
   },
   {
    "code": "import pandas as pd",
    "id": "f20fa47107e947548a71d951ce0a9e4c",
    "idx": 10,
    "time": "2020-01-10T17:28:02.639Z",
    "type": "exec"
   },
   {
    "id": "f20fa47107e947548a71d951ce0a9e4c",
    "time": "2020-01-10T17:28:02.666Z",
    "type": "completion"
   },
   {
    "code": "brand_df = pd.read_csv(\"data/car_brand.csv\")",
    "id": "2684961d709b4dfaa6860f9f801800e2",
    "idx": 11,
    "time": "2020-01-10T17:28:03.139Z",
    "type": "exec"
   },
   {
    "id": "2684961d709b4dfaa6860f9f801800e2",
    "time": "2020-01-10T17:28:03.215Z",
    "type": "completion"
   },
   {
    "code": "brand_df.head()",
    "id": "64c4f32266ef454b85ef213780d4fa34",
    "idx": 12,
    "time": "2020-01-10T17:28:03.222Z",
    "type": "exec"
   },
   {
    "id": "64c4f32266ef454b85ef213780d4fa34",
    "time": "2020-01-10T17:28:03.335Z",
    "type": "completion"
   },
   {
    "code": "dataset.df.head()",
    "id": "1986fa86c7b74a219db796e8934575a2",
    "idx": 13,
    "time": "2020-01-10T17:28:03.543Z",
    "type": "exec"
   },
   {
    "id": "1986fa86c7b74a219db796e8934575a2",
    "time": "2020-01-10T17:28:03.598Z",
    "type": "completion"
   },
   {
    "code": "import pandas as pd",
    "id": "f20fa47107e947548a71d951ce0a9e4c",
    "idx": 10,
    "time": "2020-01-10T17:28:08.070Z",
    "type": "exec"
   },
   {
    "id": "f20fa47107e947548a71d951ce0a9e4c",
    "time": "2020-01-10T17:28:08.098Z",
    "type": "completion"
   },
   {
    "code": "brand_df = pd.read_csv(\"data/car_brand.csv\")",
    "id": "2684961d709b4dfaa6860f9f801800e2",
    "idx": 11,
    "time": "2020-01-10T17:28:08.607Z",
    "type": "exec"
   },
   {
    "id": "2684961d709b4dfaa6860f9f801800e2",
    "time": "2020-01-10T17:28:08.703Z",
    "type": "completion"
   },
   {
    "code": "cd ../..",
    "id": "85a3604ad97c4b279ffad0f64e8a53a4",
    "idx": 0,
    "time": "2020-01-10T17:28:22.303Z",
    "type": "exec"
   },
   {
    "id": "85a3604ad97c4b279ffad0f64e8a53a4",
    "time": "2020-01-10T17:28:22.337Z",
    "type": "completion"
   },
   {
    "code": "%load_ext autoreload\n%autoreload 2\nfrom lux.dataset.Dataset import Dataset\nfrom lux.dataObj.dataObj import DataObj\nfrom lux.dataObj.Row import Row\nfrom lux.dataObj.Column import Column",
    "id": "602a04f2c9384a598b79ed561940a6df",
    "idx": 2,
    "time": "2020-01-10T17:28:23.013Z",
    "type": "exec"
   },
   {
    "id": "602a04f2c9384a598b79ed561940a6df",
    "time": "2020-01-10T17:28:23.445Z",
    "type": "completion"
   },
   {
    "code": "dataset = Dataset(\"data/car.csv\",schema=[{\"Year\":{\"dataType\":\"date\"}}])",
    "id": "e695983806f84ed28622ca6b993734a9",
    "idx": 3,
    "time": "2020-01-10T17:28:24.517Z",
    "type": "exec"
   },
   {
    "id": "e695983806f84ed28622ca6b993734a9",
    "time": "2020-01-10T17:28:24.670Z",
    "type": "completion"
   },
   {
    "code": "cd ..",
    "id": "85a3604ad97c4b279ffad0f64e8a53a4",
    "idx": 0,
    "time": "2020-01-10T17:28:32.693Z",
    "type": "exec"
   },
   {
    "id": "85a3604ad97c4b279ffad0f64e8a53a4",
    "time": "2020-01-10T17:28:32.721Z",
    "type": "completion"
   },
   {
    "code": "%load_ext autoreload\n%autoreload 2\nfrom lux.dataset.Dataset import Dataset\nfrom lux.dataObj.dataObj import DataObj\nfrom lux.dataObj.Row import Row\nfrom lux.dataObj.Column import Column",
    "id": "602a04f2c9384a598b79ed561940a6df",
    "idx": 2,
    "time": "2020-01-10T17:28:33.592Z",
    "type": "exec"
   },
   {
    "id": "602a04f2c9384a598b79ed561940a6df",
    "time": "2020-01-10T17:28:33.688Z",
    "type": "completion"
   },
   {
    "code": "%load_ext autoreload\n%autoreload 2\nimport lux\nfrom lux.dataset.Dataset import Dataset\nfrom lux.dataObj.dataObj import DataObj\nfrom lux.dataObj.Row import Row\nfrom lux.dataObj.Column import Column",
    "id": "602a04f2c9384a598b79ed561940a6df",
    "idx": 2,
    "time": "2020-01-10T17:28:39.870Z",
    "type": "exec"
   },
   {
    "id": "602a04f2c9384a598b79ed561940a6df",
    "time": "2020-01-10T17:28:39.913Z",
    "type": "completion"
   },
   {
    "code": "%load_ext autoreload\n%autoreload 2\nfrom lux.dataset.Dataset import Dataset\nfrom lux.dataObj.dataObj import DataObj\nfrom lux.dataObj.Row import Row\nfrom lux.dataObj.Column import Column",
    "id": "602a04f2c9384a598b79ed561940a6df",
    "idx": 2,
    "time": "2020-01-10T17:29:11.597Z",
    "type": "exec"
   },
   {
    "id": "602a04f2c9384a598b79ed561940a6df",
    "time": "2020-01-10T17:29:11.640Z",
    "type": "completion"
   },
   {
    "code": "pwd",
    "id": "737b76a1801545768361f935da70ae83",
    "idx": 2,
    "time": "2020-01-10T17:29:18.604Z",
    "type": "exec"
   },
   {
    "id": "737b76a1801545768361f935da70ae83",
    "time": "2020-01-10T17:29:18.634Z",
    "type": "completion"
   },
   {
    "code": "cd ../..",
    "id": "85a3604ad97c4b279ffad0f64e8a53a4",
    "idx": 0,
    "time": "2020-01-10T17:29:22.997Z",
    "type": "exec"
   },
   {
    "id": "85a3604ad97c4b279ffad0f64e8a53a4",
    "time": "2020-01-10T17:29:23.033Z",
    "type": "completion"
   },
   {
    "code": "%load_ext autoreload\n%autoreload 2\nimport lux\nfrom lux.dataset.Dataset import Dataset\nfrom lux.dataObj.dataObj import DataObj\nfrom lux.dataObj.Row import Row\nfrom lux.dataObj.Column import Column",
    "id": "602a04f2c9384a598b79ed561940a6df",
    "idx": 2,
    "time": "2020-01-10T17:29:27.606Z",
    "type": "exec"
   },
   {
    "id": "602a04f2c9384a598b79ed561940a6df",
    "time": "2020-01-10T17:29:27.646Z",
    "type": "completion"
   },
   {
    "code": "pwd",
    "id": "afda1c0e62bb4db0a171ed0bdce25372",
    "idx": 2,
    "time": "2020-01-10T17:29:32.285Z",
    "type": "exec"
   },
   {
    "id": "afda1c0e62bb4db0a171ed0bdce25372",
    "time": "2020-01-10T17:29:32.317Z",
    "type": "completion"
   },
   {
    "code": "cd ../..",
    "id": "85a3604ad97c4b279ffad0f64e8a53a4",
    "idx": 0,
    "time": "2020-01-10T17:29:36.177Z",
    "type": "exec"
   },
   {
    "code": "pwd",
    "id": "afda1c0e62bb4db0a171ed0bdce25372",
    "idx": 2,
    "time": "2020-01-10T17:29:36.915Z",
    "type": "exec"
   },
   {
    "id": "afda1c0e62bb4db0a171ed0bdce25372",
    "time": "2020-01-10T17:29:36.956Z",
    "type": "completion"
   },
   {
    "code": "%load_ext autoreload\n%autoreload 2\nimport lux\nfrom lux.dataset.Dataset import Dataset\nfrom lux.dataObj.dataObj import DataObj\nfrom lux.dataObj.Row import Row\nfrom lux.dataObj.Column import Column",
    "id": "602a04f2c9384a598b79ed561940a6df",
    "idx": 3,
    "time": "2020-01-10T17:29:38.413Z",
    "type": "exec"
   },
   {
    "id": "602a04f2c9384a598b79ed561940a6df",
    "time": "2020-01-10T17:29:38.843Z",
    "type": "completion"
   },
   {
    "code": "dataset = Dataset(\"data/car.csv\",schema=[{\"Year\":{\"dataType\":\"date\"}}])",
    "id": "e695983806f84ed28622ca6b993734a9",
    "idx": 4,
    "time": "2020-01-10T17:29:42.414Z",
    "type": "exec"
   },
   {
    "id": "e695983806f84ed28622ca6b993734a9",
    "time": "2020-01-10T17:29:42.561Z",
    "type": "completion"
   },
   {
    "code": "dataset = Dataset(\"lux/data/car.csv\",schema=[{\"Year\":{\"dataType\":\"date\"}}])",
    "id": "e695983806f84ed28622ca6b993734a9",
    "idx": 4,
    "time": "2020-01-10T17:29:50.308Z",
    "type": "exec"
   },
   {
    "id": "e695983806f84ed28622ca6b993734a9",
    "time": "2020-01-10T17:29:50.348Z",
    "type": "completion"
   },
   {
    "code": "# lux.overview(dataset)\n# --> generate correlation and distribution\n# Click on Median Earnings distribution and ",
    "id": "ddf4078c1f7342fd9d42b16e95c95c21",
    "idx": 5,
    "time": "2020-01-10T17:29:51.828Z",
    "type": "exec"
   },
   {
    "id": "ddf4078c1f7342fd9d42b16e95c95c21",
    "time": "2020-01-10T17:29:51.854Z",
    "type": "completion"
   },
   {
    "code": "dobj = DataObj(dataset,[Column(\"?\",dataModel=\"measure\"),Column(\"?\",dataModel=\"measure\")])\ndobj.correlation()\ndobj.display()",
    "id": "482a6f2d85f74649a6ff2f4f720391da",
    "idx": 6,
    "time": "2020-01-10T17:29:52.130Z",
    "type": "exec"
   },
   {
    "code": "dobj = DataObj(dataset,[Column(\"?\",dataModel=\"measure\")])\ndobj.distribution()\ndobj.display()",
    "id": "d181038534174aa8ab5d0912d6bc563f",
    "idx": 7,
    "time": "2020-01-10T17:29:52.475Z",
    "type": "exec"
   },
   {
    "code": "# Select a vis, look at how it breaks down by different filter on Regions\n# [Mockup a Frontier workflow]",
    "id": "3df7a055705e4db78a0d19b1bbd0bb17",
    "idx": 8,
    "time": "2020-01-10T17:29:52.704Z",
    "type": "exec"
   },
   {
    "code": "dobj = DataObj(dataset,[Column(\"MilesPerGal\",dataModel=\"measure\"),Column(\"Horsepower\",dataModel=\"measure\")])\n\ndobj.enhance()\n\ndobj.display()",
    "id": "16d888afffdc4d0f86d9639e11781a01",
    "idx": 9,
    "time": "2020-01-10T17:29:52.906Z",
    "type": "exec"
   },
   {
    "id": "482a6f2d85f74649a6ff2f4f720391da",
    "time": "2020-01-10T17:29:52.982Z",
    "type": "completion"
   },
   {
    "code": "# Found out that name is too much, so drop name as a column and add in Brand information",
    "id": "3054813018d8460c9fb53e67a369f60f",
    "idx": 10,
    "time": "2020-01-10T17:29:53.217Z",
    "type": "exec"
   },
   {
    "id": "d181038534174aa8ab5d0912d6bc563f",
    "time": "2020-01-10T17:29:53.327Z",
    "type": "completion"
   },
   {
    "id": "3df7a055705e4db78a0d19b1bbd0bb17",
    "time": "2020-01-10T17:29:53.328Z",
    "type": "completion"
   },
   {
    "code": "import pandas as pd",
    "id": "f20fa47107e947548a71d951ce0a9e4c",
    "idx": 11,
    "time": "2020-01-10T17:29:53.504Z",
    "type": "exec"
   },
   {
    "id": "16d888afffdc4d0f86d9639e11781a01",
    "time": "2020-01-10T17:29:53.616Z",
    "type": "completion"
   },
   {
    "id": "3054813018d8460c9fb53e67a369f60f",
    "time": "2020-01-10T17:29:53.618Z",
    "type": "completion"
   },
   {
    "id": "f20fa47107e947548a71d951ce0a9e4c",
    "time": "2020-01-10T17:29:53.768Z",
    "type": "completion"
   },
   {
    "code": "brand_df = pd.read_csv(\"data/car_brand.csv\")",
    "id": "2684961d709b4dfaa6860f9f801800e2",
    "idx": 12,
    "time": "2020-01-10T17:29:53.882Z",
    "type": "exec"
   },
   {
    "id": "2684961d709b4dfaa6860f9f801800e2",
    "time": "2020-01-10T17:29:53.976Z",
    "type": "completion"
   },
   {
    "code": "brand_df.head()",
    "id": "64c4f32266ef454b85ef213780d4fa34",
    "idx": 13,
    "time": "2020-01-10T17:29:54.180Z",
    "type": "exec"
   },
   {
    "id": "64c4f32266ef454b85ef213780d4fa34",
    "time": "2020-01-10T17:29:54.212Z",
    "type": "completion"
   },
   {
    "code": "brand_df = pd.read_csv(\"lux/data/car_brand.csv\")",
    "id": "2684961d709b4dfaa6860f9f801800e2",
    "idx": 12,
    "time": "2020-01-10T17:30:02.246Z",
    "type": "exec"
   },
   {
    "id": "2684961d709b4dfaa6860f9f801800e2",
    "time": "2020-01-10T17:30:02.282Z",
    "type": "completion"
   },
   {
    "code": "brand_df.head()",
    "id": "64c4f32266ef454b85ef213780d4fa34",
    "idx": 13,
    "time": "2020-01-10T17:30:02.867Z",
    "type": "exec"
   },
   {
    "id": "64c4f32266ef454b85ef213780d4fa34",
    "time": "2020-01-10T17:30:02.908Z",
    "type": "completion"
   },
   {
    "code": "dataset.df.head()",
    "id": "1986fa86c7b74a219db796e8934575a2",
    "idx": 14,
    "time": "2020-01-10T17:30:03.429Z",
    "type": "exec"
   },
   {
    "id": "1986fa86c7b74a219db796e8934575a2",
    "time": "2020-01-10T17:30:03.472Z",
    "type": "completion"
   },
   {
    "code": "df = dataset.df.merge(brand_df,how=\"inner\")\ndf = df.drop(columns=[\"Name\"])\ndataset.set_df(df)",
    "id": "886c06b358e14533a23485b6131a57cd",
    "idx": 15,
    "time": "2020-01-10T17:30:03.668Z",
    "type": "exec"
   },
   {
    "id": "886c06b358e14533a23485b6131a57cd",
    "time": "2020-01-10T17:30:03.749Z",
    "type": "completion"
   },
   {
    "code": "dobj = DataObj(dataset,[Column(\"Brand\")])\n# dobj.enhance()\ndobj.display()",
    "id": "af0de58aaf97461d8eefe831ba288192",
    "idx": 16,
    "time": "2020-01-10T17:30:03.865Z",
    "type": "exec"
   },
   {
    "id": "af0de58aaf97461d8eefe831ba288192",
    "time": "2020-01-10T17:30:03.966Z",
    "type": "completion"
   },
   {
    "code": "# we want to take what we had earlier and then break it down by different brands to see how the relationship changes\ndobj = DataObj(dataset,[Column(\"MilesPerGal\",dataModel=\"measure\"),\n                        Column(\"Horsepower\",dataModel=\"measure\"),\n                        Row(\"Brand\",\"?\")])\ndobj.filter()\ndobj.display()\n",
    "id": "fdf700030c20411498f9549df90227f0",
    "idx": 17,
    "time": "2020-01-10T17:30:04.052Z",
    "type": "exec"
   },
   {
    "code": "dobj = DataObj(dataset,[Column(\"Horsepower\",dataModel=\"measure\"),\n                        Row(\"Brand\",\"?\")])\ndobj.filter()\ndobj.display()",
    "id": "4e8f32f42d034f9f8b27fb0ebd62b500",
    "idx": 18,
    "time": "2020-01-10T17:30:04.218Z",
    "type": "exec"
   },
   {
    "id": "fdf700030c20411498f9549df90227f0",
    "time": "2020-01-10T17:30:04.688Z",
    "type": "completion"
   },
   {
    "id": "4e8f32f42d034f9f8b27fb0ebd62b500",
    "time": "2020-01-10T17:30:04.691Z",
    "type": "completion"
   },
   {
    "code": "# we want to take what we had earlier and then break it down by different brands to see how the relationship changes\ndobj = DataObj(dataset,[Column(\"MilesPerGal\",dataModel=\"measure\"),\n                        Column(\"Horsepower\",dataModel=\"measure\"),\n                        Row(\"Brand\",\"?\")])\ndobj.filter()\ndobj.display()\n",
    "id": "fdf700030c20411498f9549df90227f0",
    "idx": 17,
    "time": "2020-01-10T17:30:08.716Z",
    "type": "exec"
   },
   {
    "id": "fdf700030c20411498f9549df90227f0",
    "time": "2020-01-10T17:30:09.379Z",
    "type": "completion"
   },
   {
    "code": "# we want to take what we had earlier and then break it down by different brands to see how the relationship changes\ndobj = DataObj(dataset,[Column(\"MilesPerGal\",dataModel=\"measure\"),\n                        Column(\"Horsepower\",dataModel=\"measure\"),\n                        Row(\"Brand\",\"?\")])\ndobj.filter()\ndobj.display()\n",
    "id": "fdf700030c20411498f9549df90227f0",
    "idx": 17,
    "time": "2020-01-10T17:30:30.276Z",
    "type": "exec"
   },
   {
    "id": "fdf700030c20411498f9549df90227f0",
    "time": "2020-01-10T17:30:30.933Z",
    "type": "completion"
   },
   {
    "code": "# we want to take what we had earlier and then break it down by different brands to see how the relationship changes\ndobj = DataObj(dataset,[Column(\"MilesPerGal\",dataModel=\"measure\"),\n                        Column(\"Horsepower\",dataModel=\"measure\"),\n                        Row(\"Brand\",\"?\")])\ndobj.filter()\ndobj.display()\n",
    "id": "fdf700030c20411498f9549df90227f0",
    "idx": 17,
    "time": "2020-01-10T17:31:13.042Z",
    "type": "exec"
   },
   {
    "id": "fdf700030c20411498f9549df90227f0",
    "time": "2020-01-10T17:31:13.782Z",
    "type": "completion"
   },
   {
    "code": "# we want to take what we had earlier and then break it down by different brands to see how the relationship changes\ndobj = DataObj(dataset,[Column(\"MilesPerGal\",dataModel=\"measure\"),\n                        Column(\"Horsepower\",dataModel=\"measure\"),\n                        Row(\"Brand\",\"?\")])\ndobj.filter()\ndobj.display()",
    "id": "fdf700030c20411498f9549df90227f0",
    "idx": 17,
    "time": "2020-01-10T17:32:07.451Z",
    "type": "exec"
   },
   {
    "id": "fdf700030c20411498f9549df90227f0",
    "time": "2020-01-10T17:32:09.880Z",
    "type": "completion"
   },
   {
    "code": "dobj = DataObj(dataset,[Column(\"MilesPerGal\",dataModel=\"measure\"),Column(\"Horsepower\",dataModel=\"measure\")])\n\ndobj.enhance()\n\ndobj.display()",
    "id": "16d888afffdc4d0f86d9639e11781a01",
    "idx": 9,
    "time": "2020-01-10T17:32:21.699Z",
    "type": "exec"
   },
   {
    "id": "16d888afffdc4d0f86d9639e11781a01",
    "time": "2020-01-10T17:32:22.161Z",
    "type": "completion"
   },
   {
    "code": "# we want to take what we had earlier and then break it down by different brands to see how the relationship changes\ndobj = DataObj(dataset,[Column(\"MilesPerGal\",dataModel=\"measure\"),\n                        Column(\"Horsepower\",dataModel=\"measure\"),\n                        Row(\"Brand\",\"?\")])\ndobj.filter()\ndobj.display()",
    "id": "fdf700030c20411498f9549df90227f0",
    "idx": 17,
    "time": "2020-01-10T17:32:25.209Z",
    "type": "exec"
   },
   {
    "id": "fdf700030c20411498f9549df90227f0",
    "time": "2020-01-10T17:32:27.714Z",
    "type": "completion"
   },
   {
    "code": "dobj = DataObj(dataset,[Column(\"Horsepower\",dataModel=\"measure\"),\n                        Row(\"Brand\",\"?\")])\ndobj.filter()\ndobj.display()",
    "id": "4e8f32f42d034f9f8b27fb0ebd62b500",
    "idx": 18,
    "time": "2020-01-10T17:32:29.816Z",
    "type": "exec"
   },
   {
    "id": "4e8f32f42d034f9f8b27fb0ebd62b500",
    "time": "2020-01-10T17:32:31.449Z",
    "type": "completion"
   },
   {
    "code": "import lux",
    "id": "41a53db0126749fba5d4a026533cb607",
    "idx": 3,
    "time": "2020-01-10T17:49:34.346Z",
    "type": "exec"
   },
   {
    "id": "41a53db0126749fba5d4a026533cb607",
    "time": "2020-01-10T17:49:34.381Z",
    "type": "completion"
   },
   {
    "code": "cd ../..",
    "id": "85a3604ad97c4b279ffad0f64e8a53a4",
    "idx": 0,
    "time": "2020-01-10T17:49:44.387Z",
    "type": "exec"
   },
   {
    "id": "85a3604ad97c4b279ffad0f64e8a53a4",
    "time": "2020-01-10T17:49:44.410Z",
    "type": "completion"
   },
   {
    "id": "85a3604ad97c4b279ffad0f64e8a53a4",
    "time": "2020-01-10T17:49:44.412Z",
    "type": "completion"
   },
   {
    "code": "pwd",
    "id": "afda1c0e62bb4db0a171ed0bdce25372",
    "idx": 2,
    "time": "2020-01-10T17:49:46.099Z",
    "type": "exec"
   },
   {
    "id": "afda1c0e62bb4db0a171ed0bdce25372",
    "time": "2020-01-10T17:49:46.135Z",
    "type": "completion"
   },
   {
    "code": "import lux",
    "id": "41a53db0126749fba5d4a026533cb607",
    "idx": 3,
    "time": "2020-01-10T17:49:46.825Z",
    "type": "exec"
   },
   {
    "id": "41a53db0126749fba5d4a026533cb607",
    "time": "2020-01-10T17:49:47.248Z",
    "type": "completion"
   },
   {
    "code": "Dataset",
    "id": "c94e6efd9804455f8bc55daa5d5e6baa",
    "idx": 4,
    "time": "2020-01-10T17:49:49.652Z",
    "type": "exec"
   },
   {
    "id": "c94e6efd9804455f8bc55daa5d5e6baa",
    "time": "2020-01-10T17:49:49.777Z",
    "type": "completion"
   },
   {
    "code": "cd ../..",
    "id": "85a3604ad97c4b279ffad0f64e8a53a4",
    "idx": 0,
    "time": "2020-01-10T17:50:10.737Z",
    "type": "exec"
   },
   {
    "id": "85a3604ad97c4b279ffad0f64e8a53a4",
    "time": "2020-01-10T17:50:10.770Z",
    "type": "completion"
   },
   {
    "code": "pwd",
    "id": "afda1c0e62bb4db0a171ed0bdce25372",
    "idx": 2,
    "time": "2020-01-10T17:50:11.378Z",
    "type": "exec"
   },
   {
    "id": "afda1c0e62bb4db0a171ed0bdce25372",
    "time": "2020-01-10T17:50:11.408Z",
    "type": "completion"
   },
   {
    "code": "import lux",
    "id": "41a53db0126749fba5d4a026533cb607",
    "idx": 3,
    "time": "2020-01-10T17:50:11.776Z",
    "type": "exec"
   },
   {
    "id": "41a53db0126749fba5d4a026533cb607",
    "time": "2020-01-10T17:50:12.211Z",
    "type": "completion"
   },
   {
    "code": "Dataset",
    "id": "c94e6efd9804455f8bc55daa5d5e6baa",
    "idx": 4,
    "time": "2020-01-10T17:50:36.050Z",
    "type": "exec"
   },
   {
    "id": "c94e6efd9804455f8bc55daa5d5e6baa",
    "time": "2020-01-10T17:50:36.171Z",
    "type": "completion"
   },
   {
    "code": "lux.Dataset",
    "id": "c94e6efd9804455f8bc55daa5d5e6baa",
    "idx": 4,
    "time": "2020-01-10T17:51:32.050Z",
    "type": "exec"
   },
   {
    "id": "c94e6efd9804455f8bc55daa5d5e6baa",
    "time": "2020-01-10T17:51:32.095Z",
    "type": "completion"
   },
   {
    "code": "dataset = lux.Dataset(\"lux/data/car.csv\",schema=[{\"Year\":{\"dataType\":\"date\"}}])",
    "id": "e695983806f84ed28622ca6b993734a9",
    "idx": 3,
    "time": "2020-01-10T17:51:54.888Z",
    "type": "exec"
   },
   {
    "id": "e695983806f84ed28622ca6b993734a9",
    "time": "2020-01-10T17:51:54.915Z",
    "type": "completion"
   },
   {
    "code": "dobj = lux.DataObj(dataset,[lux.Column(\"?\",dataModel=\"measure\"),lux.Column(\"?\",dataModel=\"measure\")])\ndobj.correlation()\ndobj.display()",
    "id": "482a6f2d85f74649a6ff2f4f720391da",
    "idx": 5,
    "time": "2020-01-10T17:52:10.119Z",
    "type": "exec"
   },
   {
    "id": "482a6f2d85f74649a6ff2f4f720391da",
    "time": "2020-01-10T17:52:10.925Z",
    "type": "completion"
   },
   {
    "code": "dobj = lux.DataObj(dataset,[lux.Column(\"?\",dataModel=\"measure\")])\ndobj.distribution()\ndobj.display()",
    "id": "d181038534174aa8ab5d0912d6bc563f",
    "idx": 6,
    "time": "2020-01-10T17:52:21.699Z",
    "type": "exec"
   },
   {
    "id": "d181038534174aa8ab5d0912d6bc563f",
    "time": "2020-01-10T17:52:21.901Z",
    "type": "completion"
   },
   {
    "code": "dobj = DataObj(dataset,[lux.Column(\"MilesPerGal\",dataModel=\"measure\"),lux.Column(\"Horsepower\",dataModel=\"measure\")])\n\ndobj.enhance()\n\ndobj.display()",
    "id": "16d888afffdc4d0f86d9639e11781a01",
    "idx": 8,
    "time": "2020-01-10T17:52:32.112Z",
    "type": "exec"
   },
   {
    "id": "16d888afffdc4d0f86d9639e11781a01",
    "time": "2020-01-10T17:52:32.220Z",
    "type": "completion"
   },
   {
    "code": "dobj = lux.DataObj(dataset,[lux.Column(\"MilesPerGal\",dataModel=\"measure\"),lux.Column(\"Horsepower\",dataModel=\"measure\")])\n\ndobj.enhance()\n\ndobj.display()",
    "id": "16d888afffdc4d0f86d9639e11781a01",
    "idx": 8,
    "time": "2020-01-10T17:52:39.207Z",
    "type": "exec"
   },
   {
    "id": "16d888afffdc4d0f86d9639e11781a01",
    "time": "2020-01-10T17:52:39.681Z",
    "type": "completion"
   },
   {
    "code": "import pandas as pd",
    "id": "f20fa47107e947548a71d951ce0a9e4c",
    "idx": 10,
    "time": "2020-01-10T17:54:28.799Z",
    "type": "exec"
   },
   {
    "id": "f20fa47107e947548a71d951ce0a9e4c",
    "time": "2020-01-10T17:54:28.825Z",
    "type": "completion"
   },
   {
    "code": "brand_df = pd.read_csv(\"data/car_brand.csv\")",
    "id": "2684961d709b4dfaa6860f9f801800e2",
    "idx": 11,
    "time": "2020-01-10T17:54:29.299Z",
    "type": "exec"
   },
   {
    "id": "2684961d709b4dfaa6860f9f801800e2",
    "time": "2020-01-10T17:54:29.349Z",
    "type": "completion"
   },
   {
    "code": "brand_df.head()",
    "id": "64c4f32266ef454b85ef213780d4fa34",
    "idx": 12,
    "time": "2020-01-10T17:54:29.380Z",
    "type": "exec"
   },
   {
    "id": "64c4f32266ef454b85ef213780d4fa34",
    "time": "2020-01-10T17:54:29.523Z",
    "type": "completion"
   },
   {
    "code": "pwd",
    "id": "65ec6b64b839432a8b128d0b22132873",
    "idx": 11,
    "time": "2020-01-10T17:54:35.537Z",
    "type": "exec"
   },
   {
    "id": "65ec6b64b839432a8b128d0b22132873",
    "time": "2020-01-10T17:54:35.566Z",
    "type": "completion"
   },
   {
    "code": "brand_df = pd.read_csv(\"lux/data/car_brand.csv\")",
    "id": "2684961d709b4dfaa6860f9f801800e2",
    "idx": 11,
    "time": "2020-01-10T17:54:40.033Z",
    "type": "exec"
   },
   {
    "id": "2684961d709b4dfaa6860f9f801800e2",
    "time": "2020-01-10T17:54:40.066Z",
    "type": "completion"
   },
   {
    "code": "brand_df.head()",
    "id": "64c4f32266ef454b85ef213780d4fa34",
    "idx": 12,
    "time": "2020-01-10T17:54:40.495Z",
    "type": "exec"
   },
   {
    "id": "64c4f32266ef454b85ef213780d4fa34",
    "time": "2020-01-10T17:54:40.545Z",
    "type": "completion"
   },
   {
    "code": "dataset.df.head()",
    "id": "1986fa86c7b74a219db796e8934575a2",
    "idx": 13,
    "time": "2020-01-10T17:54:40.759Z",
    "type": "exec"
   },
   {
    "id": "1986fa86c7b74a219db796e8934575a2",
    "time": "2020-01-10T17:54:40.804Z",
    "type": "completion"
   },
   {
    "code": "df = dataset.df.merge(brand_df,how=\"inner\")\ndf = df.drop(columns=[\"Name\"])\ndataset.set_df(df)",
    "id": "886c06b358e14533a23485b6131a57cd",
    "idx": 14,
    "time": "2020-01-10T17:54:41.023Z",
    "type": "exec"
   },
   {
    "id": "886c06b358e14533a23485b6131a57cd",
    "time": "2020-01-10T17:54:41.050Z",
    "type": "completion"
   },
   {
    "code": "dobj = DataObj(dataset,[Column(\"Brand\")])\n# dobj.enhance()\ndobj.display()",
    "id": "af0de58aaf97461d8eefe831ba288192",
    "idx": 15,
    "time": "2020-01-10T17:54:41.221Z",
    "type": "exec"
   },
   {
    "id": "af0de58aaf97461d8eefe831ba288192",
    "time": "2020-01-10T17:54:41.263Z",
    "type": "completion"
   },
   {
    "code": "# we want to take what we had earlier and then break it down by different brands to see how the relationship changes\ndobj = DataObj(dataset,[Column(\"MilesPerGal\",dataModel=\"measure\"),\n                        Column(\"Horsepower\",dataModel=\"measure\"),\n                        Row(\"Brand\",\"?\")])\ndobj.filter()\ndobj.display()",
    "id": "fdf700030c20411498f9549df90227f0",
    "idx": 16,
    "time": "2020-01-10T17:54:41.414Z",
    "type": "exec"
   },
   {
    "id": "fdf700030c20411498f9549df90227f0",
    "time": "2020-01-10T17:54:41.453Z",
    "type": "completion"
   },
   {
    "code": "dobj = DataObj(dataset,[Column(\"Horsepower\",dataModel=\"measure\"),\n                        Row(\"Brand\",\"?\")])\ndobj.filter()\ndobj.display()",
    "id": "4e8f32f42d034f9f8b27fb0ebd62b500",
    "idx": 17,
    "time": "2020-01-10T17:54:42.551Z",
    "type": "exec"
   },
   {
    "id": "4e8f32f42d034f9f8b27fb0ebd62b500",
    "time": "2020-01-10T17:54:42.582Z",
    "type": "completion"
   },
   {
    "code": "dobj = lux.DataObj(dataset,[Column(\"Brand\")])\n# dobj.enhance()\ndobj.display()",
    "id": "af0de58aaf97461d8eefe831ba288192",
    "idx": 15,
    "time": "2020-01-10T17:54:48.364Z",
    "type": "exec"
   },
   {
    "id": "af0de58aaf97461d8eefe831ba288192",
    "time": "2020-01-10T17:54:48.398Z",
    "type": "completion"
   },
   {
    "code": "dobj = lux.DataObj(dataset,[lux.Column(\"Brand\")])\n# dobj.enhance()\ndobj.display()",
    "id": "af0de58aaf97461d8eefe831ba288192",
    "idx": 15,
    "time": "2020-01-10T17:54:55.356Z",
    "type": "exec"
   },
   {
    "id": "af0de58aaf97461d8eefe831ba288192",
    "time": "2020-01-10T17:54:55.460Z",
    "type": "completion"
   },
   {
    "code": "# we want to take what we had earlier and then break it down by different brands to see how the relationship changes\ndobj = lux.DataObj(dataset,[lux.Column(\"MilesPerGal\",dataModel=\"measure\"),\n                        lux.Column(\"Horsepower\",dataModel=\"measure\"),\n                        lux.Row(\"Brand\",\"?\")])\ndobj.filter()\ndobj.display()",
    "id": "fdf700030c20411498f9549df90227f0",
    "idx": 16,
    "time": "2020-01-10T17:55:25.233Z",
    "type": "exec"
   },
   {
    "id": "fdf700030c20411498f9549df90227f0",
    "time": "2020-01-10T17:55:27.661Z",
    "type": "completion"
   },
   {
    "code": "dobj = lux.DataObj(dataset,[lux.Column(\"Horsepower\",dataModel=\"measure\"),\n                            lux.Row(\"Brand\",\"?\")])\ndobj.filter()\ndobj.display()",
    "id": "4e8f32f42d034f9f8b27fb0ebd62b500",
    "idx": 17,
    "time": "2020-01-10T17:55:39.127Z",
    "type": "exec"
   },
   {
    "id": "4e8f32f42d034f9f8b27fb0ebd62b500",
    "time": "2020-01-10T17:55:40.778Z",
    "type": "completion"
   },
   {
    "code": "cd ../..",
    "id": "15ba1693d1e6456782d1ef78737ba33f",
    "idx": 0,
    "time": "2020-01-10T19:26:21.183Z",
    "type": "exec"
   },
   {
    "id": "15ba1693d1e6456782d1ef78737ba33f",
    "time": "2020-01-10T19:26:21.217Z",
    "type": "completion"
   },
   {
    "code": "%load_ext autoreload\n%autoreload 2\nimport lux",
    "id": "77e88f42afd0475a8bc5503957e3d358",
    "idx": 2,
    "time": "2020-01-10T19:26:21.895Z",
    "type": "exec"
   },
   {
    "id": "77e88f42afd0475a8bc5503957e3d358",
    "time": "2020-01-10T19:26:22.654Z",
    "type": "completion"
   },
   {
    "code": "dataset = lux.Dataset(\"lux/data/car.csv\",schema=[{\"Year\":{\"dataType\":\"date\"}}])",
    "id": "bc8c275d598f44f1819d066555f0db9d",
    "idx": 3,
    "time": "2020-01-10T19:26:22.749Z",
    "type": "exec"
   },
   {
    "id": "bc8c275d598f44f1819d066555f0db9d",
    "time": "2020-01-10T19:26:22.858Z",
    "type": "completion"
   },
   {
    "code": "# lux.overview(dataset)\n# --> generate correlation and distribution\n# Click on Median Earnings distribution and ",
    "id": "49028ac0c3354231b24dffa5d19bd840",
    "idx": 4,
    "time": "2020-01-10T19:26:23.227Z",
    "type": "exec"
   },
   {
    "id": "49028ac0c3354231b24dffa5d19bd840",
    "time": "2020-01-10T19:26:23.252Z",
    "type": "completion"
   },
   {
    "code": "dobj = lux.DataObj(dataset,[lux.Column(\"?\",dataModel=\"measure\"),lux.Column(\"?\",dataModel=\"measure\")])\ndobj.correlation()\ndobj.display()",
    "id": "841521a10797463cb9baef175252822f",
    "idx": 5,
    "time": "2020-01-10T19:26:23.645Z",
    "type": "exec"
   },
   {
    "id": "841521a10797463cb9baef175252822f",
    "time": "2020-01-10T19:26:25.031Z",
    "type": "completion"
   },
   {
    "code": "dobj = lux.DataObj(dataset,[lux.Column(\"?\",dataModel=\"measure\")])\ndobj.distribution()\ndobj.display()",
    "id": "c5e271a5608440a18cde95327b9660e3",
    "idx": 6,
    "time": "2020-01-10T19:26:26.836Z",
    "type": "exec"
   },
   {
    "id": "c5e271a5608440a18cde95327b9660e3",
    "time": "2020-01-10T19:26:27.162Z",
    "type": "completion"
   },
   {
    "code": "# Select a vis, look at how it breaks down by different filter on Regions\n# [Mockup a Frontier workflow]",
    "id": "c13881852e76490280e37ec31045a5ef",
    "idx": 7,
    "time": "2020-01-10T19:26:28.459Z",
    "type": "exec"
   },
   {
    "id": "c13881852e76490280e37ec31045a5ef",
    "time": "2020-01-10T19:26:28.489Z",
    "type": "completion"
   },
   {
    "code": "dobj = lux.DataObj(dataset,[lux.Column(\"MilesPerGal\",dataModel=\"measure\"),lux.Column(\"Horsepower\",dataModel=\"measure\")])\n\ndobj.enhance()\n\ndobj.display()",
    "id": "37a9367640a24db1a6f3cd6888687958",
    "idx": 8,
    "time": "2020-01-10T19:26:28.987Z",
    "type": "exec"
   },
   {
    "code": "# Found out that name is too much, so drop name as a column and add in Brand information",
    "id": "6862e08c0acd448e83a04e24d124e21d",
    "idx": 9,
    "time": "2020-01-10T19:26:29.371Z",
    "type": "exec"
   },
   {
    "id": "37a9367640a24db1a6f3cd6888687958",
    "time": "2020-01-10T19:26:29.476Z",
    "type": "completion"
   },
   {
    "id": "6862e08c0acd448e83a04e24d124e21d",
    "time": "2020-01-10T19:26:29.479Z",
    "type": "completion"
   },
   {
    "code": "import pandas as pd",
    "id": "ba960d114131418ca8cdd9578ca491cf",
    "idx": 10,
    "time": "2020-01-10T19:26:30.356Z",
    "type": "exec"
   },
   {
    "id": "ba960d114131418ca8cdd9578ca491cf",
    "time": "2020-01-10T19:26:30.385Z",
    "type": "completion"
   },
   {
    "code": "brand_df = pd.read_csv(\"lux/data/car_brand.csv\")",
    "id": "9f9d07a5fcae4c248b6aabf25d9e9c14",
    "idx": 11,
    "time": "2020-01-10T19:26:31.122Z",
    "type": "exec"
   },
   {
    "id": "9f9d07a5fcae4c248b6aabf25d9e9c14",
    "time": "2020-01-10T19:26:31.151Z",
    "type": "completion"
   },
   {
    "code": "brand_df.head()",
    "id": "ff9322f27c6c41eb8684c514f1a67d7d",
    "idx": 12,
    "time": "2020-01-10T19:26:31.490Z",
    "type": "exec"
   },
   {
    "id": "ff9322f27c6c41eb8684c514f1a67d7d",
    "time": "2020-01-10T19:26:31.543Z",
    "type": "completion"
   },
   {
    "code": "dataset.df.head()",
    "id": "30d9097e1c0b459a920739d23bc1a67e",
    "idx": 13,
    "time": "2020-01-10T19:26:31.817Z",
    "type": "exec"
   },
   {
    "id": "30d9097e1c0b459a920739d23bc1a67e",
    "time": "2020-01-10T19:26:31.854Z",
    "type": "completion"
   },
   {
    "code": "df = dataset.df.merge(brand_df,how=\"inner\")\ndf = df.drop(columns=[\"Name\"])\ndataset.set_df(df)",
    "id": "687f3b8e8bfa4448863468758db29aed",
    "idx": 14,
    "time": "2020-01-10T19:26:32.049Z",
    "type": "exec"
   },
   {
    "id": "687f3b8e8bfa4448863468758db29aed",
    "time": "2020-01-10T19:26:32.126Z",
    "type": "completion"
   },
   {
    "code": "dobj = lux.DataObj(dataset,[lux.Column(\"Brand\")])\n# dobj.enhance()\ndobj.display()",
    "id": "37ef25d9833746e3892bde5b4905fbf8",
    "idx": 15,
    "time": "2020-01-10T19:26:32.388Z",
    "type": "exec"
   },
   {
    "id": "37ef25d9833746e3892bde5b4905fbf8",
    "time": "2020-01-10T19:26:32.488Z",
    "type": "completion"
   },
   {
    "code": "# we want to take what we had earlier and then break it down by different brands to see how the relationship changes\ndobj = lux.DataObj(dataset,[lux.Column(\"MilesPerGal\",dataModel=\"measure\"),\n                        lux.Column(\"Horsepower\",dataModel=\"measure\"),\n                        lux.Row(\"Brand\",\"?\")])\ndobj.filter()\ndobj.display()",
    "id": "fe8c8c984ad04a5784f0c06b6368acc9",
    "idx": 16,
    "time": "2020-01-10T19:26:32.629Z",
    "type": "exec"
   },
   {
    "code": "dobj = lux.DataObj(dataset,[lux.Column(\"Horsepower\",dataModel=\"measure\"),\n                            lux.Row(\"Brand\",\"?\")])\ndobj.filter()\ndobj.display()",
    "id": "6a6a79d41f0d42f6a0f5ca9f2d373e06",
    "idx": 17,
    "time": "2020-01-10T19:26:32.881Z",
    "type": "exec"
   },
   {
    "id": "fe8c8c984ad04a5784f0c06b6368acc9",
    "time": "2020-01-10T19:26:35.769Z",
    "type": "completion"
   },
   {
    "id": "6a6a79d41f0d42f6a0f5ca9f2d373e06",
    "time": "2020-01-10T19:26:36.820Z",
    "type": "completion"
   },
   {
    "code": "cd ../..",
    "id": "847790b2d96f44769adfb5d69c0100bb",
    "idx": 0,
    "time": "2020-01-10T19:43:04.521Z",
    "type": "exec"
   },
   {
    "id": "847790b2d96f44769adfb5d69c0100bb",
    "time": "2020-01-10T19:43:04.551Z",
    "type": "completion"
   },
   {
    "code": "%load_ext autoreload\n%autoreload 2\nimport lux",
    "id": "cf7fa51397514db08abeedbffa282ebc",
    "idx": 2,
    "time": "2020-01-10T19:43:04.848Z",
    "type": "exec"
   },
   {
    "code": "dataset = lux.Dataset(\"lux/data/car.csv\",schema=[{\"Year\":{\"dataType\":\"date\"}}])",
    "id": "b0c3ebd7304141af8583721d98439375",
    "idx": 3,
    "time": "2020-01-10T19:43:04.973Z",
    "type": "exec"
   },
   {
    "code": "# lux.overview(dataset)\n# --> generate correlation and distribution\n# Click on Median Earnings distribution and ",
    "id": "a2a5377cc1d04a1c8cd01bbd63e2a81f",
    "idx": 4,
    "time": "2020-01-10T19:43:05.118Z",
    "type": "exec"
   },
   {
    "code": "dobj = lux.DataObj(dataset,[lux.Column(\"?\",dataModel=\"measure\"),lux.Column(\"?\",dataModel=\"measure\")])\ndobj.correlation()\ndobj.display()",
    "id": "a49c3fd9c4ec4f99851dfcb5c336d6d7",
    "idx": 5,
    "time": "2020-01-10T19:43:05.278Z",
    "type": "exec"
   },
   {
    "code": "dobj = lux.DataObj(dataset,[lux.Column(\"?\",dataModel=\"measure\")])\ndobj.distribution()\ndobj.display()",
    "id": "b40612c5345c48708a50bd4a9e03ec81",
    "idx": 6,
    "time": "2020-01-10T19:43:05.430Z",
    "type": "exec"
   },
   {
    "id": "cf7fa51397514db08abeedbffa282ebc",
    "time": "2020-01-10T19:43:05.558Z",
    "type": "completion"
   },
   {
    "code": "# Select a vis, look at how it breaks down by different filter on Regions\n# [Mockup a Frontier workflow]",
    "id": "02fb8f3d763147f7861fd4753066049a",
    "idx": 7,
    "time": "2020-01-10T19:43:05.605Z",
    "type": "exec"
   },
   {
    "id": "b0c3ebd7304141af8583721d98439375",
    "time": "2020-01-10T19:43:05.625Z",
    "type": "completion"
   },
   {
    "id": "a2a5377cc1d04a1c8cd01bbd63e2a81f",
    "time": "2020-01-10T19:43:05.632Z",
    "type": "completion"
   },
   {
    "code": "dobj = lux.DataObj(dataset,[lux.Column(\"MilesPerGal\",dataModel=\"measure\"),lux.Column(\"Horsepower\",dataModel=\"measure\")])\n\ndobj.enhance()\n\ndobj.display()",
    "id": "7e870dda0651437d8e62197839939b07",
    "idx": 8,
    "time": "2020-01-10T19:43:05.767Z",
    "type": "exec"
   },
   {
    "code": "# Found out that name is too much, so drop name as a column and add in Brand information",
    "id": "643e83ac830948828f5dc5641f24410b",
    "idx": 9,
    "time": "2020-01-10T19:43:05.949Z",
    "type": "exec"
   },
   {
    "code": "import pandas as pd",
    "id": "289a235c41d6405a949454f94c36760e",
    "idx": 10,
    "time": "2020-01-10T19:43:06.151Z",
    "type": "exec"
   },
   {
    "id": "a49c3fd9c4ec4f99851dfcb5c336d6d7",
    "time": "2020-01-10T19:43:06.931Z",
    "type": "completion"
   },
   {
    "id": "b40612c5345c48708a50bd4a9e03ec81",
    "time": "2020-01-10T19:43:06.969Z",
    "type": "completion"
   },
   {
    "id": "02fb8f3d763147f7861fd4753066049a",
    "time": "2020-01-10T19:43:06.972Z",
    "type": "completion"
   },
   {
    "id": "7e870dda0651437d8e62197839939b07",
    "time": "2020-01-10T19:43:07.260Z",
    "type": "completion"
   },
   {
    "id": "643e83ac830948828f5dc5641f24410b",
    "time": "2020-01-10T19:43:07.273Z",
    "type": "completion"
   },
   {
    "id": "289a235c41d6405a949454f94c36760e",
    "time": "2020-01-10T19:43:07.276Z",
    "type": "completion"
   },
   {
    "code": "brand_df = pd.read_csv(\"lux/data/car_brand.csv\")",
    "id": "3d5a4ec2d9b24655b8d03fad85f442df",
    "idx": 11,
    "time": "2020-01-10T19:43:10.865Z",
    "type": "exec"
   },
   {
    "id": "3d5a4ec2d9b24655b8d03fad85f442df",
    "time": "2020-01-10T19:43:10.893Z",
    "type": "completion"
   },
   {
    "code": "brand_df.head()",
    "id": "6da27173d6bc4f8e97e284f1d244055c",
    "idx": 12,
    "time": "2020-01-10T19:43:11.713Z",
    "type": "exec"
   },
   {
    "id": "6da27173d6bc4f8e97e284f1d244055c",
    "time": "2020-01-10T19:43:11.766Z",
    "type": "completion"
   },
   {
    "code": "dataset.df.head()",
    "id": "28fdcd696f1a432c9cf907b0075a449a",
    "idx": 13,
    "time": "2020-01-10T19:43:11.990Z",
    "type": "exec"
   },
   {
    "id": "28fdcd696f1a432c9cf907b0075a449a",
    "time": "2020-01-10T19:43:12.026Z",
    "type": "completion"
   },
   {
    "code": "df = dataset.df.merge(brand_df,how=\"inner\")\ndf = df.drop(columns=[\"Name\"])\ndataset.set_df(df)",
    "id": "62f1e6b043f94eefb4b940f0f03bab4e",
    "idx": 14,
    "time": "2020-01-10T19:43:12.248Z",
    "type": "exec"
   },
   {
    "id": "62f1e6b043f94eefb4b940f0f03bab4e",
    "time": "2020-01-10T19:43:12.334Z",
    "type": "completion"
   },
   {
    "code": "dobj = lux.DataObj(dataset,[lux.Column(\"Brand\")])\n# dobj.enhance()\ndobj.display()",
    "id": "e03273a76363449d9da6cd1515c592e4",
    "idx": 15,
    "time": "2020-01-10T19:43:12.405Z",
    "type": "exec"
   },
   {
    "id": "e03273a76363449d9da6cd1515c592e4",
    "time": "2020-01-10T19:43:12.494Z",
    "type": "completion"
   },
   {
    "code": "# we want to take what we had earlier and then break it down by different brands to see how the relationship changes\ndobj = lux.DataObj(dataset,[lux.Column(\"MilesPerGal\",dataModel=\"measure\"),\n                        lux.Column(\"Horsepower\",dataModel=\"measure\"),\n                        lux.Row(\"Brand\",\"?\")])\ndobj.filter()\ndobj.display()",
    "id": "57ee4150ea684c6b8c57f4a19a07c4b1",
    "idx": 16,
    "time": "2020-01-10T19:43:12.663Z",
    "type": "exec"
   },
   {
    "code": "dobj = lux.DataObj(dataset,[lux.Column(\"Horsepower\",dataModel=\"measure\"),\n                            lux.Row(\"Brand\",\"?\")])\ndobj.filter()\ndobj.display()",
    "id": "c015450da59347368dd81a3bb8b6b2b7",
    "idx": 17,
    "time": "2020-01-10T19:43:13.638Z",
    "type": "exec"
   },
   {
    "id": "57ee4150ea684c6b8c57f4a19a07c4b1",
    "time": "2020-01-10T19:43:15.651Z",
    "type": "completion"
   },
   {
    "id": "c015450da59347368dd81a3bb8b6b2b7",
    "time": "2020-01-10T19:43:16.711Z",
    "type": "completion"
   },
   {
    "code": "# we want to take what we had earlier and then break it down by different brands to see how the relationship changes\ndobj = lux.DataObj(dataset,[lux.Column(\"MilesPerGal\",dataModel=\"measure\"),\n                        lux.Column(\"Horsepower\",dataModel=\"measure\"),\n                        lux.Row(\"Brand\",\"?\")])\ndobj.filter()\ndobj.display()",
    "id": "57ee4150ea684c6b8c57f4a19a07c4b1",
    "idx": 16,
    "time": "2020-01-10T19:43:56.030Z",
    "type": "exec"
   },
   {
    "code": "dobj = lux.DataObj(dataset,[lux.Column(\"Horsepower\",dataModel=\"measure\"),\n                            lux.Row(\"Brand\",\"?\")])\ndobj.filter()\ndobj.display()",
    "id": "c015450da59347368dd81a3bb8b6b2b7",
    "idx": 17,
    "time": "2020-01-10T19:43:56.703Z",
    "type": "exec"
   },
   {
    "id": "57ee4150ea684c6b8c57f4a19a07c4b1",
    "time": "2020-01-10T19:43:58.447Z",
    "type": "completion"
   },
   {
    "id": "c015450da59347368dd81a3bb8b6b2b7",
    "time": "2020-01-10T19:44:00.138Z",
    "type": "completion"
   },
   {
    "code": "cd ../..",
    "id": "15e09a854fee4a1c8c446fac6fc9ff86",
    "idx": 0,
    "time": "2020-01-10T19:46:33.724Z",
    "type": "exec"
   },
   {
    "id": "15e09a854fee4a1c8c446fac6fc9ff86",
    "time": "2020-01-10T19:46:33.758Z",
    "type": "completion"
   },
   {
    "code": "%load_ext autoreload\n%autoreload 2\nimport lux",
    "id": "483feffdd62e41c981d9f8670bbc6e62",
    "idx": 2,
    "time": "2020-01-10T19:46:34.026Z",
    "type": "exec"
   },
   {
    "code": "dataset = lux.Dataset(\"lux/data/car.csv\",schema=[{\"Year\":{\"dataType\":\"date\"}}])",
    "id": "e40055bbd6354bb48eda5fe5e1455ddc",
    "idx": 3,
    "time": "2020-01-10T19:46:34.183Z",
    "type": "exec"
   },
   {
    "code": "# lux.overview(dataset)\n# --> generate correlation and distribution\n# Click on Median Earnings distribution and ",
    "id": "cfd2f0c227eb4126ae693afdab061b1b",
    "idx": 4,
    "time": "2020-01-10T19:46:34.335Z",
    "type": "exec"
   },
   {
    "code": "dobj = lux.DataObj(dataset,[lux.Column(\"?\",dataModel=\"measure\"),lux.Column(\"?\",dataModel=\"measure\")])\ndobj.correlation()\ndobj.display()",
    "id": "b9db2f1c238a4708a0ae146bca237f1e",
    "idx": 5,
    "time": "2020-01-10T19:46:34.480Z",
    "type": "exec"
   },
   {
    "code": "dobj = lux.DataObj(dataset,[lux.Column(\"?\",dataModel=\"measure\")])\ndobj.distribution()\ndobj.display()",
    "id": "baa791463a81484c8fc62d48be801e18",
    "idx": 6,
    "time": "2020-01-10T19:46:34.615Z",
    "type": "exec"
   },
   {
    "id": "483feffdd62e41c981d9f8670bbc6e62",
    "time": "2020-01-10T19:46:34.697Z",
    "type": "completion"
   },
   {
    "id": "e40055bbd6354bb48eda5fe5e1455ddc",
    "time": "2020-01-10T19:46:34.705Z",
    "type": "completion"
   },
   {
    "code": "# Select a vis, look at how it breaks down by different filter on Regions\n# [Mockup a Frontier workflow]",
    "id": "15a859a8d3544b83888a887d0b324eeb",
    "idx": 7,
    "time": "2020-01-10T19:46:34.767Z",
    "type": "exec"
   },
   {
    "id": "cfd2f0c227eb4126ae693afdab061b1b",
    "time": "2020-01-10T19:46:34.782Z",
    "type": "completion"
   },
   {
    "code": "dobj = lux.DataObj(dataset,[lux.Column(\"MilesPerGal\",dataModel=\"measure\"),lux.Column(\"Horsepower\",dataModel=\"measure\")])\n\ndobj.enhance()\n\ndobj.display()",
    "id": "a632db35e3a44e3e86bbe0113ddff73c",
    "idx": 8,
    "time": "2020-01-10T19:46:34.903Z",
    "type": "exec"
   },
   {
    "code": "# Found out that name is too much, so drop name as a column and add in Brand information",
    "id": "cef9fbcac899436785fffa5111eb75bd",
    "idx": 9,
    "time": "2020-01-10T19:46:35.464Z",
    "type": "exec"
   },
   {
    "code": "import pandas as pd",
    "id": "15d9af49b7a04a578336178c1134070b",
    "idx": 10,
    "time": "2020-01-10T19:46:35.638Z",
    "type": "exec"
   },
   {
    "id": "b9db2f1c238a4708a0ae146bca237f1e",
    "time": "2020-01-10T19:46:35.679Z",
    "type": "completion"
   },
   {
    "code": "brand_df = pd.read_csv(\"lux/data/car_brand.csv\")",
    "id": "ca801ab09c704d398e28c8470992099c",
    "idx": 11,
    "time": "2020-01-10T19:46:36.070Z",
    "type": "exec"
   },
   {
    "code": "brand_df.head()",
    "id": "5753891775e043558fc72d6130784ab0",
    "idx": 12,
    "time": "2020-01-10T19:46:36.088Z",
    "type": "exec"
   },
   {
    "code": "dataset.df.head()",
    "id": "62328df2dd714dd080a2e526c541725e",
    "idx": 13,
    "time": "2020-01-10T19:46:36.109Z",
    "type": "exec"
   },
   {
    "id": "baa791463a81484c8fc62d48be801e18",
    "time": "2020-01-10T19:46:36.181Z",
    "type": "completion"
   },
   {
    "id": "15a859a8d3544b83888a887d0b324eeb",
    "time": "2020-01-10T19:46:36.185Z",
    "type": "completion"
   },
   {
    "code": "df = dataset.df.merge(brand_df,how=\"inner\")\ndf = df.drop(columns=[\"Name\"])\ndataset.set_df(df)",
    "id": "1942d12338e948239a14387d9f0fbc81",
    "idx": 14,
    "time": "2020-01-10T19:46:36.200Z",
    "type": "exec"
   },
   {
    "code": "dobj = lux.DataObj(dataset,[lux.Column(\"Brand\")])\n# dobj.enhance()\ndobj.display()",
    "id": "711c5b504b8b48329e5cd7a36660ebcb",
    "idx": 15,
    "time": "2020-01-10T19:46:36.325Z",
    "type": "exec"
   },
   {
    "code": "# we want to take what we had earlier and then break it down by different brands to see how the relationship changes\ndobj = lux.DataObj(dataset,[lux.Column(\"MilesPerGal\",dataModel=\"measure\"),\n                        lux.Column(\"Horsepower\",dataModel=\"measure\"),\n                        lux.Row(\"Brand\",\"?\")])\ndobj.filter()\ndobj.display()",
    "id": "26a8ec0ecff848b88039dc4fa068deea",
    "idx": 16,
    "time": "2020-01-10T19:46:36.729Z",
    "type": "exec"
   },
   {
    "code": "dobj = lux.DataObj(dataset,[lux.Column(\"Horsepower\",dataModel=\"measure\"),\n                            lux.Row(\"Brand\",\"?\")])\ndobj.filter()\ndobj.display()",
    "id": "92e096d80d3942e68213881761c81ee9",
    "idx": 17,
    "time": "2020-01-10T19:46:36.753Z",
    "type": "exec"
   },
   {
    "id": "a632db35e3a44e3e86bbe0113ddff73c",
    "time": "2020-01-10T19:46:36.785Z",
    "type": "completion"
   },
   {
    "id": "cef9fbcac899436785fffa5111eb75bd",
    "time": "2020-01-10T19:46:36.797Z",
    "type": "completion"
   },
   {
    "id": "15d9af49b7a04a578336178c1134070b",
    "time": "2020-01-10T19:46:36.800Z",
    "type": "completion"
   },
   {
    "id": "ca801ab09c704d398e28c8470992099c",
    "time": "2020-01-10T19:46:36.802Z",
    "type": "completion"
   },
   {
    "id": "5753891775e043558fc72d6130784ab0",
    "time": "2020-01-10T19:46:36.808Z",
    "type": "completion"
   },
   {
    "id": "62328df2dd714dd080a2e526c541725e",
    "time": "2020-01-10T19:46:36.812Z",
    "type": "completion"
   },
   {
    "id": "1942d12338e948239a14387d9f0fbc81",
    "time": "2020-01-10T19:46:36.815Z",
    "type": "completion"
   },
   {
    "id": "711c5b504b8b48329e5cd7a36660ebcb",
    "time": "2020-01-10T19:46:36.844Z",
    "type": "completion"
   },
   {
    "id": "26a8ec0ecff848b88039dc4fa068deea",
    "time": "2020-01-10T19:46:39.824Z",
    "type": "completion"
   },
   {
    "id": "92e096d80d3942e68213881761c81ee9",
    "time": "2020-01-10T19:46:40.867Z",
    "type": "completion"
   },
   {
    "code": "dobj.recommendation",
    "id": "ae9a26aaa014414b8e2a8df897e9111c",
    "idx": 6,
    "time": "2020-01-10T20:01:57.142Z",
    "type": "exec"
   },
   {
    "id": "ae9a26aaa014414b8e2a8df897e9111c",
    "time": "2020-01-10T20:01:57.197Z",
    "type": "completion"
   },
   {
    "code": "dataset = lux.Dataset(\"lux/data/car.csv\",schema=[{\"Year\":{\"dataType\":\"date\"}}])",
    "id": "e40055bbd6354bb48eda5fe5e1455ddc",
    "idx": 3,
    "time": "2020-01-10T20:03:41.584Z",
    "type": "exec"
   },
   {
    "id": "e40055bbd6354bb48eda5fe5e1455ddc",
    "time": "2020-01-10T20:03:41.693Z",
    "type": "completion"
   },
   {
    "code": "# lux.overview(dataset)\n# --> generate correlation and distribution\n# Click on Median Earnings distribution and ",
    "id": "cfd2f0c227eb4126ae693afdab061b1b",
    "idx": 4,
    "time": "2020-01-10T20:03:41.974Z",
    "type": "exec"
   },
   {
    "id": "cfd2f0c227eb4126ae693afdab061b1b",
    "time": "2020-01-10T20:03:42.006Z",
    "type": "completion"
   },
   {
    "code": "dobj = lux.DataObj(dataset,[lux.Column(\"?\",dataModel=\"measure\"),lux.Column(\"?\",dataModel=\"measure\")])\ndobj.correlation()\ndobj.display()",
    "id": "b9db2f1c238a4708a0ae146bca237f1e",
    "idx": 6,
    "time": "2020-01-10T20:03:45.394Z",
    "type": "exec"
   },
   {
    "id": "b9db2f1c238a4708a0ae146bca237f1e",
    "time": "2020-01-10T20:03:45.600Z",
    "type": "completion"
   },
   {
    "code": "dobj = lux.DataObj(dataset,[lux.Column(\"?\",dataModel=\"measure\"),lux.Column(\"?\",dataModel=\"measure\")])\ndobj.correlation()\ndobj.display()",
    "id": "b9db2f1c238a4708a0ae146bca237f1e",
    "idx": 6,
    "time": "2020-01-10T20:08:26.969Z",
    "type": "exec"
   },
   {
    "id": "b9db2f1c238a4708a0ae146bca237f1e",
    "time": "2020-01-10T20:08:28.145Z",
    "type": "completion"
   },
   {
    "code": "def overview(self):\n    dobj=self\n    dobj = lux.DataObj(dataset,[lux.Column(\"?\",dataModel=\"measure\"),lux.Column(\"?\",dataModel=\"measure\")])\n    dobj.correlation()\n    \n    dobj = lux.DataObj(dataset,[lux.Column(\"?\",dataModel=\"measure\")])\n    dobj.distribution()\n",
    "id": "8a57ae807f754f089c4ac6e72ed712e2",
    "idx": 5,
    "time": "2020-01-10T20:08:42.841Z",
    "type": "exec"
   },
   {
    "id": "8a57ae807f754f089c4ac6e72ed712e2",
    "time": "2020-01-10T20:08:42.873Z",
    "type": "completion"
   },
   {
    "code": "overview(dobj)",
    "id": "a11a7aae0a344b8bbc0188a8521be483",
    "idx": 6,
    "time": "2020-01-10T20:08:50.664Z",
    "type": "exec"
   },
   {
    "id": "a11a7aae0a344b8bbc0188a8521be483",
    "time": "2020-01-10T20:08:50.774Z",
    "type": "completion"
   },
   {
    "code": "dobj.display()",
    "id": "57a18d9a74b041d38e09684409785a57",
    "idx": 7,
    "time": "2020-01-10T20:08:54.534Z",
    "type": "exec"
   },
   {
    "id": "57a18d9a74b041d38e09684409785a57",
    "time": "2020-01-10T20:08:54.661Z",
    "type": "completion"
   },
   {
    "code": "%load_ext autoreload\n%autoreload 2\nimport lux",
    "id": "483feffdd62e41c981d9f8670bbc6e62",
    "idx": 2,
    "time": "2020-01-10T23:07:27.820Z",
    "type": "exec"
   },
   {
    "id": "483feffdd62e41c981d9f8670bbc6e62",
    "time": "2020-01-10T23:07:27.951Z",
    "type": "completion"
   },
   {
    "code": "lux.Result",
    "id": "a7477544beaf4453848e517b9b796c45",
    "idx": 7,
    "time": "2020-01-10T23:07:31.931Z",
    "type": "exec"
   },
   {
    "id": "a7477544beaf4453848e517b9b796c45",
    "time": "2020-01-10T23:07:31.967Z",
    "type": "completion"
   },
   {
    "code": "# def overview(self):\n#     dobj=self\nresultset = lux.Result()\ndobj = lux.DataObj(dataset,[lux.Column(\"?\",dataModel=\"measure\"),lux.Column(\"?\",dataModel=\"measure\")])\nresult = dobj.correlation()\n\ndobj = lux.DataObj(dataset,[lux.Column(\"?\",dataModel=\"measure\")])\nresult2 = dobj.distribution()",
    "id": "8a57ae807f754f089c4ac6e72ed712e2",
    "idx": 5,
    "time": "2020-01-10T23:09:00.524Z",
    "type": "exec"
   },
   {
    "id": "8a57ae807f754f089c4ac6e72ed712e2",
    "time": "2020-01-10T23:09:00.653Z",
    "type": "completion"
   },
   {
    "code": "# def overview(self):\n#     dobj=self\nresultset = lux.Result()\ndobj = lux.DataObj(dataset,[lux.Column(\"?\",dataModel=\"measure\"),lux.Column(\"?\",dataModel=\"measure\")])\nresult = dobj.correlation()\nresultset.append(result)\ndobj = lux.DataObj(dataset,[lux.Column(\"?\",dataModel=\"measure\")])\nresult2 = dobj.distribution()\nresultset.append(result2)",
    "id": "8a57ae807f754f089c4ac6e72ed712e2",
    "idx": 5,
    "time": "2020-01-10T23:09:32.676Z",
    "type": "exec"
   },
   {
    "id": "8a57ae807f754f089c4ac6e72ed712e2",
    "time": "2020-01-10T23:09:32.817Z",
    "type": "completion"
   },
   {
    "code": "# def overview(self):\n#     dobj=self\nresultset = lux.Result()\ndobj = lux.DataObj(dataset,[lux.Column(\"?\",dataModel=\"measure\"),lux.Column(\"?\",dataModel=\"measure\")])\nresult = dobj.correlation()\nresultset.results.append(result)\ndobj = lux.DataObj(dataset,[lux.Column(\"?\",dataModel=\"measure\")])\nresult2 = dobj.distribution()\nresultset.results.append(result2)",
    "id": "8a57ae807f754f089c4ac6e72ed712e2",
    "idx": 5,
    "time": "2020-01-10T23:10:41.599Z",
    "type": "exec"
   },
   {
    "id": "8a57ae807f754f089c4ac6e72ed712e2",
    "time": "2020-01-10T23:10:41.711Z",
    "type": "completion"
   },
   {
    "code": "resultset",
    "id": "dab36828f17f4a1394ab9a08c121a03a",
    "idx": 6,
    "time": "2020-01-10T23:10:51.083Z",
    "type": "exec"
   },
   {
    "id": "dab36828f17f4a1394ab9a08c121a03a",
    "time": "2020-01-10T23:10:51.119Z",
    "type": "completion"
   },
   {
    "code": "result",
    "id": "2909314e1ca64d51877f678fe618aa5b",
    "idx": 6,
    "time": "2020-01-10T23:11:53.103Z",
    "type": "exec"
   },
   {
    "id": "2909314e1ca64d51877f678fe618aa5b",
    "time": "2020-01-10T23:11:53.137Z",
    "type": "completion"
   },
   {
    "code": "# def overview(self):\n#     dobj=self\nfrom lux.action.Correlation import correlation\nresultset = lux.Result()\ndobj = lux.DataObj(dataset,[lux.Column(\"?\",dataModel=\"measure\"),lux.Column(\"?\",dataModel=\"measure\")])\nresult = correlation(dobj)\n# resultset.results.append(result)\n# dobj = lux.DataObj(dataset,[lux.Column(\"?\",dataModel=\"measure\")])\n# result2 = dobj.distribution()\n# resultset.results.append(result2)",
    "id": "8a57ae807f754f089c4ac6e72ed712e2",
    "idx": 5,
    "time": "2020-01-10T23:36:39.251Z",
    "type": "exec"
   },
   {
    "id": "8a57ae807f754f089c4ac6e72ed712e2",
    "time": "2020-01-10T23:36:39.371Z",
    "type": "completion"
   },
   {
    "code": "result",
    "id": "2909314e1ca64d51877f678fe618aa5b",
    "idx": 6,
    "time": "2020-01-10T23:36:40.129Z",
    "type": "exec"
   },
   {
    "id": "2909314e1ca64d51877f678fe618aa5b",
    "time": "2020-01-10T23:36:40.162Z",
    "type": "completion"
   },
   {
    "code": "# def overview(self):\n#     dobj=self\nfrom lux.action.Correlation import correlation\nresultset = lux.Result()\ndobj = lux.DataObj(dataset,[lux.Column(\"?\",dataModel=\"measure\"),lux.Column(\"?\",dataModel=\"measure\")])\nresult = correlation(dobj)\nresultset.results.append(result)\n# dobj = lux.DataObj(dataset,[lux.Column(\"?\",dataModel=\"measure\")])\n# result2 = dobj.distribution()\n# resultset.results.append(result2)",
    "id": "8a57ae807f754f089c4ac6e72ed712e2",
    "idx": 5,
    "time": "2020-01-10T23:37:28.555Z",
    "type": "exec"
   },
   {
    "id": "8a57ae807f754f089c4ac6e72ed712e2",
    "time": "2020-01-10T23:37:28.689Z",
    "type": "completion"
   },
   {
    "code": "# def overview(self):\n#     dobj=self\nfrom lux.action.Correlation import correlation\nresultset = lux.Result()\ndobj = lux.DataObj(dataset,[lux.Column(\"?\",dataModel=\"measure\"),lux.Column(\"?\",dataModel=\"measure\")])\nresult = correlation(dobj)\nresultset.results.append(result)\n# dobj = lux.DataObj(dataset,[lux.Column(\"?\",dataModel=\"measure\")])\n# result2 = dobj.distribution()\n# resultset.results.append(result2)",
    "id": "8a57ae807f754f089c4ac6e72ed712e2",
    "idx": 5,
    "time": "2020-01-10T23:37:30.121Z",
    "type": "exec"
   },
   {
    "id": "8a57ae807f754f089c4ac6e72ed712e2",
    "time": "2020-01-10T23:37:30.258Z",
    "type": "completion"
   },
   {
    "code": "# def overview(self):\n#     dobj=self\nfrom lux.action.Correlation import correlation\nresultset = lux.Result()\ndobj = lux.DataObj(dataset,[lux.Column(\"?\",dataModel=\"measure\"),lux.Column(\"?\",dataModel=\"measure\")])\nresult = correlation(dobj)\nresultset.resultsJSON\n# dobj = lux.DataObj(dataset,[lux.Column(\"?\",dataModel=\"measure\")])\n# result2 = dobj.distribution()\n# resultset.results.append(result2)",
    "id": "8a57ae807f754f089c4ac6e72ed712e2",
    "idx": 5,
    "time": "2020-01-10T23:37:59.195Z",
    "type": "exec"
   },
   {
    "id": "8a57ae807f754f089c4ac6e72ed712e2",
    "time": "2020-01-10T23:37:59.329Z",
    "type": "completion"
   },
   {
    "code": "# def overview(self):\n#     dobj=self\nfrom lux.action.Correlation import correlation\nresultset = lux.Result()\ndobj = lux.DataObj(dataset,[lux.Column(\"?\",dataModel=\"measure\"),lux.Column(\"?\",dataModel=\"measure\")])\nresult = correlation(dobj)\nresultset.resultsJSON.append(result)\n# dobj = lux.DataObj(dataset,[lux.Column(\"?\",dataModel=\"measure\")])\n# result2 = dobj.distribution()\n# resultset.results.append(result2)",
    "id": "8a57ae807f754f089c4ac6e72ed712e2",
    "idx": 5,
    "time": "2020-01-10T23:38:01.412Z",
    "type": "exec"
   },
   {
    "id": "8a57ae807f754f089c4ac6e72ed712e2",
    "time": "2020-01-10T23:38:01.533Z",
    "type": "completion"
   },
   {
    "code": "result",
    "id": "2909314e1ca64d51877f678fe618aa5b",
    "idx": 6,
    "time": "2020-01-10T23:38:02.224Z",
    "type": "exec"
   },
   {
    "id": "2909314e1ca64d51877f678fe618aa5b",
    "time": "2020-01-10T23:38:02.267Z",
    "type": "completion"
   },
   {
    "code": "resultset",
    "id": "2909314e1ca64d51877f678fe618aa5b",
    "idx": 6,
    "time": "2020-01-10T23:38:04.553Z",
    "type": "exec"
   },
   {
    "id": "2909314e1ca64d51877f678fe618aa5b",
    "time": "2020-01-10T23:38:04.598Z",
    "type": "completion"
   },
   {
    "code": "resultset",
    "id": "2909314e1ca64d51877f678fe618aa5b",
    "idx": 6,
    "time": "2020-01-10T23:45:02.777Z",
    "type": "exec"
   },
   {
    "id": "2909314e1ca64d51877f678fe618aa5b",
    "time": "2020-01-10T23:45:02.825Z",
    "type": "completion"
   },
   {
    "code": "resultset.result",
    "id": "2909314e1ca64d51877f678fe618aa5b",
    "idx": 6,
    "time": "2020-01-10T23:45:17.369Z",
    "type": "exec"
   },
   {
    "id": "2909314e1ca64d51877f678fe618aa5b",
    "time": "2020-01-10T23:45:17.407Z",
    "type": "completion"
   },
   {
    "code": "resultset.resultsJSON[0]",
    "id": "2909314e1ca64d51877f678fe618aa5b",
    "idx": 6,
    "time": "2020-01-10T23:45:21.242Z",
    "type": "exec"
   },
   {
    "id": "2909314e1ca64d51877f678fe618aa5b",
    "time": "2020-01-10T23:45:21.300Z",
    "type": "completion"
   },
   {
    "code": "# def overview(self):\n#     dobj=self\nfrom lux.action.Correlation import correlation\nresultset = lux.Result()\ndobj = lux.DataObj(dataset,[lux.Column(\"?\",dataModel=\"measure\"),lux.Column(\"?\",dataModel=\"measure\")])\nresult = correlation(dobj)\nresultset.resultsJSON.append(result)\nresultset.resultsDataObjs.append(dobj)\n# dobj = lux.DataObj(dataset,[lux.Column(\"?\",dataModel=\"measure\")])\n# result2 = dobj.distribution()\n# resultset.results.append(result2)",
    "id": "8a57ae807f754f089c4ac6e72ed712e2",
    "idx": 5,
    "time": "2020-01-10T23:46:16.974Z",
    "type": "exec"
   },
   {
    "id": "8a57ae807f754f089c4ac6e72ed712e2",
    "time": "2020-01-10T23:46:17.085Z",
    "type": "completion"
   },
   {
    "code": "resultset.results",
    "id": "2909314e1ca64d51877f678fe618aa5b",
    "idx": 6,
    "time": "2020-01-10T23:46:18.138Z",
    "type": "exec"
   },
   {
    "id": "2909314e1ca64d51877f678fe618aa5b",
    "time": "2020-01-10T23:46:18.181Z",
    "type": "completion"
   },
   {
    "code": "resultset.resultsDataObjs",
    "id": "2909314e1ca64d51877f678fe618aa5b",
    "idx": 6,
    "time": "2020-01-10T23:46:26.682Z",
    "type": "exec"
   },
   {
    "id": "2909314e1ca64d51877f678fe618aa5b",
    "time": "2020-01-10T23:46:26.743Z",
    "type": "completion"
   },
   {
    "code": "resultset.resultsDataObjs",
    "id": "2909314e1ca64d51877f678fe618aa5b",
    "idx": 6,
    "time": "2020-01-10T23:46:43.483Z",
    "type": "exec"
   },
   {
    "id": "2909314e1ca64d51877f678fe618aa5b",
    "time": "2020-01-10T23:46:43.531Z",
    "type": "completion"
   },
   {
    "code": "resultset.resultsDataObjs[0]",
    "id": "2909314e1ca64d51877f678fe618aa5b",
    "idx": 6,
    "time": "2020-01-10T23:47:07.923Z",
    "type": "exec"
   },
   {
    "id": "2909314e1ca64d51877f678fe618aa5b",
    "time": "2020-01-10T23:47:07.968Z",
    "type": "completion"
   },
   {
    "code": "# def overview(self):\n#     dobj=self\nfrom lux.action.Correlation import correlation\nresultset = lux.Result()\ndobj = lux.DataObj(dataset,[lux.Column(\"?\",dataModel=\"measure\"),lux.Column(\"?\",dataModel=\"measure\")])\nresult = correlation(dobj)\nresultset.resultsJSON.append(result)\nresultset.resultsDataObjs.append(dobj)\n# dobj = lux.DataObj(dataset,[lux.Column(\"?\",dataModel=\"measure\")])\n# result2 = dobj.distribution()\n# resultset.results.append(result2)",
    "id": "8a57ae807f754f089c4ac6e72ed712e2",
    "idx": 5,
    "time": "2020-01-10T23:49:53.702Z",
    "type": "exec"
   },
   {
    "id": "8a57ae807f754f089c4ac6e72ed712e2",
    "time": "2020-01-10T23:49:53.821Z",
    "type": "completion"
   },
   {
    "code": "resultset.toJSON()",
    "id": "99bf52312fbf458383afb6259e1f7c19",
    "idx": 6,
    "time": "2020-01-10T23:50:01.526Z",
    "type": "exec"
   },
   {
    "id": "99bf52312fbf458383afb6259e1f7c19",
    "time": "2020-01-10T23:50:01.565Z",
    "type": "completion"
   },
   {
    "code": "resultset.resultsJSON",
    "id": "ab49a11ffc8943828eacbf2d4073305d",
    "idx": 6,
    "time": "2020-01-10T23:51:09.509Z",
    "type": "exec"
   },
   {
    "id": "ab49a11ffc8943828eacbf2d4073305d",
    "time": "2020-01-10T23:51:09.643Z",
    "type": "completion"
   },
   {
    "code": "# def overview(self):\n#     dobj=self\nfrom lux.action.Correlation import correlation\nresultset = lux.Result()\ndobj = lux.DataObj(dataset,[lux.Column(\"?\",dataModel=\"measure\"),lux.Column(\"?\",dataModel=\"measure\")])\nresult = correlation(dobj)\nresultset.resultsJSON.append(result)\nresultset.resultsDataObjs.append(dobj)\n# dobj = lux.DataObj(dataset,[lux.Column(\"?\",dataModel=\"measure\")])\n# result2 = dobj.distribution()\n# resultset.results.append(result2)",
    "id": "8a57ae807f754f089c4ac6e72ed712e2",
    "idx": 5,
    "time": "2020-01-10T23:51:29.872Z",
    "type": "exec"
   },
   {
    "id": "8a57ae807f754f089c4ac6e72ed712e2",
    "time": "2020-01-10T23:51:29.988Z",
    "type": "completion"
   },
   {
    "code": "resultset.resultsJSON",
    "id": "ab49a11ffc8943828eacbf2d4073305d",
    "idx": 6,
    "time": "2020-01-10T23:51:31.314Z",
    "type": "exec"
   },
   {
    "id": "ab49a11ffc8943828eacbf2d4073305d",
    "time": "2020-01-10T23:51:31.372Z",
    "type": "completion"
   },
   {
    "code": "resultset.resultsJSON",
    "id": "ab49a11ffc8943828eacbf2d4073305d",
    "idx": 6,
    "time": "2020-01-10T23:53:03.088Z",
    "type": "exec"
   },
   {
    "id": "ab49a11ffc8943828eacbf2d4073305d",
    "time": "2020-01-10T23:53:03.245Z",
    "type": "completion"
   },
   {
    "code": "# def overview(self):\n#     dobj=self\nfrom lux.action.Correlation import correlation\nresultset = lux.Result()\ndobj = lux.DataObj(dataset,[lux.Column(\"?\",dataModel=\"measure\"),lux.Column(\"?\",dataModel=\"measure\")])\nresult = correlation(dobj)\nresultset.resultsJSON.append(result)\nresultset.resultsDataObjs.append(dobj)\n# dobj = lux.DataObj(dataset,[lux.Column(\"?\",dataModel=\"measure\")])\n# result2 = dobj.distribution()\n# resultset.results.append(result2)",
    "id": "8a57ae807f754f089c4ac6e72ed712e2",
    "idx": 5,
    "time": "2020-01-10T23:53:04.328Z",
    "type": "exec"
   },
   {
    "id": "8a57ae807f754f089c4ac6e72ed712e2",
    "time": "2020-01-10T23:53:04.434Z",
    "type": "completion"
   },
   {
    "code": "resultset.resultsJSON",
    "id": "ab49a11ffc8943828eacbf2d4073305d",
    "idx": 6,
    "time": "2020-01-10T23:53:04.542Z",
    "type": "exec"
   },
   {
    "id": "ab49a11ffc8943828eacbf2d4073305d",
    "time": "2020-01-10T23:53:04.583Z",
    "type": "completion"
   },
   {
    "code": "resultset.toJSON()",
    "id": "99bf52312fbf458383afb6259e1f7c19",
    "idx": 7,
    "time": "2020-01-10T23:53:05.336Z",
    "type": "exec"
   },
   {
    "id": "99bf52312fbf458383afb6259e1f7c19",
    "time": "2020-01-10T23:53:05.381Z",
    "type": "completion"
   },
   {
    "code": "resultset.toJSON()",
    "id": "99bf52312fbf458383afb6259e1f7c19",
    "idx": 7,
    "time": "2020-01-10T23:53:23.480Z",
    "type": "exec"
   },
   {
    "id": "99bf52312fbf458383afb6259e1f7c19",
    "time": "2020-01-10T23:53:23.623Z",
    "type": "completion"
   },
   {
    "code": "resultset.resultsJSON",
    "id": "ab49a11ffc8943828eacbf2d4073305d",
    "idx": 6,
    "time": "2020-01-10T23:53:42.976Z",
    "type": "exec"
   },
   {
    "id": "ab49a11ffc8943828eacbf2d4073305d",
    "time": "2020-01-10T23:53:43.116Z",
    "type": "completion"
   },
   {
    "code": "resultset.toJSON()",
    "id": "99bf52312fbf458383afb6259e1f7c19",
    "idx": 7,
    "time": "2020-01-10T23:53:45.128Z",
    "type": "exec"
   },
   {
    "id": "99bf52312fbf458383afb6259e1f7c19",
    "time": "2020-01-10T23:53:45.170Z",
    "type": "completion"
   },
   {
    "code": "resultset.toJSON()",
    "id": "99bf52312fbf458383afb6259e1f7c19",
    "idx": 7,
    "time": "2020-01-10T23:54:08.121Z",
    "type": "exec"
   },
   {
    "id": "99bf52312fbf458383afb6259e1f7c19",
    "time": "2020-01-10T23:54:08.275Z",
    "type": "completion"
   },
   {
    "code": "resultset.toJSON()",
    "id": "99bf52312fbf458383afb6259e1f7c19",
    "idx": 7,
    "time": "2020-01-10T23:54:18.241Z",
    "type": "exec"
   },
   {
    "id": "99bf52312fbf458383afb6259e1f7c19",
    "time": "2020-01-10T23:54:18.387Z",
    "type": "completion"
   },
   {
    "code": "resultset.toJSON()",
    "id": "99bf52312fbf458383afb6259e1f7c19",
    "idx": 7,
    "time": "2020-01-10T23:55:17.889Z",
    "type": "exec"
   },
   {
    "id": "99bf52312fbf458383afb6259e1f7c19",
    "time": "2020-01-10T23:55:18.025Z",
    "type": "completion"
   },
   {
    "code": "resultset.toJSON()",
    "id": "99bf52312fbf458383afb6259e1f7c19",
    "idx": 7,
    "time": "2020-01-10T23:55:35.449Z",
    "type": "exec"
   },
   {
    "id": "99bf52312fbf458383afb6259e1f7c19",
    "time": "2020-01-10T23:55:35.594Z",
    "type": "completion"
   },
   {
    "code": "resultset.toJSON()",
    "id": "99bf52312fbf458383afb6259e1f7c19",
    "idx": 7,
    "time": "2020-01-10T23:56:14.211Z",
    "type": "exec"
   },
   {
    "id": "99bf52312fbf458383afb6259e1f7c19",
    "time": "2020-01-10T23:56:15.943Z",
    "type": "completion"
   },
   {
    "code": "resultset.display()",
    "id": "99bf52312fbf458383afb6259e1f7c19",
    "idx": 7,
    "time": "2020-01-10T23:56:29.035Z",
    "type": "exec"
   },
   {
    "id": "99bf52312fbf458383afb6259e1f7c19",
    "time": "2020-01-10T23:56:29.169Z",
    "type": "completion"
   },
   {
    "code": "resultset.toJSON()",
    "id": "99bf52312fbf458383afb6259e1f7c19",
    "idx": 7,
    "time": "2020-01-10T23:56:47.564Z",
    "type": "exec"
   },
   {
    "id": "99bf52312fbf458383afb6259e1f7c19",
    "time": "2020-01-10T23:56:47.610Z",
    "type": "completion"
   },
   {
    "code": "# def overview(self):\n#     dobj=self\nfrom lux.action.Correlation import correlation\nresultset = lux.Result()\ndobj = lux.DataObj(dataset,[lux.Column(\"?\",dataModel=\"measure\"),lux.Column(\"?\",dataModel=\"measure\")])\nresult = correlation(dobj)\nresultset.resultsJSON.append(result)\nresultset.resultsDataObjs.append(dobj)\n# dobj = lux.DataObj(dataset,[lux.Column(\"?\",dataModel=\"measure\")])\n# result2 = dobj.distribution()\n# resultset.results.append(result2)",
    "id": "8a57ae807f754f089c4ac6e72ed712e2",
    "idx": 5,
    "time": "2020-01-10T23:56:54.228Z",
    "type": "exec"
   },
   {
    "id": "8a57ae807f754f089c4ac6e72ed712e2",
    "time": "2020-01-10T23:56:54.345Z",
    "type": "completion"
   },
   {
    "code": "resultset.resultsJSON",
    "id": "ab49a11ffc8943828eacbf2d4073305d",
    "idx": 6,
    "time": "2020-01-10T23:56:54.520Z",
    "type": "exec"
   },
   {
    "id": "ab49a11ffc8943828eacbf2d4073305d",
    "time": "2020-01-10T23:56:54.555Z",
    "type": "completion"
   },
   {
    "code": "resultset.display()",
    "id": "99bf52312fbf458383afb6259e1f7c19",
    "idx": 7,
    "time": "2020-01-10T23:56:54.947Z",
    "type": "exec"
   },
   {
    "id": "99bf52312fbf458383afb6259e1f7c19",
    "time": "2020-01-10T23:56:55.858Z",
    "type": "completion"
   },
   {
    "code": "# def overview(self):\n#     dobj=self\nfrom lux.action.Correlation import correlation\nresultset = lux.Result()\ndobj = lux.DataObj(dataset,[lux.Column(\"?\",dataModel=\"measure\"),lux.Column(\"?\",dataModel=\"measure\")])\nresult = correlation(dobj)\nresultset.resultsJSON.append(result)\nresultset.resultsDataObjs.append(dobj)\n\nfrom lux.action.Distribution import distribution\ndobj = lux.DataObj(dataset,[lux.Column(\"?\",dataModel=\"measure\")])\nresult = distribution(dobj)\nresultset.resultsJSON.append(result)\nresultset.resultsDataObjs.append(dobj)",
    "id": "8a57ae807f754f089c4ac6e72ed712e2",
    "idx": 5,
    "time": "2020-01-10T23:58:37.148Z",
    "type": "exec"
   },
   {
    "id": "8a57ae807f754f089c4ac6e72ed712e2",
    "time": "2020-01-10T23:58:37.254Z",
    "type": "completion"
   },
   {
    "code": "resultset.resultsJSON",
    "id": "ab49a11ffc8943828eacbf2d4073305d",
    "idx": 6,
    "time": "2020-01-10T23:58:40.597Z",
    "type": "exec"
   },
   {
    "id": "ab49a11ffc8943828eacbf2d4073305d",
    "time": "2020-01-10T23:58:40.641Z",
    "type": "completion"
   },
   {
    "code": "resultset.display()",
    "id": "99bf52312fbf458383afb6259e1f7c19",
    "idx": 6,
    "time": "2020-01-10T23:58:44.449Z",
    "type": "exec"
   },
   {
    "id": "99bf52312fbf458383afb6259e1f7c19",
    "time": "2020-01-10T23:58:45.408Z",
    "type": "completion"
   },
   {
    "code": "resultset.toJSON()",
    "id": "41cca9bf1758473788563c5988cca53e",
    "idx": 7,
    "time": "2020-01-10T23:59:05.871Z",
    "type": "exec"
   },
   {
    "id": "41cca9bf1758473788563c5988cca53e",
    "time": "2020-01-10T23:59:05.992Z",
    "type": "completion"
   },
   {
    "code": "# def overview(self):\n#     dobj=self\nfrom lux.action.Correlation import correlation\nresultset = lux.Result()\ndobj = lux.DataObj(dataset,[lux.Column(\"?\",dataModel=\"measure\"),lux.Column(\"?\",dataModel=\"measure\")])\nresult = correlation(dobj)\nresultset.resultsJSON.append(result)\nresultset.resultsDataObjs.append(dobj)\n\nfrom lux.action.Distribution import distribution\ndobj = lux.DataObj(dataset,[lux.Column(\"?\",dataModel=\"measure\")])\nresult = distribution(dobj)\nresultset.resultsJSON.append(result)\nresultset.resultsDataObjs.append(dobj)",
    "id": "8a57ae807f754f089c4ac6e72ed712e2",
    "idx": 5,
    "time": "2020-01-10T23:59:08.829Z",
    "type": "exec"
   },
   {
    "id": "8a57ae807f754f089c4ac6e72ed712e2",
    "time": "2020-01-10T23:59:08.950Z",
    "type": "completion"
   },
   {
    "code": "resultset.resultsJSON",
    "id": "aa2ad76fc36d42028e0076d0b1282593",
    "idx": 6,
    "time": "2020-01-10T23:59:09.011Z",
    "type": "exec"
   },
   {
    "id": "aa2ad76fc36d42028e0076d0b1282593",
    "time": "2020-01-10T23:59:09.144Z",
    "type": "completion"
   },
   {
    "code": "resultset.toJSON()",
    "id": "41cca9bf1758473788563c5988cca53e",
    "idx": 7,
    "time": "2020-01-10T23:59:09.539Z",
    "type": "exec"
   },
   {
    "id": "41cca9bf1758473788563c5988cca53e",
    "time": "2020-01-10T23:59:10.581Z",
    "type": "completion"
   },
   {
    "code": "resultset.toJSON()",
    "id": "41cca9bf1758473788563c5988cca53e",
    "idx": 7,
    "time": "2020-01-11T00:00:02.996Z",
    "type": "exec"
   },
   {
    "id": "41cca9bf1758473788563c5988cca53e",
    "time": "2020-01-11T00:00:03.665Z",
    "type": "completion"
   },
   {
    "code": "resultset.toJSON()",
    "id": "41cca9bf1758473788563c5988cca53e",
    "idx": 7,
    "time": "2020-01-11T00:00:14.106Z",
    "type": "exec"
   },
   {
    "id": "41cca9bf1758473788563c5988cca53e",
    "time": "2020-01-11T00:00:14.258Z",
    "type": "completion"
   },
   {
    "code": "# def overview(self):\n#     dobj=self\nfrom lux.action.Correlation import correlation\nresultset = lux.Result()\ndobj = lux.DataObj(dataset,[lux.Column(\"?\",dataModel=\"measure\"),lux.Column(\"?\",dataModel=\"measure\")])\nresult = correlation(dobj)\nresultset.resultsJSON.append(result)\nresultset.resultsDataObjs.append(dobj)\n\nfrom lux.action.Distribution import distribution\ndobj = lux.DataObj(dataset,[lux.Column(\"?\",dataModel=\"measure\")])\nresult = distribution(dobj)\nresultset.resultsJSON.append(result)\nresultset.resultsDataObjs.append(dobj)",
    "id": "8a57ae807f754f089c4ac6e72ed712e2",
    "idx": 5,
    "time": "2020-01-11T00:00:17.464Z",
    "type": "exec"
   },
   {
    "id": "8a57ae807f754f089c4ac6e72ed712e2",
    "time": "2020-01-11T00:00:17.584Z",
    "type": "completion"
   },
   {
    "code": "resultset.resultsJSON",
    "id": "aa2ad76fc36d42028e0076d0b1282593",
    "idx": 6,
    "time": "2020-01-11T00:00:17.675Z",
    "type": "exec"
   },
   {
    "id": "aa2ad76fc36d42028e0076d0b1282593",
    "time": "2020-01-11T00:00:17.733Z",
    "type": "completion"
   },
   {
    "code": "resultset.toJSON()",
    "id": "41cca9bf1758473788563c5988cca53e",
    "idx": 7,
    "time": "2020-01-11T00:00:18.200Z",
    "type": "exec"
   },
   {
    "id": "41cca9bf1758473788563c5988cca53e",
    "time": "2020-01-11T00:00:18.244Z",
    "type": "completion"
   },
   {
    "code": "resultset.toJSON()",
    "id": "41cca9bf1758473788563c5988cca53e",
    "idx": 7,
    "time": "2020-01-11T00:00:34.063Z",
    "type": "exec"
   },
   {
    "id": "41cca9bf1758473788563c5988cca53e",
    "time": "2020-01-11T00:00:35.761Z",
    "type": "completion"
   },
   {
    "code": "# def overview(self):\n#     dobj=self\nfrom lux.action.Correlation import correlation\nresultset = lux.Result()\ndobj = lux.DataObj(dataset,[lux.Column(\"?\",dataModel=\"measure\"),lux.Column(\"?\",dataModel=\"measure\")])\nresult = correlation(dobj)\nresultset.resultsJSON.append(result)\nresultset.resultsDataObjs.append(dobj)\n\nfrom lux.action.Distribution import distribution\ndobj = lux.DataObj(dataset,[lux.Column(\"?\",dataModel=\"measure\")])\nresult = distribution(dobj)\nresultset.resultsJSON.append(result)\nresultset.resultsDataObjs.append(dobj)",
    "id": "8a57ae807f754f089c4ac6e72ed712e2",
    "idx": 5,
    "time": "2020-01-11T00:01:02.374Z",
    "type": "exec"
   },
   {
    "code": "resultset.resultsJSON",
    "id": "aa2ad76fc36d42028e0076d0b1282593",
    "idx": 6,
    "time": "2020-01-11T00:01:02.532Z",
    "type": "exec"
   },
   {
    "id": "8a57ae807f754f089c4ac6e72ed712e2",
    "time": "2020-01-11T00:01:02.578Z",
    "type": "completion"
   },
   {
    "id": "aa2ad76fc36d42028e0076d0b1282593",
    "time": "2020-01-11T00:01:02.621Z",
    "type": "completion"
   },
   {
    "code": "resultset.toJSON()",
    "id": "41cca9bf1758473788563c5988cca53e",
    "idx": 7,
    "time": "2020-01-11T00:01:02.822Z",
    "type": "exec"
   },
   {
    "id": "41cca9bf1758473788563c5988cca53e",
    "time": "2020-01-11T00:01:04.569Z",
    "type": "completion"
   },
   {
    "code": "resultset.toJSON()",
    "id": "41cca9bf1758473788563c5988cca53e",
    "idx": 7,
    "time": "2020-01-11T00:01:30.972Z",
    "type": "exec"
   },
   {
    "id": "41cca9bf1758473788563c5988cca53e",
    "time": "2020-01-11T00:01:31.406Z",
    "type": "completion"
   },
   {
    "code": "# def overview(self):\n#     dobj=self\nfrom lux.action.Correlation import correlation\nresultset = lux.Result()\ndobj = lux.DataObj(dataset,[lux.Column(\"?\",dataModel=\"measure\"),lux.Column(\"?\",dataModel=\"measure\")])\nresult = correlation(dobj)\nresultset.resultsJSON.append(result)\nresultset.resultsDataObjs.append(dobj)\n\nfrom lux.action.Distribution import distribution\ndobj = lux.DataObj(dataset,[lux.Column(\"?\",dataModel=\"measure\")])\nresult = distribution(dobj)\nresultset.resultsJSON.append(result)\nresultset.resultsDataObjs.append(dobj)",
    "id": "8a57ae807f754f089c4ac6e72ed712e2",
    "idx": 5,
    "time": "2020-01-11T00:01:41.321Z",
    "type": "exec"
   },
   {
    "id": "8a57ae807f754f089c4ac6e72ed712e2",
    "time": "2020-01-11T00:01:41.462Z",
    "type": "completion"
   },
   {
    "code": "resultset.resultsJSON",
    "id": "aa2ad76fc36d42028e0076d0b1282593",
    "idx": 6,
    "time": "2020-01-11T00:01:41.518Z",
    "type": "exec"
   },
   {
    "id": "aa2ad76fc36d42028e0076d0b1282593",
    "time": "2020-01-11T00:01:41.598Z",
    "type": "completion"
   },
   {
    "code": "resultset.toJSON()",
    "id": "41cca9bf1758473788563c5988cca53e",
    "idx": 7,
    "time": "2020-01-11T00:01:41.682Z",
    "type": "exec"
   },
   {
    "id": "41cca9bf1758473788563c5988cca53e",
    "time": "2020-01-11T00:01:42.816Z",
    "type": "completion"
   },
   {
    "code": "resultset.resultsJSON",
    "id": "41cca9bf1758473788563c5988cca53e",
    "idx": 7,
    "time": "2020-01-11T00:02:31.474Z",
    "type": "exec"
   },
   {
    "id": "41cca9bf1758473788563c5988cca53e",
    "time": "2020-01-11T00:02:31.520Z",
    "type": "completion"
   },
   {
    "code": "resultset.resultsJSON",
    "id": "41cca9bf1758473788563c5988cca53e",
    "idx": 7,
    "time": "2020-01-11T00:03:52.395Z",
    "type": "exec"
   },
   {
    "id": "41cca9bf1758473788563c5988cca53e",
    "time": "2020-01-11T00:03:52.553Z",
    "type": "completion"
   },
   {
    "code": "resultset.resultsJSON",
    "id": "aa2ad76fc36d42028e0076d0b1282593",
    "idx": 6,
    "time": "2020-01-11T00:03:55.802Z",
    "type": "exec"
   },
   {
    "id": "aa2ad76fc36d42028e0076d0b1282593",
    "time": "2020-01-11T00:03:55.848Z",
    "type": "completion"
   },
   {
    "code": "resultset.resultsJSON",
    "id": "41cca9bf1758473788563c5988cca53e",
    "idx": 7,
    "time": "2020-01-11T00:03:56.658Z",
    "type": "exec"
   },
   {
    "id": "41cca9bf1758473788563c5988cca53e",
    "time": "2020-01-11T00:03:56.705Z",
    "type": "completion"
   },
   {
    "code": "resultset.display()",
    "id": "99bf52312fbf458383afb6259e1f7c19",
    "idx": 8,
    "time": "2020-01-11T00:03:57.567Z",
    "type": "exec"
   },
   {
    "id": "99bf52312fbf458383afb6259e1f7c19",
    "time": "2020-01-11T00:03:57.717Z",
    "type": "completion"
   },
   {
    "code": "# def overview(self):\n#     dobj=self\nfrom lux.action.Correlation import correlation\nresultset = lux.Result()\ndobj = lux.DataObj(dataset,[lux.Column(\"?\",dataModel=\"measure\"),lux.Column(\"?\",dataModel=\"measure\")])\nresult = correlation(dobj)\nresultset.resultsJSON.append(result)\nresultset.resultsDataObjs.append(dobj)\n\nfrom lux.action.Distribution import distribution\ndobj = lux.DataObj(dataset,[lux.Column(\"?\",dataModel=\"measure\")])\nresult = distribution(dobj)\nresultset.resultsJSON.append(result)\nresultset.resultsDataObjs.append(dobj)",
    "id": "8a57ae807f754f089c4ac6e72ed712e2",
    "idx": 5,
    "time": "2020-01-11T00:04:00.016Z",
    "type": "exec"
   },
   {
    "id": "8a57ae807f754f089c4ac6e72ed712e2",
    "time": "2020-01-11T00:04:00.134Z",
    "type": "completion"
   },
   {
    "code": "resultset.resultsJSON",
    "id": "aa2ad76fc36d42028e0076d0b1282593",
    "idx": 6,
    "time": "2020-01-11T00:04:00.945Z",
    "type": "exec"
   },
   {
    "id": "aa2ad76fc36d42028e0076d0b1282593",
    "time": "2020-01-11T00:04:00.989Z",
    "type": "completion"
   },
   {
    "code": "resultset.resultsJSON",
    "id": "41cca9bf1758473788563c5988cca53e",
    "idx": 7,
    "time": "2020-01-11T00:04:01.362Z",
    "type": "exec"
   },
   {
    "id": "41cca9bf1758473788563c5988cca53e",
    "time": "2020-01-11T00:04:01.405Z",
    "type": "completion"
   },
   {
    "code": "resultset.display()",
    "id": "99bf52312fbf458383afb6259e1f7c19",
    "idx": 8,
    "time": "2020-01-11T00:04:02.411Z",
    "type": "exec"
   },
   {
    "id": "99bf52312fbf458383afb6259e1f7c19",
    "time": "2020-01-11T00:04:02.457Z",
    "type": "completion"
   },
   {
    "code": "overview(dobj)",
    "id": "a11a7aae0a344b8bbc0188a8521be483",
    "idx": 9,
    "time": "2020-01-11T00:04:03.242Z",
    "type": "exec"
   },
   {
    "id": "a11a7aae0a344b8bbc0188a8521be483",
    "time": "2020-01-11T00:04:03.358Z",
    "type": "completion"
   },
   {
    "code": "# def overview(self):\n#     dobj=self\nfrom lux.action.Correlation import correlation\nresultset = lux.Result()\ndobj = lux.DataObj(dataset,[lux.Column(\"?\",dataModel=\"measure\"),lux.Column(\"?\",dataModel=\"measure\")])\nresult = correlation(dobj)\nresultset.resultsJSON.append(result)\nresultset.resultsDataObjs.append(dobj)\n\nfrom lux.action.Distribution import distribution\ndobj = lux.DataObj(dataset,[lux.Column(\"?\",dataModel=\"measure\")])\nresult = distribution(dobj)\nresultset.resultsJSON.append(result)\nresultset.resultsDataObjs.append(dobj)",
    "id": "8a57ae807f754f089c4ac6e72ed712e2",
    "idx": 5,
    "time": "2020-01-11T00:04:27.419Z",
    "type": "exec"
   },
   {
    "id": "8a57ae807f754f089c4ac6e72ed712e2",
    "time": "2020-01-11T00:04:27.622Z",
    "type": "completion"
   },
   {
    "code": "resultset.display()",
    "id": "99bf52312fbf458383afb6259e1f7c19",
    "idx": 6,
    "time": "2020-01-11T00:04:29.458Z",
    "type": "exec"
   },
   {
    "id": "99bf52312fbf458383afb6259e1f7c19",
    "time": "2020-01-11T00:04:29.503Z",
    "type": "completion"
   },
   {
    "code": "resultset.display()",
    "id": "99bf52312fbf458383afb6259e1f7c19",
    "idx": 6,
    "time": "2020-01-11T00:05:04.396Z",
    "type": "exec"
   },
   {
    "id": "99bf52312fbf458383afb6259e1f7c19",
    "time": "2020-01-11T00:05:04.589Z",
    "type": "completion"
   },
   {
    "code": "# def overview(self):\n#     dobj=self\nfrom lux.action.Correlation import correlation\nresultset = lux.Result()\ndobj = lux.DataObj(dataset,[lux.Column(\"?\",dataModel=\"measure\"),lux.Column(\"?\",dataModel=\"measure\")])\nresult = correlation(dobj)\nresultset.resultsJSON.append(result)\nresultset.resultsDataObjs.append(dobj)\n\nfrom lux.action.Distribution import distribution\ndobj = lux.DataObj(dataset,[lux.Column(\"?\",dataModel=\"measure\")])\nresult = distribution(dobj)\nresultset.resultsJSON.append(result)\nresultset.resultsDataObjs.append(dobj)",
    "id": "8a57ae807f754f089c4ac6e72ed712e2",
    "idx": 5,
    "time": "2020-01-11T00:05:52.492Z",
    "type": "exec"
   },
   {
    "code": "resultset.display()",
    "id": "99bf52312fbf458383afb6259e1f7c19",
    "idx": 6,
    "time": "2020-01-11T00:05:52.689Z",
    "type": "exec"
   },
   {
    "id": "8a57ae807f754f089c4ac6e72ed712e2",
    "time": "2020-01-11T00:05:52.804Z",
    "type": "completion"
   },
   {
    "id": "99bf52312fbf458383afb6259e1f7c19",
    "time": "2020-01-11T00:05:53.992Z",
    "type": "completion"
   },
   {
    "code": "resultset.display()",
    "id": "99bf52312fbf458383afb6259e1f7c19",
    "idx": 6,
    "time": "2020-01-11T00:06:06.576Z",
    "type": "exec"
   },
   {
    "id": "99bf52312fbf458383afb6259e1f7c19",
    "time": "2020-01-11T00:06:06.778Z",
    "type": "completion"
   },
   {
    "code": "resultset.display()",
    "id": "99bf52312fbf458383afb6259e1f7c19",
    "idx": 6,
    "time": "2020-01-11T00:06:41.742Z",
    "type": "exec"
   },
   {
    "id": "99bf52312fbf458383afb6259e1f7c19",
    "time": "2020-01-11T00:06:41.949Z",
    "type": "completion"
   },
   {
    "code": "# lux.overview(dataset)\n# --> generate correlation and distribution\n# Click on Median Earnings distribution and ",
    "id": "cfd2f0c227eb4126ae693afdab061b1b",
    "idx": 4,
    "time": "2020-01-11T00:06:43.997Z",
    "type": "exec"
   },
   {
    "id": "cfd2f0c227eb4126ae693afdab061b1b",
    "time": "2020-01-11T00:06:44.034Z",
    "type": "completion"
   },
   {
    "code": "# def overview(self):\n#     dobj=self\nfrom lux.action.Correlation import correlation\nresultset = lux.Result()\ndobj = lux.DataObj(dataset,[lux.Column(\"?\",dataModel=\"measure\"),lux.Column(\"?\",dataModel=\"measure\")])\nresult = correlation(dobj)\nresultset.resultsJSON.append(result)\nresultset.resultsDataObjs.append(dobj)\n\nfrom lux.action.Distribution import distribution\ndobj = lux.DataObj(dataset,[lux.Column(\"?\",dataModel=\"measure\")])\nresult = distribution(dobj)\nresultset.resultsJSON.append(result)\nresultset.resultsDataObjs.append(dobj)",
    "id": "8a57ae807f754f089c4ac6e72ed712e2",
    "idx": 5,
    "time": "2020-01-11T00:06:44.210Z",
    "type": "exec"
   },
   {
    "id": "8a57ae807f754f089c4ac6e72ed712e2",
    "time": "2020-01-11T00:06:44.312Z",
    "type": "completion"
   },
   {
    "code": "resultset.display()",
    "id": "99bf52312fbf458383afb6259e1f7c19",
    "idx": 6,
    "time": "2020-01-11T00:06:44.613Z",
    "type": "exec"
   },
   {
    "id": "99bf52312fbf458383afb6259e1f7c19",
    "time": "2020-01-11T00:06:45.196Z",
    "type": "completion"
   },
   {
    "code": "# def overview(self):\n#     dobj=self\nfrom lux.action.Correlation import correlation\nresultset = lux.Result()\ndobj = lux.DataObj(dataset,[lux.Column(\"?\",dataModel=\"measure\"),lux.Column(\"?\",dataModel=\"measure\")])\nresult = correlation(dobj)\nresultset.resultsJSON.append(result)\nresultset.resultsDataObjs.append(dobj)\n\nfrom lux.action.Distribution import distribution\ndobj = lux.DataObj(dataset,[lux.Column(\"?\",dataModel=\"measure\")])\nresult = distribution(dobj)\nresultset.resultsJSON.append(result)\nresultset.resultsDataObjs.append(dobj)",
    "id": "8a57ae807f754f089c4ac6e72ed712e2",
    "idx": 5,
    "time": "2020-01-11T00:07:10.508Z",
    "type": "exec"
   },
   {
    "code": "resultset.display()",
    "id": "99bf52312fbf458383afb6259e1f7c19",
    "idx": 6,
    "time": "2020-01-11T00:07:10.708Z",
    "type": "exec"
   },
   {
    "id": "8a57ae807f754f089c4ac6e72ed712e2",
    "time": "2020-01-11T00:07:10.821Z",
    "type": "completion"
   },
   {
    "id": "99bf52312fbf458383afb6259e1f7c19",
    "time": "2020-01-11T00:07:12.086Z",
    "type": "completion"
   },
   {
    "code": "resultset.display()",
    "id": "99bf52312fbf458383afb6259e1f7c19",
    "idx": 6,
    "time": "2020-01-11T00:07:12.958Z",
    "type": "exec"
   },
   {
    "id": "99bf52312fbf458383afb6259e1f7c19",
    "time": "2020-01-11T00:07:13.017Z",
    "type": "completion"
   },
   {
    "code": "# def overview(self):\n#     dobj=self\nfrom lux.action.Correlation import correlation\nresultset = lux.Result()\ndobj = lux.DataObj(dataset,[lux.Column(\"?\",dataModel=\"measure\"),lux.Column(\"?\",dataModel=\"measure\")])\nresult = correlation(dobj)\nresultset.resultsJSON.append(result)\nresultset.resultsDataObjs.append(dobj)\n\nfrom lux.action.Distribution import distribution\ndobj = lux.DataObj(dataset,[lux.Column(\"?\",dataModel=\"measure\")])\nresult = distribution(dobj)\nresultset.resultsJSON.append(result)\nresultset.resultsDataObjs.append(dobj)",
    "id": "8a57ae807f754f089c4ac6e72ed712e2",
    "idx": 5,
    "time": "2020-01-11T00:12:12.016Z",
    "type": "exec"
   },
   {
    "id": "8a57ae807f754f089c4ac6e72ed712e2",
    "time": "2020-01-11T00:12:12.139Z",
    "type": "completion"
   },
   {
    "code": "resultset.display()",
    "id": "99bf52312fbf458383afb6259e1f7c19",
    "idx": 6,
    "time": "2020-01-11T00:12:12.199Z",
    "type": "exec"
   },
   {
    "id": "99bf52312fbf458383afb6259e1f7c19",
    "time": "2020-01-11T00:12:13.445Z",
    "type": "completion"
   },
   {
    "code": "resultset.display()",
    "id": "99bf52312fbf458383afb6259e1f7c19",
    "idx": 6,
    "time": "2020-01-11T00:14:09.413Z",
    "type": "exec"
   },
   {
    "id": "99bf52312fbf458383afb6259e1f7c19",
    "time": "2020-01-11T00:14:09.575Z",
    "type": "completion"
   },
   {
    "code": "# def overview(self):\n#     dobj=self\nfrom lux.action.Correlation import correlation\nresultset = lux.Result()\ndobj = lux.DataObj(dataset,[lux.Column(\"?\",dataModel=\"measure\"),lux.Column(\"?\",dataModel=\"measure\")])\nresult = correlation(dobj)\nresultset.resultsJSON.append(result)\nresultset.resultsDataObjs.append(dobj)\n\nfrom lux.action.Distribution import distribution\ndobj = lux.DataObj(dataset,[lux.Column(\"?\",dataModel=\"measure\")])\nresult = distribution(dobj)\nresultset.resultsJSON.append(result)\nresultset.resultsDataObjs.append(dobj)",
    "id": "8a57ae807f754f089c4ac6e72ed712e2",
    "idx": 5,
    "time": "2020-01-11T00:14:10.495Z",
    "type": "exec"
   },
   {
    "id": "8a57ae807f754f089c4ac6e72ed712e2",
    "time": "2020-01-11T00:14:10.608Z",
    "type": "completion"
   },
   {
    "code": "resultset.display()",
    "id": "99bf52312fbf458383afb6259e1f7c19",
    "idx": 6,
    "time": "2020-01-11T00:14:10.659Z",
    "type": "exec"
   },
   {
    "id": "99bf52312fbf458383afb6259e1f7c19",
    "time": "2020-01-11T00:14:11.488Z",
    "type": "completion"
   },
   {
    "code": "resultset.display()",
    "id": "99bf52312fbf458383afb6259e1f7c19",
    "idx": 6,
    "time": "2020-01-11T00:14:12.503Z",
    "type": "exec"
   },
   {
    "id": "99bf52312fbf458383afb6259e1f7c19",
    "time": "2020-01-11T00:14:12.563Z",
    "type": "completion"
   },
   {
    "code": "# def overview(self):\n#     dobj=self\nfrom lux.action.Correlation import correlation\nresultset = lux.Result()\ndobj = lux.DataObj(dataset,[lux.Column(\"?\",dataModel=\"measure\"),lux.Column(\"?\",dataModel=\"measure\")])\nresult = correlation(dobj)\nresultset.resultsJSON.append(result)\nresultset.resultsDataObjs.append(dobj)\n\nfrom lux.action.Distribution import distribution\ndobj = lux.DataObj(dataset,[lux.Column(\"?\",dataModel=\"measure\")])\nresult = distribution(dobj)\nresultset.resultsJSON.append(result)\nresultset.resultsDataObjs.append(dobj)",
    "id": "8a57ae807f754f089c4ac6e72ed712e2",
    "idx": 5,
    "time": "2020-01-11T00:15:39.854Z",
    "type": "exec"
   },
   {
    "id": "8a57ae807f754f089c4ac6e72ed712e2",
    "time": "2020-01-11T00:15:39.969Z",
    "type": "completion"
   },
   {
    "code": "resultset.display()",
    "id": "99bf52312fbf458383afb6259e1f7c19",
    "idx": 6,
    "time": "2020-01-11T00:15:40.054Z",
    "type": "exec"
   },
   {
    "id": "99bf52312fbf458383afb6259e1f7c19",
    "time": "2020-01-11T00:15:41.351Z",
    "type": "completion"
   },
   {
    "code": "resultset.display()",
    "id": "99bf52312fbf458383afb6259e1f7c19",
    "idx": 6,
    "time": "2020-01-11T00:17:07.554Z",
    "type": "exec"
   },
   {
    "id": "99bf52312fbf458383afb6259e1f7c19",
    "time": "2020-01-11T00:17:08.713Z",
    "type": "completion"
   },
   {
    "code": "resultset.to_JSON()",
    "id": "99bf52312fbf458383afb6259e1f7c19",
    "idx": 6,
    "time": "2020-01-11T00:17:24.955Z",
    "type": "exec"
   },
   {
    "id": "99bf52312fbf458383afb6259e1f7c19",
    "time": "2020-01-11T00:17:24.996Z",
    "type": "completion"
   },
   {
    "code": "# def overview(self):\n#     dobj=self\nfrom lux.action.Correlation import correlation\nresultset = lux.Result()\ndobj = lux.DataObj(dataset,[lux.Column(\"?\",dataModel=\"measure\"),lux.Column(\"?\",dataModel=\"measure\")])\nresult = correlation(dobj)\nresultset.resultsJSON.append(result)\nresultset.resultsDataObjs.append(dobj)\n\nfrom lux.action.Distribution import distribution\ndobj = lux.DataObj(dataset,[lux.Column(\"?\",dataModel=\"measure\")])\nresult = distribution(dobj)\nresultset.resultsJSON.append(result)\nresultset.resultsDataObjs.append(dobj)",
    "id": "8a57ae807f754f089c4ac6e72ed712e2",
    "idx": 5,
    "time": "2020-01-11T00:17:33.074Z",
    "type": "exec"
   },
   {
    "id": "8a57ae807f754f089c4ac6e72ed712e2",
    "time": "2020-01-11T00:17:33.191Z",
    "type": "completion"
   },
   {
    "code": "json = resultset.toJSON()",
    "id": "99bf52312fbf458383afb6259e1f7c19",
    "idx": 6,
    "time": "2020-01-11T00:17:33.271Z",
    "type": "exec"
   },
   {
    "id": "99bf52312fbf458383afb6259e1f7c19",
    "time": "2020-01-11T00:17:33.845Z",
    "type": "completion"
   },
   {
    "code": "# def overview(self):\n#     dobj=self\nfrom lux.action.Correlation import correlation\nresultset = lux.Result()\ndobj = lux.DataObj(dataset,[lux.Column(\"?\",dataModel=\"measure\"),lux.Column(\"?\",dataModel=\"measure\")])\nresult = correlation(dobj)\nresultset.resultsJSON.append(result)\nresultset.resultsDataObjs.append(dobj)\n\nfrom lux.action.Distribution import distribution\ndobj = lux.DataObj(dataset,[lux.Column(\"?\",dataModel=\"measure\")])\nresult = distribution(dobj)\nresultset.resultsJSON.append(result)\nresultset.resultsDataObjs.append(dobj)",
    "id": "8a57ae807f754f089c4ac6e72ed712e2",
    "idx": 5,
    "time": "2020-01-11T00:17:40.818Z",
    "type": "exec"
   },
   {
    "code": "json = resultset.toJSON()",
    "id": "99bf52312fbf458383afb6259e1f7c19",
    "idx": 6,
    "time": "2020-01-11T00:17:40.980Z",
    "type": "exec"
   },
   {
    "id": "8a57ae807f754f089c4ac6e72ed712e2",
    "time": "2020-01-11T00:17:41.019Z",
    "type": "completion"
   },
   {
    "id": "99bf52312fbf458383afb6259e1f7c19",
    "time": "2020-01-11T00:17:41.510Z",
    "type": "completion"
   },
   {
    "code": "json",
    "id": "1d94937c091d48b6923bcdb713ba4cf3",
    "idx": 7,
    "time": "2020-01-11T00:17:43.883Z",
    "type": "exec"
   },
   {
    "id": "1d94937c091d48b6923bcdb713ba4cf3",
    "time": "2020-01-11T00:17:45.685Z",
    "type": "completion"
   },
   {
    "code": "json[\"recommendations\"].filter(lambda x: x==\"collection\")",
    "id": "1d94937c091d48b6923bcdb713ba4cf3",
    "idx": 7,
    "time": "2020-01-11T00:21:52.415Z",
    "type": "exec"
   },
   {
    "id": "1d94937c091d48b6923bcdb713ba4cf3",
    "time": "2020-01-11T00:21:52.455Z",
    "type": "completion"
   },
   {
    "code": "filter(lambda x: x==\"collection\",json[\"recommendations\"])",
    "id": "1d94937c091d48b6923bcdb713ba4cf3",
    "idx": 7,
    "time": "2020-01-11T00:22:01.872Z",
    "type": "exec"
   },
   {
    "id": "1d94937c091d48b6923bcdb713ba4cf3",
    "time": "2020-01-11T00:22:01.931Z",
    "type": "completion"
   },
   {
    "code": "list(filter(lambda x: x==\"collection\",json[\"recommendations\"]))",
    "id": "1d94937c091d48b6923bcdb713ba4cf3",
    "idx": 7,
    "time": "2020-01-11T00:22:06.209Z",
    "type": "exec"
   },
   {
    "id": "1d94937c091d48b6923bcdb713ba4cf3",
    "time": "2020-01-11T00:22:06.266Z",
    "type": "completion"
   },
   {
    "code": "list(filter(lambda x: x!=\"collection\",json[\"recommendations\"]))",
    "id": "1d94937c091d48b6923bcdb713ba4cf3",
    "idx": 7,
    "time": "2020-01-11T00:22:15.182Z",
    "type": "exec"
   },
   {
    "id": "1d94937c091d48b6923bcdb713ba4cf3",
    "time": "2020-01-11T00:22:16.141Z",
    "type": "completion"
   },
   {
    "code": "resultset",
    "id": "5bc54411372f4d2480545f0e18743c01",
    "idx": 7,
    "time": "2020-01-11T00:26:21.021Z",
    "type": "exec"
   },
   {
    "id": "5bc54411372f4d2480545f0e18743c01",
    "time": "2020-01-11T00:26:21.141Z",
    "type": "completion"
   },
   {
    "code": "self.resultsJSON[\"action\"]",
    "id": "5bc54411372f4d2480545f0e18743c01",
    "idx": 7,
    "time": "2020-01-11T00:31:27.937Z",
    "type": "exec"
   },
   {
    "id": "5bc54411372f4d2480545f0e18743c01",
    "time": "2020-01-11T00:31:28.210Z",
    "type": "completion"
   },
   {
    "code": "self.resultsJSON[0]",
    "id": "5bc54411372f4d2480545f0e18743c01",
    "idx": 7,
    "time": "2020-01-11T00:31:32.420Z",
    "type": "exec"
   },
   {
    "id": "5bc54411372f4d2480545f0e18743c01",
    "time": "2020-01-11T00:31:32.515Z",
    "type": "completion"
   },
   {
    "code": "self.resultsJSON",
    "id": "5bc54411372f4d2480545f0e18743c01",
    "idx": 7,
    "time": "2020-01-11T00:31:36.572Z",
    "type": "exec"
   },
   {
    "id": "5bc54411372f4d2480545f0e18743c01",
    "time": "2020-01-11T00:31:36.666Z",
    "type": "completion"
   },
   {
    "code": "resultset.resultsJSON",
    "id": "5bc54411372f4d2480545f0e18743c01",
    "idx": 7,
    "time": "2020-01-11T00:31:42.365Z",
    "type": "exec"
   },
   {
    "id": "5bc54411372f4d2480545f0e18743c01",
    "time": "2020-01-11T00:31:43.345Z",
    "type": "completion"
   },
   {
    "code": "resultset.resultsJSON[0]",
    "id": "5bc54411372f4d2480545f0e18743c01",
    "idx": 7,
    "time": "2020-01-11T00:31:47.392Z",
    "type": "exec"
   },
   {
    "id": "5bc54411372f4d2480545f0e18743c01",
    "time": "2020-01-11T00:31:48.087Z",
    "type": "completion"
   },
   {
    "code": "\"collection\" in resultset.resultsJSON[0]",
    "id": "5bc54411372f4d2480545f0e18743c01",
    "idx": 7,
    "time": "2020-01-11T00:32:10.534Z",
    "type": "exec"
   },
   {
    "id": "5bc54411372f4d2480545f0e18743c01",
    "time": "2020-01-11T00:32:10.613Z",
    "type": "completion"
   },
   {
    "code": "# def overview(self):\n#     dobj=self\nfrom lux.action.Correlation import correlation\nresultset = lux.Result()\ndobj = lux.DataObj(dataset,[lux.Column(\"?\",dataModel=\"measure\"),lux.Column(\"?\",dataModel=\"measure\")])\nresult = correlation(dobj)\nresultset.resultsJSON.append(result)\nresultset.resultsDataObjs.append(dobj)\n\nfrom lux.action.Distribution import distribution\ndobj = lux.DataObj(dataset,[lux.Column(\"?\",dataModel=\"measure\")])\nresult = distribution(dobj)\nresultset.resultsJSON.append(result)\nresultset.resultsDataObjs.append(dobj)",
    "id": "8a57ae807f754f089c4ac6e72ed712e2",
    "idx": 5,
    "time": "2020-01-11T00:35:28.340Z",
    "type": "exec"
   },
   {
    "id": "8a57ae807f754f089c4ac6e72ed712e2",
    "time": "2020-01-11T00:35:28.579Z",
    "type": "completion"
   },
   {
    "code": "json = resultset.toJSON()",
    "id": "99bf52312fbf458383afb6259e1f7c19",
    "idx": 6,
    "time": "2020-01-11T00:35:28.651Z",
    "type": "exec"
   },
   {
    "id": "99bf52312fbf458383afb6259e1f7c19",
    "time": "2020-01-11T00:35:29.292Z",
    "type": "completion"
   },
   {
    "code": "resultset.resultsJSON",
    "id": "328ee8c59fa6459a8d1f48e36718672d",
    "idx": 7,
    "time": "2020-01-11T00:35:34.514Z",
    "type": "exec"
   },
   {
    "id": "328ee8c59fa6459a8d1f48e36718672d",
    "time": "2020-01-11T00:35:36.356Z",
    "type": "completion"
   },
   {
    "code": "# def overview(self):\n#     dobj=self\nfrom lux.action.Correlation import correlation\nresultset = lux.Result()\ndobj = lux.DataObj(dataset,[lux.Column(\"?\",dataModel=\"measure\"),lux.Column(\"?\",dataModel=\"measure\")])\nresult = correlation(dobj)\nresultset.resultsJSON.append(result)\nresultset.resultsDataObjs.append(dobj)\n\nfrom lux.action.Distribution import distribution\ndobj = lux.DataObj(dataset,[lux.Column(\"?\",dataModel=\"measure\")])\nresult = distribution(dobj)\nresultset.resultsJSON.append(result)\nresultset.resultsDataObjs.append(dobj)",
    "id": "8a57ae807f754f089c4ac6e72ed712e2",
    "idx": 5,
    "time": "2020-01-11T00:35:59.794Z",
    "type": "exec"
   },
   {
    "code": "json = resultset.toJSON()",
    "id": "99bf52312fbf458383afb6259e1f7c19",
    "idx": 6,
    "time": "2020-01-11T00:35:59.997Z",
    "type": "exec"
   },
   {
    "id": "8a57ae807f754f089c4ac6e72ed712e2",
    "time": "2020-01-11T00:36:00.147Z",
    "type": "completion"
   },
   {
    "id": "99bf52312fbf458383afb6259e1f7c19",
    "time": "2020-01-11T00:36:00.811Z",
    "type": "completion"
   },
   {
    "code": "json = resultset.toJSON()",
    "id": "99bf52312fbf458383afb6259e1f7c19",
    "idx": 6,
    "time": "2020-01-11T00:39:13.511Z",
    "type": "exec"
   },
   {
    "id": "99bf52312fbf458383afb6259e1f7c19",
    "time": "2020-01-11T00:39:13.625Z",
    "type": "completion"
   },
   {
    "code": "# def overview(self):\n#     dobj=self\nfrom lux.action.Correlation import correlation\nresultset = lux.Result()\ndobj = lux.DataObj(dataset,[lux.Column(\"?\",dataModel=\"measure\"),lux.Column(\"?\",dataModel=\"measure\")])\nresult = correlation(dobj)\nresultset.resultsJSON.append(result)\nresultset.resultsDataObjs.append(dobj)\n\nfrom lux.action.Distribution import distribution\ndobj = lux.DataObj(dataset,[lux.Column(\"?\",dataModel=\"measure\")])\nresult = distribution(dobj)\nresultset.resultsJSON.append(result)\nresultset.resultsDataObjs.append(dobj)",
    "id": "8a57ae807f754f089c4ac6e72ed712e2",
    "idx": 5,
    "time": "2020-01-11T00:39:16.611Z",
    "type": "exec"
   },
   {
    "id": "8a57ae807f754f089c4ac6e72ed712e2",
    "time": "2020-01-11T00:39:16.694Z",
    "type": "completion"
   },
   {
    "code": "json = resultset.toJSON()",
    "id": "99bf52312fbf458383afb6259e1f7c19",
    "idx": 6,
    "time": "2020-01-11T00:39:16.911Z",
    "type": "exec"
   },
   {
    "id": "99bf52312fbf458383afb6259e1f7c19",
    "time": "2020-01-11T00:39:17.552Z",
    "type": "completion"
   },
   {
    "code": "json = resultset.toJSON()",
    "id": "99bf52312fbf458383afb6259e1f7c19",
    "idx": 6,
    "time": "2020-01-11T00:39:19.654Z",
    "type": "exec"
   },
   {
    "id": "99bf52312fbf458383afb6259e1f7c19",
    "time": "2020-01-11T00:39:19.759Z",
    "type": "completion"
   },
   {
    "code": "# def overview(self):\n#     dobj=self\nfrom lux.action.Correlation import correlation\nresultset = lux.Result()\ndobj = lux.DataObj(dataset,[lux.Column(\"?\",dataModel=\"measure\"),lux.Column(\"?\",dataModel=\"measure\")])\nresult = correlation(dobj)\nresultset.resultsJSON.append(result)\nresultset.resultsDataObjs.append(dobj)\n\nfrom lux.action.Distribution import distribution\ndobj = lux.DataObj(dataset,[lux.Column(\"?\",dataModel=\"measure\")])\nresult = distribution(dobj)\nresultset.resultsJSON.append(result)\nresultset.resultsDataObjs.append(dobj)",
    "id": "8a57ae807f754f089c4ac6e72ed712e2",
    "idx": 5,
    "time": "2020-01-11T00:41:10.333Z",
    "type": "exec"
   },
   {
    "id": "8a57ae807f754f089c4ac6e72ed712e2",
    "time": "2020-01-11T00:41:10.682Z",
    "type": "completion"
   },
   {
    "code": "json = resultset.toJSON()",
    "id": "99bf52312fbf458383afb6259e1f7c19",
    "idx": 6,
    "time": "2020-01-11T00:41:10.686Z",
    "type": "exec"
   },
   {
    "id": "99bf52312fbf458383afb6259e1f7c19",
    "time": "2020-01-11T00:41:11.368Z",
    "type": "completion"
   },
   {
    "code": "json = resultset.toJSON()",
    "id": "99bf52312fbf458383afb6259e1f7c19",
    "idx": 6,
    "time": "2020-01-11T00:41:13.138Z",
    "type": "exec"
   },
   {
    "id": "99bf52312fbf458383afb6259e1f7c19",
    "time": "2020-01-11T00:41:13.743Z",
    "type": "completion"
   },
   {
    "code": "json = resultset.toJSON()",
    "id": "99bf52312fbf458383afb6259e1f7c19",
    "idx": 6,
    "time": "2020-01-11T00:41:15.216Z",
    "type": "exec"
   },
   {
    "id": "99bf52312fbf458383afb6259e1f7c19",
    "time": "2020-01-11T00:41:15.808Z",
    "type": "completion"
   },
   {
    "code": "# def overview(self):\n#     dobj=self\nfrom lux.action.Correlation import correlation\nresultset = lux.Result()\ndobj = lux.DataObj(dataset,[lux.Column(\"?\",dataModel=\"measure\"),lux.Column(\"?\",dataModel=\"measure\")])\nresult = correlation(dobj)\nresultset.resultsJSON.append(result)\nresultset.resultsDataObjs.append(dobj)\n\nfrom lux.action.Distribution import distribution\ndobj = lux.DataObj(dataset,[lux.Column(\"?\",dataModel=\"measure\")])\nresult = distribution(dobj)\nresultset.resultsJSON.append(result)\nresultset.resultsDataObjs.append(dobj)",
    "id": "8a57ae807f754f089c4ac6e72ed712e2",
    "idx": 5,
    "time": "2020-01-11T00:41:41.155Z",
    "type": "exec"
   },
   {
    "code": "json = resultset.toJSON()",
    "id": "99bf52312fbf458383afb6259e1f7c19",
    "idx": 6,
    "time": "2020-01-11T00:41:41.375Z",
    "type": "exec"
   },
   {
    "id": "8a57ae807f754f089c4ac6e72ed712e2",
    "time": "2020-01-11T00:41:41.623Z",
    "type": "completion"
   },
   {
    "id": "99bf52312fbf458383afb6259e1f7c19",
    "time": "2020-01-11T00:41:42.157Z",
    "type": "completion"
   },
   {
    "code": "overview(dobj)",
    "id": "a11a7aae0a344b8bbc0188a8521be483",
    "idx": 7,
    "time": "2020-01-11T00:42:01.527Z",
    "type": "exec"
   },
   {
    "id": "a11a7aae0a344b8bbc0188a8521be483",
    "time": "2020-01-11T00:42:01.653Z",
    "type": "completion"
   },
   {
    "code": "from lux.action.Correlation import correlation\nresultset = lux.Result()\ndobj = lux.DataObj(dataset,[lux.Column(\"?\",dataModel=\"measure\"),lux.Column(\"?\",dataModel=\"measure\")])\nresult = correlation(dobj)\nresultset.resultsJSON.append(result)\nresultset.resultsDataObjs.append(dobj)\n\nfrom lux.action.Distribution import distribution\ndobj = lux.DataObj(dataset,[lux.Column(\"?\",dataModel=\"measure\")])\nresult = distribution(dobj)\nresultset.resultsJSON.append(result)\nresultset.resultsDataObjs.append(dobj)",
    "id": "8a57ae807f754f089c4ac6e72ed712e2",
    "idx": 5,
    "time": "2020-01-11T00:42:08.895Z",
    "type": "exec"
   },
   {
    "id": "8a57ae807f754f089c4ac6e72ed712e2",
    "time": "2020-01-11T00:42:09.018Z",
    "type": "completion"
   },
   {
    "code": "json = resultset.toJSON()",
    "id": "99bf52312fbf458383afb6259e1f7c19",
    "idx": 6,
    "time": "2020-01-11T00:42:09.411Z",
    "type": "exec"
   },
   {
    "id": "99bf52312fbf458383afb6259e1f7c19",
    "time": "2020-01-11T00:42:10.027Z",
    "type": "completion"
   },
   {
    "code": "overview(dobj)",
    "id": "a11a7aae0a344b8bbc0188a8521be483",
    "idx": 7,
    "time": "2020-01-11T00:42:11.349Z",
    "type": "exec"
   },
   {
    "id": "a11a7aae0a344b8bbc0188a8521be483",
    "time": "2020-01-11T00:42:11.456Z",
    "type": "completion"
   },
   {
    "code": "dobj.display()",
    "id": "57a18d9a74b041d38e09684409785a57",
    "idx": 8,
    "time": "2020-01-11T00:42:13.261Z",
    "type": "exec"
   },
   {
    "id": "57a18d9a74b041d38e09684409785a57",
    "time": "2020-01-11T00:42:13.303Z",
    "type": "completion"
   },
   {
    "code": "from lux.action.Correlation import correlation\nresultset = lux.Result()\ndobj = lux.DataObj(dataset,[lux.Column(\"?\",dataModel=\"measure\"),lux.Column(\"?\",dataModel=\"measure\")])\nresult = correlation(dobj)\nresultset.resultsJSON.append(result)\nresultset.resultsDataObjs.append(dobj)\n\nfrom lux.action.Distribution import distribution\ndobj = lux.DataObj(dataset,[lux.Column(\"?\",dataModel=\"measure\")])\nresult = distribution(dobj)\nresultset.resultsJSON.append(result)\nresultset.resultsDataObjs.append(dobj)",
    "id": "8a57ae807f754f089c4ac6e72ed712e2",
    "idx": 5,
    "time": "2020-01-11T00:42:18.565Z",
    "type": "exec"
   },
   {
    "id": "8a57ae807f754f089c4ac6e72ed712e2",
    "time": "2020-01-11T00:42:18.672Z",
    "type": "completion"
   },
   {
    "code": "dobj.display()",
    "id": "57a18d9a74b041d38e09684409785a57",
    "idx": 6,
    "time": "2020-01-11T00:42:20.842Z",
    "type": "exec"
   },
   {
    "id": "57a18d9a74b041d38e09684409785a57",
    "time": "2020-01-11T00:42:20.883Z",
    "type": "completion"
   },
   {
    "code": "resultsetdisplay()",
    "id": "57a18d9a74b041d38e09684409785a57",
    "idx": 6,
    "time": "2020-01-11T00:42:27.934Z",
    "type": "exec"
   },
   {
    "id": "57a18d9a74b041d38e09684409785a57",
    "time": "2020-01-11T00:42:27.981Z",
    "type": "completion"
   },
   {
    "code": "resultset.display()",
    "id": "57a18d9a74b041d38e09684409785a57",
    "idx": 6,
    "time": "2020-01-11T00:42:29.917Z",
    "type": "exec"
   },
   {
    "id": "57a18d9a74b041d38e09684409785a57",
    "time": "2020-01-11T00:42:31.097Z",
    "type": "completion"
   },
   {
    "code": "resultset.display()",
    "id": "57a18d9a74b041d38e09684409785a57",
    "idx": 6,
    "time": "2020-01-11T00:42:38.023Z",
    "type": "exec"
   },
   {
    "id": "57a18d9a74b041d38e09684409785a57",
    "time": "2020-01-11T00:42:39.232Z",
    "type": "completion"
   },
   {
    "code": "cd ../..",
    "id": "0a598a49e8a74e5993bd600cd89b7f2b",
    "idx": 0,
    "time": "2020-01-11T01:28:10.781Z",
    "type": "exec"
   },
   {
    "id": "0a598a49e8a74e5993bd600cd89b7f2b",
    "time": "2020-01-11T01:28:10.910Z",
    "type": "completion"
   },
   {
    "code": "cd ../..",
    "id": "0a598a49e8a74e5993bd600cd89b7f2b",
    "idx": 0,
    "time": "2020-01-11T01:28:16.010Z",
    "type": "exec"
   },
   {
    "id": "0a598a49e8a74e5993bd600cd89b7f2b",
    "time": "2020-01-11T01:28:16.040Z",
    "type": "completion"
   },
   {
    "code": "%load_ext autoreload\n%autoreload 2\nimport lux",
    "id": "e368a2a2ee3245b28a6207cd0751856e",
    "idx": 2,
    "time": "2020-01-11T01:28:16.695Z",
    "type": "exec"
   },
   {
    "code": "dataset = lux.Dataset(\"lux/data/car.csv\",schema=[{\"Year\":{\"dataType\":\"date\"}}])",
    "id": "8afc0a8885b04d16b68110402b2277f5",
    "idx": 3,
    "time": "2020-01-11T01:28:17.112Z",
    "type": "exec"
   },
   {
    "id": "e368a2a2ee3245b28a6207cd0751856e",
    "time": "2020-01-11T01:28:17.455Z",
    "type": "completion"
   },
   {
    "code": "# lux.overview(dataset)\n# --> generate correlation and distribution\n# Click on Median Earnings distribution and ",
    "id": "6ee11ff1a1c94a13b88ed823d9def737",
    "idx": 4,
    "time": "2020-01-11T01:28:17.470Z",
    "type": "exec"
   },
   {
    "id": "8afc0a8885b04d16b68110402b2277f5",
    "time": "2020-01-11T01:28:17.570Z",
    "type": "completion"
   },
   {
    "id": "6ee11ff1a1c94a13b88ed823d9def737",
    "time": "2020-01-11T01:28:17.652Z",
    "type": "completion"
   },
   {
    "code": "from lux.action.Correlation import correlation\nresultset = lux.Result()\ndobj = lux.DataObj(dataset,[lux.Column(\"?\",dataModel=\"measure\"),lux.Column(\"?\",dataModel=\"measure\")])\nresult = correlation(dobj)\nresultset.resultsJSON.append(result)\nresultset.resultsDataObjs.append(dobj)\n\nfrom lux.action.Distribution import distribution\ndobj = lux.DataObj(dataset,[lux.Column(\"?\",dataModel=\"measure\")])\nresult = distribution(dobj)\nresultset.resultsJSON.append(result)\nresultset.resultsDataObjs.append(dobj)",
    "id": "a3ce4eab6d254cf8891af7e0584eba74",
    "idx": 5,
    "time": "2020-01-11T01:28:17.878Z",
    "type": "exec"
   },
   {
    "id": "a3ce4eab6d254cf8891af7e0584eba74",
    "time": "2020-01-11T01:28:18.237Z",
    "type": "completion"
   },
   {
    "code": "resultset.display()",
    "id": "a3a3996f0c884edc8bb91f69ba015a1b",
    "idx": 6,
    "time": "2020-01-11T01:28:19.130Z",
    "type": "exec"
   },
   {
    "id": "a3a3996f0c884edc8bb91f69ba015a1b",
    "time": "2020-01-11T01:28:19.933Z",
    "type": "completion"
   },
   {
    "code": "dobj = lux.DataObj(dataset,[lux.Column(\"?\",dataModel=\"measure\"),lux.Column(\"?\",dataModel=\"measure\")])\nresult = dobj.correlation()\nresult.display()",
    "id": "d8c243ea48604ae086fac958067880af",
    "idx": 7,
    "time": "2020-01-11T01:28:30.767Z",
    "type": "exec"
   },
   {
    "id": "d8c243ea48604ae086fac958067880af",
    "time": "2020-01-11T01:28:30.953Z",
    "type": "completion"
   },
   {
    "code": "dobj = lux.DataObj(dataset,[lux.Column(\"?\",dataModel=\"measure\"),lux.Column(\"?\",dataModel=\"measure\")])\nresult = correlation(dobj)\nresult.display()",
    "id": "d8c243ea48604ae086fac958067880af",
    "idx": 7,
    "time": "2020-01-11T01:28:44.044Z",
    "type": "exec"
   },
   {
    "id": "d8c243ea48604ae086fac958067880af",
    "time": "2020-01-11T01:28:44.177Z",
    "type": "completion"
   },
   {
    "code": "dobj = lux.DataObj(dataset,[lux.Column(\"?\",dataModel=\"measure\"),lux.Column(\"?\",dataModel=\"measure\")])\nresult = correlation(dobj)\nresult.display()",
    "id": "d8c243ea48604ae086fac958067880af",
    "idx": 7,
    "time": "2020-01-11T01:34:17.286Z",
    "type": "exec"
   },
   {
    "id": "d8c243ea48604ae086fac958067880af",
    "time": "2020-01-11T01:34:17.427Z",
    "type": "completion"
   },
   {
    "code": "dobj = lux.DataObj(dataset,[lux.Column(\"?\",dataModel=\"measure\"),lux.Column(\"?\",dataModel=\"measure\")])\nresult = correlation(dobj)\nresult.display()",
    "id": "d8c243ea48604ae086fac958067880af",
    "idx": 7,
    "time": "2020-01-11T01:34:30.052Z",
    "type": "exec"
   },
   {
    "id": "d8c243ea48604ae086fac958067880af",
    "time": "2020-01-11T01:34:30.772Z",
    "type": "completion"
   },
   {
    "code": "dobj = lux.DataObj(dataset,[lux.Column(\"?\",dataModel=\"measure\"),lux.Column(\"?\",dataModel=\"measure\")])\nresult = correlation(dobj)\nresult.display()",
    "id": "d8c243ea48604ae086fac958067880af",
    "idx": 7,
    "time": "2020-01-11T01:39:28.319Z",
    "type": "exec"
   },
   {
    "id": "d8c243ea48604ae086fac958067880af",
    "time": "2020-01-11T01:39:29.022Z",
    "type": "completion"
   },
   {
    "code": "from lux.action.Correlation import correlation\nresultset = lux.Result()\ndobj = lux.DataObj(dataset,[lux.Column(\"?\",dataModel=\"measure\"),lux.Column(\"?\",dataModel=\"measure\")])\nresult = correlation(dobj)\n\nfrom lux.action.Distribution import distribution\ndobj = lux.DataObj(dataset,[lux.Column(\"?\",dataModel=\"measure\")])\nresult2 = distribution(dobj)",
    "id": "a3ce4eab6d254cf8891af7e0584eba74",
    "idx": 5,
    "time": "2020-01-11T01:40:21.515Z",
    "type": "exec"
   },
   {
    "id": "a3ce4eab6d254cf8891af7e0584eba74",
    "time": "2020-01-11T01:40:21.582Z",
    "type": "completion"
   },
   {
    "code": "result.mergeResult(result2)",
    "id": "d403a8a9775f421ca8fc28453050f965",
    "idx": 6,
    "time": "2020-01-11T01:40:29.803Z",
    "type": "exec"
   },
   {
    "id": "d403a8a9775f421ca8fc28453050f965",
    "time": "2020-01-11T01:40:29.854Z",
    "type": "completion"
   },
   {
    "code": "result.mergeResult(result2,dobj)",
    "id": "d403a8a9775f421ca8fc28453050f965",
    "idx": 6,
    "time": "2020-01-11T01:40:36.772Z",
    "type": "exec"
   },
   {
    "id": "d403a8a9775f421ca8fc28453050f965",
    "time": "2020-01-11T01:40:36.814Z",
    "type": "completion"
   },
   {
    "code": "result.mergeResult(result2)",
    "id": "d403a8a9775f421ca8fc28453050f965",
    "idx": 6,
    "time": "2020-01-11T01:40:43.195Z",
    "type": "exec"
   },
   {
    "id": "d403a8a9775f421ca8fc28453050f965",
    "time": "2020-01-11T01:40:43.236Z",
    "type": "completion"
   },
   {
    "code": "from lux.action.Correlation import correlation\nresultset = lux.Result()\ndobj = lux.DataObj(dataset,[lux.Column(\"?\",dataModel=\"measure\"),lux.Column(\"?\",dataModel=\"measure\")])\nresult = correlation(dobj)\n\nfrom lux.action.Distribution import distribution\ndobj = lux.DataObj(dataset,[lux.Column(\"?\",dataModel=\"measure\")])\nresult2 = distribution(dobj)",
    "id": "a3ce4eab6d254cf8891af7e0584eba74",
    "idx": 5,
    "time": "2020-01-11T01:41:07.218Z",
    "type": "exec"
   },
   {
    "id": "a3ce4eab6d254cf8891af7e0584eba74",
    "time": "2020-01-11T01:41:07.324Z",
    "type": "completion"
   },
   {
    "code": "result.mergeResult(result2)",
    "id": "d403a8a9775f421ca8fc28453050f965",
    "idx": 6,
    "time": "2020-01-11T01:41:07.539Z",
    "type": "exec"
   },
   {
    "id": "d403a8a9775f421ca8fc28453050f965",
    "time": "2020-01-11T01:41:07.576Z",
    "type": "completion"
   },
   {
    "code": "from lux.action.Correlation import correlation\nresultset = lux.Result()\ndobj = lux.DataObj(dataset,[lux.Column(\"?\",dataModel=\"measure\"),lux.Column(\"?\",dataModel=\"measure\")])\nresult = correlation(dobj)\n\nfrom lux.action.Distribution import distribution\ndobj = lux.DataObj(dataset,[lux.Column(\"?\",dataModel=\"measure\")])\nresult2 = distribution(dobj)",
    "id": "a3ce4eab6d254cf8891af7e0584eba74",
    "idx": 5,
    "time": "2020-01-11T01:41:15.843Z",
    "type": "exec"
   },
   {
    "id": "a3ce4eab6d254cf8891af7e0584eba74",
    "time": "2020-01-11T01:41:15.968Z",
    "type": "completion"
   },
   {
    "code": "result.mergeResult(result2)",
    "id": "d403a8a9775f421ca8fc28453050f965",
    "idx": 6,
    "time": "2020-01-11T01:41:16.193Z",
    "type": "exec"
   },
   {
    "id": "d403a8a9775f421ca8fc28453050f965",
    "time": "2020-01-11T01:41:16.228Z",
    "type": "completion"
   },
   {
    "code": "resultset.display()",
    "id": "a3a3996f0c884edc8bb91f69ba015a1b",
    "idx": 7,
    "time": "2020-01-11T01:41:17.951Z",
    "type": "exec"
   },
   {
    "id": "a3a3996f0c884edc8bb91f69ba015a1b",
    "time": "2020-01-11T01:41:17.987Z",
    "type": "completion"
   },
   {
    "code": "result",
    "id": "431c294207af45179a5c834f0f4f0c0e",
    "idx": 7,
    "time": "2020-01-11T01:41:23.236Z",
    "type": "exec"
   },
   {
    "id": "431c294207af45179a5c834f0f4f0c0e",
    "time": "2020-01-11T01:41:23.298Z",
    "type": "completion"
   },
   {
    "code": "result",
    "id": "431c294207af45179a5c834f0f4f0c0e",
    "idx": 7,
    "time": "2020-01-11T01:41:47.436Z",
    "type": "exec"
   },
   {
    "id": "431c294207af45179a5c834f0f4f0c0e",
    "time": "2020-01-11T01:41:47.475Z",
    "type": "completion"
   },
   {
    "code": "result",
    "id": "431c294207af45179a5c834f0f4f0c0e",
    "idx": 7,
    "time": "2020-01-11T01:42:33.373Z",
    "type": "exec"
   },
   {
    "id": "431c294207af45179a5c834f0f4f0c0e",
    "time": "2020-01-11T01:42:33.412Z",
    "type": "completion"
   },
   {
    "code": "len(result.resultsJSON)",
    "id": "431c294207af45179a5c834f0f4f0c0e",
    "idx": 7,
    "time": "2020-01-11T01:43:00.414Z",
    "type": "exec"
   },
   {
    "id": "431c294207af45179a5c834f0f4f0c0e",
    "time": "2020-01-11T01:43:00.449Z",
    "type": "completion"
   },
   {
    "code": "result.resultsDataObjs",
    "id": "431c294207af45179a5c834f0f4f0c0e",
    "idx": 7,
    "time": "2020-01-11T01:43:07.596Z",
    "type": "exec"
   },
   {
    "id": "431c294207af45179a5c834f0f4f0c0e",
    "time": "2020-01-11T01:43:07.638Z",
    "type": "completion"
   },
   {
    "code": "result.resultsDataObjs[0]",
    "id": "431c294207af45179a5c834f0f4f0c0e",
    "idx": 7,
    "time": "2020-01-11T01:43:20.421Z",
    "type": "exec"
   },
   {
    "id": "431c294207af45179a5c834f0f4f0c0e",
    "time": "2020-01-11T01:43:20.454Z",
    "type": "completion"
   },
   {
    "code": "result.resultsDataObjs",
    "id": "431c294207af45179a5c834f0f4f0c0e",
    "idx": 7,
    "time": "2020-01-11T01:43:25.469Z",
    "type": "exec"
   },
   {
    "id": "431c294207af45179a5c834f0f4f0c0e",
    "time": "2020-01-11T01:43:25.506Z",
    "type": "completion"
   },
   {
    "code": "result.display()",
    "id": "a3a3996f0c884edc8bb91f69ba015a1b",
    "idx": 8,
    "time": "2020-01-11T01:43:30.542Z",
    "type": "exec"
   },
   {
    "id": "a3a3996f0c884edc8bb91f69ba015a1b",
    "time": "2020-01-11T01:43:31.349Z",
    "type": "completion"
   },
   {
    "code": "def overview(dataset):\n    from lux.action.Correlation import correlation\n    resultset = lux.Result()\n    dobj = lux.DataObj(dataset,[lux.Column(\"?\",dataModel=\"measure\"),lux.Column(\"?\",dataModel=\"measure\")])\n    result = correlation(dobj)\n\n    from lux.action.Distribution import distribution\n    dobj = lux.DataObj(dataset,[lux.Column(\"?\",dataModel=\"measure\")])\n    result2 = distribution(dobj)\n    \n    return result",
    "id": "a3ce4eab6d254cf8891af7e0584eba74",
    "idx": 5,
    "time": "2020-01-11T01:44:17.529Z",
    "type": "exec"
   },
   {
    "id": "a3ce4eab6d254cf8891af7e0584eba74",
    "time": "2020-01-11T01:44:17.561Z",
    "type": "completion"
   },
   {
    "code": "result = overview(dataset)",
    "id": "c939cb26f7164001885127857ff56c67",
    "idx": 6,
    "time": "2020-01-11T01:44:47.934Z",
    "type": "exec"
   },
   {
    "id": "c939cb26f7164001885127857ff56c67",
    "time": "2020-01-11T01:44:48.043Z",
    "type": "completion"
   },
   {
    "code": "result.display()",
    "id": "a3a3996f0c884edc8bb91f69ba015a1b",
    "idx": 7,
    "time": "2020-01-11T01:44:48.362Z",
    "type": "exec"
   },
   {
    "id": "a3a3996f0c884edc8bb91f69ba015a1b",
    "time": "2020-01-11T01:44:48.996Z",
    "type": "completion"
   },
   {
    "code": "dobj = lux.DataObj(dataset)",
    "id": "c1392978a62242648a626849c803059c",
    "idx": 7,
    "time": "2020-01-11T01:47:20.145Z",
    "type": "exec"
   },
   {
    "id": "c1392978a62242648a626849c803059c",
    "time": "2020-01-11T01:47:20.275Z",
    "type": "completion"
   },
   {
    "code": "# dobj = lux.DataObj(dataset)",
    "id": "c1392978a62242648a626849c803059c",
    "idx": 7,
    "time": "2020-01-11T01:47:35.233Z",
    "type": "exec"
   },
   {
    "id": "c1392978a62242648a626849c803059c",
    "time": "2020-01-11T01:47:35.273Z",
    "type": "completion"
   },
   {
    "code": "dobj = lux.DataObj(dataset,[lux.Column(\"?\",dataModel=\"measure\")])",
    "id": "f540b8f67580428995bb862dddc1115d",
    "idx": 8,
    "time": "2020-01-11T01:47:55.034Z",
    "type": "exec"
   },
   {
    "id": "f540b8f67580428995bb862dddc1115d",
    "time": "2020-01-11T01:47:55.069Z",
    "type": "completion"
   },
   {
    "code": "result = dobj.overview()",
    "id": "5cd906cd75ca45698c3c8eaf37b52bef",
    "idx": 9,
    "time": "2020-01-11T01:48:04.193Z",
    "type": "exec"
   },
   {
    "id": "5cd906cd75ca45698c3c8eaf37b52bef",
    "time": "2020-01-11T01:48:04.313Z",
    "type": "completion"
   },
   {
    "code": "result.display()",
    "id": "a3a3996f0c884edc8bb91f69ba015a1b",
    "idx": 10,
    "time": "2020-01-11T01:48:04.932Z",
    "type": "exec"
   },
   {
    "id": "a3a3996f0c884edc8bb91f69ba015a1b",
    "time": "2020-01-11T01:48:04.979Z",
    "type": "completion"
   },
   {
    "code": "result.display()",
    "id": "a3a3996f0c884edc8bb91f69ba015a1b",
    "idx": 10,
    "time": "2020-01-11T01:49:08.938Z",
    "type": "exec"
   },
   {
    "id": "a3a3996f0c884edc8bb91f69ba015a1b",
    "time": "2020-01-11T01:49:09.762Z",
    "type": "completion"
   },
   {
    "code": "dobj = lux.DataObj(dataset,[lux.Column(\"?\",dataModel=\"measure\")])\n\nresult = dobj.overview()\n\nresult.display()",
    "id": "f540b8f67580428995bb862dddc1115d",
    "idx": 8,
    "time": "2020-01-11T01:49:14.560Z",
    "type": "exec"
   },
   {
    "id": "f540b8f67580428995bb862dddc1115d",
    "time": "2020-01-11T01:49:15.370Z",
    "type": "completion"
   },
   {
    "code": "dobj = lux.DataObj(dataset,[lux.Column(\"Horsepower\",dataModel=\"measure\")])\n\nresult = dobj.overview()\n\nresult.display()",
    "id": "f540b8f67580428995bb862dddc1115d",
    "idx": 8,
    "time": "2020-01-11T01:49:25.716Z",
    "type": "exec"
   },
   {
    "id": "f540b8f67580428995bb862dddc1115d",
    "time": "2020-01-11T01:49:26.558Z",
    "type": "completion"
   },
   {
    "code": "dobj = lux.DataObj(dataset,[lux.Column(\"MilesPerGal\",dataModel=\"measure\"),lux.Column(\"Horsepower\",dataModel=\"measure\")])\n\ndobj.enhance()\n\ndobj.display()",
    "id": "e00be3c185c147b6839b23b2a063bf9c",
    "idx": 12,
    "time": "2020-01-11T01:55:34.553Z",
    "type": "exec"
   },
   {
    "id": "e00be3c185c147b6839b23b2a063bf9c",
    "time": "2020-01-11T01:55:34.600Z",
    "type": "completion"
   },
   {
    "code": "dobj = lux.DataObj(dataset,[lux.Column(\"?\",dataModel=\"measure\"),lux.Column(\"?\",dataModel=\"measure\")])\nresult = dobj.correlation()\nresult.display()",
    "id": "d8c243ea48604ae086fac958067880af",
    "idx": 9,
    "time": "2020-01-11T01:56:17.659Z",
    "type": "exec"
   },
   {
    "id": "d8c243ea48604ae086fac958067880af",
    "time": "2020-01-11T01:56:17.794Z",
    "type": "completion"
   },
   {
    "code": "dobj = lux.DataObj(dataset,[lux.Column(\"?\",dataModel=\"measure\"),lux.Column(\"?\",dataModel=\"measure\")])\nresult = dobj.correlation()\nresult.display()",
    "id": "d8c243ea48604ae086fac958067880af",
    "idx": 9,
    "time": "2020-01-11T01:56:30.631Z",
    "type": "exec"
   },
   {
    "id": "d8c243ea48604ae086fac958067880af",
    "time": "2020-01-11T01:56:31.369Z",
    "type": "completion"
   },
   {
    "code": "dobj = lux.DataObj(dataset,[lux.Column(\"Horsepower\",dataModel=\"measure\")])\n\nresult = dobj.overview()\n\nresult.display()",
    "id": "f540b8f67580428995bb862dddc1115d",
    "idx": 7,
    "time": "2020-01-11T01:58:19.586Z",
    "type": "exec"
   },
   {
    "id": "f540b8f67580428995bb862dddc1115d",
    "time": "2020-01-11T01:58:20.462Z",
    "type": "completion"
   },
   {
    "code": "dobj = lux.DataObj(dataset,[lux.Column(\"MilesPerGal\",dataModel=\"measure\"),lux.Column(\"Horsepower\",dataModel=\"measure\")])\n\ndobj.enhance()\n\ndobj.display()",
    "id": "e00be3c185c147b6839b23b2a063bf9c",
    "idx": 11,
    "time": "2020-01-11T02:00:36.401Z",
    "type": "exec"
   },
   {
    "id": "e00be3c185c147b6839b23b2a063bf9c",
    "time": "2020-01-11T02:00:36.524Z",
    "type": "completion"
   },
   {
    "code": "dobj = lux.DataObj(dataset,[lux.Column(\"MilesPerGal\",dataModel=\"measure\"),lux.Column(\"Horsepower\",dataModel=\"measure\")])\n\nresult = dobj.enhance()\n\nresult.display()",
    "id": "e00be3c185c147b6839b23b2a063bf9c",
    "idx": 11,
    "time": "2020-01-11T02:00:44.955Z",
    "type": "exec"
   },
   {
    "id": "e00be3c185c147b6839b23b2a063bf9c",
    "time": "2020-01-11T02:00:45.455Z",
    "type": "completion"
   },
   {
    "code": "dobj = lux.DataObj(dataset,[lux.Column(\"Horsepower\",dataModel=\"measure\")])\n\nresult = dobj.overview()\n\nresult.display()",
    "id": "f540b8f67580428995bb862dddc1115d",
    "idx": 6,
    "time": "2020-01-11T02:03:18.350Z",
    "type": "exec"
   },
   {
    "id": "f540b8f67580428995bb862dddc1115d",
    "time": "2020-01-11T02:03:19.343Z",
    "type": "completion"
   },
   {
    "code": "dobj = lux.DataObj(dataset,[lux.Column(\"MilesPerGal\",dataModel=\"measure\"),lux.Column(\"Horsepower\",dataModel=\"measure\")])\n\nresult = dobj.enhance()\n\nresult.display()",
    "id": "e00be3c185c147b6839b23b2a063bf9c",
    "idx": 10,
    "time": "2020-01-11T02:04:34.048Z",
    "type": "exec"
   },
   {
    "id": "e00be3c185c147b6839b23b2a063bf9c",
    "time": "2020-01-11T02:04:34.605Z",
    "type": "completion"
   },
   {
    "code": "import pandas as pd",
    "id": "7f300b8ed0ab4d358d1a5d727d60e878",
    "idx": 12,
    "time": "2020-01-11T02:05:41.749Z",
    "type": "exec"
   },
   {
    "id": "7f300b8ed0ab4d358d1a5d727d60e878",
    "time": "2020-01-11T02:05:41.788Z",
    "type": "completion"
   },
   {
    "code": "brand_df = pd.read_csv(\"lux/data/car_brand.csv\")",
    "id": "170f04f9fe0a470c85ac8ddb6377b8bd",
    "idx": 13,
    "time": "2020-01-11T02:05:42.635Z",
    "type": "exec"
   },
   {
    "id": "170f04f9fe0a470c85ac8ddb6377b8bd",
    "time": "2020-01-11T02:05:42.664Z",
    "type": "completion"
   },
   {
    "code": "brand_df.head()",
    "id": "9f0567d7779341b18f0fea0a195dfccb",
    "idx": 14,
    "time": "2020-01-11T02:05:43.156Z",
    "type": "exec"
   },
   {
    "id": "9f0567d7779341b18f0fea0a195dfccb",
    "time": "2020-01-11T02:05:43.219Z",
    "type": "completion"
   },
   {
    "code": "dataset.df.head()",
    "id": "12a99b633f9e4a08860d45c6a6d9b11d",
    "idx": 15,
    "time": "2020-01-11T02:05:52.756Z",
    "type": "exec"
   },
   {
    "id": "12a99b633f9e4a08860d45c6a6d9b11d",
    "time": "2020-01-11T02:05:52.807Z",
    "type": "completion"
   },
   {
    "code": "df = dataset.df.merge(brand_df,how=\"inner\")\ndf = df.drop(columns=[\"Name\"])\ndataset.set_df(df)",
    "id": "aa63059f208e4f92bbe4041a2e8f1236",
    "idx": 16,
    "time": "2020-01-11T02:05:53.212Z",
    "type": "exec"
   },
   {
    "id": "aa63059f208e4f92bbe4041a2e8f1236",
    "time": "2020-01-11T02:05:53.327Z",
    "type": "completion"
   },
   {
    "code": "dobj = lux.DataObj(dataset,[lux.Column(\"Brand\")])\n# dobj.enhance()\ndobj.display()",
    "id": "112d344803ed4388a8a6549787163b04",
    "idx": 17,
    "time": "2020-01-11T02:05:55.556Z",
    "type": "exec"
   },
   {
    "id": "112d344803ed4388a8a6549787163b04",
    "time": "2020-01-11T02:05:55.662Z",
    "type": "completion"
   },
   {
    "code": "dobj = lux.DataObj(dataset,[lux.Column(\"Brand\")])\n# dobj.enhance()\n# dobj.display()",
    "id": "112d344803ed4388a8a6549787163b04",
    "idx": 17,
    "time": "2020-01-11T02:05:59.485Z",
    "type": "exec"
   },
   {
    "id": "112d344803ed4388a8a6549787163b04",
    "time": "2020-01-11T02:05:59.524Z",
    "type": "completion"
   },
   {
    "code": "dobj = lux.DataObj(dataset,[lux.Column(\"?\",dataModel=\"dimension\")])",
    "id": "440e35fda4e34e20bcf47a2c22ed8a76",
    "idx": 6,
    "time": "2020-01-11T02:06:57.821Z",
    "type": "exec"
   },
   {
    "id": "440e35fda4e34e20bcf47a2c22ed8a76",
    "time": "2020-01-11T02:06:57.854Z",
    "type": "completion"
   },
   {
    "code": "dobj.display()",
    "id": "25df672eea9e4727933647018d99e63e",
    "idx": 7,
    "time": "2020-01-11T02:07:04.916Z",
    "type": "exec"
   },
   {
    "id": "25df672eea9e4727933647018d99e63e",
    "time": "2020-01-11T02:07:04.951Z",
    "type": "completion"
   },
   {
    "code": "dobj.compiled",
    "id": "25df672eea9e4727933647018d99e63e",
    "idx": 7,
    "time": "2020-01-11T02:07:16.277Z",
    "type": "exec"
   },
   {
    "id": "25df672eea9e4727933647018d99e63e",
    "time": "2020-01-11T02:07:16.322Z",
    "type": "completion"
   },
   {
    "code": "dobj = lux.DataObj(dataset,[lux.Column(\"?\",dataModel=\"dimension\")])",
    "id": "440e35fda4e34e20bcf47a2c22ed8a76",
    "idx": 6,
    "time": "2020-01-11T02:12:59.083Z",
    "type": "exec"
   },
   {
    "id": "440e35fda4e34e20bcf47a2c22ed8a76",
    "time": "2020-01-11T02:12:59.242Z",
    "type": "completion"
   },
   {
    "code": "dobj",
    "id": "88f82921be2744ceb3fc261b8e11f17b",
    "idx": 7,
    "time": "2020-01-11T02:13:01.235Z",
    "type": "exec"
   },
   {
    "id": "88f82921be2744ceb3fc261b8e11f17b",
    "time": "2020-01-11T02:13:01.268Z",
    "type": "completion"
   },
   {
    "code": "dobj.display()",
    "id": "88f82921be2744ceb3fc261b8e11f17b",
    "idx": 7,
    "time": "2020-01-11T02:13:05.140Z",
    "type": "exec"
   },
   {
    "id": "88f82921be2744ceb3fc261b8e11f17b",
    "time": "2020-01-11T02:13:05.183Z",
    "type": "completion"
   },
   {
    "code": "cd ../..",
    "id": "0a598a49e8a74e5993bd600cd89b7f2b",
    "idx": 0,
    "time": "2020-01-11T02:13:37.866Z",
    "type": "exec"
   },
   {
    "id": "0a598a49e8a74e5993bd600cd89b7f2b",
    "time": "2020-01-11T02:13:37.898Z",
    "type": "completion"
   },
   {
    "code": "%load_ext autoreload\n%autoreload 2\nimport lux",
    "id": "e368a2a2ee3245b28a6207cd0751856e",
    "idx": 2,
    "time": "2020-01-11T02:13:38.145Z",
    "type": "exec"
   },
   {
    "code": "dataset = lux.Dataset(\"lux/data/car.csv\",schema=[{\"Year\":{\"dataType\":\"date\"}}])",
    "id": "8afc0a8885b04d16b68110402b2277f5",
    "idx": 3,
    "time": "2020-01-11T02:13:38.265Z",
    "type": "exec"
   },
   {
    "id": "e368a2a2ee3245b28a6207cd0751856e",
    "time": "2020-01-11T02:13:38.883Z",
    "type": "completion"
   },
   {
    "id": "8afc0a8885b04d16b68110402b2277f5",
    "time": "2020-01-11T02:13:38.974Z",
    "type": "completion"
   },
   {
    "code": "# lux.overview(dataset)\n# --> generate correlation and distribution\n# Click on Median Earnings distribution and ",
    "id": "6ee11ff1a1c94a13b88ed823d9def737",
    "idx": 4,
    "time": "2020-01-11T02:13:39.178Z",
    "type": "exec"
   },
   {
    "id": "6ee11ff1a1c94a13b88ed823d9def737",
    "time": "2020-01-11T02:13:39.205Z",
    "type": "completion"
   },
   {
    "code": "# dobj = lux.DataObj(dataset) # need to fix this bug (not everything needs to go through autoChannel)",
    "id": "c1392978a62242648a626849c803059c",
    "idx": 5,
    "time": "2020-01-11T02:13:39.514Z",
    "type": "exec"
   },
   {
    "id": "c1392978a62242648a626849c803059c",
    "time": "2020-01-11T02:13:39.541Z",
    "type": "completion"
   },
   {
    "code": "dobj = lux.DataObj(dataset,[lux.Column(\"?\",dataModel=\"dimension\")])",
    "id": "440e35fda4e34e20bcf47a2c22ed8a76",
    "idx": 6,
    "time": "2020-01-11T02:13:39.818Z",
    "type": "exec"
   },
   {
    "id": "440e35fda4e34e20bcf47a2c22ed8a76",
    "time": "2020-01-11T02:13:39.850Z",
    "type": "completion"
   },
   {
    "code": "dobj.display()",
    "id": "88f82921be2744ceb3fc261b8e11f17b",
    "idx": 7,
    "time": "2020-01-11T02:13:40.171Z",
    "type": "exec"
   },
   {
    "id": "88f82921be2744ceb3fc261b8e11f17b",
    "time": "2020-01-11T02:13:40.442Z",
    "type": "completion"
   },
   {
    "code": "dobj = lux.DataObj(dataset,[lux.Column(\"Horsepower\",dataModel=\"measure\")])\n\nresult = dobj.overview()\n\nresult.display()",
    "id": "f540b8f67580428995bb862dddc1115d",
    "idx": 8,
    "time": "2020-01-11T02:13:46.228Z",
    "type": "exec"
   },
   {
    "id": "f540b8f67580428995bb862dddc1115d",
    "time": "2020-01-11T02:13:46.767Z",
    "type": "completion"
   },
   {
    "code": "dobj = lux.DataObj(dataset,[lux.Column(\"Horsepower\",dataModel=\"measure\")])\n\nresult = dobj.overview()\n\nresult.display()",
    "id": "f540b8f67580428995bb862dddc1115d",
    "idx": 8,
    "time": "2020-01-11T02:14:22.907Z",
    "type": "exec"
   },
   {
    "id": "f540b8f67580428995bb862dddc1115d",
    "time": "2020-01-11T02:14:23.800Z",
    "type": "completion"
   },
   {
    "code": "dobj = lux.DataObj(dataset,[lux.Column(\"?\",dataModel=\"measure\"),lux.Column(\"?\",dataModel=\"measure\")])\nresult = dobj.correlation()\nresult.display()",
    "id": "d8c243ea48604ae086fac958067880af",
    "idx": 9,
    "time": "2020-01-11T02:14:24.885Z",
    "type": "exec"
   },
   {
    "id": "d8c243ea48604ae086fac958067880af",
    "time": "2020-01-11T02:14:25.896Z",
    "type": "completion"
   },
   {
    "code": "dataset.df.head()",
    "id": "26c2325a307747b2883e4e834840ab16",
    "idx": 4,
    "time": "2020-01-11T02:14:38.436Z",
    "type": "exec"
   },
   {
    "id": "26c2325a307747b2883e4e834840ab16",
    "time": "2020-01-11T02:14:38.480Z",
    "type": "completion"
   },
   {
    "code": "len(dataset)",
    "id": "12f65b97cdf04a3c8f7e73cc64a2cb4c",
    "idx": 5,
    "time": "2020-01-11T02:14:45.732Z",
    "type": "exec"
   },
   {
    "id": "12f65b97cdf04a3c8f7e73cc64a2cb4c",
    "time": "2020-01-11T02:14:45.767Z",
    "type": "completion"
   },
   {
    "code": "len(dataset.df)",
    "id": "12f65b97cdf04a3c8f7e73cc64a2cb4c",
    "idx": 5,
    "time": "2020-01-11T02:14:48.836Z",
    "type": "exec"
   },
   {
    "id": "12f65b97cdf04a3c8f7e73cc64a2cb4c",
    "time": "2020-01-11T02:14:48.878Z",
    "type": "completion"
   },
   {
    "code": "# Predict acceleration w.r.t other columns\ndobj = lux.DataObj(dataset,[lux.Column(\"Acceleration\"), lux.Column(\"?\",dataModel=\"dimension\")])\ndobj.display()",
    "id": "5470c5c7a7d64a2a863a81bf9db9d435",
    "idx": 6,
    "time": "2020-01-11T02:15:47.446Z",
    "type": "exec"
   },
   {
    "id": "5470c5c7a7d64a2a863a81bf9db9d435",
    "time": "2020-01-11T02:15:47.897Z",
    "type": "completion"
   },
   {
    "code": "dobj = lux.DataObj(dataset,[lux.Column(\"Acceleration\"), lux.Column(\"?\",dataModel=\"measure\")])\ndobj.display()\n",
    "id": "692e3fc59a0347a0bda85788969dcb35",
    "idx": 7,
    "time": "2020-01-11T02:21:32.166Z",
    "type": "exec"
   },
   {
    "id": "692e3fc59a0347a0bda85788969dcb35",
    "time": "2020-01-11T02:21:32.807Z",
    "type": "completion"
   },
   {
    "code": "dobj = lux.DataObj(dataset,[lux.Column(\"Acceleration\"), lux.Column(\"?\")])",
    "id": "11dccde1e3f540948251d5587d89820a",
    "idx": 8,
    "time": "2020-01-11T02:22:02.364Z",
    "type": "exec"
   },
   {
    "id": "11dccde1e3f540948251d5587d89820a",
    "time": "2020-01-11T02:22:02.400Z",
    "type": "completion"
   },
   {
    "code": "dobj = lux.DataObj(dataset,[lux.Column(\"Acceleration\"), lux.Column(\"?\")])\ndobj.display()",
    "id": "11dccde1e3f540948251d5587d89820a",
    "idx": 8,
    "time": "2020-01-11T02:22:08.419Z",
    "type": "exec"
   },
   {
    "id": "11dccde1e3f540948251d5587d89820a",
    "time": "2020-01-11T02:22:09.511Z",
    "type": "completion"
   },
   {
    "code": "dobj = lux.DataObj(dataset,[lux.Column(\"Acceleration\"), lux.Column(\"Weight\"), lux.Column(\"Horsepower\")])\ndobj.display()",
    "id": "40803f8d24694bc687cc5b72e0aab1d6",
    "idx": 9,
    "time": "2020-01-11T02:26:21.811Z",
    "type": "exec"
   },
   {
    "id": "40803f8d24694bc687cc5b72e0aab1d6",
    "time": "2020-01-11T02:26:21.988Z",
    "type": "completion"
   },
   {
    "code": "dobj = lux.DataObj(dataset,[lux.Column(\"Acceleration\"),lux.Column(\"Horsepower\")])\ndobj.enhance()\ndobj.display()",
    "id": "762b0c9fb11b449d9de41e103be83334",
    "idx": 9,
    "time": "2020-01-11T02:28:57.995Z",
    "type": "exec"
   },
   {
    "id": "762b0c9fb11b449d9de41e103be83334",
    "time": "2020-01-11T02:28:58.163Z",
    "type": "completion"
   },
   {
    "code": "dobj = lux.DataObj(dataset,[lux.Column(\"Acceleration\"),lux.Column(\"Horsepower\")])\nresult = dobj.enhance()\nresult.display()",
    "id": "762b0c9fb11b449d9de41e103be83334",
    "idx": 9,
    "time": "2020-01-11T02:29:06.526Z",
    "type": "exec"
   },
   {
    "id": "762b0c9fb11b449d9de41e103be83334",
    "time": "2020-01-11T02:29:07.839Z",
    "type": "completion"
   },
   {
    "code": "dobj = lux.DataObj(dataset,[lux.Column(\"?\",dataType=\"quantitative\"),lux.Column(\"Horsepower\")])\nresult = dobj.correlation()",
    "id": "379f12cef60b489e8dd7106093640433",
    "idx": 11,
    "time": "2020-01-11T02:34:33.154Z",
    "type": "exec"
   },
   {
    "id": "379f12cef60b489e8dd7106093640433",
    "time": "2020-01-11T02:34:33.194Z",
    "type": "completion"
   },
   {
    "code": "result.display()",
    "id": "4e20dd8d601146ef954c99af9611efa9",
    "idx": 12,
    "time": "2020-01-11T02:34:36.624Z",
    "type": "exec"
   },
   {
    "id": "4e20dd8d601146ef954c99af9611efa9",
    "time": "2020-01-11T02:34:36.781Z",
    "type": "completion"
   },
   {
    "code": "dobj = lux.DataObj(dataset,[lux.Column(\"?\",dataType=\"quantitative\"),lux.Column(\"?\",dataType=\"quantitative\")])\nresult = dobj.correlation()",
    "id": "379f12cef60b489e8dd7106093640433",
    "idx": 11,
    "time": "2020-01-11T02:34:54.041Z",
    "type": "exec"
   },
   {
    "id": "379f12cef60b489e8dd7106093640433",
    "time": "2020-01-11T02:34:54.188Z",
    "type": "completion"
   },
   {
    "code": "result.display()",
    "id": "4e20dd8d601146ef954c99af9611efa9",
    "idx": 12,
    "time": "2020-01-11T02:34:54.601Z",
    "type": "exec"
   },
   {
    "id": "4e20dd8d601146ef954c99af9611efa9",
    "time": "2020-01-11T02:34:55.597Z",
    "type": "completion"
   },
   {
    "code": "dobj = lux.DataObj(dataset,[lux.Column(\"Horsepower\",dataType=\"quantitative\",column=\"x\"),lux.Column(\"?\",dataType=\"quantitative\")])\nresult = dobj.correlation()",
    "id": "379f12cef60b489e8dd7106093640433",
    "idx": 11,
    "time": "2020-01-11T02:37:11.635Z",
    "type": "exec"
   },
   {
    "id": "379f12cef60b489e8dd7106093640433",
    "time": "2020-01-11T02:37:11.686Z",
    "type": "completion"
   },
   {
    "code": "dobj = lux.DataObj(dataset,[lux.Column(\"Horsepower\",dataType=\"quantitative\",channel=\"x\"),lux.Column(\"?\",dataType=\"quantitative\")])\nresult = dobj.correlation()",
    "id": "379f12cef60b489e8dd7106093640433",
    "idx": 11,
    "time": "2020-01-11T02:37:21.020Z",
    "type": "exec"
   },
   {
    "id": "379f12cef60b489e8dd7106093640433",
    "time": "2020-01-11T02:37:21.080Z",
    "type": "completion"
   },
   {
    "code": "result.display()",
    "id": "4e20dd8d601146ef954c99af9611efa9",
    "idx": 12,
    "time": "2020-01-11T02:37:21.701Z",
    "type": "exec"
   },
   {
    "id": "4e20dd8d601146ef954c99af9611efa9",
    "time": "2020-01-11T02:37:21.859Z",
    "type": "completion"
   },
   {
    "code": "dobj = lux.DataObj(dataset,[lux.Column(\"?\",dataType=\"quantitative\"),lux.Column(\"?\",dataType=\"quantitative\")])\nresult = dobj.correlation()",
    "id": "379f12cef60b489e8dd7106093640433",
    "idx": 11,
    "time": "2020-01-11T02:37:30.723Z",
    "type": "exec"
   },
   {
    "id": "379f12cef60b489e8dd7106093640433",
    "time": "2020-01-11T02:37:30.886Z",
    "type": "completion"
   },
   {
    "code": "result.display()",
    "id": "4e20dd8d601146ef954c99af9611efa9",
    "idx": 12,
    "time": "2020-01-11T02:37:31.156Z",
    "type": "exec"
   },
   {
    "id": "4e20dd8d601146ef954c99af9611efa9",
    "time": "2020-01-11T02:37:32.165Z",
    "type": "completion"
   },
   {
    "code": "# Classification: Relationship between a binary variable and all quantitative values\n# For binary variable, I would look at the splitted histogram",
    "id": "7fa23f6388114b0cafa5fb5c98d71fe9",
    "idx": 13,
    "time": "2020-01-11T02:39:09.846Z",
    "type": "exec"
   },
   {
    "id": "7fa23f6388114b0cafa5fb5c98d71fe9",
    "time": "2020-01-11T02:39:09.881Z",
    "type": "completion"
   },
   {
    "code": "dobj = lux.DataObj(dataset,[lux.Column(\"Displacement\",dataType=\"quantitative\")])\ndobj.display()",
    "id": "848d0bb57cf740138281ceaf0287c1ad",
    "idx": 14,
    "time": "2020-01-11T02:39:31.551Z",
    "type": "exec"
   },
   {
    "id": "848d0bb57cf740138281ceaf0287c1ad",
    "time": "2020-01-11T02:39:31.717Z",
    "type": "completion"
   },
   {
    "code": "dobj = lux.DataObj(dataset,[lux.Column(\"Acceleration\",dataType=\"quantitative\")])\ndobj.display()",
    "id": "848d0bb57cf740138281ceaf0287c1ad",
    "idx": 14,
    "time": "2020-01-11T02:39:38.672Z",
    "type": "exec"
   },
   {
    "id": "848d0bb57cf740138281ceaf0287c1ad",
    "time": "2020-01-11T02:39:38.831Z",
    "type": "completion"
   },
   {
    "code": "dobj = lux.DataObj(dataset,[lux.Column(\"Acceleration\",dataType=\"quantitative\"),Row(\"Brand\",\"?\")])\ndobj.display()",
    "id": "848d0bb57cf740138281ceaf0287c1ad",
    "idx": 14,
    "time": "2020-01-11T02:39:48.463Z",
    "type": "exec"
   },
   {
    "id": "848d0bb57cf740138281ceaf0287c1ad",
    "time": "2020-01-11T02:39:48.536Z",
    "type": "completion"
   },
   {
    "code": "dobj = lux.DataObj(dataset,[lux.Column(\"Acceleration\",dataType=\"quantitative\"),Row(\"Brands\",\"?\")])\ndobj.display()",
    "id": "848d0bb57cf740138281ceaf0287c1ad",
    "idx": 14,
    "time": "2020-01-11T02:39:53.214Z",
    "type": "exec"
   },
   {
    "id": "848d0bb57cf740138281ceaf0287c1ad",
    "time": "2020-01-11T02:39:53.268Z",
    "type": "completion"
   },
   {
    "code": "dobj = lux.DataObj(dataset,[lux.Column(\"Acceleration\",dataType=\"quantitative\"),Row(\"Origin\",\"?\")])\ndobj.display()",
    "id": "848d0bb57cf740138281ceaf0287c1ad",
    "idx": 14,
    "time": "2020-01-11T02:39:57.526Z",
    "type": "exec"
   },
   {
    "id": "848d0bb57cf740138281ceaf0287c1ad",
    "time": "2020-01-11T02:39:57.574Z",
    "type": "completion"
   },
   {
    "code": "dobj = lux.DataObj(dataset,[lux.Column(\"Acceleration\",dataType=\"quantitative\"),lux.Row(\"Origin\",\"?\")])\ndobj.display()",
    "id": "848d0bb57cf740138281ceaf0287c1ad",
    "idx": 14,
    "time": "2020-01-11T02:40:02.671Z",
    "type": "exec"
   },
   {
    "id": "848d0bb57cf740138281ceaf0287c1ad",
    "time": "2020-01-11T02:40:02.891Z",
    "type": "completion"
   },
   {
    "code": "cd ../..",
    "id": "54539f0f1802490c921f8035be8e1b13",
    "idx": 0,
    "time": "2020-01-11T02:44:43.672Z",
    "type": "exec"
   },
   {
    "id": "54539f0f1802490c921f8035be8e1b13",
    "time": "2020-01-11T02:44:43.719Z",
    "type": "completion"
   },
   {
    "code": "%load_ext autoreload\n%autoreload 2\nimport lux",
    "id": "45e06a91064348af8510ca9c47950e84",
    "idx": 2,
    "time": "2020-01-11T02:44:44.028Z",
    "type": "exec"
   },
   {
    "code": "dataset = lux.Dataset(\"lux/data/car.csv\",schema=[{\"Year\":{\"dataType\":\"date\"}}])",
    "id": "e2c9dce202cb44758c42e47cd9712e93",
    "idx": 3,
    "time": "2020-01-11T02:44:44.226Z",
    "type": "exec"
   },
   {
    "code": "dataset.df.head()",
    "id": "36686b56716c45058904891d710e73b3",
    "idx": 4,
    "time": "2020-01-11T02:44:44.539Z",
    "type": "exec"
   },
   {
    "id": "45e06a91064348af8510ca9c47950e84",
    "time": "2020-01-11T02:44:44.745Z",
    "type": "completion"
   },
   {
    "id": "e2c9dce202cb44758c42e47cd9712e93",
    "time": "2020-01-11T02:44:44.851Z",
    "type": "completion"
   },
   {
    "id": "36686b56716c45058904891d710e73b3",
    "time": "2020-01-11T02:44:44.857Z",
    "type": "completion"
   },
   {
    "code": "len(dataset.df)",
    "id": "6a0f90a9108a4fd289e7c48c8e569a52",
    "idx": 5,
    "time": "2020-01-11T02:44:45.420Z",
    "type": "exec"
   },
   {
    "id": "6a0f90a9108a4fd289e7c48c8e569a52",
    "time": "2020-01-11T02:44:45.468Z",
    "type": "completion"
   },
   {
    "code": "# Predict acceleration w.r.t other columns\ndobj = lux.DataObj(dataset,[lux.Column(\"Acceleration\"), lux.Column(\"?\",dataModel=\"dimension\")])\ndobj.display()\n# expecting only to see RHS, not LHS, when recieve other things it is unexpected or jarring. (Nice to have)\n# want to have the 1st bar chart sorted\n# Very interesting that Japan cars have lower acceleration, Euripe higher acceleration",
    "id": "e067079c0acf49e08f84972aa65cf9b5",
    "idx": 6,
    "time": "2020-01-11T02:44:45.691Z",
    "type": "exec"
   },
   {
    "code": "dobj = lux.DataObj(dataset,[lux.Column(\"Acceleration\"), lux.Column(\"?\",dataModel=\"measure\")])\ndobj.display()\n# dimension and measure is ",
    "id": "ee41bac33f234a448be33d991e363e12",
    "idx": 7,
    "time": "2020-01-11T02:44:46.014Z",
    "type": "exec"
   },
   {
    "id": "e067079c0acf49e08f84972aa65cf9b5",
    "time": "2020-01-11T02:44:46.061Z",
    "type": "completion"
   },
   {
    "code": "# user would not have added the constraints\n# categorical bar charts (suggest that it is ordinal), detect via rule, so that it is sorted \ndobj = lux.DataObj(dataset,[lux.Column(\"Acceleration\"), lux.Column(\"?\")])\ndobj.display()\n# thinks that Acceleration is measured inversely, since it is negatively correlated with other variables",
    "id": "863ab2536dad404d9bf39117fc43a883",
    "idx": 8,
    "time": "2020-01-11T02:44:46.311Z",
    "type": "exec"
   },
   {
    "id": "ee41bac33f234a448be33d991e363e12",
    "time": "2020-01-11T02:44:46.526Z",
    "type": "completion"
   },
   {
    "id": "863ab2536dad404d9bf39117fc43a883",
    "time": "2020-01-11T02:44:47.066Z",
    "type": "completion"
   },
   {
    "code": "dobj = lux.DataObj(dataset,[lux.Column(\"Acceleration\"), lux.Column(\"Weight\"), lux.Column(\"Horsepower\")])\ndobj.display()\n# Hypothesis: Expect high horsepower --> high acceleration\n# does the added horsepower (+added weight), cancels the acceleration",
    "id": "f9e1c4e72c054f2687e11d05dd46a413",
    "idx": 9,
    "time": "2020-01-11T02:44:47.437Z",
    "type": "exec"
   },
   {
    "id": "f9e1c4e72c054f2687e11d05dd46a413",
    "time": "2020-01-11T02:44:47.597Z",
    "type": "completion"
   },
   {
    "code": "dobj = lux.DataObj(dataset,[lux.Column(\"Acceleration\"),lux.Column(\"Horsepower\")])\nresult = dobj.enhance()\nresult.display()\n#Weight, Horsepower, Acceleration is competing/confounding factor\n# I might be looking at possible factors that would be confounding\n# if i see structure in color, then there is a causal trends.\n# if two quantitative variable, then plot correlation line (p value of significance)",
    "id": "97c68b9c55514d468e6c25c2428b2d48",
    "idx": 10,
    "time": "2020-01-11T02:44:48.254Z",
    "type": "exec"
   },
   {
    "id": "97c68b9c55514d468e6c25c2428b2d48",
    "time": "2020-01-11T02:44:48.751Z",
    "type": "completion"
   },
   {
    "code": "dobj = lux.DataObj(dataset,[lux.Column(\"?\",dataType=\"quantitative\"),lux.Column(\"?\",dataType=\"quantitative\")])\nresult = dobj.correlation()",
    "id": "df857077053740ff993a722e4fc4f6f0",
    "idx": 11,
    "time": "2020-01-11T02:44:48.967Z",
    "type": "exec"
   },
   {
    "id": "df857077053740ff993a722e4fc4f6f0",
    "time": "2020-01-11T02:44:49.277Z",
    "type": "completion"
   },
   {
    "code": "result.display()",
    "id": "5d6c0a84abc446818ffb24b0bc5ec414",
    "idx": 12,
    "time": "2020-01-11T02:44:49.939Z",
    "type": "exec"
   },
   {
    "id": "5d6c0a84abc446818ffb24b0bc5ec414",
    "time": "2020-01-11T02:44:50.574Z",
    "type": "completion"
   },
   {
    "code": "dobj = lux.DataObj(dataset,[lux.Column(\"Acceleration\",dataType=\"quantitative\"),lux.Row(\"Origin\",\"?\")])\ndobj.display()\n# Histo should share the same scale (x min, xmax)\n# add option to overlay  (good for binary) v.s. separate plots (if too cluttered)",
    "id": "8c1350dfe5304265ad93cd863af9a5b7",
    "idx": 14,
    "time": "2020-01-11T02:45:02.157Z",
    "type": "exec"
   },
   {
    "id": "8c1350dfe5304265ad93cd863af9a5b7",
    "time": "2020-01-11T02:45:02.363Z",
    "type": "completion"
   }
  ],
  "kernelspec": {
   "display_name": "Python 3",
   "language": "python",
   "name": "python3"
  },
  "language_info": {
   "codemirror_mode": {
    "name": "ipython",
    "version": 3
   },
   "file_extension": ".py",
   "mimetype": "text/x-python",
   "name": "python",
   "nbconvert_exporter": "python",
   "pygments_lexer": "ipython3",
   "version": "3.7.5"
  }
 },
 "nbformat": 4,
 "nbformat_minor": 2
}
