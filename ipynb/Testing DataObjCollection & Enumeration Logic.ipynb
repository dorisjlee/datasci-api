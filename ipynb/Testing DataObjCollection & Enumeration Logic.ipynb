{
 "cells": [
  {
   "cell_type": "code",
   "execution_count": 1,
   "metadata": {},
   "outputs": [
    {
     "name": "stdout",
     "output_type": "stream",
     "text": [
      "/Users/dorislee/Desktop/Research/datasci-api\n"
     ]
    }
   ],
   "source": [
    "cd .."
   ]
  },
  {
   "cell_type": "code",
   "execution_count": 2,
   "metadata": {},
   "outputs": [],
   "source": [
    "import pandas as pd"
   ]
  },
  {
   "cell_type": "code",
   "execution_count": 3,
   "metadata": {},
   "outputs": [],
   "source": [
    "%load_ext autoreload\n",
    "%autoreload 2\n",
    "from dataset.Dataset import Dataset\n",
    "from dataObj.DataObj import DataObj\n",
    "from dataObj.Column import Column\n",
    "from dataObj.Row import Row"
   ]
  },
  {
   "cell_type": "code",
   "execution_count": 4,
   "metadata": {},
   "outputs": [],
   "source": [
    "dataset = Dataset(\"data/real_estate.csv\")"
   ]
  },
  {
   "cell_type": "code",
   "execution_count": 5,
   "metadata": {},
   "outputs": [],
   "source": [
    "dataObj = DataObj(dataset)"
   ]
  },
  {
   "cell_type": "code",
   "execution_count": 6,
   "metadata": {},
   "outputs": [],
   "source": [
    "dataObj2 = DataObj(dataset,columns=[Column(\"soldpricepersqft\")])"
   ]
  },
  {
   "cell_type": "code",
   "execution_count": 7,
   "metadata": {},
   "outputs": [],
   "source": [
    "dobjcol = [dataObj,dataObj2]"
   ]
  },
  {
   "cell_type": "code",
   "execution_count": 8,
   "metadata": {},
   "outputs": [
    {
     "data": {
      "text/plain": [
       "<map at 0x113d04d30>"
      ]
     },
     "execution_count": 8,
     "metadata": {},
     "output_type": "execute_result"
    }
   ],
   "source": [
    "map(lambda x: x.dataset, dobjcol)"
   ]
  },
  {
   "cell_type": "code",
   "execution_count": 9,
   "metadata": {},
   "outputs": [
    {
     "data": {
      "text/plain": [
       "[<Dataset Obj: data/real_estate.csv>, <Dataset Obj: data/real_estate.csv>]"
      ]
     },
     "execution_count": 9,
     "metadata": {},
     "output_type": "execute_result"
    }
   ],
   "source": [
    "list(map(lambda x: x.dataset, dobjcol))"
   ]
  },
  {
   "cell_type": "code",
   "execution_count": 10,
   "metadata": {},
   "outputs": [
    {
     "data": {
      "text/plain": [
       "<Dataset Obj: data/real_estate.csv>"
      ]
     },
     "execution_count": 10,
     "metadata": {},
     "output_type": "execute_result"
    }
   ],
   "source": [
    "getattr(dataObj,\"dataset\")"
   ]
  },
  {
   "cell_type": "code",
   "execution_count": 11,
   "metadata": {},
   "outputs": [],
   "source": [
    "from dataObj.DataObjCollection import DataObjCollection"
   ]
  },
  {
   "cell_type": "code",
   "execution_count": 12,
   "metadata": {},
   "outputs": [],
   "source": [
    "dataObj1 = DataObj(dataset,columns=[Column(\"soldpricepersqft\")])\n",
    "dataObj2 = DataObj(dataset,columns=[Column(\"listpricepersqft\")])"
   ]
  },
  {
   "cell_type": "code",
   "execution_count": 13,
   "metadata": {},
   "outputs": [],
   "source": [
    "dcollection = DataObjCollection([dataObj1,dataObj2])"
   ]
  },
  {
   "cell_type": "code",
   "execution_count": 17,
   "metadata": {},
   "outputs": [
    {
     "data": {
      "text/plain": [
       "[[columnsoldpricepersqft], [columnlistpricepersqft]]"
      ]
     },
     "execution_count": 17,
     "metadata": {},
     "output_type": "execute_result"
    }
   ],
   "source": [
    "list(dcollection.get(\"columns\"))"
   ]
  },
  {
   "cell_type": "code",
   "execution_count": 25,
   "metadata": {},
   "outputs": [
    {
     "data": {
      "text/plain": [
       "'Dataset'"
      ]
     },
     "execution_count": 25,
     "metadata": {},
     "output_type": "execute_result"
    }
   ],
   "source": [
    "if type(dataset).__name__ !=\"Dataset\": \n",
    "    if type(df) == pandas.core.frame.DataFrame:\n",
    "        Dataset()"
   ]
  },
  {
   "cell_type": "code",
   "execution_count": 26,
   "metadata": {},
   "outputs": [],
   "source": [
    "df = pd.read_csv(\"data/real_estate.csv\")"
   ]
  },
  {
   "cell_type": "code",
   "execution_count": 29,
   "metadata": {},
   "outputs": [
    {
     "data": {
      "text/plain": [
       "pandas.core.frame.DataFrame"
      ]
     },
     "execution_count": 29,
     "metadata": {},
     "output_type": "execute_result"
    }
   ],
   "source": [
    "dataset.Da"
   ]
  },
  {
   "cell_type": "markdown",
   "metadata": {},
   "source": [
    "### Enumeration logic"
   ]
  },
  {
   "cell_type": "code",
   "execution_count": 122,
   "metadata": {},
   "outputs": [],
   "source": [
    "# Example 1 \n",
    "collection = DataObj( dataset, [Row(fAttribute=\"City\",fVal='?'),\n",
    "                                Column(\"year\",channel='x'),\n",
    "                                Column('SoldPricePerSqft',channel='y')])"
   ]
  },
  {
   "cell_type": "code",
   "execution_count": 158,
   "metadata": {},
   "outputs": [],
   "source": [
    "# Example 2\n",
    "collection = DataObj( dataset, [Column(\"?\",channel='x',dataModel=\"measure\"),\n",
    "                                Column(\"?\",channel='y',dataModel=\"measure\")])"
   ]
  },
  {
   "cell_type": "code",
   "execution_count": 116,
   "metadata": {},
   "outputs": [],
   "source": [
    "# Example 3\n",
    "collection = DataObj( dataset, [Column(\"year\",channel='x',dataModel=\"measure\"),\n",
    "                                Column(['SoldPricePerSqft', 'PctForeclosured', 'PctIncreasing'],channel='y',dataModel=\"measure\")])"
   ]
  },
  {
   "cell_type": "code",
   "execution_count": 159,
   "metadata": {},
   "outputs": [],
   "source": [
    "matchingItems = []\n",
    "for spec in collection.spec:\n",
    "    #need to modify to include detection of list items\n",
    "    wildCardField = getFieldByValue(spec.__dict__,\"?\") \n",
    "    if len(wildCardField)>0:\n",
    "        matchingItems.append([spec,wildCardField[0]])#can only have one wildcard per Row, Col object"
   ]
  },
  {
   "cell_type": "code",
   "execution_count": 160,
   "metadata": {},
   "outputs": [
    {
     "data": {
      "text/plain": [
       "[[Column <?>, 'columnName'], [Column <?>, 'columnName']]"
      ]
     },
     "execution_count": 160,
     "metadata": {},
     "output_type": "execute_result"
    }
   ],
   "source": [
    "matchingItems"
   ]
  },
  {
   "cell_type": "code",
   "execution_count": 149,
   "metadata": {},
   "outputs": [
    {
     "data": {
      "text/plain": [
       "[]"
      ]
     },
     "execution_count": 149,
     "metadata": {},
     "output_type": "execute_result"
    }
   ],
   "source": [
    "list(filter(lambda x: spec.__dict__[x]==\"?\",spec.__dict__))"
   ]
  },
  {
   "cell_type": "code",
   "execution_count": 150,
   "metadata": {},
   "outputs": [],
   "source": [
    "def getFieldByValue(dct,value):\n",
    "    return list(filter(lambda x: dct[x]==value,dct))"
   ]
  },
  {
   "cell_type": "code",
   "execution_count": 151,
   "metadata": {},
   "outputs": [],
   "source": [
    "df = collection.dataset.df"
   ]
  },
  {
   "cell_type": "code",
   "execution_count": 152,
   "metadata": {},
   "outputs": [
    {
     "data": {
      "text/plain": [
       "array(['Savage', 'La Quinta', 'Pinellas Park', ..., 'Roswell',\n",
       "       'Ruther Glen', 'La Mesa'], dtype=object)"
      ]
     },
     "execution_count": 152,
     "metadata": {},
     "output_type": "execute_result"
    }
   ],
   "source": [
    "df[\"City\"].unique()"
   ]
  },
  {
   "cell_type": "code",
   "execution_count": 153,
   "metadata": {},
   "outputs": [
    {
     "data": {
      "text/plain": [
       "{'measure': ['SoldPricePerSqft',\n",
       "  'PctForeclosured',\n",
       "  'PctIncreasing',\n",
       "  'Turnover',\n",
       "  'PctDecreasing',\n",
       "  'ListingPricePerSqft',\n",
       "  'PctPriceReductions',\n",
       "  'ForeclosuresRatio',\n",
       "  'PriceToRentRatio',\n",
       "  'SaleToListRatio',\n",
       "  'NumberForRent',\n",
       "  'SoldPrice'],\n",
       " 'dimension': ['Month',\n",
       "  'ListingPrice',\n",
       "  'Year',\n",
       "  'Quarter',\n",
       "  'Metro',\n",
       "  'County',\n",
       "  'State',\n",
       "  'City']}"
      ]
     },
     "execution_count": 153,
     "metadata": {},
     "output_type": "execute_result"
    }
   ],
   "source": [
    "dataset.dataModel"
   ]
  },
  {
   "cell_type": "markdown",
   "metadata": {},
   "source": [
    "`matchingField` is a list that contain items, each item is a matching field with three things:\n",
    "\n",
    "[original spec Row/Col that contains ?, name of the field that contained ?, possible options for that field]"
   ]
  },
  {
   "cell_type": "code",
   "execution_count": 157,
   "metadata": {},
   "outputs": [
    {
     "name": "stdout",
     "output_type": "stream",
     "text": [
      "[Row <City,?>, 'fVal', array(['Savage', 'La Quinta', 'Pinellas Park', ..., 'Roswell',\n",
      "       'Ruther Glen', 'La Mesa'], dtype=object)]\n"
     ]
    }
   ],
   "source": [
    "for matchingItem in matchingItems:\n",
    "    print (matchingItem)\n",
    "    spec = matchingItem[0]\n",
    "    wildKey = matchingItem[1]\n",
    "    if wildKey =='fVal': \n",
    "        fAttribute = spec.fAttribute\n",
    "        matchingItem.append(df[fAttribute].unique())\n",
    "    elif wildKey ==\"columnName\":\n",
    "        # TODO: see if constraint on dataType or dataModel\n",
    "        matchingItem.append(colLst)"
   ]
  },
  {
   "cell_type": "code",
   "execution_count": 155,
   "metadata": {},
   "outputs": [
    {
     "data": {
      "text/plain": [
       "[[Row <City,?>,\n",
       "  'fVal',\n",
       "  array(['Savage', 'La Quinta', 'Pinellas Park', ..., 'Roswell',\n",
       "         'Ruther Glen', 'La Mesa'], dtype=object)]]"
      ]
     },
     "execution_count": 155,
     "metadata": {},
     "output_type": "execute_result"
    }
   ],
   "source": [
    "matchingFields"
   ]
  },
  {
   "cell_type": "code",
   "execution_count": 156,
   "metadata": {},
   "outputs": [
    {
     "data": {
      "text/plain": [
       "[Row <City,?>,\n",
       " 'fVal',\n",
       " array(['Savage', 'La Quinta', 'Pinellas Park', ..., 'Roswell',\n",
       "        'Ruther Glen', 'La Mesa'], dtype=object)]"
      ]
     },
     "execution_count": 156,
     "metadata": {},
     "output_type": "execute_result"
    }
   ],
   "source": [
    "wildMatch"
   ]
  },
  {
   "cell_type": "code",
   "execution_count": null,
   "metadata": {},
   "outputs": [],
   "source": []
  }
 ],
 "metadata": {
  "kernelspec": {
   "display_name": "Python 3",
   "language": "python",
   "name": "python3"
  },
  "language_info": {
   "codemirror_mode": {
    "name": "ipython",
    "version": 3
   },
   "file_extension": ".py",
   "mimetype": "text/x-python",
   "name": "python",
   "nbconvert_exporter": "python",
   "pygments_lexer": "ipython3",
   "version": "3.7.0"
  }
 },
 "nbformat": 4,
 "nbformat_minor": 4
}
