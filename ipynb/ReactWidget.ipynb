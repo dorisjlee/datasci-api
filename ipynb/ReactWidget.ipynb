{
 "cells": [
  {
   "cell_type": "code",
   "execution_count": 1,
   "metadata": {},
   "outputs": [
    {
     "name": "stdout",
     "output_type": "stream",
     "text": [
      "/Users/dorislee/Desktop/Research/vizdatasci/datasci-api\n"
     ]
    }
   ],
   "source": [
    "cd ../"
   ]
  },
  {
   "cell_type": "code",
   "execution_count": 2,
   "metadata": {},
   "outputs": [],
   "source": [
    "%load_ext autoreload\n",
    "%autoreload 2\n",
    "from dataset.Dataset import Dataset\n",
    "from dataObj.dataObj import DataObj\n",
    "from dataObj.Row import Row\n",
    "from dataObj.Column import Column"
   ]
  },
  {
   "cell_type": "code",
   "execution_count": 3,
   "metadata": {},
   "outputs": [],
   "source": [
    "dataset = Dataset(\"data/cars.csv\",schema=[{\"Year\":{\"dataType\":\"date\"}},{\"Cylinders\":{\"dataModel\":\"dimension\"}}])"
   ]
  },
  {
   "cell_type": "code",
   "execution_count": 4,
   "metadata": {},
   "outputs": [
    {
     "data": {
      "application/vnd.jupyter.widget-view+json": {
       "model_id": "a297c0eea7af4f40aced48da12e1fc5e",
       "version_major": 2,
       "version_minor": 0
      },
      "text/plain": [
       "DisplayWidget(current_view={'config': {'view': {'continuousWidth': 400, 'continuousHeight': 300}}, 'data': {'n…"
      ]
     },
     "metadata": {},
     "output_type": "display_data"
    }
   ],
   "source": [
    "dobj = DataObj(dataset,[Column(\"MilesPerGal\")])\n",
    "dobj.display()"
   ]
  },
  {
   "cell_type": "code",
   "execution_count": 5,
   "metadata": {},
   "outputs": [
    {
     "data": {
      "application/vnd.jupyter.widget-view+json": {
       "model_id": "a47f559ce9164081a9f3e71557ca32a9",
       "version_major": 2,
       "version_minor": 0
      },
      "text/plain": [
       "DisplayWidget(current_view={'config': {'view': {'continuousWidth': 400, 'continuousHeight': 300}, 'mark': {'to…"
      ]
     },
     "metadata": {},
     "output_type": "display_data"
    }
   ],
   "source": [
    "dobj = DataObj(dataset,[Column(\"MilesPerGal\"),Column(\"Weight\"),Row(\"Origin\",\"USA\")])\n",
    "\n",
    "dobj.display()"
   ]
  },
  {
   "cell_type": "code",
   "execution_count": 6,
   "metadata": {},
   "outputs": [
    {
     "data": {
      "application/vnd.jupyter.widget-view+json": {
       "model_id": "ad970569302141cbb3e9557d965fc5a7",
       "version_major": 2,
       "version_minor": 0
      },
      "text/plain": [
       "DisplayWidget(current_view={'config': {'view': {'continuousWidth': 400, 'continuousHeight': 300}, 'mark': {'to…"
      ]
     },
     "metadata": {},
     "output_type": "display_data"
    }
   ],
   "source": [
    "dobj = DataObj(dataset,[Column(\"Acceleration\"), Column(\"Horsepower\"),Row(\"Brand\",\"ford\")])\n",
    "dobj.generalize()\n",
    "dobj.display()"
   ]
  },
  {
   "cell_type": "code",
   "execution_count": 7,
   "metadata": {},
   "outputs": [
    {
     "name": "stdout",
     "output_type": "stream",
     "text": [
      "num row vals:  29\n"
     ]
    }
   ],
   "source": [
    "dobj = DataObj(dataset,[Column(\"Acceleration\"), Column(\"Horsepower\"),Row(\"Brand\",\"?\")])"
   ]
  },
  {
   "cell_type": "code",
   "execution_count": 8,
   "metadata": {},
   "outputs": [
    {
     "data": {
      "application/vnd.jupyter.widget-view+json": {
       "model_id": "74c9b4a481ac4c659da25735ed4b0f70",
       "version_major": 2,
       "version_minor": 0
      },
      "text/plain": [
       "DisplayWidget(current_view={'config': {'view': {'continuousWidth': 400, 'continuousHeight': 300}, 'mark': {'to…"
      ]
     },
     "metadata": {},
     "output_type": "display_data"
    }
   ],
   "source": [
    "dobj.display()"
   ]
  },
  {
   "cell_type": "code",
   "execution_count": 9,
   "metadata": {
    "scrolled": true
   },
   "outputs": [
    {
     "data": {
      "application/vnd.jupyter.widget-view+json": {
       "model_id": "cba4c0b5d0dd49d48fa86a4247644627",
       "version_major": 2,
       "version_minor": 0
      },
      "text/plain": [
       "DisplayWidget(current_view={'config': {'view': {'continuousWidth': 400, 'continuousHeight': 300}}, 'data': {'n…"
      ]
     },
     "metadata": {},
     "output_type": "display_data"
    }
   ],
   "source": [
    "dobj = DataObj(dataset,[Column(\"MilesPerGal\"),Column(\"?\",dataModel=\"measure\")])\n",
    "dobj.correlation()\n",
    "dobj.display()"
   ]
  },
  {
   "cell_type": "code",
   "execution_count": 10,
   "metadata": {},
   "outputs": [
    {
     "data": {
      "application/vnd.jupyter.widget-view+json": {
       "model_id": "75480f680fc44c6c87b1a70fa8acc661",
       "version_major": 2,
       "version_minor": 0
      },
      "text/plain": [
       "DisplayWidget(recommendations=[{'action': 'Distribution', 'description': 'Show univariate count distributions …"
      ]
     },
     "metadata": {},
     "output_type": "display_data"
    }
   ],
   "source": [
    "dobj = DataObj(dataset,[Column([\"Horsepower\",\"Weight\",\"Acceleration\",\"Displacement\"])])\n",
    "dobj.distribution()\n",
    "\n",
    "dobj.display()"
   ]
  },
  {
   "cell_type": "code",
   "execution_count": 11,
   "metadata": {},
   "outputs": [
    {
     "data": {
      "application/vnd.jupyter.widget-view+json": {
       "model_id": "6bff4bbefc134a94a91aabae286f3515",
       "version_major": 2,
       "version_minor": 0
      },
      "text/plain": [
       "DisplayWidget(current_view={'config': {'view': {'continuousWidth': 400, 'continuousHeight': 300}}, 'data': {'n…"
      ]
     },
     "metadata": {},
     "output_type": "display_data"
    }
   ],
   "source": [
    "query = DataObj(dataset,[Column(\"Year\",channel=\"x\"), Column(\"?\",dataModel=\"measure\")])\n",
    "query.display()"
   ]
  },
  {
   "cell_type": "code",
   "execution_count": 12,
   "metadata": {},
   "outputs": [
    {
     "name": "stdout",
     "output_type": "stream",
     "text": [
      "num row vals:  29\n"
     ]
    },
    {
     "data": {
      "application/vnd.jupyter.widget-view+json": {
       "model_id": "933a052eaba843ce881c68e8b4009e4f",
       "version_major": 2,
       "version_minor": 0
      },
      "text/plain": [
       "DisplayWidget(current_view={'config': {'view': {'continuousWidth': 400, 'continuousHeight': 300}}, 'data': {'n…"
      ]
     },
     "metadata": {},
     "output_type": "display_data"
    }
   ],
   "source": [
    "dobjCollection = DataObj(dataset,[Column(\"Horsepower\",channel=\"y\"),Column([\"Year\"],channel=\"x\"),Row(\"Brand\",\"?\")])\n",
    "query = DataObj(dataset,[Column(\"Horsepower\",channel=\"y\"),Column(\"Year\",channel=\"x\"),Row(\"Brand\",\"ford\")])\n",
    "\n",
    "dobjCollection.similarPattern(query)\n",
    "dobjCollection.display(currentView=query)"
   ]
  },
  {
   "cell_type": "code",
   "execution_count": null,
   "metadata": {},
   "outputs": [],
   "source": []
  },
  {
   "cell_type": "code",
   "execution_count": 13,
   "metadata": {},
   "outputs": [
    {
     "name": "stdout",
     "output_type": "stream",
     "text": [
      "num row vals:  29\n"
     ]
    },
    {
     "data": {
      "application/vnd.jupyter.widget-view+json": {
       "model_id": "cdf3b6d2a5024c8daa8880b917a69112",
       "version_major": 2,
       "version_minor": 0
      },
      "text/plain": [
       "DisplayWidget(current_view={'config': {'view': {'continuousWidth': 400, 'continuousHeight': 300}}, 'data': {'n…"
      ]
     },
     "metadata": {},
     "output_type": "display_data"
    }
   ],
   "source": [
    "dobj = DataObj(dataset,[Column(\"Horsepower\",channel=\"y\"),Column([\"Year\"],channel=\"x\"),Row(\"Brand\",\"?\")])\n",
    "dobj.display()"
   ]
  },
  {
   "cell_type": "code",
   "execution_count": 14,
   "metadata": {},
   "outputs": [
    {
     "data": {
      "application/vnd.jupyter.widget-view+json": {
       "model_id": "74c278ecdcf9484ab7fa9fb0a8c56f17",
       "version_major": 2,
       "version_minor": 0
      },
      "text/plain": [
       "DisplayWidget(current_view={'config': {'view': {'continuousWidth': 400, 'continuousHeight': 300}}, 'data': {'n…"
      ]
     },
     "metadata": {},
     "output_type": "display_data"
    }
   ],
   "source": [
    "dobj = DataObj(dataset,[Column([\"Horsepower\",\"Acceleration\",\"Weight\"],channel=\"y\"),Column(\"Year\",channel=\"x\")])\n",
    "dobj.display()"
   ]
  },
  {
   "cell_type": "code",
   "execution_count": null,
   "metadata": {},
   "outputs": [],
   "source": []
  },
  {
   "cell_type": "code",
   "execution_count": null,
   "metadata": {},
   "outputs": [],
   "source": []
  }
 ],
 "metadata": {
  "kernelspec": {
   "display_name": "Python 3",
   "language": "python",
   "name": "python3"
  },
  "language_info": {
   "codemirror_mode": {
    "name": "ipython",
    "version": 3
   },
   "file_extension": ".py",
   "mimetype": "text/x-python",
   "name": "python",
   "nbconvert_exporter": "python",
   "pygments_lexer": "ipython3",
   "version": "3.7.5"
  }
 },
 "nbformat": 4,
 "nbformat_minor": 2
}
