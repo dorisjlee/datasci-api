{
 "cells": [
  {
   "cell_type": "code",
   "execution_count": 1,
   "metadata": {},
   "outputs": [
    {
     "name": "stdout",
     "output_type": "stream",
     "text": [
      "/Users/dorislee/Desktop/Research/vizdatasci/datasci-api\n"
     ]
    }
   ],
   "source": [
    "cd ../"
   ]
  },
  {
   "cell_type": "code",
   "execution_count": 2,
   "metadata": {},
   "outputs": [],
   "source": [
    "%load_ext autoreload\n",
    "%autoreload 2\n",
    "from dataset.Dataset import Dataset\n",
    "from dataObj.dataObj import DataObj\n",
    "from dataObj.Row import Row\n",
    "from dataObj.Column import Column"
   ]
  },
  {
   "cell_type": "code",
   "execution_count": 3,
   "metadata": {},
   "outputs": [],
   "source": [
    "dataset = Dataset(\"data/cars.csv\",schema=[{\"Year\":{\"dataType\":\"date\"}}])"
   ]
  },
  {
   "cell_type": "code",
   "execution_count": 4,
   "metadata": {},
   "outputs": [],
   "source": [
    "dobj = DataObj(dataset,[Column(\"MilesPerGal\",channel=\"x\"),Column(\"?\",dataModel=\"measure\",channel=\"y\")])"
   ]
  },
  {
   "cell_type": "code",
   "execution_count": 5,
   "metadata": {},
   "outputs": [],
   "source": [
    "import json"
   ]
  },
  {
   "cell_type": "code",
   "execution_count": 6,
   "metadata": {},
   "outputs": [],
   "source": [
    "graphSpecs= json.loads(dobj.dataset.df.to_json(orient='records'))"
   ]
  },
  {
   "cell_type": "code",
   "execution_count": 7,
   "metadata": {
    "scrolled": false
   },
   "outputs": [
    {
     "data": {
      "application/vnd.jupyter.widget-view+json": {
       "model_id": "e708d6f1b9c94591bfec42b040999713",
       "version_major": 2,
       "version_minor": 0
      },
      "text/plain": [
       "ExampleWidget(data=[{'Name': 'chevrolet chevelle malibu', 'MilesPerGal': 18.0, 'Cylinders': 8, 'Displacement':…"
      ]
     },
     "metadata": {},
     "output_type": "display_data"
    }
   ],
   "source": [
    "dobj.display()"
   ]
  },
  {
   "cell_type": "code",
   "execution_count": 27,
   "metadata": {},
   "outputs": [],
   "source": [
    "dobj = DataObj(dataset,[Column([\"Acceleration\", \"Horsepower\"])])"
   ]
  },
  {
   "cell_type": "code",
   "execution_count": 21,
   "metadata": {},
   "outputs": [
    {
     "data": {
      "text/plain": [
       "[<Data Obj: [Column <['Horsepower'],channel:,dataType:,dataModel:>] -- 40952.00>,\n",
       " <Data Obj: [Column <['Acceleration'],channel:,dataType:,dataModel:>] -- 6092.20>]"
      ]
     },
     "execution_count": 21,
     "metadata": {},
     "output_type": "execute_result"
    }
   ],
   "source": [
    "dobj.generalize()"
   ]
  },
  {
   "cell_type": "code",
   "execution_count": 22,
   "metadata": {},
   "outputs": [
    {
     "data": {
      "application/vnd.jupyter.widget-view+json": {
       "model_id": "277505dd84594559ad21bc85d013158c",
       "version_major": 2,
       "version_minor": 0
      },
      "text/plain": [
       "ExampleWidget(data=[{'Name': 'chevrolet chevelle malibu', 'MilesPerGal': 18.0, 'Cylinders': 8, 'Displacement':…"
      ]
     },
     "metadata": {},
     "output_type": "display_data"
    }
   ],
   "source": [
    "dobj.display()"
   ]
  },
  {
   "cell_type": "code",
   "execution_count": 34,
   "metadata": {},
   "outputs": [],
   "source": [
    "from compiler.Compiler import Compiler"
   ]
  },
  {
   "cell_type": "code",
   "execution_count": 58,
   "metadata": {},
   "outputs": [],
   "source": [
    "# 1 Current View, no collection\n",
    "dobj = DataObj(dataset,[Column(\"Acceleration\"), Column(\"Horsepower\")])\n",
    "# No Current View, 1 collection\n",
    "dobj = DataObj(dataset,[Column(\"Acceleration\"), Column(\"?\")])\n",
    "# 1 Current View, 1 collection\n",
    "dobj = DataObj(dataset,[Column(\"Acceleration\"), Column(\"Horsepower\")])\n"
   ]
  },
  {
   "cell_type": "code",
   "execution_count": 128,
   "metadata": {},
   "outputs": [
    {
     "name": "stdout",
     "output_type": "stream",
     "text": [
      "here\n",
      "<Data Obj: [Column <Acceleration,channel:,dataType:,dataModel:>]>\n",
      "after: <Data Obj: [Column <Acceleration,channel:,dataType:,dataModel:>]>\n"
     ]
    }
   ],
   "source": [
    "dobj = DataObj(dataset,[Column(\"Acceleration\")])"
   ]
  },
  {
   "cell_type": "code",
   "execution_count": 129,
   "metadata": {},
   "outputs": [
    {
     "data": {
      "text/plain": [
       "<Data Obj: [Column <Acceleration,channel:x,dataType:quantitative,dataModel:measure>, Column <count(),channel:y,dataType:,dataModel:measure>]>"
      ]
     },
     "execution_count": 129,
     "metadata": {},
     "output_type": "execute_result"
    }
   ],
   "source": [
    "dobj.compiled"
   ]
  },
  {
   "cell_type": "code",
   "execution_count": 130,
   "metadata": {},
   "outputs": [],
   "source": [
    "dobj = DataObj(dataset,[Column(\"Acceleration\"), Column(\"Horsepower\")])"
   ]
  },
  {
   "cell_type": "code",
   "execution_count": 131,
   "metadata": {},
   "outputs": [],
   "source": [
    "dobj.generalize()"
   ]
  },
  {
   "cell_type": "code",
   "execution_count": 132,
   "metadata": {},
   "outputs": [
    {
     "data": {
      "text/plain": [
       "<Data Obj: [Column <Acceleration,channel:x,dataType:quantitative,dataModel:measure>, Column <Horsepower,channel:y,dataType:quantitative,dataModel:measure>]>"
      ]
     },
     "execution_count": 132,
     "metadata": {},
     "output_type": "execute_result"
    }
   ],
   "source": [
    "dobj.compiled"
   ]
  },
  {
   "cell_type": "code",
   "execution_count": 133,
   "metadata": {},
   "outputs": [
    {
     "data": {
      "text/plain": [
       "{'action': 'Generalize',\n",
       " 'description': 'Remove one attribute or filter from the Current View',\n",
       " 'collection': <Data Obj Collection: [<Data Obj: [Column <Acceleration,channel:x,dataType:quantitative,dataModel:measure>, Column <Horsepower,channel:y,dataType:quantitative,dataModel:measure>]>, <Data Obj: [Column <Acceleration,channel:x,dataType:quantitative,dataModel:measure>, Column <Horsepower,channel:y,dataType:quantitative,dataModel:measure>]>]>}"
      ]
     },
     "execution_count": 133,
     "metadata": {},
     "output_type": "execute_result"
    }
   ],
   "source": [
    "dobj.recommendation"
   ]
  },
  {
   "cell_type": "code",
   "execution_count": 165,
   "metadata": {},
   "outputs": [],
   "source": [
    "def renderVSpec(dobj,renderer=\"altair\"):\n",
    "    from vizLib.altair.AltairRenderer import AltairRenderer\n",
    "    if (renderer==\"altair\"):\n",
    "        renderer = AltairRenderer()\n",
    "    return renderer.createVis(dobj)"
   ]
  },
  {
   "cell_type": "code",
   "execution_count": 166,
   "metadata": {},
   "outputs": [],
   "source": [
    "def toJSON(dobj):\n",
    "    dobj_dict = {}\n",
    "    self = dobj\n",
    "    # Current View (if any)\n",
    "    if (type(self.compiled).__name__==\"DataObj\"):\n",
    "        dobj_dict[\"currentView\"] = renderVSpec(dobj.compiled)\n",
    "    # Recommended Collection \n",
    "    dobj_dict[\"recommendations\"] = []\n",
    "    self.recommendation[\"vspec\"] = []\n",
    "    for vis in self.recommendation[\"collection\"].collection:\n",
    "        chart = renderVSpec(vis)\n",
    "        self.recommendation[\"vspec\"].append(chart)\n",
    "    dobj_dict[\"recommendations\"].append(self.recommendation)\n",
    "    return dobj_dict"
   ]
  },
  {
   "cell_type": "code",
   "execution_count": 163,
   "metadata": {},
   "outputs": [],
   "source": [
    "dobjDict = toJSON(dobj)"
   ]
  },
  {
   "cell_type": "code",
   "execution_count": 164,
   "metadata": {
    "scrolled": false
   },
   "outputs": [
    {
     "name": "stdout",
     "output_type": "stream",
     "text": [
      "{'currentView': {'$schema': 'https://vega.github.io/schema/vega-lite/v4.0.0.json',\n",
      "                 'config': {'mark': {'tooltip': {'content': 'encoding'}},\n",
      "                            'view': {'continuousHeight': 300,\n",
      "                                     'continuousWidth': 400}},\n",
      "                 'data': {'name': 'chartData'},\n",
      "                 'encoding': {'tooltip': [{'field': 'Name', 'type': 'nominal'},\n",
      "                                          {'field': 'MilesPerGal',\n",
      "                                           'type': 'quantitative'},\n",
      "                                          {'field': 'Cylinders',\n",
      "                                           'type': 'quantitative'},\n",
      "                                          {'field': 'Displacement',\n",
      "                                           'type': 'quantitative'},\n",
      "                                          {'field': 'Horsepower',\n",
      "                                           'type': 'quantitative'},\n",
      "                                          {'field': 'Weight',\n",
      "                                           'type': 'quantitative'},\n",
      "                                          {'field': 'Acceleration',\n",
      "                                           'type': 'quantitative'},\n",
      "                                          {'field': 'Year',\n",
      "                                           'type': 'quantitative'},\n",
      "                                          {'field': 'Origin',\n",
      "                                           'type': 'nominal'},\n",
      "                                          {'field': 'Brand',\n",
      "                                           'type': 'nominal'}],\n",
      "                              'x': {'field': 'Acceleration',\n",
      "                                    'type': 'quantitative'},\n",
      "                              'y': {'field': 'Horsepower',\n",
      "                                    'type': 'quantitative'}},\n",
      "                 'height': 180,\n",
      "                 'mark': 'circle',\n",
      "                 'selection': {'selector038': {'bind': 'scales',\n",
      "                                               'encodings': ['x', 'y'],\n",
      "                                               'type': 'interval'}},\n",
      "                 'width': 200},\n",
      " 'recommendations': [{'action': 'Generalize',\n",
      "                      'collection': <Data Obj Collection: [<Data Obj: [Column <Acceleration,channel:x,dataType:quantitative,dataModel:measure>, Column <Horsepower,channel:y,dataType:quantitative,dataModel:measure>]>, <Data Obj: [Column <Acceleration,channel:x,dataType:quantitative,dataModel:measure>, Column <Horsepower,channel:y,dataType:quantitative,dataModel:measure>]>]>,\n",
      "                      'description': 'Remove one attribute or filter from the '\n",
      "                                     'Current View',\n",
      "                      'vspec': [{'$schema': 'https://vega.github.io/schema/vega-lite/v4.0.0.json',\n",
      "                                 'config': {'mark': {'tooltip': {'content': 'encoding'}},\n",
      "                                            'view': {'continuousHeight': 300,\n",
      "                                                     'continuousWidth': 400}},\n",
      "                                 'data': {'name': 'chartData'},\n",
      "                                 'encoding': {'tooltip': [{'field': 'Name',\n",
      "                                                           'type': 'nominal'},\n",
      "                                                          {'field': 'MilesPerGal',\n",
      "                                                           'type': 'quantitative'},\n",
      "                                                          {'field': 'Cylinders',\n",
      "                                                           'type': 'quantitative'},\n",
      "                                                          {'field': 'Displacement',\n",
      "                                                           'type': 'quantitative'},\n",
      "                                                          {'field': 'Horsepower',\n",
      "                                                           'type': 'quantitative'},\n",
      "                                                          {'field': 'Weight',\n",
      "                                                           'type': 'quantitative'},\n",
      "                                                          {'field': 'Acceleration',\n",
      "                                                           'type': 'quantitative'},\n",
      "                                                          {'field': 'Year',\n",
      "                                                           'type': 'quantitative'},\n",
      "                                                          {'field': 'Origin',\n",
      "                                                           'type': 'nominal'},\n",
      "                                                          {'field': 'Brand',\n",
      "                                                           'type': 'nominal'}],\n",
      "                                              'x': {'field': 'Acceleration',\n",
      "                                                    'type': 'quantitative'},\n",
      "                                              'y': {'field': 'Horsepower',\n",
      "                                                    'type': 'quantitative'}},\n",
      "                                 'height': 180,\n",
      "                                 'mark': 'circle',\n",
      "                                 'selection': {'selector039': {'bind': 'scales',\n",
      "                                                               'encodings': ['x',\n",
      "                                                                             'y'],\n",
      "                                                               'type': 'interval'}},\n",
      "                                 'width': 200},\n",
      "                                {'$schema': 'https://vega.github.io/schema/vega-lite/v4.0.0.json',\n",
      "                                 'config': {'mark': {'tooltip': {'content': 'encoding'}},\n",
      "                                            'view': {'continuousHeight': 300,\n",
      "                                                     'continuousWidth': 400}},\n",
      "                                 'data': {'name': 'chartData'},\n",
      "                                 'encoding': {'tooltip': [{'field': 'Name',\n",
      "                                                           'type': 'nominal'},\n",
      "                                                          {'field': 'MilesPerGal',\n",
      "                                                           'type': 'quantitative'},\n",
      "                                                          {'field': 'Cylinders',\n",
      "                                                           'type': 'quantitative'},\n",
      "                                                          {'field': 'Displacement',\n",
      "                                                           'type': 'quantitative'},\n",
      "                                                          {'field': 'Horsepower',\n",
      "                                                           'type': 'quantitative'},\n",
      "                                                          {'field': 'Weight',\n",
      "                                                           'type': 'quantitative'},\n",
      "                                                          {'field': 'Acceleration',\n",
      "                                                           'type': 'quantitative'},\n",
      "                                                          {'field': 'Year',\n",
      "                                                           'type': 'quantitative'},\n",
      "                                                          {'field': 'Origin',\n",
      "                                                           'type': 'nominal'},\n",
      "                                                          {'field': 'Brand',\n",
      "                                                           'type': 'nominal'}],\n",
      "                                              'x': {'field': 'Acceleration',\n",
      "                                                    'type': 'quantitative'},\n",
      "                                              'y': {'field': 'Horsepower',\n",
      "                                                    'type': 'quantitative'}},\n",
      "                                 'height': 180,\n",
      "                                 'mark': 'circle',\n",
      "                                 'selection': {'selector040': {'bind': 'scales',\n",
      "                                                               'encodings': ['x',\n",
      "                                                                             'y'],\n",
      "                                                               'type': 'interval'}},\n",
      "                                 'width': 200}]}]}\n"
     ]
    }
   ],
   "source": [
    "import pprint\n",
    "pprint.pprint(dobjDict)"
   ]
  },
  {
   "cell_type": "code",
   "execution_count": 19,
   "metadata": {},
   "outputs": [],
   "source": [
    "dobj = DataObj(dataset,[Column(\"Acceleration\"), Column(\"Horsepower\")])"
   ]
  },
  {
   "cell_type": "code",
   "execution_count": 20,
   "metadata": {},
   "outputs": [],
   "source": [
    "dobj.generalize()"
   ]
  },
  {
   "cell_type": "code",
   "execution_count": 21,
   "metadata": {},
   "outputs": [],
   "source": [
    "# dobj.toJSON()"
   ]
  },
  {
   "cell_type": "code",
   "execution_count": 22,
   "metadata": {},
   "outputs": [
    {
     "data": {
      "application/vnd.jupyter.widget-view+json": {
       "model_id": "89178d23a8be44949e83de45c397b5cd",
       "version_major": 2,
       "version_minor": 0
      },
      "text/plain": [
       "ExampleWidget(current_view={'config': {'view': {'continuousWidth': 400, 'continuousHeight': 300}, 'mark': {'to…"
      ]
     },
     "metadata": {},
     "output_type": "display_data"
    }
   ],
   "source": [
    "dobj.display()"
   ]
  },
  {
   "cell_type": "code",
   "execution_count": null,
   "metadata": {},
   "outputs": [],
   "source": []
  }
 ],
 "metadata": {
  "kernelspec": {
   "display_name": "Python 3",
   "language": "python",
   "name": "python3"
  },
  "language_info": {
   "codemirror_mode": {
    "name": "ipython",
    "version": 3
   },
   "file_extension": ".py",
   "mimetype": "text/x-python",
   "name": "python",
   "nbconvert_exporter": "python",
   "pygments_lexer": "ipython3",
   "version": "3.7.5"
  }
 },
 "nbformat": 4,
 "nbformat_minor": 2
}
