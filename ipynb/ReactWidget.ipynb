{
 "cells": [
  {
   "cell_type": "code",
   "execution_count": 1,
   "metadata": {},
   "outputs": [
    {
     "name": "stdout",
     "output_type": "stream",
     "text": [
      "/Users/dorislee/Desktop/Research/vizdatasci/datasci-api\n"
     ]
    }
   ],
   "source": [
    "cd ../"
   ]
  },
  {
   "cell_type": "code",
   "execution_count": 2,
   "metadata": {},
   "outputs": [],
   "source": [
    "%load_ext autoreload\n",
    "%autoreload 2\n",
    "import lux\n",
    "from lux.dataObj.dataObj import DataObj\n",
    "from lux.dataObj.Row import Row\n",
    "from lux.dataObj.Column import Column"
   ]
  },
  {
   "cell_type": "code",
   "execution_count": 3,
   "metadata": {},
   "outputs": [],
   "source": [
    "dataset = lux.Dataset(\"lux/data/cars.csv\",schema=[{\"Year\":{\"dataType\":\"date\"}}])"
   ]
  },
  {
   "cell_type": "code",
   "execution_count": 12,
   "metadata": {},
   "outputs": [],
   "source": [
    "dobj = DataObj(dataset,[Column(\"Horsepower\",channel=\"y\"),     \n",
    "                        Column(\"Year\",channel=\"x\"),\n",
    "                        Row(\"Brand\",\"?\")])"
   ]
  },
  {
   "cell_type": "code",
   "execution_count": 13,
   "metadata": {},
   "outputs": [
    {
     "data": {
      "application/vnd.jupyter.widget-view+json": {
       "model_id": "628daa2d11b24f19a3255e1ba1712559",
       "version_major": 2,
       "version_minor": 0
      },
      "text/plain": [
       "DisplayWidget(current_view={'config': {'view': {'continuousWidth': 400, 'continuousHeight': 300}}, 'data': {'n…"
      ]
     },
     "metadata": {},
     "output_type": "display_data"
    }
   ],
   "source": [
    "dobj.display()"
   ]
  },
  {
   "cell_type": "code",
   "execution_count": 11,
   "metadata": {
    "scrolled": true
   },
   "outputs": [
    {
     "data": {
      "application/vnd.jupyter.widget-view+json": {
       "model_id": "060b8a22809649189b3427b23ed20e1a",
       "version_major": 2,
       "version_minor": 0
      },
      "text/plain": [
       "DisplayWidget(recommendations=[{'action': 'Vis Collection', 'vspec': [{'config': {'view': {'continuousWidth': …"
      ]
     },
     "metadata": {},
     "output_type": "display_data"
    }
   ],
   "source": [
    "dobj = DataObj(dataset,[Column([\"Horsepower\",\"Acceleration\",\"Weight\"]),Column([\"Origin\",\"Cylinders\"],channel=\"x\")])\n",
    "dobj.display()"
   ]
  },
  {
   "cell_type": "code",
   "execution_count": 2,
   "metadata": {},
   "outputs": [
    {
     "ename": "ModuleNotFoundError",
     "evalue": "No module named 'dataset'",
     "output_type": "error",
     "traceback": [
      "\u001b[0;31m---------------------------------------------------------------------------\u001b[0m",
      "\u001b[0;31mModuleNotFoundError\u001b[0m                       Traceback (most recent call last)",
      "\u001b[0;32m<ipython-input-2-a996906b130c>\u001b[0m in \u001b[0;36m<module>\u001b[0;34m\u001b[0m\n\u001b[1;32m      1\u001b[0m \u001b[0mget_ipython\u001b[0m\u001b[0;34m(\u001b[0m\u001b[0;34m)\u001b[0m\u001b[0;34m.\u001b[0m\u001b[0mrun_line_magic\u001b[0m\u001b[0;34m(\u001b[0m\u001b[0;34m'load_ext'\u001b[0m\u001b[0;34m,\u001b[0m \u001b[0;34m'autoreload'\u001b[0m\u001b[0;34m)\u001b[0m\u001b[0;34m\u001b[0m\u001b[0;34m\u001b[0m\u001b[0m\n\u001b[1;32m      2\u001b[0m \u001b[0mget_ipython\u001b[0m\u001b[0;34m(\u001b[0m\u001b[0;34m)\u001b[0m\u001b[0;34m.\u001b[0m\u001b[0mrun_line_magic\u001b[0m\u001b[0;34m(\u001b[0m\u001b[0;34m'autoreload'\u001b[0m\u001b[0;34m,\u001b[0m \u001b[0;34m'2'\u001b[0m\u001b[0;34m)\u001b[0m\u001b[0;34m\u001b[0m\u001b[0;34m\u001b[0m\u001b[0m\n\u001b[0;32m----> 3\u001b[0;31m \u001b[0;32mfrom\u001b[0m \u001b[0mdataset\u001b[0m\u001b[0;34m.\u001b[0m\u001b[0mDataset\u001b[0m \u001b[0;32mimport\u001b[0m \u001b[0mDataset\u001b[0m\u001b[0;34m\u001b[0m\u001b[0;34m\u001b[0m\u001b[0m\n\u001b[0m\u001b[1;32m      4\u001b[0m \u001b[0;32mfrom\u001b[0m \u001b[0mdataObj\u001b[0m\u001b[0;34m.\u001b[0m\u001b[0mdataObj\u001b[0m \u001b[0;32mimport\u001b[0m \u001b[0mDataObj\u001b[0m\u001b[0;34m\u001b[0m\u001b[0;34m\u001b[0m\u001b[0m\n\u001b[1;32m      5\u001b[0m \u001b[0;32mfrom\u001b[0m \u001b[0mdataObj\u001b[0m\u001b[0;34m.\u001b[0m\u001b[0mRow\u001b[0m \u001b[0;32mimport\u001b[0m \u001b[0mRow\u001b[0m\u001b[0;34m\u001b[0m\u001b[0;34m\u001b[0m\u001b[0m\n",
      "\u001b[0;31mModuleNotFoundError\u001b[0m: No module named 'dataset'"
     ]
    }
   ],
   "source": [
    "%load_ext autoreload\n",
    "%autoreload 2\n",
    "from dataset.Dataset import Dataset\n",
    "from dataObj.dataObj import DataObj\n",
    "from dataObj.Row import Row\n",
    "from dataObj.Column import Column"
   ]
  },
  {
   "cell_type": "code",
   "execution_count": 3,
   "metadata": {},
   "outputs": [],
   "source": [
    "dataset = Dataset(\"data/cars.csv\",schema=[{\"Year\":{\"dataType\":\"date\"}},{\"Cylinders\":{\"dataModel\":\"dimension\"}}])"
   ]
  },
  {
   "cell_type": "code",
   "execution_count": 4,
   "metadata": {},
   "outputs": [
    {
     "data": {
      "application/vnd.jupyter.widget-view+json": {
       "model_id": "c270069ff40c472f95bbea68103707b9",
       "version_major": 2,
       "version_minor": 0
      },
      "text/plain": [
       "DisplayWidget(current_view={'config': {'view': {'continuousWidth': 400, 'continuousHeight': 300}}, 'data': {'n…"
      ]
     },
     "metadata": {},
     "output_type": "display_data"
    }
   ],
   "source": [
    "dobj = DataObj(dataset,[Column(\"MilesPerGal\")])\n",
    "dobj.display()"
   ]
  },
  {
   "cell_type": "code",
   "execution_count": 5,
   "metadata": {},
   "outputs": [
    {
     "data": {
      "application/vnd.jupyter.widget-view+json": {
       "model_id": "e2be99f031c149c29aa27b6d935155a4",
       "version_major": 2,
       "version_minor": 0
      },
      "text/plain": [
       "DisplayWidget(current_view={'config': {'view': {'continuousWidth': 400, 'continuousHeight': 300}, 'mark': {'to…"
      ]
     },
     "metadata": {},
     "output_type": "display_data"
    }
   ],
   "source": [
    "dobj = DataObj(dataset,[Column(\"MilesPerGal\"),Column(\"Weight\"),Row(\"Origin\",\"USA\")])\n",
    "\n",
    "dobj.display()"
   ]
  },
  {
   "cell_type": "code",
   "execution_count": 6,
   "metadata": {},
   "outputs": [
    {
     "data": {
      "application/vnd.jupyter.widget-view+json": {
       "model_id": "c15b3ef69cee4d1892dfdf39e24f0161",
       "version_major": 2,
       "version_minor": 0
      },
      "text/plain": [
       "DisplayWidget(current_view={'config': {'view': {'continuousWidth': 400, 'continuousHeight': 300}, 'mark': {'to…"
      ]
     },
     "metadata": {},
     "output_type": "display_data"
    }
   ],
   "source": [
    "dobj = DataObj(dataset,[Column(\"Acceleration\"), Column(\"Horsepower\"),Row(\"Brand\",\"ford\")])\n",
    "dobj.generalize()\n",
    "dobj.display()"
   ]
  },
  {
   "cell_type": "code",
   "execution_count": 7,
   "metadata": {},
   "outputs": [],
   "source": [
    "dobj = DataObj(dataset,[Column(\"Acceleration\"), Column(\"Horsepower\"),Row(\"Brand\",\"?\")])"
   ]
  },
  {
   "cell_type": "code",
   "execution_count": 8,
   "metadata": {},
   "outputs": [
    {
     "data": {
      "application/vnd.jupyter.widget-view+json": {
       "model_id": "c6dcb43c9978477e975802f90e6e3199",
       "version_major": 2,
       "version_minor": 0
      },
      "text/plain": [
       "DisplayWidget(current_view={'config': {'view': {'continuousWidth': 400, 'continuousHeight': 300}, 'mark': {'to…"
      ]
     },
     "metadata": {},
     "output_type": "display_data"
    }
   ],
   "source": [
    "dobj.display()"
   ]
  },
  {
   "cell_type": "code",
   "execution_count": 9,
   "metadata": {
    "scrolled": true
   },
   "outputs": [
    {
     "data": {
      "application/vnd.jupyter.widget-view+json": {
       "model_id": "38a93faff363414886f5ed08c51b2be1",
       "version_major": 2,
       "version_minor": 0
      },
      "text/plain": [
       "DisplayWidget(current_view={'config': {'view': {'continuousWidth': 400, 'continuousHeight': 300}}, 'data': {'n…"
      ]
     },
     "metadata": {},
     "output_type": "display_data"
    }
   ],
   "source": [
    "dobj = DataObj(dataset,[Column(\"MilesPerGal\"),Column(\"?\",dataModel=\"measure\")])\n",
    "dobj.correlation()\n",
    "dobj.display()"
   ]
  },
  {
   "cell_type": "code",
   "execution_count": 10,
   "metadata": {},
   "outputs": [
    {
     "data": {
      "application/vnd.jupyter.widget-view+json": {
       "model_id": "7ff140d44d8148cdbcaeb0ff2ac5f9d9",
       "version_major": 2,
       "version_minor": 0
      },
      "text/plain": [
       "DisplayWidget(recommendations=[{'action': 'Distribution', 'description': 'Show univariate count distributions …"
      ]
     },
     "metadata": {},
     "output_type": "display_data"
    }
   ],
   "source": [
    "dobj = DataObj(dataset,[Column([\"Horsepower\",\"Weight\",\"Acceleration\",\"Displacement\"])])\n",
    "dobj.distribution()\n",
    "\n",
    "dobj.display()"
   ]
  },
  {
   "cell_type": "code",
   "execution_count": 11,
   "metadata": {},
   "outputs": [
    {
     "data": {
      "application/vnd.jupyter.widget-view+json": {
       "model_id": "e485ab053d7a490891d1536b02226d29",
       "version_major": 2,
       "version_minor": 0
      },
      "text/plain": [
       "DisplayWidget(current_view={'config': {'view': {'continuousWidth': 400, 'continuousHeight': 300}}, 'data': {'n…"
      ]
     },
     "metadata": {},
     "output_type": "display_data"
    }
   ],
   "source": [
    "query = DataObj(dataset,[Column(\"Year\",channel=\"x\"), Column(\"?\",dataModel=\"measure\")])\n",
    "query.display()"
   ]
  },
  {
   "cell_type": "code",
   "execution_count": 12,
   "metadata": {},
   "outputs": [
    {
     "data": {
      "application/vnd.jupyter.widget-view+json": {
       "model_id": "cd4dd751c56847ee8bad72959dd2af43",
       "version_major": 2,
       "version_minor": 0
      },
      "text/plain": [
       "DisplayWidget(current_view={'config': {'view': {'continuousWidth': 400, 'continuousHeight': 300}}, 'data': {'n…"
      ]
     },
     "metadata": {},
     "output_type": "display_data"
    }
   ],
   "source": [
    "dobjCollection = DataObj(dataset,[Column(\"Horsepower\",channel=\"y\"),Column([\"Year\"],channel=\"x\"),Row(\"Brand\",\"?\")])\n",
    "query = DataObj(dataset,[Column(\"Horsepower\",channel=\"y\"),Column(\"Year\",channel=\"x\"),Row(\"Brand\",\"ford\")])\n",
    "\n",
    "dobjCollection.similarPattern(query)\n",
    "dobjCollection.display(currentView=query)"
   ]
  },
  {
   "cell_type": "code",
   "execution_count": 13,
   "metadata": {},
   "outputs": [
    {
     "data": {
      "application/vnd.jupyter.widget-view+json": {
       "model_id": "78b06f6bb14c41a0ac4e02b305184c7d",
       "version_major": 2,
       "version_minor": 0
      },
      "text/plain": [
       "DisplayWidget(current_view={'config': {'view': {'continuousWidth': 400, 'continuousHeight': 300}}, 'data': {'n…"
      ]
     },
     "metadata": {},
     "output_type": "display_data"
    }
   ],
   "source": [
    "dobj = DataObj(dataset,[Column(\"Horsepower\",channel=\"y\"),Column([\"Year\"],channel=\"x\"),Row(\"Brand\",\"?\")])\n",
    "dobj.display()"
   ]
  },
  {
   "cell_type": "code",
   "execution_count": 14,
   "metadata": {},
   "outputs": [
    {
     "data": {
      "application/vnd.jupyter.widget-view+json": {
       "model_id": "dbc44c5817084c8195195925ace16954",
       "version_major": 2,
       "version_minor": 0
      },
      "text/plain": [
       "DisplayWidget(current_view={'config': {'view': {'continuousWidth': 400, 'continuousHeight': 300}}, 'data': {'n…"
      ]
     },
     "metadata": {},
     "output_type": "display_data"
    }
   ],
   "source": [
    "dobj = DataObj(dataset,[Column([\"Horsepower\",\"Acceleration\",\"Weight\"],channel=\"y\"),Column(\"Year\",channel=\"x\")])\n",
    "dobj.display()"
   ]
  },
  {
   "cell_type": "code",
   "execution_count": 15,
   "metadata": {},
   "outputs": [
    {
     "data": {
      "application/vnd.jupyter.widget-view+json": {
       "model_id": "e35fe7d79f50429b805e09875e5c258c",
       "version_major": 2,
       "version_minor": 0
      },
      "text/plain": [
       "DisplayWidget(current_view={'config': {'view': {'continuousWidth': 400, 'continuousHeight': 300}}, 'data': {'n…"
      ]
     },
     "metadata": {},
     "output_type": "display_data"
    }
   ],
   "source": [
    "dobj = DataObj(dataset,[Column(\"MilesPerGal\")])\n",
    "dobj.enhance()\n",
    "dobj.display()"
   ]
  },
  {
   "cell_type": "code",
   "execution_count": 16,
   "metadata": {},
   "outputs": [
    {
     "data": {
      "application/vnd.jupyter.widget-view+json": {
       "model_id": "0f04853c6736421dab5868ece43468d6",
       "version_major": 2,
       "version_minor": 0
      },
      "text/plain": [
       "DisplayWidget(current_view={'config': {'view': {'continuousWidth': 400, 'continuousHeight': 300}, 'mark': {'to…"
      ]
     },
     "metadata": {},
     "output_type": "display_data"
    }
   ],
   "source": [
    "dobj = DataObj(dataset,[Column(\"MilesPerGal\"), Column(\"Horsepower\"), Row(fAttribute=\"Origin\",fVal=\"USA\")])\n",
    "dobj.filter()\n",
    "dobj.display()"
   ]
  },
  {
   "cell_type": "code",
   "execution_count": 20,
   "metadata": {},
   "outputs": [
    {
     "data": {
      "application/vnd.jupyter.widget-view+json": {
       "model_id": "29c2bebb41db4a878687430928213fb1",
       "version_major": 2,
       "version_minor": 0
      },
      "text/plain": [
       "DisplayWidget(current_view={'config': {'view': {'continuousWidth': 400, 'continuousHeight': 300}, 'mark': {'to…"
      ]
     },
     "metadata": {},
     "output_type": "display_data"
    }
   ],
   "source": [
    "dobj = DataObj(dataset,[Column(\"MilesPerGal\"), Column(\"Horsepower\"), Row(fAttribute=\"Origin\",fVal=\"?\")])\n",
    "dobj.display()"
   ]
  },
  {
   "cell_type": "code",
   "execution_count": 19,
   "metadata": {},
   "outputs": [
    {
     "ename": "AttributeError",
     "evalue": "'DataFrame' object has no attribute 'unique'",
     "output_type": "error",
     "traceback": [
      "\u001b[0;31m---------------------------------------------------------------------------\u001b[0m",
      "\u001b[0;31mAttributeError\u001b[0m                            Traceback (most recent call last)",
      "\u001b[0;32m<ipython-input-19-f54298cabe04>\u001b[0m in \u001b[0;36m<module>\u001b[0;34m\u001b[0m\n\u001b[0;32m----> 1\u001b[0;31m \u001b[0mdobj\u001b[0m \u001b[0;34m=\u001b[0m \u001b[0mDataObj\u001b[0m\u001b[0;34m(\u001b[0m\u001b[0mdataset\u001b[0m\u001b[0;34m,\u001b[0m\u001b[0;34m[\u001b[0m\u001b[0mColumn\u001b[0m\u001b[0;34m(\u001b[0m\u001b[0;34m\"MilesPerGal\"\u001b[0m\u001b[0;34m)\u001b[0m\u001b[0;34m,\u001b[0m \u001b[0mColumn\u001b[0m\u001b[0;34m(\u001b[0m\u001b[0;34m\"Horsepower\"\u001b[0m\u001b[0;34m)\u001b[0m\u001b[0;34m,\u001b[0m\u001b[0mRow\u001b[0m\u001b[0;34m(\u001b[0m\u001b[0mfAttribute\u001b[0m\u001b[0;34m=\u001b[0m\u001b[0;34m[\u001b[0m\u001b[0;34m\"Origin\"\u001b[0m\u001b[0;34m,\u001b[0m\u001b[0;34m\"Brand\"\u001b[0m\u001b[0;34m]\u001b[0m\u001b[0;34m,\u001b[0m\u001b[0mfVal\u001b[0m\u001b[0;34m=\u001b[0m\u001b[0;34m\"?\"\u001b[0m\u001b[0;34m)\u001b[0m\u001b[0;34m]\u001b[0m\u001b[0;34m)\u001b[0m\u001b[0;34m\u001b[0m\u001b[0;34m\u001b[0m\u001b[0m\n\u001b[0m\u001b[1;32m      2\u001b[0m \u001b[0mdobj\u001b[0m\u001b[0;34m.\u001b[0m\u001b[0mfilter\u001b[0m\u001b[0;34m(\u001b[0m\u001b[0;34m)\u001b[0m\u001b[0;34m\u001b[0m\u001b[0;34m\u001b[0m\u001b[0m\n\u001b[1;32m      3\u001b[0m \u001b[0mdobj\u001b[0m\u001b[0;34m.\u001b[0m\u001b[0mdisplay\u001b[0m\u001b[0;34m(\u001b[0m\u001b[0;34m)\u001b[0m\u001b[0;34m\u001b[0m\u001b[0;34m\u001b[0m\u001b[0m\n",
      "\u001b[0;32m~/Desktop/Research/vizdatasci/datasci-api/dataObj/dataObj.py\u001b[0m in \u001b[0;36m__init__\u001b[0;34m(self, dataset, spec, title)\u001b[0m\n\u001b[1;32m     23\u001b[0m         \u001b[0mself\u001b[0m\u001b[0;34m.\u001b[0m\u001b[0mrecommendation\u001b[0m \u001b[0;34m=\u001b[0m \u001b[0;34m{\u001b[0m\u001b[0;34m}\u001b[0m\u001b[0;34m\u001b[0m\u001b[0;34m\u001b[0m\u001b[0m\n\u001b[1;32m     24\u001b[0m         \u001b[0mself\u001b[0m\u001b[0;34m.\u001b[0m\u001b[0mwidgetJSON\u001b[0m \u001b[0;34m=\u001b[0m \u001b[0;34m{\u001b[0m\u001b[0;34m}\u001b[0m\u001b[0;34m\u001b[0m\u001b[0;34m\u001b[0m\u001b[0m\n\u001b[0;32m---> 25\u001b[0;31m         \u001b[0mself\u001b[0m\u001b[0;34m.\u001b[0m\u001b[0mcompile\u001b[0m\u001b[0;34m(\u001b[0m\u001b[0;34m)\u001b[0m\u001b[0;34m\u001b[0m\u001b[0;34m\u001b[0m\u001b[0m\n\u001b[0m\u001b[1;32m     26\u001b[0m \u001b[0;34m\u001b[0m\u001b[0m\n\u001b[1;32m     27\u001b[0m     \u001b[0;32mdef\u001b[0m \u001b[0m__repr__\u001b[0m\u001b[0;34m(\u001b[0m\u001b[0mself\u001b[0m\u001b[0;34m)\u001b[0m\u001b[0;34m:\u001b[0m\u001b[0;34m\u001b[0m\u001b[0;34m\u001b[0m\u001b[0m\n",
      "\u001b[0;32m~/Desktop/Research/vizdatasci/datasci-api/dataObj/dataObj.py\u001b[0m in \u001b[0;36mcompile\u001b[0;34m(self, enumerateCollection)\u001b[0m\n\u001b[1;32m     46\u001b[0m         \u001b[0;31m# Input: DataObj --> Output: DataObjCollection/False\u001b[0m\u001b[0;34m\u001b[0m\u001b[0;34m\u001b[0m\u001b[0;34m\u001b[0m\u001b[0m\n\u001b[1;32m     47\u001b[0m         \u001b[0;32mif\u001b[0m \u001b[0;34m(\u001b[0m\u001b[0menumerateCollection\u001b[0m\u001b[0;34m)\u001b[0m\u001b[0;34m:\u001b[0m\u001b[0;34m\u001b[0m\u001b[0;34m\u001b[0m\u001b[0m\n\u001b[0;32m---> 48\u001b[0;31m             \u001b[0mdataObjCollection\u001b[0m \u001b[0;34m=\u001b[0m \u001b[0mcompiler\u001b[0m\u001b[0;34m.\u001b[0m\u001b[0menumerateCollection\u001b[0m\u001b[0;34m(\u001b[0m\u001b[0mdobj\u001b[0m\u001b[0;34m)\u001b[0m\u001b[0;34m\u001b[0m\u001b[0;34m\u001b[0m\u001b[0m\n\u001b[0m\u001b[1;32m     49\u001b[0m         \u001b[0;32melse\u001b[0m\u001b[0;34m:\u001b[0m\u001b[0;34m\u001b[0m\u001b[0;34m\u001b[0m\u001b[0m\n\u001b[1;32m     50\u001b[0m             \u001b[0mdataObjCollection\u001b[0m \u001b[0;34m=\u001b[0m \u001b[0;32mFalse\u001b[0m\u001b[0;34m\u001b[0m\u001b[0;34m\u001b[0m\u001b[0m\n",
      "\u001b[0;32m~/Desktop/Research/vizdatasci/datasci-api/compiler/Compiler.py\u001b[0m in \u001b[0;36menumerateCollection\u001b[0;34m(self, dobj)\u001b[0m\n\u001b[1;32m     82\u001b[0m                         \u001b[0mcolAttrs\u001b[0m\u001b[0;34m.\u001b[0m\u001b[0mappend\u001b[0m\u001b[0;34m(\u001b[0m\u001b[0mpopulateOptions\u001b[0m\u001b[0;34m(\u001b[0m\u001b[0mdobj\u001b[0m\u001b[0;34m,\u001b[0m \u001b[0mcolSpecs\u001b[0m\u001b[0;34m[\u001b[0m\u001b[0;36m1\u001b[0m\u001b[0;34m]\u001b[0m\u001b[0;34m)\u001b[0m\u001b[0;34m)\u001b[0m\u001b[0;34m\u001b[0m\u001b[0;34m\u001b[0m\u001b[0m\n\u001b[1;32m     83\u001b[0m                 \u001b[0;32mif\u001b[0m \u001b[0mlen\u001b[0m\u001b[0;34m(\u001b[0m\u001b[0mrowSpecs\u001b[0m\u001b[0;34m)\u001b[0m \u001b[0;34m>\u001b[0m \u001b[0;36m0\u001b[0m\u001b[0;34m:\u001b[0m\u001b[0;34m\u001b[0m\u001b[0;34m\u001b[0m\u001b[0m\n\u001b[0;32m---> 84\u001b[0;31m                         \u001b[0mrowVals\u001b[0m \u001b[0;34m=\u001b[0m \u001b[0mpopulateOptions\u001b[0m\u001b[0;34m(\u001b[0m\u001b[0mdobj\u001b[0m\u001b[0;34m,\u001b[0m \u001b[0mrowSpecs\u001b[0m\u001b[0;34m[\u001b[0m\u001b[0;36m0\u001b[0m\u001b[0;34m]\u001b[0m\u001b[0;34m)\u001b[0m  \u001b[0;31m# populate rowvals with all unique possibilities\u001b[0m\u001b[0;34m\u001b[0m\u001b[0;34m\u001b[0m\u001b[0m\n\u001b[0m\u001b[1;32m     85\u001b[0m                         \u001b[0mfAttr\u001b[0m \u001b[0;34m=\u001b[0m \u001b[0mrowSpecs\u001b[0m\u001b[0;34m[\u001b[0m\u001b[0;36m0\u001b[0m\u001b[0;34m]\u001b[0m\u001b[0;34m.\u001b[0m\u001b[0mfAttribute\u001b[0m\u001b[0;34m\u001b[0m\u001b[0;34m\u001b[0m\u001b[0m\n\u001b[1;32m     86\u001b[0m \t\tif all(len(attrs) <= 1 for attrs in colAttrs) and len(\n",
      "\u001b[0;32m~/Desktop/Research/vizdatasci/datasci-api/compiler/Compiler.py\u001b[0m in \u001b[0;36mpopulateOptions\u001b[0;34m(dobj, rowCol)\u001b[0m\n\u001b[1;32m    257\u001b[0m         \u001b[0;32melif\u001b[0m \u001b[0mrowCol\u001b[0m\u001b[0;34m.\u001b[0m\u001b[0mclassName\u001b[0m \u001b[0;34m==\u001b[0m \u001b[0;34m\"Row\"\u001b[0m\u001b[0;34m:\u001b[0m\u001b[0;34m\u001b[0m\u001b[0;34m\u001b[0m\u001b[0m\n\u001b[1;32m    258\u001b[0m                 \u001b[0;32mif\u001b[0m \u001b[0mrowCol\u001b[0m\u001b[0;34m.\u001b[0m\u001b[0mfVal\u001b[0m \u001b[0;34m==\u001b[0m \u001b[0;34m\"?\"\u001b[0m\u001b[0;34m:\u001b[0m\u001b[0;34m\u001b[0m\u001b[0;34m\u001b[0m\u001b[0m\n\u001b[0;32m--> 259\u001b[0;31m                         \u001b[0moptions\u001b[0m \u001b[0;34m=\u001b[0m \u001b[0mdobj\u001b[0m\u001b[0;34m.\u001b[0m\u001b[0mdataset\u001b[0m\u001b[0;34m.\u001b[0m\u001b[0mdf\u001b[0m\u001b[0;34m[\u001b[0m\u001b[0mrowCol\u001b[0m\u001b[0;34m.\u001b[0m\u001b[0mfAttribute\u001b[0m\u001b[0;34m]\u001b[0m\u001b[0;34m.\u001b[0m\u001b[0munique\u001b[0m\u001b[0;34m(\u001b[0m\u001b[0;34m)\u001b[0m\u001b[0;34m\u001b[0m\u001b[0;34m\u001b[0m\u001b[0m\n\u001b[0m\u001b[1;32m    260\u001b[0m                 \u001b[0;32melse\u001b[0m\u001b[0;34m:\u001b[0m\u001b[0;34m\u001b[0m\u001b[0;34m\u001b[0m\u001b[0m\n\u001b[1;32m    261\u001b[0m                         \u001b[0moptions\u001b[0m \u001b[0;34m=\u001b[0m \u001b[0mconvert2List\u001b[0m\u001b[0;34m(\u001b[0m\u001b[0mrowCol\u001b[0m\u001b[0;34m.\u001b[0m\u001b[0mfVal\u001b[0m\u001b[0;34m)\u001b[0m\u001b[0;34m\u001b[0m\u001b[0;34m\u001b[0m\u001b[0m\n",
      "\u001b[0;32m~/.virtualenvs/api/lib/python3.7/site-packages/pandas/core/generic.py\u001b[0m in \u001b[0;36m__getattr__\u001b[0;34m(self, name)\u001b[0m\n\u001b[1;32m   5177\u001b[0m             \u001b[0;32mif\u001b[0m \u001b[0mself\u001b[0m\u001b[0;34m.\u001b[0m\u001b[0m_info_axis\u001b[0m\u001b[0;34m.\u001b[0m\u001b[0m_can_hold_identifiers_and_holds_name\u001b[0m\u001b[0;34m(\u001b[0m\u001b[0mname\u001b[0m\u001b[0;34m)\u001b[0m\u001b[0;34m:\u001b[0m\u001b[0;34m\u001b[0m\u001b[0;34m\u001b[0m\u001b[0m\n\u001b[1;32m   5178\u001b[0m                 \u001b[0;32mreturn\u001b[0m \u001b[0mself\u001b[0m\u001b[0;34m[\u001b[0m\u001b[0mname\u001b[0m\u001b[0;34m]\u001b[0m\u001b[0;34m\u001b[0m\u001b[0;34m\u001b[0m\u001b[0m\n\u001b[0;32m-> 5179\u001b[0;31m             \u001b[0;32mreturn\u001b[0m \u001b[0mobject\u001b[0m\u001b[0;34m.\u001b[0m\u001b[0m__getattribute__\u001b[0m\u001b[0;34m(\u001b[0m\u001b[0mself\u001b[0m\u001b[0;34m,\u001b[0m \u001b[0mname\u001b[0m\u001b[0;34m)\u001b[0m\u001b[0;34m\u001b[0m\u001b[0;34m\u001b[0m\u001b[0m\n\u001b[0m\u001b[1;32m   5180\u001b[0m \u001b[0;34m\u001b[0m\u001b[0m\n\u001b[1;32m   5181\u001b[0m     \u001b[0;32mdef\u001b[0m \u001b[0m__setattr__\u001b[0m\u001b[0;34m(\u001b[0m\u001b[0mself\u001b[0m\u001b[0;34m,\u001b[0m \u001b[0mname\u001b[0m\u001b[0;34m,\u001b[0m \u001b[0mvalue\u001b[0m\u001b[0;34m)\u001b[0m\u001b[0;34m:\u001b[0m\u001b[0;34m\u001b[0m\u001b[0;34m\u001b[0m\u001b[0m\n",
      "\u001b[0;31mAttributeError\u001b[0m: 'DataFrame' object has no attribute 'unique'"
     ]
    }
   ],
   "source": [
    "dobj = DataObj(dataset,[Column(\"MilesPerGal\"), Column(\"Horsepower\"),Row(fAttribute=[\"Origin\",\"Brand\"],fVal=\"?\")])\n",
    "dobj.filter()\n",
    "dobj.display()"
   ]
  },
  {
   "cell_type": "code",
   "execution_count": null,
   "metadata": {},
   "outputs": [],
   "source": []
  }
 ],
 "metadata": {
  "history": [
   {
    "code": "cd ../",
    "id": "c967aa49048a4e9f849df6857d2853f6",
    "idx": 0,
    "time": "2020-01-12T16:32:37.164Z",
    "type": "exec"
   },
   {
    "id": "c967aa49048a4e9f849df6857d2853f6",
    "time": "2020-01-12T16:32:37.206Z",
    "type": "completion"
   },
   {
    "code": "%load_ext autoreload\n%autoreload 2\nfrom dataset.Dataset import Dataset\nfrom dataObj.dataObj import DataObj\nfrom dataObj.Row import Row\nfrom dataObj.Column import Column",
    "id": "a2819c87c8c949208b524bad324a8c50",
    "idx": 1,
    "time": "2020-01-12T16:32:37.709Z",
    "type": "exec"
   },
   {
    "id": "a2819c87c8c949208b524bad324a8c50",
    "time": "2020-01-12T16:32:37.804Z",
    "type": "completion"
   },
   {
    "code": "cd ../",
    "id": "c967aa49048a4e9f849df6857d2853f6",
    "idx": 0,
    "time": "2020-01-12T16:32:47.275Z",
    "type": "exec"
   },
   {
    "id": "c967aa49048a4e9f849df6857d2853f6",
    "time": "2020-01-12T16:32:47.301Z",
    "type": "completion"
   },
   {
    "code": "import lux",
    "id": "9b84a1181efa4759ae4bd5d1d589d00f",
    "idx": 1,
    "time": "2020-01-12T16:32:51.220Z",
    "type": "exec"
   },
   {
    "id": "9b84a1181efa4759ae4bd5d1d589d00f",
    "time": "2020-01-12T16:32:51.986Z",
    "type": "completion"
   },
   {
    "code": "import lux\nfrom lux.dataObj.dataObj import DataObj\nfrom lux.dataObj.Row import Row\nfrom lux.dataObj.Column import Column",
    "id": "9b84a1181efa4759ae4bd5d1d589d00f",
    "idx": 1,
    "time": "2020-01-12T16:33:51.399Z",
    "type": "exec"
   },
   {
    "id": "9b84a1181efa4759ae4bd5d1d589d00f",
    "time": "2020-01-12T16:33:51.426Z",
    "type": "completion"
   },
   {
    "code": "dobj = DataObj(dataset,[Column(\"Horsepower\",channel=\"y\"),     \n                        Column(\"Year\",channel=\"x\"),\n                        Row(\"Brand\",\"?\")])",
    "id": "3e5ab74fe9d7475681050ba1fc0481b9",
    "idx": 2,
    "time": "2020-01-12T16:33:51.934Z",
    "type": "exec"
   },
   {
    "id": "3e5ab74fe9d7475681050ba1fc0481b9",
    "time": "2020-01-12T16:33:52.057Z",
    "type": "completion"
   },
   {
    "code": "dataset = lux.Dataset(\"data/cars.csv\",schema=[{\"Year\":{\"dataType\":\"date\"}},{\"Cylinders\":{\"dataModel\":\"dimension\"}}])",
    "id": "7e7770849e3a47579f0b4de48ed25ffc",
    "idx": 2,
    "time": "2020-01-12T16:34:12.433Z",
    "type": "exec"
   },
   {
    "id": "7e7770849e3a47579f0b4de48ed25ffc",
    "time": "2020-01-12T16:34:12.493Z",
    "type": "completion"
   },
   {
    "code": "dataset = lux.Dataset(\"cars.csv\",schema=[{\"Year\":{\"dataType\":\"date\"}},{\"Cylinders\":{\"dataModel\":\"dimension\"}}])",
    "id": "7e7770849e3a47579f0b4de48ed25ffc",
    "idx": 2,
    "time": "2020-01-12T16:34:18.718Z",
    "type": "exec"
   },
   {
    "id": "7e7770849e3a47579f0b4de48ed25ffc",
    "time": "2020-01-12T16:34:18.826Z",
    "type": "completion"
   },
   {
    "code": "ls",
    "id": "f63fde1715ca409d889b739a8c21c6d0",
    "idx": 2,
    "time": "2020-01-12T16:34:23.385Z",
    "type": "exec"
   },
   {
    "id": "f63fde1715ca409d889b739a8c21c6d0",
    "time": "2020-01-12T16:34:23.517Z",
    "type": "completion"
   },
   {
    "code": "cd ../",
    "id": "c967aa49048a4e9f849df6857d2853f6",
    "idx": 0,
    "time": "2020-01-12T16:34:29.740Z",
    "type": "exec"
   },
   {
    "id": "c967aa49048a4e9f849df6857d2853f6",
    "time": "2020-01-12T16:34:29.770Z",
    "type": "completion"
   },
   {
    "code": "import lux\nfrom lux.dataObj.dataObj import DataObj\nfrom lux.dataObj.Row import Row\nfrom lux.dataObj.Column import Column",
    "id": "9b84a1181efa4759ae4bd5d1d589d00f",
    "idx": 1,
    "time": "2020-01-12T16:34:30.340Z",
    "type": "exec"
   },
   {
    "id": "9b84a1181efa4759ae4bd5d1d589d00f",
    "time": "2020-01-12T16:34:30.757Z",
    "type": "completion"
   },
   {
    "code": "ls",
    "id": "f63fde1715ca409d889b739a8c21c6d0",
    "idx": 2,
    "time": "2020-01-12T16:34:30.768Z",
    "type": "exec"
   },
   {
    "id": "f63fde1715ca409d889b739a8c21c6d0",
    "time": "2020-01-12T16:34:30.929Z",
    "type": "completion"
   },
   {
    "code": "dataset = lux.Dataset(\"lux/data/cars.csv\",schema=[{\"Year\":{\"dataType\":\"date\"}},{\"Cylinders\":{\"dataModel\":\"dimension\"}}])",
    "id": "7e7770849e3a47579f0b4de48ed25ffc",
    "idx": 3,
    "time": "2020-01-12T16:34:41.467Z",
    "type": "exec"
   },
   {
    "id": "7e7770849e3a47579f0b4de48ed25ffc",
    "time": "2020-01-12T16:34:41.610Z",
    "type": "completion"
   },
   {
    "code": "dataset = lux.Dataset(\"lux/data/cars.csv\",schema=[{\"Year\":{\"dataType\":\"date\"}}])",
    "id": "7e7770849e3a47579f0b4de48ed25ffc",
    "idx": 3,
    "time": "2020-01-12T16:35:00.125Z",
    "type": "exec"
   },
   {
    "id": "7e7770849e3a47579f0b4de48ed25ffc",
    "time": "2020-01-12T16:35:00.156Z",
    "type": "completion"
   },
   {
    "code": "dobj = DataObj(dataset,[Column(\"Horsepower\",channel=\"y\"),     \n                        Column(\"Year\",channel=\"x\"),\n                        Row(\"Brand\",\"?\")])",
    "id": "3e5ab74fe9d7475681050ba1fc0481b9",
    "idx": 3,
    "time": "2020-01-12T16:35:03.649Z",
    "type": "exec"
   },
   {
    "id": "3e5ab74fe9d7475681050ba1fc0481b9",
    "time": "2020-01-12T16:35:04.349Z",
    "type": "completion"
   },
   {
    "code": "dobj.display()",
    "id": "951f4612f12b41cb8e2068d5ea2ea5f2",
    "idx": 4,
    "time": "2020-01-12T16:35:09.618Z",
    "type": "exec"
   },
   {
    "id": "951f4612f12b41cb8e2068d5ea2ea5f2",
    "time": "2020-01-12T16:35:10.222Z",
    "type": "completion"
   },
   {
    "code": "dobj.display()",
    "id": "951f4612f12b41cb8e2068d5ea2ea5f2",
    "idx": 4,
    "time": "2020-01-12T16:35:50.233Z",
    "type": "exec"
   },
   {
    "id": "951f4612f12b41cb8e2068d5ea2ea5f2",
    "time": "2020-01-12T16:35:50.756Z",
    "type": "completion"
   },
   {
    "code": "cd ../",
    "id": "6c4cfc0fd8e34d1382d79dfe2b04bc4b",
    "idx": 0,
    "time": "2020-01-12T16:42:45.279Z",
    "type": "exec"
   },
   {
    "code": "import lux\nfrom lux.dataObj.dataObj import DataObj\nfrom lux.dataObj.Row import Row\nfrom lux.dataObj.Column import Column",
    "id": "de2f0ee94c864abb8565ff00b3df8dec",
    "idx": 1,
    "time": "2020-01-12T16:42:46.032Z",
    "type": "exec"
   },
   {
    "code": "dataset = lux.Dataset(\"lux/data/cars.csv\",schema=[{\"Year\":{\"dataType\":\"date\"}}])",
    "id": "217534e1edda4069b2b089a54bcaa8ba",
    "idx": 2,
    "time": "2020-01-12T16:42:46.775Z",
    "type": "exec"
   },
   {
    "code": "dobj = DataObj(dataset,[Column(\"Horsepower\",channel=\"y\"),     \n                        Column(\"Year\",channel=\"x\"),\n                        Row(\"Brand\",\"?\")])",
    "id": "9c5b86f5909645a895577249a0eaddc2",
    "idx": 3,
    "time": "2020-01-12T16:42:47.312Z",
    "type": "exec"
   },
   {
    "code": "dobj.display()",
    "id": "55c75c09ddb14a23922682d8f72add8a",
    "idx": 4,
    "time": "2020-01-12T16:42:47.838Z",
    "type": "exec"
   },
   {
    "code": "cd ../",
    "id": "6c4cfc0fd8e34d1382d79dfe2b04bc4b",
    "idx": 0,
    "time": "2020-01-12T16:43:07.935Z",
    "type": "exec"
   },
   {
    "code": "cd ../",
    "id": "6c4cfc0fd8e34d1382d79dfe2b04bc4b",
    "idx": 0,
    "time": "2020-01-12T16:43:16.767Z",
    "type": "exec"
   },
   {
    "id": "de2f0ee94c864abb8565ff00b3df8dec",
    "time": "2020-01-12T16:46:21.062Z",
    "type": "completion"
   },
   {
    "id": "217534e1edda4069b2b089a54bcaa8ba",
    "time": "2020-01-12T16:46:21.108Z",
    "type": "completion"
   },
   {
    "id": "9c5b86f5909645a895577249a0eaddc2",
    "time": "2020-01-12T16:46:22.396Z",
    "type": "completion"
   },
   {
    "id": "55c75c09ddb14a23922682d8f72add8a",
    "time": "2020-01-12T16:46:22.549Z",
    "type": "completion"
   },
   {
    "id": "6c4cfc0fd8e34d1382d79dfe2b04bc4b",
    "time": "2020-01-12T16:46:22.554Z",
    "type": "completion"
   },
   {
    "id": "6c4cfc0fd8e34d1382d79dfe2b04bc4b",
    "time": "2020-01-12T16:46:22.555Z",
    "type": "completion"
   },
   {
    "id": "6c4cfc0fd8e34d1382d79dfe2b04bc4b",
    "time": "2020-01-12T16:46:22.556Z",
    "type": "completion"
   },
   {
    "code": "import lux\nfrom lux.dataObj.dataObj import DataObj\nfrom lux.dataObj.Row import Row\nfrom lux.dataObj.Column import Column",
    "id": "de2f0ee94c864abb8565ff00b3df8dec",
    "idx": 1,
    "time": "2020-01-12T16:46:24.510Z",
    "type": "exec"
   },
   {
    "id": "de2f0ee94c864abb8565ff00b3df8dec",
    "time": "2020-01-12T16:46:24.532Z",
    "type": "completion"
   },
   {
    "code": "dataset = lux.Dataset(\"lux/data/cars.csv\",schema=[{\"Year\":{\"dataType\":\"date\"}}])",
    "id": "217534e1edda4069b2b089a54bcaa8ba",
    "idx": 2,
    "time": "2020-01-12T16:46:25.151Z",
    "type": "exec"
   },
   {
    "id": "217534e1edda4069b2b089a54bcaa8ba",
    "time": "2020-01-12T16:46:25.292Z",
    "type": "completion"
   },
   {
    "code": "cd ../",
    "id": "6c4cfc0fd8e34d1382d79dfe2b04bc4b",
    "idx": 0,
    "time": "2020-01-12T16:46:29.453Z",
    "type": "exec"
   },
   {
    "id": "6c4cfc0fd8e34d1382d79dfe2b04bc4b",
    "time": "2020-01-12T16:46:29.479Z",
    "type": "completion"
   },
   {
    "code": "import lux\nfrom lux.dataObj.dataObj import DataObj\nfrom lux.dataObj.Row import Row\nfrom lux.dataObj.Column import Column",
    "id": "de2f0ee94c864abb8565ff00b3df8dec",
    "idx": 1,
    "time": "2020-01-12T16:46:29.871Z",
    "type": "exec"
   },
   {
    "code": "dataset = lux.Dataset(\"lux/data/cars.csv\",schema=[{\"Year\":{\"dataType\":\"date\"}}])",
    "id": "217534e1edda4069b2b089a54bcaa8ba",
    "idx": 2,
    "time": "2020-01-12T16:46:30.148Z",
    "type": "exec"
   },
   {
    "id": "de2f0ee94c864abb8565ff00b3df8dec",
    "time": "2020-01-12T16:46:30.319Z",
    "type": "completion"
   },
   {
    "id": "217534e1edda4069b2b089a54bcaa8ba",
    "time": "2020-01-12T16:46:30.362Z",
    "type": "completion"
   },
   {
    "code": "dobj = DataObj(dataset,[Column(\"Horsepower\",channel=\"y\"),     \n                        Column(\"Year\",channel=\"x\"),\n                        Row(\"Brand\",\"?\")])",
    "id": "9c5b86f5909645a895577249a0eaddc2",
    "idx": 3,
    "time": "2020-01-12T16:46:30.831Z",
    "type": "exec"
   },
   {
    "code": "dobj.display()",
    "id": "55c75c09ddb14a23922682d8f72add8a",
    "idx": 4,
    "time": "2020-01-12T16:46:31.249Z",
    "type": "exec"
   },
   {
    "id": "9c5b86f5909645a895577249a0eaddc2",
    "time": "2020-01-12T16:46:31.489Z",
    "type": "completion"
   },
   {
    "id": "55c75c09ddb14a23922682d8f72add8a",
    "time": "2020-01-12T16:46:32.041Z",
    "type": "completion"
   },
   {
    "code": "dobj = DataObj(dataset,[Column([\"Horsepower\",\"Acceleration\",\"Weight\"],channel=\"y\"),Column(\"Year\",channel=\"x\")])\ndobj.display()",
    "id": "fa042da4fb5a43158a39888daaff85a2",
    "idx": 5,
    "time": "2020-01-12T16:51:38.890Z",
    "type": "exec"
   },
   {
    "id": "fa042da4fb5a43158a39888daaff85a2",
    "time": "2020-01-12T16:51:39.027Z",
    "type": "completion"
   },
   {
    "code": "dobj = DataObj(dataset,[Column([\"Horsepower\",\"Acceleration\",\"Weight\"]),Column(\"Year\",channel=\"x\")])\ndobj.display()",
    "id": "fa042da4fb5a43158a39888daaff85a2",
    "idx": 5,
    "time": "2020-01-12T16:51:58.270Z",
    "type": "exec"
   },
   {
    "id": "fa042da4fb5a43158a39888daaff85a2",
    "time": "2020-01-12T16:51:58.314Z",
    "type": "completion"
   },
   {
    "code": "dobj = DataObj(dataset,[Column([\"Horsepower\",\"Acceleration\",\"Weight\"]),Column(\"Year\",channel=\"x\")])\ndobj.display()",
    "id": "fa042da4fb5a43158a39888daaff85a2",
    "idx": 5,
    "time": "2020-01-12T16:53:59.641Z",
    "type": "exec"
   },
   {
    "id": "fa042da4fb5a43158a39888daaff85a2",
    "time": "2020-01-12T16:53:59.691Z",
    "type": "completion"
   },
   {
    "code": "%load_ext autoreload\n%autoreload 2\nimport lux\nfrom lux.dataObj.dataObj import DataObj\nfrom lux.dataObj.Row import Row\nfrom lux.dataObj.Column import Column",
    "id": "de2f0ee94c864abb8565ff00b3df8dec",
    "idx": 1,
    "time": "2020-01-12T16:54:29.728Z",
    "type": "exec"
   },
   {
    "id": "de2f0ee94c864abb8565ff00b3df8dec",
    "time": "2020-01-12T16:54:29.756Z",
    "type": "completion"
   },
   {
    "code": "dobj = DataObj(dataset,[Column([\"Horsepower\",\"Acceleration\",\"Weight\"]),Column(\"Year\",channel=\"x\")])\ndobj.display()",
    "id": "fa042da4fb5a43158a39888daaff85a2",
    "idx": 5,
    "time": "2020-01-12T16:54:33.448Z",
    "type": "exec"
   },
   {
    "id": "fa042da4fb5a43158a39888daaff85a2",
    "time": "2020-01-12T16:54:33.545Z",
    "type": "completion"
   },
   {
    "code": "cd ../",
    "id": "6c4cfc0fd8e34d1382d79dfe2b04bc4b",
    "idx": 0,
    "time": "2020-01-12T16:54:38.656Z",
    "type": "exec"
   },
   {
    "id": "6c4cfc0fd8e34d1382d79dfe2b04bc4b",
    "time": "2020-01-12T16:54:38.684Z",
    "type": "completion"
   },
   {
    "code": "%load_ext autoreload\n%autoreload 2\nimport lux\nfrom lux.dataObj.dataObj import DataObj\nfrom lux.dataObj.Row import Row\nfrom lux.dataObj.Column import Column",
    "id": "de2f0ee94c864abb8565ff00b3df8dec",
    "idx": 1,
    "time": "2020-01-12T16:54:39.048Z",
    "type": "exec"
   },
   {
    "id": "de2f0ee94c864abb8565ff00b3df8dec",
    "time": "2020-01-12T16:54:39.480Z",
    "type": "completion"
   },
   {
    "code": "dataset = lux.Dataset(\"lux/data/cars.csv\",schema=[{\"Year\":{\"dataType\":\"date\"}}])",
    "id": "217534e1edda4069b2b089a54bcaa8ba",
    "idx": 2,
    "time": "2020-01-12T16:54:39.742Z",
    "type": "exec"
   },
   {
    "id": "217534e1edda4069b2b089a54bcaa8ba",
    "time": "2020-01-12T16:54:39.812Z",
    "type": "completion"
   },
   {
    "code": "dobj = DataObj(dataset,[Column(\"Horsepower\",channel=\"y\"),     \n                        Column(\"Year\",channel=\"x\"),\n                        Row(\"Brand\",\"?\")])",
    "id": "9c5b86f5909645a895577249a0eaddc2",
    "idx": 3,
    "time": "2020-01-12T16:54:40.118Z",
    "type": "exec"
   },
   {
    "code": "dobj.display()",
    "id": "55c75c09ddb14a23922682d8f72add8a",
    "idx": 4,
    "time": "2020-01-12T16:54:40.642Z",
    "type": "exec"
   },
   {
    "id": "9c5b86f5909645a895577249a0eaddc2",
    "time": "2020-01-12T16:54:40.805Z",
    "type": "completion"
   },
   {
    "id": "55c75c09ddb14a23922682d8f72add8a",
    "time": "2020-01-12T16:54:41.632Z",
    "type": "completion"
   },
   {
    "code": "dobj = DataObj(dataset,[Column([\"Horsepower\",\"Acceleration\",\"Weight\"]),Column(\"Year\",channel=\"x\")])\ndobj.display()",
    "id": "fa042da4fb5a43158a39888daaff85a2",
    "idx": 5,
    "time": "2020-01-12T16:54:42.784Z",
    "type": "exec"
   },
   {
    "id": "fa042da4fb5a43158a39888daaff85a2",
    "time": "2020-01-12T16:54:42.944Z",
    "type": "completion"
   },
   {
    "code": "dobj = DataObj(dataset,[Column([\"Horsepower\",\"Acceleration\",\"Weight\"]),Column(\"Year\",channel=\"x\")])\ndobj.display()",
    "id": "fa042da4fb5a43158a39888daaff85a2",
    "idx": 5,
    "time": "2020-01-12T16:57:06.244Z",
    "type": "exec"
   },
   {
    "id": "fa042da4fb5a43158a39888daaff85a2",
    "time": "2020-01-12T16:57:06.332Z",
    "type": "completion"
   },
   {
    "code": "dobj = DataObj(dataset,[Column([\"Horsepower\",\"Acceleration\",\"Weight\"]),Column(\"Year\",channel=\"x\")])\ndobj.display()",
    "id": "fa042da4fb5a43158a39888daaff85a2",
    "idx": 5,
    "time": "2020-01-12T16:57:42.673Z",
    "type": "exec"
   },
   {
    "id": "fa042da4fb5a43158a39888daaff85a2",
    "time": "2020-01-12T16:57:42.876Z",
    "type": "completion"
   },
   {
    "code": "dobj = DataObj(dataset,[Column([\"Horsepower\",\"Acceleration\",\"Weight\"]),Column(\"Year\",channel=\"x\")])\ndobj.display()",
    "id": "fa042da4fb5a43158a39888daaff85a2",
    "idx": 5,
    "time": "2020-01-12T16:57:58.365Z",
    "type": "exec"
   },
   {
    "id": "fa042da4fb5a43158a39888daaff85a2",
    "time": "2020-01-12T16:57:58.571Z",
    "type": "completion"
   },
   {
    "code": "dobj = DataObj(dataset,[Column([\"Horsepower\",\"Acceleration\",\"Weight\"]),Column(\"Origin\",channel=\"x\")])\ndobj.display()",
    "id": "fa042da4fb5a43158a39888daaff85a2",
    "idx": 5,
    "time": "2020-01-12T16:58:21.117Z",
    "type": "exec"
   },
   {
    "id": "fa042da4fb5a43158a39888daaff85a2",
    "time": "2020-01-12T16:58:21.299Z",
    "type": "completion"
   },
   {
    "code": "dobj = DataObj(dataset,[Column([\"Horsepower\",\"Acceleration\",\"Weight\"]),Column([\"Origin\",\"Cylinders\"],channel=\"x\")])\ndobj.display()",
    "id": "fa042da4fb5a43158a39888daaff85a2",
    "idx": 5,
    "time": "2020-01-12T17:05:10.734Z",
    "type": "exec"
   },
   {
    "id": "fa042da4fb5a43158a39888daaff85a2",
    "time": "2020-01-12T17:05:11.078Z",
    "type": "completion"
   },
   {
    "code": "dobj = DataObj(dataset,[Column(\"Horsepower\",channel=\"y\"),     \n                        Column(\"Year\",channel=\"x\"),\n                        Row(\"Brand\",\"?\")])",
    "id": "9c5b86f5909645a895577249a0eaddc2",
    "idx": 3,
    "time": "2020-01-12T17:40:14.153Z",
    "type": "exec"
   },
   {
    "id": "9c5b86f5909645a895577249a0eaddc2",
    "time": "2020-01-12T17:40:14.839Z",
    "type": "completion"
   },
   {
    "code": "dobj.display()",
    "id": "55c75c09ddb14a23922682d8f72add8a",
    "idx": 4,
    "time": "2020-01-12T17:40:20.899Z",
    "type": "exec"
   },
   {
    "id": "55c75c09ddb14a23922682d8f72add8a",
    "time": "2020-01-12T17:40:21.816Z",
    "type": "completion"
   }
  ],
  "kernelspec": {
   "display_name": "Python 3",
   "language": "python",
   "name": "python3"
  },
  "language_info": {
   "codemirror_mode": {
    "name": "ipython",
    "version": 3
   },
   "file_extension": ".py",
   "mimetype": "text/x-python",
   "name": "python",
   "nbconvert_exporter": "python",
   "pygments_lexer": "ipython3",
   "version": "3.7.5"
  }
 },
 "nbformat": 4,
 "nbformat_minor": 2
}
