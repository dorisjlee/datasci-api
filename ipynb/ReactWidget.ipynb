{
 "cells": [
  {
   "cell_type": "code",
   "execution_count": 1,
   "metadata": {},
   "outputs": [
    {
     "name": "stdout",
     "output_type": "stream",
     "text": [
      "/Users/dorislee/Desktop/Research/vizdatasci/datasci-api\n"
     ]
    }
   ],
   "source": [
    "cd ../"
   ]
  },
  {
   "cell_type": "code",
   "execution_count": 2,
   "metadata": {},
   "outputs": [],
   "source": [
    "%load_ext autoreload\n",
    "%autoreload 2\n",
    "from dataset.Dataset import Dataset\n",
    "from dataObj.dataObj import DataObj\n",
    "from dataObj.Row import Row\n",
    "from dataObj.Column import Column"
   ]
  },
  {
   "cell_type": "code",
   "execution_count": 6,
   "metadata": {},
   "outputs": [],
   "source": [
    "dataset = Dataset(\"data/cars.csv\",schema=[{\"Year\":{\"dataType\":\"date\"}},{\"Cylinders\":{\"dataModel\":\"dimension\"}}])"
   ]
  },
  {
   "cell_type": "code",
   "execution_count": 7,
   "metadata": {},
   "outputs": [
    {
     "data": {
      "application/vnd.jupyter.widget-view+json": {
       "model_id": "301ea1d4cd134a4c983b4b1b7452a463",
       "version_major": 2,
       "version_minor": 0
      },
      "text/plain": [
       "DisplayWidget(current_view={'config': {'view': {'continuousWidth': 400, 'continuousHeight': 300}}, 'data': {'n…"
      ]
     },
     "metadata": {},
     "output_type": "display_data"
    }
   ],
   "source": [
    "dobj = DataObj(dataset,[Column(\"MilesPerGal\")])\n",
    "dobj.display()"
   ]
  },
  {
   "cell_type": "code",
   "execution_count": 5,
   "metadata": {},
   "outputs": [
    {
     "data": {
      "application/vnd.jupyter.widget-view+json": {
       "model_id": "90e80f0e4ae04b4aa3bcf4e9cb495ce4",
       "version_major": 2,
       "version_minor": 0
      },
      "text/plain": [
       "DisplayWidget(current_view={'config': {'view': {'continuousWidth': 400, 'continuousHeight': 300}, 'mark': {'to…"
      ]
     },
     "metadata": {},
     "output_type": "display_data"
    }
   ],
   "source": [
    "dobj = DataObj(dataset,[Column(\"MilesPerGal\"),Column(\"Weight\"),Row(\"Origin\",\"USA\")])\n",
    "\n",
    "dobj.display()"
   ]
  },
  {
   "cell_type": "code",
   "execution_count": 6,
   "metadata": {},
   "outputs": [
    {
     "data": {
      "application/vnd.jupyter.widget-view+json": {
       "model_id": "b309417028fe4f7389dc579519b8822a",
       "version_major": 2,
       "version_minor": 0
      },
      "text/plain": [
       "DisplayWidget(current_view={'config': {'view': {'continuousWidth': 400, 'continuousHeight': 300}, 'mark': {'to…"
      ]
     },
     "metadata": {},
     "output_type": "display_data"
    }
   ],
   "source": [
    "dobj = DataObj(dataset,[Column(\"Acceleration\"), Column(\"Horsepower\"),Row(\"Brand\",\"ford\")])\n",
    "dobj.generalize()\n",
    "dobj.display()"
   ]
  },
  {
   "cell_type": "code",
   "execution_count": 7,
   "metadata": {},
   "outputs": [],
   "source": [
    "dobj = DataObj(dataset,[Column(\"Acceleration\"), Column(\"Horsepower\"),Row(\"Brand\",\"?\")])"
   ]
  },
  {
   "cell_type": "code",
   "execution_count": 8,
   "metadata": {},
   "outputs": [
    {
     "data": {
      "application/vnd.jupyter.widget-view+json": {
       "model_id": "de86d0b3304b4dbb92c15722af9fc3f0",
       "version_major": 2,
       "version_minor": 0
      },
      "text/plain": [
       "DisplayWidget(current_view={'config': {'view': {'continuousWidth': 400, 'continuousHeight': 300}, 'mark': {'to…"
      ]
     },
     "metadata": {},
     "output_type": "display_data"
    }
   ],
   "source": [
    "dobj.display()"
   ]
  },
  {
   "cell_type": "code",
   "execution_count": 9,
   "metadata": {
    "scrolled": true
   },
   "outputs": [
    {
     "data": {
      "application/vnd.jupyter.widget-view+json": {
       "model_id": "aafc6c98150f4e5c85ba1fb0f4124728",
       "version_major": 2,
       "version_minor": 0
      },
      "text/plain": [
       "DisplayWidget(current_view={'config': {'view': {'continuousWidth': 400, 'continuousHeight': 300}}, 'data': {'n…"
      ]
     },
     "metadata": {},
     "output_type": "display_data"
    }
   ],
   "source": [
    "dobj = DataObj(dataset,[Column(\"MilesPerGal\"),Column(\"?\",dataModel=\"measure\")])\n",
    "dobj.correlation()\n",
    "dobj.display()"
   ]
  },
  {
   "cell_type": "code",
   "execution_count": 10,
   "metadata": {},
   "outputs": [
    {
     "data": {
      "application/vnd.jupyter.widget-view+json": {
       "model_id": "65ce603a43f94b62ba0403e7f84ba9e3",
       "version_major": 2,
       "version_minor": 0
      },
      "text/plain": [
       "DisplayWidget(recommendations=[{'action': 'Distribution', 'description': 'Show univariate count distributions …"
      ]
     },
     "metadata": {},
     "output_type": "display_data"
    }
   ],
   "source": [
    "dobj = DataObj(dataset,[Column([\"Horsepower\",\"Weight\",\"Acceleration\",\"Displacement\"])])\n",
    "dobj.distribution()\n",
    "\n",
    "dobj.display()"
   ]
  },
  {
   "cell_type": "code",
   "execution_count": 11,
   "metadata": {},
   "outputs": [
    {
     "data": {
      "application/vnd.jupyter.widget-view+json": {
       "model_id": "895b860581dc469081a3a9be27a4f85c",
       "version_major": 2,
       "version_minor": 0
      },
      "text/plain": [
       "DisplayWidget(current_view={'config': {'view': {'continuousWidth': 400, 'continuousHeight': 300}}, 'data': {'n…"
      ]
     },
     "metadata": {},
     "output_type": "display_data"
    }
   ],
   "source": [
    "query = DataObj(dataset,[Column(\"Year\",channel=\"x\"), Column(\"?\",dataModel=\"measure\")])\n",
    "query.display()"
   ]
  },
  {
   "cell_type": "code",
   "execution_count": 12,
   "metadata": {},
   "outputs": [
    {
     "data": {
      "application/vnd.jupyter.widget-view+json": {
       "model_id": "f7135b93740049438f42bb7bef1f36e1",
       "version_major": 2,
       "version_minor": 0
      },
      "text/plain": [
       "DisplayWidget(current_view={'config': {'view': {'continuousWidth': 400, 'continuousHeight': 300}}, 'data': {'n…"
      ]
     },
     "metadata": {},
     "output_type": "display_data"
    }
   ],
   "source": [
    "dobjCollection = DataObj(dataset,[Column(\"Horsepower\",channel=\"y\"),Column([\"Year\"],channel=\"x\"),Row(\"Brand\",\"?\")])\n",
    "query = DataObj(dataset,[Column(\"Horsepower\",channel=\"y\"),Column(\"Year\",channel=\"x\"),Row(\"Brand\",\"ford\")])\n",
    "\n",
    "dobjCollection.similarPattern(query)\n",
    "dobjCollection.display(currentView=query)"
   ]
  },
  {
   "cell_type": "code",
   "execution_count": 13,
   "metadata": {},
   "outputs": [
    {
     "data": {
      "application/vnd.jupyter.widget-view+json": {
       "model_id": "2315585326ce434394a403280e8bc732",
       "version_major": 2,
       "version_minor": 0
      },
      "text/plain": [
       "DisplayWidget(current_view={'config': {'view': {'continuousWidth': 400, 'continuousHeight': 300}}, 'data': {'n…"
      ]
     },
     "metadata": {},
     "output_type": "display_data"
    }
   ],
   "source": [
    "dobj = DataObj(dataset,[Column(\"Horsepower\",channel=\"y\"),Column([\"Year\"],channel=\"x\"),Row(\"Brand\",\"?\")])\n",
    "dobj.display()"
   ]
  },
  {
   "cell_type": "code",
   "execution_count": 14,
   "metadata": {},
   "outputs": [
    {
     "data": {
      "application/vnd.jupyter.widget-view+json": {
       "model_id": "2d27c491c980476f9490b2ca9f997fae",
       "version_major": 2,
       "version_minor": 0
      },
      "text/plain": [
       "DisplayWidget(current_view={'config': {'view': {'continuousWidth': 400, 'continuousHeight': 300}}, 'data': {'n…"
      ]
     },
     "metadata": {},
     "output_type": "display_data"
    }
   ],
   "source": [
    "dobj = DataObj(dataset,[Column([\"Horsepower\",\"Acceleration\",\"Weight\"],channel=\"y\"),Column(\"Year\",channel=\"x\")])\n",
    "dobj.display()"
   ]
  },
  {
   "cell_type": "code",
   "execution_count": 16,
   "metadata": {},
   "outputs": [
    {
     "data": {
      "application/vnd.jupyter.widget-view+json": {
       "model_id": "09e72f216dbb4d1486907025fb3a7d95",
       "version_major": 2,
       "version_minor": 0
      },
      "text/plain": [
       "DisplayWidget(current_view={'config': {'view': {'continuousWidth': 400, 'continuousHeight': 300}}, 'data': {'n…"
      ]
     },
     "metadata": {},
     "output_type": "display_data"
    }
   ],
   "source": [
    "dobj = DataObj(dataset,[Column(\"MilesPerGal\")])\n",
    "dobj.enhance()\n",
    "dobj.display()"
   ]
  },
  {
   "cell_type": "code",
   "execution_count": 17,
   "metadata": {},
   "outputs": [
    {
     "data": {
      "application/vnd.jupyter.widget-view+json": {
       "model_id": "aecfc97ddb7e46448ee1f54f59fadb78",
       "version_major": 2,
       "version_minor": 0
      },
      "text/plain": [
       "DisplayWidget(current_view={'config': {'view': {'continuousWidth': 400, 'continuousHeight': 300}, 'mark': {'to…"
      ]
     },
     "metadata": {},
     "output_type": "display_data"
    }
   ],
   "source": [
    "dobj = DataObj(dataset,[Column(\"MilesPerGal\"), Column(\"Horsepower\"), Row(fAttribute=\"Origin\",fVal=\"USA\")])\n",
    "dobj.filter()\n",
    "dobj.display()"
   ]
  },
  {
   "cell_type": "code",
   "execution_count": null,
   "metadata": {},
   "outputs": [],
   "source": []
  }
 ],
 "metadata": {
  "kernelspec": {
   "display_name": "Python 3",
   "language": "python",
   "name": "python3"
  },
  "language_info": {
   "codemirror_mode": {
    "name": "ipython",
    "version": 3
   },
   "file_extension": ".py",
   "mimetype": "text/x-python",
   "name": "python",
   "nbconvert_exporter": "python",
   "pygments_lexer": "ipython3",
   "version": "3.7.5"
  }
 },
 "nbformat": 4,
 "nbformat_minor": 2
}
