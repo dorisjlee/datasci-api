{
 "cells": [
  {
   "cell_type": "markdown",
   "metadata": {},
   "source": [
    "# Display Specified and Underspecified Visualizations Demo "
   ]
  },
  {
   "cell_type": "code",
   "execution_count": 1,
   "metadata": {},
   "outputs": [
    {
     "name": "stdout",
     "output_type": "stream",
     "text": [
      "/Users/dorislee/Desktop/Research/vizdatasci/datasci-api\n"
     ]
    }
   ],
   "source": [
    "cd .."
   ]
  },
  {
   "cell_type": "code",
   "execution_count": 2,
   "metadata": {},
   "outputs": [],
   "source": [
    "%load_ext autoreload\n",
    "%autoreload 2\n",
    "from dataset.Dataset import Dataset\n",
    "from dataObj.dataObj import DataObj\n",
    "from dataObj.Row import Row\n",
    "from dataObj.Column import Column"
   ]
  },
  {
   "cell_type": "code",
   "execution_count": 3,
   "metadata": {},
   "outputs": [],
   "source": [
    "dataset = Dataset(\"data/cars.csv\",schema=[{\"Year\":{\"dataType\":\"date\"}}])"
   ]
  },
  {
   "cell_type": "code",
   "execution_count": 18,
   "metadata": {},
   "outputs": [
    {
     "name": "stdout",
     "output_type": "stream",
     "text": [
      "uncompiled: <Data Obj: <Dataset Obj: data/cars.csv> -- [Column <MilesPerGal,channel:,dataType:,dataModel:>, Column <Weight,channel:,dataType:,dataModel:>]>\n",
      "compiled: <Data Obj: <Dataset Obj: data/cars.csv> -- [Column <MilesPerGal,channel:,dataType:quantitative,dataModel:measure>, Column <Weight,channel:,dataType:quantitative,dataModel:measure>]>\n"
     ]
    }
   ],
   "source": [
    "dobj = DataObj(dataset,[Column(\"MilesPerGal\"),Column(\"Weight\")])"
   ]
  },
  {
   "cell_type": "code",
   "execution_count": 12,
   "metadata": {},
   "outputs": [
    {
     "name": "stdout",
     "output_type": "stream",
     "text": [
      "Column <MilesPerGal,channel:x,dataType:,dataModel:>\n",
      "quantitative\n",
      "Column <Weight,channel:y,dataType:,dataModel:>\n",
      "quantitative\n"
     ]
    }
   ],
   "source": [
    "dobj = DataObj(dataset,[Column(\"MilesPerGal\",channel=\"x\"),Column(\"Weight\",channel=\"y\")])"
   ]
  },
  {
   "cell_type": "code",
   "execution_count": 28,
   "metadata": {},
   "outputs": [],
   "source": [
    "assert dobj.spec[0].dataType == \"\"\n",
    "assert dobj.spec[0].dataModel == \"\""
   ]
  },
  {
   "cell_type": "code",
   "execution_count": 30,
   "metadata": {},
   "outputs": [],
   "source": [
    "assert dobj.compiled.spec[0].dataType==\"quantitative\"\n",
    "assert dobj.compiled.spec[0].dataModel==\"measure\""
   ]
  },
  {
   "cell_type": "code",
   "execution_count": 7,
   "metadata": {},
   "outputs": [
    {
     "data": {
      "application/vnd.jupyter.widget-view+json": {
       "model_id": "0f826dc9d6e44dbea068b6356606e3d3",
       "version_major": 2,
       "version_minor": 0
      },
      "text/plain": [
       "Mockup(numGraphs=1)"
      ]
     },
     "metadata": {},
     "output_type": "display_data"
    }
   ],
   "source": [
    "dobj.display()"
   ]
  },
  {
   "cell_type": "code",
   "execution_count": 22,
   "metadata": {},
   "outputs": [
    {
     "name": "stdout",
     "output_type": "stream",
     "text": [
      "uncompiled: <Data Obj: <Dataset Obj: data/cars.csv> -- [Column <Horsepower,channel:,dataType:quantitative,dataModel:measure>, Column <MilesPerGal,channel:,dataType:quantitative,dataModel:measure>]>\n",
      "compiled: <Data Obj: <Dataset Obj: data/cars.csv> -- [Column <Horsepower,channel:,dataType:quantitative,dataModel:measure>, Column <MilesPerGal,channel:,dataType:quantitative,dataModel:measure>]>\n",
      "uncompiled: <Data Obj: <Dataset Obj: data/cars.csv> -- [Column <Weight,channel:,dataType:quantitative,dataModel:measure>, Column <MilesPerGal,channel:,dataType:quantitative,dataModel:measure>]>\n",
      "compiled: <Data Obj: <Dataset Obj: data/cars.csv> -- [Column <Weight,channel:,dataType:quantitative,dataModel:measure>, Column <MilesPerGal,channel:,dataType:quantitative,dataModel:measure>]>\n",
      "uncompiled: <Data Obj: <Dataset Obj: data/cars.csv> -- [Column <Acceleration,channel:,dataType:quantitative,dataModel:measure>, Column <MilesPerGal,channel:,dataType:quantitative,dataModel:measure>]>\n",
      "compiled: <Data Obj: <Dataset Obj: data/cars.csv> -- [Column <Acceleration,channel:,dataType:quantitative,dataModel:measure>, Column <MilesPerGal,channel:,dataType:quantitative,dataModel:measure>]>\n"
     ]
    }
   ],
   "source": [
    "dobj = DataObj(dataset,[Column([\"Horsepower\",\"Weight\",\"Acceleration\"]),Column(\"MilesPerGal\")])"
   ]
  },
  {
   "cell_type": "code",
   "execution_count": 24,
   "metadata": {},
   "outputs": [
    {
     "ename": "AttributeError",
     "evalue": "'DataObjCollection' object has no attribute 'spec'",
     "output_type": "error",
     "traceback": [
      "\u001b[0;31m---------------------------------------------------------------------------\u001b[0m",
      "\u001b[0;31mAttributeError\u001b[0m                            Traceback (most recent call last)",
      "\u001b[0;32m<ipython-input-24-6e8e016676db>\u001b[0m in \u001b[0;36m<module>\u001b[0;34m()\u001b[0m\n\u001b[0;32m----> 1\u001b[0;31m \u001b[0mdobj\u001b[0m\u001b[0;34m.\u001b[0m\u001b[0mcompiled\u001b[0m\u001b[0;34m.\u001b[0m\u001b[0mspec\u001b[0m\u001b[0;34m\u001b[0m\u001b[0m\n\u001b[0m",
      "\u001b[0;31mAttributeError\u001b[0m: 'DataObjCollection' object has no attribute 'spec'"
     ]
    }
   ],
   "source": [
    "dobj.compiled.spec"
   ]
  },
  {
   "cell_type": "code",
   "execution_count": 23,
   "metadata": {},
   "outputs": [
    {
     "data": {
      "text/plain": [
       "<Data Obj Collection: [<Data Obj: <Dataset Obj: data/cars.csv> -- [Column <Horsepower,channel:,dataType:quantitative,dataModel:measure>, Column <MilesPerGal,channel:,dataType:quantitative,dataModel:measure>]>, <Data Obj: <Dataset Obj: data/cars.csv> -- [Column <Weight,channel:,dataType:quantitative,dataModel:measure>, Column <MilesPerGal,channel:,dataType:quantitative,dataModel:measure>]>, <Data Obj: <Dataset Obj: data/cars.csv> -- [Column <Acceleration,channel:,dataType:quantitative,dataModel:measure>, Column <MilesPerGal,channel:,dataType:quantitative,dataModel:measure>]>]>"
      ]
     },
     "execution_count": 23,
     "metadata": {},
     "output_type": "execute_result"
    }
   ],
   "source": [
    "dobj.compiled"
   ]
  },
  {
   "cell_type": "code",
   "execution_count": null,
   "metadata": {},
   "outputs": [],
   "source": []
  }
 ],
 "metadata": {
  "kernelspec": {
   "display_name": "Python 3",
   "language": "python",
   "name": "python3"
  },
  "language_info": {
   "codemirror_mode": {
    "name": "ipython",
    "version": 3
   },
   "file_extension": ".py",
   "mimetype": "text/x-python",
   "name": "python",
   "nbconvert_exporter": "python",
   "pygments_lexer": "ipython3",
   "version": "3.7.0"
  }
 },
 "nbformat": 4,
 "nbformat_minor": 4
}
