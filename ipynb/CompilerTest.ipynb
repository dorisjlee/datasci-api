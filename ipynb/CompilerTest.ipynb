{
 "cells": [
  {
   "cell_type": "code",
   "execution_count": 1,
   "metadata": {},
   "outputs": [
    {
     "name": "stdout",
     "output_type": "stream",
     "text": [
      "/Users/dorislee/Desktop/Research/vizdatasci/datasci-api\n"
     ]
    }
   ],
   "source": [
    "cd .."
   ]
  },
  {
   "cell_type": "code",
   "execution_count": 2,
   "metadata": {},
   "outputs": [],
   "source": [
    "%load_ext autoreload\n",
    "%autoreload 2\n",
    "from dataset.Dataset import Dataset\n",
    "from dataObj.dataObj import DataObj\n",
    "from dataObj.Row import Row\n",
    "from dataObj.Column import Column"
   ]
  },
  {
   "cell_type": "code",
   "execution_count": 3,
   "metadata": {},
   "outputs": [],
   "source": [
    "dataset = Dataset(\"data/cars.csv\",schema=[{\"Year\":{\"dataType\":\"date\"}}])"
   ]
  },
  {
   "cell_type": "code",
   "execution_count": 4,
   "metadata": {},
   "outputs": [],
   "source": [
    "# dobj = DataObj(dataset,[Column(\"MilesPerGal\"),Column(\"Weight\")])"
   ]
  },
  {
   "cell_type": "code",
   "execution_count": 5,
   "metadata": {
    "scrolled": true
   },
   "outputs": [],
   "source": [
    "# dobj = DataObj(dataset,[Column(\"MilesPerGal\",channel=\"x\"),Column(\"Weight\",channel=\"y\")])"
   ]
  },
  {
   "cell_type": "code",
   "execution_count": 8,
   "metadata": {},
   "outputs": [
    {
     "name": "stdout",
     "output_type": "stream",
     "text": [
      "Column <MilesPerGal,channel:,dataType:quantitative,dataModel:measure>\n",
      "Column <Origin,channel:,dataType:categorical,dataModel:dimension>\n",
      "1 1\n",
      "uncompiled: <Data Obj: <Dataset Obj: data/cars.csv> -- [Column <MilesPerGal,channel:,dataType:,dataModel:>, Column <Origin,channel:,dataType:,dataModel:>]>\n",
      "compiled: <Data Obj: <Dataset Obj: data/cars.csv> -- [Column <MilesPerGal,channel:x,dataType:quantitative,dataModel:measure>, Column <Origin,channel:,dataType:categorical,dataModel:dimension>]>\n"
     ]
    }
   ],
   "source": [
    "# dobj = DataObj(dataset,[Column(\"MilesPerGal\")])\n",
    "dobj = DataObj(dataset,[Column(\"MilesPerGal\"),Column(\"Origin\")])"
   ]
  },
  {
   "cell_type": "code",
   "execution_count": 13,
   "metadata": {},
   "outputs": [
    {
     "name": "stdout",
     "output_type": "stream",
     "text": [
      "scatter\n",
      "scatter\n",
      "scatter\n",
      "scatter\n"
     ]
    },
    {
     "data": {
      "application/vnd.jupyter.widget-view+json": {
       "model_id": "c88848db4f5b4058aa9875ebe27ffaf6",
       "version_major": 2,
       "version_minor": 0
      },
      "text/plain": [
       "Mockup(numGraphs=4)"
      ]
     },
     "metadata": {},
     "output_type": "display_data"
    }
   ],
   "source": [
    "dobj.display()"
   ]
  },
  {
   "cell_type": "code",
   "execution_count": 10,
   "metadata": {},
   "outputs": [
    {
     "name": "stdout",
     "output_type": "stream",
     "text": [
      "Column <Horsepower,channel:,dataType:quantitative,dataModel:measure>\n",
      "Column <MilesPerGal,channel:,dataType:quantitative,dataModel:measure>\n",
      "0 2\n",
      "uncompiled: <Data Obj: <Dataset Obj: data/cars.csv> -- [Column <Horsepower,channel:,dataType:,dataModel:>, Column <MilesPerGal,channel:,dataType:,dataModel:>]>\n",
      "compiled: <Data Obj: <Dataset Obj: data/cars.csv> -- [Column <Horsepower,channel:,dataType:quantitative,dataModel:measure>, Column <MilesPerGal,channel:,dataType:quantitative,dataModel:measure>]>\n",
      "Column <Weight,channel:,dataType:quantitative,dataModel:measure>\n",
      "Column <MilesPerGal,channel:,dataType:quantitative,dataModel:measure>\n",
      "0 2\n",
      "uncompiled: <Data Obj: <Dataset Obj: data/cars.csv> -- [Column <Weight,channel:,dataType:,dataModel:>, Column <MilesPerGal,channel:,dataType:,dataModel:>]>\n",
      "compiled: <Data Obj: <Dataset Obj: data/cars.csv> -- [Column <Weight,channel:,dataType:quantitative,dataModel:measure>, Column <MilesPerGal,channel:,dataType:quantitative,dataModel:measure>]>\n",
      "Column <Acceleration,channel:,dataType:quantitative,dataModel:measure>\n",
      "Column <MilesPerGal,channel:,dataType:quantitative,dataModel:measure>\n",
      "0 2\n",
      "uncompiled: <Data Obj: <Dataset Obj: data/cars.csv> -- [Column <Acceleration,channel:,dataType:,dataModel:>, Column <MilesPerGal,channel:,dataType:,dataModel:>]>\n",
      "compiled: <Data Obj: <Dataset Obj: data/cars.csv> -- [Column <Acceleration,channel:,dataType:quantitative,dataModel:measure>, Column <MilesPerGal,channel:,dataType:quantitative,dataModel:measure>]>\n",
      "Column <Displacement,channel:,dataType:quantitative,dataModel:measure>\n",
      "Column <MilesPerGal,channel:,dataType:quantitative,dataModel:measure>\n",
      "0 2\n",
      "uncompiled: <Data Obj: <Dataset Obj: data/cars.csv> -- [Column <Displacement,channel:,dataType:,dataModel:>, Column <MilesPerGal,channel:,dataType:,dataModel:>]>\n",
      "compiled: <Data Obj: <Dataset Obj: data/cars.csv> -- [Column <Displacement,channel:,dataType:quantitative,dataModel:measure>, Column <MilesPerGal,channel:,dataType:quantitative,dataModel:measure>]>\n",
      "Column <Horsepower,channel:,dataType:quantitative,dataModel:measure>\n",
      "Column <MilesPerGal,channel:,dataType:quantitative,dataModel:measure>\n",
      "0 2\n",
      "uncompiled: <Data Obj: <Dataset Obj: data/cars.csv> -- [Column <Horsepower,channel:,dataType:,dataModel:>, Column <MilesPerGal,channel:,dataType:,dataModel:>]>\n",
      "compiled: <Data Obj: <Dataset Obj: data/cars.csv> -- [Column <Horsepower,channel:,dataType:quantitative,dataModel:measure>, Column <MilesPerGal,channel:,dataType:quantitative,dataModel:measure>]>\n",
      "Column <Weight,channel:,dataType:quantitative,dataModel:measure>\n",
      "Column <MilesPerGal,channel:,dataType:quantitative,dataModel:measure>\n",
      "0 2\n",
      "uncompiled: <Data Obj: <Dataset Obj: data/cars.csv> -- [Column <Weight,channel:,dataType:,dataModel:>, Column <MilesPerGal,channel:,dataType:,dataModel:>]>\n",
      "compiled: <Data Obj: <Dataset Obj: data/cars.csv> -- [Column <Weight,channel:,dataType:quantitative,dataModel:measure>, Column <MilesPerGal,channel:,dataType:quantitative,dataModel:measure>]>\n",
      "Column <Acceleration,channel:,dataType:quantitative,dataModel:measure>\n",
      "Column <MilesPerGal,channel:,dataType:quantitative,dataModel:measure>\n",
      "0 2\n",
      "uncompiled: <Data Obj: <Dataset Obj: data/cars.csv> -- [Column <Acceleration,channel:,dataType:,dataModel:>, Column <MilesPerGal,channel:,dataType:,dataModel:>]>\n",
      "compiled: <Data Obj: <Dataset Obj: data/cars.csv> -- [Column <Acceleration,channel:,dataType:quantitative,dataModel:measure>, Column <MilesPerGal,channel:,dataType:quantitative,dataModel:measure>]>\n",
      "Column <Displacement,channel:,dataType:quantitative,dataModel:measure>\n",
      "Column <MilesPerGal,channel:,dataType:quantitative,dataModel:measure>\n",
      "0 2\n",
      "uncompiled: <Data Obj: <Dataset Obj: data/cars.csv> -- [Column <Displacement,channel:,dataType:,dataModel:>, Column <MilesPerGal,channel:,dataType:,dataModel:>]>\n",
      "compiled: <Data Obj: <Dataset Obj: data/cars.csv> -- [Column <Displacement,channel:,dataType:quantitative,dataModel:measure>, Column <MilesPerGal,channel:,dataType:quantitative,dataModel:measure>]>\n"
     ]
    }
   ],
   "source": [
    "dobj = DataObj(dataset,[Column([\"Horsepower\",\"Weight\",\"Acceleration\",\"Displacement\"]),Column(\"MilesPerGal\")])"
   ]
  },
  {
   "cell_type": "code",
   "execution_count": 12,
   "metadata": {},
   "outputs": [
    {
     "name": "stdout",
     "output_type": "stream",
     "text": [
      "scatter\n",
      "scatter\n",
      "scatter\n",
      "scatter\n"
     ]
    },
    {
     "data": {
      "application/vnd.jupyter.widget-view+json": {
       "model_id": "0d37409b99fc4ff8ac5eb716b77f933e",
       "version_major": 2,
       "version_minor": 0
      },
      "text/plain": [
       "Mockup(numGraphs=4)"
      ]
     },
     "metadata": {},
     "output_type": "display_data"
    }
   ],
   "source": [
    "dobj.display()"
   ]
  },
  {
   "cell_type": "code",
   "execution_count": 26,
   "metadata": {},
   "outputs": [
    {
     "data": {
      "text/plain": [
       "[0, 1, 2, 3]"
      ]
     },
     "execution_count": 26,
     "metadata": {},
     "output_type": "execute_result"
    }
   ],
   "source": [
    "list(range(0,4))"
   ]
  },
  {
   "cell_type": "code",
   "execution_count": null,
   "metadata": {},
   "outputs": [],
   "source": []
  }
 ],
 "metadata": {
  "kernelspec": {
   "display_name": "Python 3",
   "language": "python",
   "name": "python3"
  },
  "language_info": {
   "codemirror_mode": {
    "name": "ipython",
    "version": 3
   },
   "file_extension": ".py",
   "mimetype": "text/x-python",
   "name": "python",
   "nbconvert_exporter": "python",
   "pygments_lexer": "ipython3",
   "version": "3.7.0"
  }
 },
 "nbformat": 4,
 "nbformat_minor": 4
}
