{
 "cells": [
  {
   "cell_type": "code",
   "execution_count": 1,
   "metadata": {},
   "outputs": [
    {
     "name": "stdout",
     "output_type": "stream",
     "text": [
      "/Users/dorislee/Desktop/Research/vizdatasci/datasci-api\n"
     ]
    }
   ],
   "source": [
    "cd ../.."
   ]
  },
  {
   "cell_type": "code",
   "execution_count": 2,
   "metadata": {},
   "outputs": [],
   "source": [
    "%load_ext autoreload\n",
    "%autoreload 2\n",
    "from dataset.Dataset import Dataset\n",
    "from dataObj.dataObj import DataObj\n",
    "from dataObj.Row import Row\n",
    "from dataObj.Column import Column"
   ]
  },
  {
   "cell_type": "code",
   "execution_count": 3,
   "metadata": {},
   "outputs": [],
   "source": [
    "dataset = Dataset(\"data/cars.csv\",schema=[{\"Year\":{\"dataType\":\"date\"}}])"
   ]
  },
  {
   "cell_type": "code",
   "execution_count": 4,
   "metadata": {},
   "outputs": [],
   "source": [
    "from action.Correlation import correlation"
   ]
  },
  {
   "cell_type": "code",
   "execution_count": 5,
   "metadata": {},
   "outputs": [
    {
     "name": "stdout",
     "output_type": "stream",
     "text": [
      "Cylinders MilesPerGal\n",
      "Horsepower MilesPerGal\n",
      "Displacement MilesPerGal\n",
      "Acceleration MilesPerGal\n",
      "Weight MilesPerGal\n",
      "MilesPerGal MilesPerGal\n"
     ]
    }
   ],
   "source": [
    "dobj = DataObj(dataset,[Column(\"?\",dataModel=\"measure\"),Column(\"MilesPerGal\")])\n",
    "dobj.correlation()"
   ]
  },
  {
   "cell_type": "code",
   "execution_count": 6,
   "metadata": {},
   "outputs": [
    {
     "data": {
      "text/plain": [
       "<Data Obj Collection: [<Data Obj: <Dataset Obj: data/cars.csv> -- [Column <Cylinders,channel:x,dataType:quantitative,dataModel:measure>, Column <MilesPerGal,channel:y,dataType:quantitative,dataModel:measure>] -- 0.78>, <Data Obj: <Dataset Obj: data/cars.csv> -- [Column <Horsepower,channel:x,dataType:quantitative,dataModel:measure>, Column <MilesPerGal,channel:y,dataType:quantitative,dataModel:measure>] -- 0.78>, <Data Obj: <Dataset Obj: data/cars.csv> -- [Column <Displacement,channel:x,dataType:quantitative,dataModel:measure>, Column <MilesPerGal,channel:y,dataType:quantitative,dataModel:measure>] -- 0.81>, <Data Obj: <Dataset Obj: data/cars.csv> -- [Column <Acceleration,channel:x,dataType:quantitative,dataModel:measure>, Column <MilesPerGal,channel:y,dataType:quantitative,dataModel:measure>] -- 0.42>, <Data Obj: <Dataset Obj: data/cars.csv> -- [Column <Weight,channel:x,dataType:quantitative,dataModel:measure>, Column <MilesPerGal,channel:y,dataType:quantitative,dataModel:measure>] -- 0.83>, <Data Obj: <Dataset Obj: data/cars.csv> -- [Column <MilesPerGal,channel:x,dataType:quantitative,dataModel:measure>, Column <MilesPerGal,channel:y,dataType:quantitative,dataModel:measure>] -- 1.00>]>"
      ]
     },
     "execution_count": 6,
     "metadata": {},
     "output_type": "execute_result"
    }
   ],
   "source": [
    "dobj.compiled"
   ]
  },
  {
   "cell_type": "code",
   "execution_count": 7,
   "metadata": {},
   "outputs": [
    {
     "data": {
      "application/vnd.jupyter.widget-view+json": {
       "model_id": "3c1016b625f24604982d3bcee524cde0",
       "version_major": 2,
       "version_minor": 0
      },
      "text/plain": [
       "Mockup(numGraphs=5)"
      ]
     },
     "metadata": {},
     "output_type": "display_data"
    }
   ],
   "source": [
    "dobj.compiled.topK(5).display()"
   ]
  },
  {
   "cell_type": "code",
   "execution_count": 8,
   "metadata": {},
   "outputs": [
    {
     "name": "stdout",
     "output_type": "stream",
     "text": [
      "Acceleration Cylinders\n",
      "Acceleration Horsepower\n",
      "Acceleration Displacement\n",
      "Acceleration Acceleration\n",
      "Acceleration Weight\n",
      "Acceleration MilesPerGal\n",
      "Horsepower Cylinders\n",
      "Horsepower Horsepower\n",
      "Horsepower Displacement\n",
      "Horsepower Acceleration\n",
      "Horsepower Weight\n",
      "Horsepower MilesPerGal\n"
     ]
    }
   ],
   "source": [
    "dobj = DataObj(dataset,[Column([\"Acceleration\",\"Horsepower\"]),Column(\"?\",dataModel=\"measure\")])"
   ]
  },
  {
   "cell_type": "code",
   "execution_count": 9,
   "metadata": {},
   "outputs": [],
   "source": [
    "dobj.correlation()"
   ]
  },
  {
   "cell_type": "code",
   "execution_count": 10,
   "metadata": {},
   "outputs": [
    {
     "data": {
      "application/vnd.jupyter.widget-view+json": {
       "model_id": "db0cd2f85788498091dfaaa86a3a9382",
       "version_major": 2,
       "version_minor": 0
      },
      "text/plain": [
       "Mockup(numGraphs=5)"
      ]
     },
     "metadata": {},
     "output_type": "display_data"
    }
   ],
   "source": [
    "dobj.compiled.bottomK(5).display()"
   ]
  },
  {
   "cell_type": "code",
   "execution_count": 11,
   "metadata": {},
   "outputs": [],
   "source": [
    "dobj = DataObj(dataset,[Column(\"MilesPerGal\")])\n",
    "dobj.displayMore()\n",
    "# System automatically infers that Enhance, Filter are applicable actions to recommend to users.\n",
    "# This internally executes: \n",
    "# Enhance\n",
    "# dobj = DataObj(dataset,[Column(\"?\"), Column(\"MilesPerGal\")])\n",
    "# dobj.enhance()\n",
    "# Filter\n",
    "# dobj = DataObj(dataset,[Column(\"MilesPerGal\"),Row(\"?\")])\n",
    "# dobj.filter()"
   ]
  },
  {
   "cell_type": "code",
   "execution_count": null,
   "metadata": {},
   "outputs": [],
   "source": []
  }
 ],
 "metadata": {
  "kernelspec": {
   "display_name": "Python 3",
   "language": "python",
   "name": "python3"
  },
  "language_info": {
   "codemirror_mode": {
    "name": "ipython",
    "version": 3
   },
   "file_extension": ".py",
   "mimetype": "text/x-python",
   "name": "python",
   "nbconvert_exporter": "python",
   "pygments_lexer": "ipython3",
   "version": "3.7.0"
  }
 },
 "nbformat": 4,
 "nbformat_minor": 2
}
