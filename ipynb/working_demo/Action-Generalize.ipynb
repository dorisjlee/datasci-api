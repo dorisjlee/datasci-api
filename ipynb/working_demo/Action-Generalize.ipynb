{
 "cells": [
  {
   "cell_type": "code",
   "execution_count": 1,
   "metadata": {},
   "outputs": [
    {
     "name": "stdout",
     "output_type": "stream",
     "text": [
      "C:\\Users\\thyne\\Documents\\GitHub\\datasci-api\n"
     ]
    }
   ],
   "source": [
    "cd ../.."
   ]
  },
  {
   "cell_type": "code",
   "execution_count": 33,
   "metadata": {},
   "outputs": [
    {
     "name": "stdout",
     "output_type": "stream",
     "text": [
      "The autoreload extension is already loaded. To reload it, use:\n",
      "  %reload_ext autoreload\n"
     ]
    }
   ],
   "source": [
    "%load_ext autoreload\n",
    "%autoreload 2\n",
    "from dataset.Dataset import Dataset\n",
    "from dataObj.dataObj import DataObj\n",
    "from dataObj.Row import Row\n",
    "from dataObj.Column import Column"
   ]
  },
  {
   "cell_type": "code",
   "execution_count": 34,
   "metadata": {},
   "outputs": [],
   "source": [
    "dataset = Dataset(\"data/cars.csv\",schema=[{\"Year\":{\"dataType\":\"date\"}}])"
   ]
  },
  {
   "cell_type": "code",
   "execution_count": 63,
   "metadata": {},
   "outputs": [],
   "source": [
    "from action.Generalize import generalize"
   ]
  },
  {
   "cell_type": "code",
   "execution_count": 50,
   "metadata": {},
   "outputs": [
    {
     "name": "stdout",
     "output_type": "stream",
     "text": [
      "[<Data Obj: [Column <Acceleration,channel:x,dataType:quantitative,dataModel:measure>, Column <MilesPerGal,channel:y,dataType:quantitative,dataModel:measure>]>, <Data Obj: [Column <Horsepower,channel:x,dataType:quantitative,dataModel:measure>, Column <MilesPerGal,channel:y,dataType:quantitative,dataModel:measure>]>]\n",
      "[Column <MilesPerGal,channel:y,dataType:quantitative,dataModel:measure>]\n",
      "[Column <Acceleration,channel:x,dataType:quantitative,dataModel:measure>]\n",
      "[Column <MilesPerGal,channel:y,dataType:quantitative,dataModel:measure>]\n",
      "[Column <Horsepower,channel:x,dataType:quantitative,dataModel:measure>]\n"
     ]
    },
    {
     "data": {
      "text/plain": [
       "[<Data Obj: [Column <MilesPerGal,channel:y,dataType:quantitative,dataModel:measure>] -- 392.00>,\n",
       " <Data Obj: [Column <Acceleration,channel:x,dataType:quantitative,dataModel:measure>] -- 392.00>,\n",
       " <Data Obj: [Column <Horsepower,channel:x,dataType:quantitative,dataModel:measure>] -- 392.00>]"
      ]
     },
     "execution_count": 50,
     "metadata": {},
     "output_type": "execute_result"
    }
   ],
   "source": [
    "dobj = DataObj(dataset,[Column([\"Acceleration\", \"Horsepower\"]),Column(\"MilesPerGal\")])\n",
    "print(dobj.compiled.collection)\n",
    "dobj.generalize()"
   ]
  },
  {
   "cell_type": "code",
   "execution_count": 64,
   "metadata": {},
   "outputs": [
    {
     "data": {
      "text/plain": [
       "[<Data Obj: [Column <MilesPerGal,channel:y,dataType:quantitative,dataModel:measure>] -- 392.00>,\n",
       " <Data Obj: [Column <Horsepower,channel:x,dataType:quantitative,dataModel:measure>] -- 392.00>,\n",
       " <Data Obj: [Column <Acceleration,channel:x,dataType:quantitative,dataModel:measure>] -- 392.00>,\n",
       " <Data Obj: [Column <Weight,channel:x,dataType:quantitative,dataModel:measure>] -- 392.00>,\n",
       " <Data Obj: [Column <Cylinders,channel:x,dataType:quantitative,dataModel:measure>] -- 392.00>,\n",
       " <Data Obj: [Column <Displacement,channel:x,dataType:quantitative,dataModel:measure>] -- 392.00>]"
      ]
     },
     "execution_count": 64,
     "metadata": {},
     "output_type": "execute_result"
    }
   ],
   "source": [
    "dobj = DataObj(dataset,[Column(\"?\",dataModel=\"measure\"), Column(\"MilesPerGal\")])\n",
    "dobj.generalize()"
   ]
  }
 ],
 "metadata": {
  "kernelspec": {
   "display_name": "Python 3",
   "language": "python",
   "name": "python3"
  },
  "language_info": {
   "codemirror_mode": {
    "name": "ipython",
    "version": 3
   },
   "file_extension": ".py",
   "mimetype": "text/x-python",
   "name": "python",
   "nbconvert_exporter": "python",
   "pygments_lexer": "ipython3",
   "version": "3.6.3"
  }
 },
 "nbformat": 4,
 "nbformat_minor": 2
}
