{
 "cells": [
  {
   "cell_type": "code",
   "execution_count": 1,
   "metadata": {},
   "outputs": [
    {
     "name": "stdout",
     "output_type": "stream",
     "text": [
      "C:\\Users\\thyne\\Documents\\GitHub\\datasci-api\n"
     ]
    }
   ],
   "source": [
    "cd ../.."
   ]
  },
  {
   "cell_type": "code",
   "execution_count": 125,
   "metadata": {},
   "outputs": [
    {
     "name": "stdout",
     "output_type": "stream",
     "text": [
      "The autoreload extension is already loaded. To reload it, use:\n",
      "  %reload_ext autoreload\n"
     ]
    }
   ],
   "source": [
    "%load_ext autoreload\n",
    "%autoreload 2\n",
    "from dataset.Dataset import Dataset\n",
    "from dataObj.dataObj import DataObj\n",
    "from dataObj.Row import Row\n",
    "from dataObj.Column import Column"
   ]
  },
  {
   "cell_type": "code",
   "execution_count": 3,
   "metadata": {},
   "outputs": [],
   "source": [
    "dataset = Dataset(\"data/cars.csv\",schema=[{\"Year\":{\"dataType\":\"date\"}}])"
   ]
  },
  {
   "cell_type": "code",
   "execution_count": 4,
   "metadata": {},
   "outputs": [
    {
     "data": {
      "text/plain": [
       "<Dataset Obj: data/cars.csv>"
      ]
     },
     "execution_count": 4,
     "metadata": {},
     "output_type": "execute_result"
    }
   ],
   "source": [
    "dataset"
   ]
  },
  {
   "cell_type": "code",
   "execution_count": 89,
   "metadata": {},
   "outputs": [],
   "source": [
    "from action.Generalize import generalize"
   ]
  },
  {
   "cell_type": "code",
   "execution_count": 160,
   "metadata": {},
   "outputs": [
    {
     "data": {
      "text/plain": [
       "[<Data Obj: [Column <['Horsepower'],channel:,dataType:,dataModel:>] -- 40952.00>,\n",
       " <Data Obj: [Column <['Acceleration'],channel:,dataType:,dataModel:>] -- 6092.20>]"
      ]
     },
     "execution_count": 160,
     "metadata": {},
     "output_type": "execute_result"
    }
   ],
   "source": [
    "dobj = DataObj(dataset,[Column([\"Acceleration\", \"Horsepower\"])])\n",
    "dobj.generalize()"
   ]
  },
  {
   "cell_type": "code",
   "execution_count": 161,
   "metadata": {},
   "outputs": [
    {
     "data": {
      "text/plain": [
       "[<Data Obj: [Column <['Horsepower'],channel:,dataType:,dataModel:>, Row <Origin,USA>] -- 29167.00>,\n",
       " <Data Obj: [Column <['Acceleration'],channel:,dataType:,dataModel:>, Row <Origin,USA>] -- 3672.60>,\n",
       " <Data Obj: [Column <['Acceleration', 'Horsepower'],channel:,dataType:,dataModel:>] -- 6092.20>]"
      ]
     },
     "execution_count": 161,
     "metadata": {},
     "output_type": "execute_result"
    }
   ],
   "source": [
    "dobj = DataObj(dataset,[Column([\"Acceleration\", \"Horsepower\"]),Row(fAttribute=\"Origin\",fVal=\"USA\")])\n",
    "dobj.generalize()"
   ]
  },
  {
   "cell_type": "code",
   "execution_count": 162,
   "metadata": {},
   "outputs": [
    {
     "data": {
      "text/plain": [
       "[<Data Obj: [Column <['Horsepower'],channel:,dataType:,dataModel:>, Column <MilesPerGal,channel:,dataType:,dataModel:>] -- 40952.00>,\n",
       " <Data Obj: [Column <['Acceleration'],channel:,dataType:,dataModel:>, Column <MilesPerGal,channel:,dataType:,dataModel:>] -- 6092.20>,\n",
       " <Data Obj: [Column <['Acceleration', 'Horsepower'],channel:,dataType:,dataModel:>] -- 6092.20>]"
      ]
     },
     "execution_count": 162,
     "metadata": {},
     "output_type": "execute_result"
    }
   ],
   "source": [
    "dobj = DataObj(dataset,[Column([\"Acceleration\", \"Horsepower\"]),Column(\"MilesPerGal\")])\n",
    "dobj.generalize()"
   ]
  }
 ],
 "metadata": {
  "kernelspec": {
   "display_name": "Python 3",
   "language": "python",
   "name": "python3"
  },
  "language_info": {
   "codemirror_mode": {
    "name": "ipython",
    "version": 3
   },
   "file_extension": ".py",
   "mimetype": "text/x-python",
   "name": "python",
   "nbconvert_exporter": "python",
   "pygments_lexer": "ipython3",
   "version": "3.7.5"
  }
 },
 "nbformat": 4,
 "nbformat_minor": 2
}
