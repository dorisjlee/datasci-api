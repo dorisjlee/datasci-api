{
 "cells": [
  {
   "cell_type": "code",
   "execution_count": 1,
   "metadata": {},
   "outputs": [
    {
     "name": "stdout",
     "output_type": "stream",
     "text": [
      "C:\\Users\\thyne\\Documents\\GitHub\\datasci-api\n"
     ]
    }
   ],
   "source": [
    "cd ../.."
   ]
  },
  {
   "cell_type": "code",
   "execution_count": 2,
   "metadata": {},
   "outputs": [],
   "source": [
    "%load_ext autoreload\n",
    "%autoreload 2\n",
    "from dataset.Dataset import Dataset\n",
    "from dataObj.dataObj import DataObj\n",
    "from dataObj.Row import Row\n",
    "from dataObj.Column import Column"
   ]
  },
  {
   "cell_type": "code",
   "execution_count": 3,
   "metadata": {},
   "outputs": [],
   "source": [
    "dataset = Dataset(\"data/cars.csv\",schema=[{\"Year\":{\"dataType\":\"date\"}}])"
   ]
  },
  {
   "cell_type": "code",
   "execution_count": 4,
   "metadata": {},
   "outputs": [
    {
     "data": {
      "text/plain": [
       "<Dataset Obj: data/cars.csv>"
      ]
     },
     "execution_count": 4,
     "metadata": {},
     "output_type": "execute_result"
    }
   ],
   "source": [
    "dataset"
   ]
  },
  {
   "cell_type": "code",
   "execution_count": 5,
   "metadata": {},
   "outputs": [],
   "source": [
    "from action.Generalize import generalize"
   ]
  },
  {
   "cell_type": "code",
   "execution_count": 6,
   "metadata": {},
   "outputs": [
    {
     "data": {
      "text/plain": [
       "[<Data Obj: [Column <Acceleration,channel:x,dataType:quantitative,dataModel:measure>] -- 392.00>,\n",
       " <Data Obj: [Column <Horsepower,channel:x,dataType:quantitative,dataModel:measure>] -- 392.00>]"
      ]
     },
     "execution_count": 6,
     "metadata": {},
     "output_type": "execute_result"
    }
   ],
   "source": [
    "dobj = DataObj(dataset,[Column([\"Acceleration\", \"Horsepower\"])])\n",
    "dobj.generalize()"
   ]
  },
  {
   "cell_type": "code",
   "execution_count": 7,
   "metadata": {},
   "outputs": [
    {
     "data": {
      "text/plain": [
       "[<Data Obj: [Column <Acceleration,channel:x,dataType:quantitative,dataModel:measure>] -- 392.00>,\n",
       " <Data Obj: [Column <Horsepower,channel:x,dataType:quantitative,dataModel:measure>] -- 392.00>]"
      ]
     },
     "execution_count": 7,
     "metadata": {},
     "output_type": "execute_result"
    }
   ],
   "source": [
    "dobj = DataObj(dataset,[Column([\"Acceleration\", \"Horsepower\"]),Row(fAttribute=\"Origin\",fVal=\"USA\")])\n",
    "dobj.generalize()"
   ]
  },
  {
   "cell_type": "code",
   "execution_count": 10,
   "metadata": {},
   "outputs": [
    {
     "data": {
      "text/plain": [
       "[<Data Obj: [Column <MilesPerGal,channel:y,dataType:quantitative,dataModel:measure>] -- 392.00>,\n",
       " <Data Obj: [Column <Acceleration,channel:x,dataType:quantitative,dataModel:measure>] -- 392.00>,\n",
       " <Data Obj: [Column <Horsepower,channel:x,dataType:quantitative,dataModel:measure>] -- 392.00>]"
      ]
     },
     "execution_count": 10,
     "metadata": {},
     "output_type": "execute_result"
    }
   ],
   "source": [
    "dobj = DataObj(dataset,[Column([\"Acceleration\", \"Horsepower\"]),Column(\"MilesPerGal\")])\n",
    "dobj.generalize()"
   ]
  },
  {
   "cell_type": "code",
   "execution_count": 9,
   "metadata": {},
   "outputs": [
    {
     "data": {
      "text/plain": [
       "[<Data Obj: [Column <MilesPerGal,channel:y,dataType:quantitative,dataModel:measure>] -- 392.00>,\n",
       " <Data Obj: [Column <Cylinders,channel:x,dataType:quantitative,dataModel:measure>] -- 392.00>,\n",
       " <Data Obj: [Column <Horsepower,channel:x,dataType:quantitative,dataModel:measure>] -- 392.00>,\n",
       " <Data Obj: [Column <Acceleration,channel:x,dataType:quantitative,dataModel:measure>] -- 392.00>,\n",
       " <Data Obj: [Column <Weight,channel:x,dataType:quantitative,dataModel:measure>] -- 392.00>,\n",
       " <Data Obj: [Column <Displacement,channel:x,dataType:quantitative,dataModel:measure>] -- 392.00>]"
      ]
     },
     "execution_count": 9,
     "metadata": {},
     "output_type": "execute_result"
    }
   ],
   "source": [
    "dobj = DataObj(dataset,[Column(\"?\",dataModel=\"measure\"), Column(\"MilesPerGal\")])\n",
    "dobj.generalize()"
   ]
  }
 ],
 "metadata": {
  "kernelspec": {
   "display_name": "Python 3",
   "language": "python",
   "name": "python3"
  },
  "language_info": {
   "codemirror_mode": {
    "name": "ipython",
    "version": 3
   },
   "file_extension": ".py",
   "mimetype": "text/x-python",
   "name": "python",
   "nbconvert_exporter": "python",
   "pygments_lexer": "ipython3",
   "version": "3.6.3"
  }
 },
 "nbformat": 4,
 "nbformat_minor": 2
}
