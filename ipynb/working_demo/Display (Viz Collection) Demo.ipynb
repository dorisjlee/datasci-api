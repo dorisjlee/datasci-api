{
 "cells": [
  {
   "cell_type": "markdown",
   "metadata": {},
   "source": [
    "# Display Vis Collection Demo "
   ]
  },
  {
   "cell_type": "code",
   "execution_count": 1,
   "metadata": {},
   "outputs": [
    {
     "name": "stdout",
     "output_type": "stream",
     "text": [
      "/Users/dorislee/Desktop/Research/vizdatasci/datasci-api\n"
     ]
    }
   ],
   "source": [
    "cd ../.."
   ]
  },
  {
   "cell_type": "code",
   "execution_count": 2,
   "metadata": {},
   "outputs": [],
   "source": [
    "%load_ext autoreload\n",
    "%autoreload 2\n",
    "from dataset.Dataset import Dataset\n",
    "from dataObj.dataObj import DataObj\n",
    "from dataObj.Row import Row\n",
    "from dataObj.Column import Column"
   ]
  },
  {
   "cell_type": "code",
   "execution_count": 3,
   "metadata": {},
   "outputs": [],
   "source": [
    "dataset = Dataset(\"data/cars.csv\",schema=[{\"Year\":{\"dataType\":\"date\"}}])"
   ]
  },
  {
   "cell_type": "code",
   "execution_count": 4,
   "metadata": {},
   "outputs": [],
   "source": [
    "dobj = DataObj(dataset,[Column([\"Horsepower\",\"Weight\",\"Acceleration\"]),Column([\"MilesPerGal\"])])"
   ]
  },
  {
   "cell_type": "code",
   "execution_count": 5,
   "metadata": {},
   "outputs": [
    {
     "data": {
      "application/vnd.jupyter.widget-view+json": {
       "model_id": "2b51a67edc8e41a781412262d3218395",
       "version_major": 2,
       "version_minor": 0
      },
      "text/plain": [
       "Mockup(numGraphs=3)"
      ]
     },
     "metadata": {},
     "output_type": "display_data"
    }
   ],
   "source": [
    "widget2 = dobj.display()\n",
    "widget2"
   ]
  },
  {
   "cell_type": "code",
   "execution_count": 6,
   "metadata": {},
   "outputs": [
    {
     "data": {
      "text/plain": [
       "[]"
      ]
     },
     "execution_count": 6,
     "metadata": {},
     "output_type": "execute_result"
    }
   ],
   "source": [
    "widget2.selected_graphID"
   ]
  },
  {
   "cell_type": "code",
   "execution_count": 11,
   "metadata": {},
   "outputs": [],
   "source": [
    "dobj = DataObj(dataset,[Column(\"?\",dataModel=\"measure\"),Column(\"MilesPerGal\",channel=\"y\")])"
   ]
  },
  {
   "cell_type": "code",
   "execution_count": 12,
   "metadata": {},
   "outputs": [
    {
     "data": {
      "application/vnd.jupyter.widget-view+json": {
       "model_id": "35b142967ac544ff90c37580732b2bd6",
       "version_major": 2,
       "version_minor": 0
      },
      "text/plain": [
       "Mockup(numGraphs=6)"
      ]
     },
     "metadata": {},
     "output_type": "display_data"
    }
   ],
   "source": [
    "dobj.display()"
   ]
  },
  {
   "cell_type": "code",
   "execution_count": 63,
   "metadata": {
    "scrolled": true
   },
   "outputs": [
    {
     "name": "stdout",
     "output_type": "stream",
     "text": [
      "[Column <Weight,channel:,dataType:quantitative,dataModel:measure>, Column <MilesPerGal,channel:,dataType:quantitative,dataModel:measure>]\n",
      "Ndim,Nmsr: 0 2\n",
      "autoChannel: {'x': Column <Weight,channel:,dataType:quantitative,dataModel:measure>, 'y': Column <MilesPerGal,channel:,dataType:quantitative,dataModel:measure>}\n",
      "specifiedDict: {'x': [], 'y': []}\n",
      "autoChannel after: {'x': Column <Weight,channel:,dataType:quantitative,dataModel:measure>, 'y': Column <MilesPerGal,channel:,dataType:quantitative,dataModel:measure>}\n",
      "resultDict intermediate: {'x': '', 'y': ''}\n",
      "['x', 'y']\n",
      "dict_values([Column <Weight,channel:,dataType:quantitative,dataModel:measure>, Column <MilesPerGal,channel:,dataType:quantitative,dataModel:measure>])\n",
      "Column <Weight,channel:,dataType:quantitative,dataModel:measure> x\n",
      "Column <Weight,channel:x,dataType:quantitative,dataModel:measure>\n",
      "{'x': Column <Weight,channel:x,dataType:quantitative,dataModel:measure>, 'y': ''}\n",
      "Column <MilesPerGal,channel:,dataType:quantitative,dataModel:measure> y\n",
      "Column <MilesPerGal,channel:y,dataType:quantitative,dataModel:measure>\n",
      "{'x': Column <Weight,channel:x,dataType:quantitative,dataModel:measure>, 'y': Column <MilesPerGal,channel:y,dataType:quantitative,dataModel:measure>}\n",
      "{'x': Column <Weight,channel:x,dataType:quantitative,dataModel:measure>, 'y': Column <MilesPerGal,channel:y,dataType:quantitative,dataModel:measure>}\n",
      "[Column <Horsepower,channel:,dataType:quantitative,dataModel:measure>, Column <MilesPerGal,channel:,dataType:quantitative,dataModel:measure>]\n",
      "Ndim,Nmsr: 0 2\n",
      "autoChannel: {'x': Column <Horsepower,channel:,dataType:quantitative,dataModel:measure>, 'y': Column <MilesPerGal,channel:,dataType:quantitative,dataModel:measure>}\n",
      "specifiedDict: {'x': [], 'y': []}\n",
      "autoChannel after: {'x': Column <Horsepower,channel:,dataType:quantitative,dataModel:measure>, 'y': Column <MilesPerGal,channel:,dataType:quantitative,dataModel:measure>}\n",
      "resultDict intermediate: {'x': '', 'y': ''}\n",
      "['x', 'y']\n",
      "dict_values([Column <Horsepower,channel:,dataType:quantitative,dataModel:measure>, Column <MilesPerGal,channel:,dataType:quantitative,dataModel:measure>])\n",
      "Column <Horsepower,channel:,dataType:quantitative,dataModel:measure> x\n",
      "Column <Horsepower,channel:x,dataType:quantitative,dataModel:measure>\n",
      "{'x': Column <Horsepower,channel:x,dataType:quantitative,dataModel:measure>, 'y': ''}\n",
      "Column <MilesPerGal,channel:,dataType:quantitative,dataModel:measure> y\n",
      "Column <MilesPerGal,channel:y,dataType:quantitative,dataModel:measure>\n",
      "{'x': Column <Horsepower,channel:x,dataType:quantitative,dataModel:measure>, 'y': Column <MilesPerGal,channel:y,dataType:quantitative,dataModel:measure>}\n",
      "{'x': Column <Horsepower,channel:x,dataType:quantitative,dataModel:measure>, 'y': Column <MilesPerGal,channel:y,dataType:quantitative,dataModel:measure>}\n",
      "[Column <Displacement,channel:,dataType:quantitative,dataModel:measure>, Column <MilesPerGal,channel:,dataType:quantitative,dataModel:measure>]\n",
      "Ndim,Nmsr: 0 2\n",
      "autoChannel: {'x': Column <Displacement,channel:,dataType:quantitative,dataModel:measure>, 'y': Column <MilesPerGal,channel:,dataType:quantitative,dataModel:measure>}\n",
      "specifiedDict: {'x': [], 'y': []}\n",
      "autoChannel after: {'x': Column <Displacement,channel:,dataType:quantitative,dataModel:measure>, 'y': Column <MilesPerGal,channel:,dataType:quantitative,dataModel:measure>}\n",
      "resultDict intermediate: {'x': '', 'y': ''}\n",
      "['x', 'y']\n",
      "dict_values([Column <Displacement,channel:,dataType:quantitative,dataModel:measure>, Column <MilesPerGal,channel:,dataType:quantitative,dataModel:measure>])\n",
      "Column <Displacement,channel:,dataType:quantitative,dataModel:measure> x\n",
      "Column <Displacement,channel:x,dataType:quantitative,dataModel:measure>\n",
      "{'x': Column <Displacement,channel:x,dataType:quantitative,dataModel:measure>, 'y': ''}\n",
      "Column <MilesPerGal,channel:,dataType:quantitative,dataModel:measure> y\n",
      "Column <MilesPerGal,channel:y,dataType:quantitative,dataModel:measure>\n",
      "{'x': Column <Displacement,channel:x,dataType:quantitative,dataModel:measure>, 'y': Column <MilesPerGal,channel:y,dataType:quantitative,dataModel:measure>}\n",
      "{'x': Column <Displacement,channel:x,dataType:quantitative,dataModel:measure>, 'y': Column <MilesPerGal,channel:y,dataType:quantitative,dataModel:measure>}\n",
      "[Column <Acceleration,channel:,dataType:quantitative,dataModel:measure>, Column <MilesPerGal,channel:,dataType:quantitative,dataModel:measure>]\n",
      "Ndim,Nmsr: 0 2\n",
      "autoChannel: {'x': Column <Acceleration,channel:,dataType:quantitative,dataModel:measure>, 'y': Column <MilesPerGal,channel:,dataType:quantitative,dataModel:measure>}\n",
      "specifiedDict: {'x': [], 'y': []}\n",
      "autoChannel after: {'x': Column <Acceleration,channel:,dataType:quantitative,dataModel:measure>, 'y': Column <MilesPerGal,channel:,dataType:quantitative,dataModel:measure>}\n",
      "resultDict intermediate: {'x': '', 'y': ''}\n",
      "['x', 'y']\n",
      "dict_values([Column <Acceleration,channel:,dataType:quantitative,dataModel:measure>, Column <MilesPerGal,channel:,dataType:quantitative,dataModel:measure>])\n",
      "Column <Acceleration,channel:,dataType:quantitative,dataModel:measure> x\n",
      "Column <Acceleration,channel:x,dataType:quantitative,dataModel:measure>\n",
      "{'x': Column <Acceleration,channel:x,dataType:quantitative,dataModel:measure>, 'y': ''}\n",
      "Column <MilesPerGal,channel:,dataType:quantitative,dataModel:measure> y\n",
      "Column <MilesPerGal,channel:y,dataType:quantitative,dataModel:measure>\n",
      "{'x': Column <Acceleration,channel:x,dataType:quantitative,dataModel:measure>, 'y': Column <MilesPerGal,channel:y,dataType:quantitative,dataModel:measure>}\n",
      "{'x': Column <Acceleration,channel:x,dataType:quantitative,dataModel:measure>, 'y': Column <MilesPerGal,channel:y,dataType:quantitative,dataModel:measure>}\n",
      "[Column <Cylinders,channel:,dataType:quantitative,dataModel:measure>, Column <MilesPerGal,channel:,dataType:quantitative,dataModel:measure>]\n",
      "Ndim,Nmsr: 0 2\n",
      "autoChannel: {'x': Column <Cylinders,channel:,dataType:quantitative,dataModel:measure>, 'y': Column <MilesPerGal,channel:,dataType:quantitative,dataModel:measure>}\n",
      "specifiedDict: {'x': [], 'y': []}\n",
      "autoChannel after: {'x': Column <Cylinders,channel:,dataType:quantitative,dataModel:measure>, 'y': Column <MilesPerGal,channel:,dataType:quantitative,dataModel:measure>}\n",
      "resultDict intermediate: {'x': '', 'y': ''}\n",
      "['x', 'y']\n",
      "dict_values([Column <Cylinders,channel:,dataType:quantitative,dataModel:measure>, Column <MilesPerGal,channel:,dataType:quantitative,dataModel:measure>])\n",
      "Column <Cylinders,channel:,dataType:quantitative,dataModel:measure> x\n",
      "Column <Cylinders,channel:x,dataType:quantitative,dataModel:measure>\n",
      "{'x': Column <Cylinders,channel:x,dataType:quantitative,dataModel:measure>, 'y': ''}\n",
      "Column <MilesPerGal,channel:,dataType:quantitative,dataModel:measure> y\n",
      "Column <MilesPerGal,channel:y,dataType:quantitative,dataModel:measure>\n",
      "{'x': Column <Cylinders,channel:x,dataType:quantitative,dataModel:measure>, 'y': Column <MilesPerGal,channel:y,dataType:quantitative,dataModel:measure>}\n",
      "{'x': Column <Cylinders,channel:x,dataType:quantitative,dataModel:measure>, 'y': Column <MilesPerGal,channel:y,dataType:quantitative,dataModel:measure>}\n",
      "[Column <MilesPerGal,channel:,dataType:quantitative,dataModel:measure>, Column <MilesPerGal,channel:,dataType:quantitative,dataModel:measure>]\n",
      "Ndim,Nmsr: 0 2\n",
      "autoChannel: {'x': Column <MilesPerGal,channel:,dataType:quantitative,dataModel:measure>, 'y': Column <MilesPerGal,channel:,dataType:quantitative,dataModel:measure>}\n",
      "specifiedDict: {'x': [], 'y': []}\n",
      "autoChannel after: {'x': Column <MilesPerGal,channel:,dataType:quantitative,dataModel:measure>, 'y': Column <MilesPerGal,channel:,dataType:quantitative,dataModel:measure>}\n",
      "resultDict intermediate: {'x': '', 'y': ''}\n",
      "['x', 'y']\n",
      "dict_values([Column <MilesPerGal,channel:,dataType:quantitative,dataModel:measure>, Column <MilesPerGal,channel:,dataType:quantitative,dataModel:measure>])\n",
      "Column <MilesPerGal,channel:,dataType:quantitative,dataModel:measure> x\n",
      "Column <MilesPerGal,channel:x,dataType:quantitative,dataModel:measure>\n",
      "{'x': Column <MilesPerGal,channel:x,dataType:quantitative,dataModel:measure>, 'y': ''}\n",
      "Column <MilesPerGal,channel:,dataType:quantitative,dataModel:measure> y\n",
      "Column <MilesPerGal,channel:y,dataType:quantitative,dataModel:measure>\n",
      "{'x': Column <MilesPerGal,channel:x,dataType:quantitative,dataModel:measure>, 'y': Column <MilesPerGal,channel:y,dataType:quantitative,dataModel:measure>}\n",
      "{'x': Column <MilesPerGal,channel:x,dataType:quantitative,dataModel:measure>, 'y': Column <MilesPerGal,channel:y,dataType:quantitative,dataModel:measure>}\n",
      "[Column <Weight,channel:,dataType:quantitative,dataModel:measure>, Column <MilesPerGal,channel:,dataType:quantitative,dataModel:measure>]\n",
      "Ndim,Nmsr: 0 2\n",
      "autoChannel: {'x': Column <Weight,channel:,dataType:quantitative,dataModel:measure>, 'y': Column <MilesPerGal,channel:,dataType:quantitative,dataModel:measure>}\n",
      "specifiedDict: {'x': [], 'y': []}\n",
      "autoChannel after: {'x': Column <Weight,channel:,dataType:quantitative,dataModel:measure>, 'y': Column <MilesPerGal,channel:,dataType:quantitative,dataModel:measure>}\n",
      "resultDict intermediate: {'x': '', 'y': ''}\n",
      "['x', 'y']\n",
      "dict_values([Column <Weight,channel:,dataType:quantitative,dataModel:measure>, Column <MilesPerGal,channel:,dataType:quantitative,dataModel:measure>])\n",
      "Column <Weight,channel:,dataType:quantitative,dataModel:measure> x\n",
      "Column <Weight,channel:x,dataType:quantitative,dataModel:measure>\n",
      "{'x': Column <Weight,channel:x,dataType:quantitative,dataModel:measure>, 'y': ''}\n",
      "Column <MilesPerGal,channel:,dataType:quantitative,dataModel:measure> y\n",
      "Column <MilesPerGal,channel:y,dataType:quantitative,dataModel:measure>\n",
      "{'x': Column <Weight,channel:x,dataType:quantitative,dataModel:measure>, 'y': Column <MilesPerGal,channel:y,dataType:quantitative,dataModel:measure>}\n",
      "{'x': Column <Weight,channel:x,dataType:quantitative,dataModel:measure>, 'y': Column <MilesPerGal,channel:y,dataType:quantitative,dataModel:measure>}\n",
      "[Column <Horsepower,channel:,dataType:quantitative,dataModel:measure>, Column <MilesPerGal,channel:,dataType:quantitative,dataModel:measure>]\n",
      "Ndim,Nmsr: 0 2\n",
      "autoChannel: {'x': Column <Horsepower,channel:,dataType:quantitative,dataModel:measure>, 'y': Column <MilesPerGal,channel:,dataType:quantitative,dataModel:measure>}\n",
      "specifiedDict: {'x': [], 'y': []}\n",
      "autoChannel after: {'x': Column <Horsepower,channel:,dataType:quantitative,dataModel:measure>, 'y': Column <MilesPerGal,channel:,dataType:quantitative,dataModel:measure>}\n",
      "resultDict intermediate: {'x': '', 'y': ''}\n",
      "['x', 'y']\n",
      "dict_values([Column <Horsepower,channel:,dataType:quantitative,dataModel:measure>, Column <MilesPerGal,channel:,dataType:quantitative,dataModel:measure>])\n",
      "Column <Horsepower,channel:,dataType:quantitative,dataModel:measure> x\n",
      "Column <Horsepower,channel:x,dataType:quantitative,dataModel:measure>\n",
      "{'x': Column <Horsepower,channel:x,dataType:quantitative,dataModel:measure>, 'y': ''}\n",
      "Column <MilesPerGal,channel:,dataType:quantitative,dataModel:measure> y\n",
      "Column <MilesPerGal,channel:y,dataType:quantitative,dataModel:measure>\n",
      "{'x': Column <Horsepower,channel:x,dataType:quantitative,dataModel:measure>, 'y': Column <MilesPerGal,channel:y,dataType:quantitative,dataModel:measure>}\n",
      "{'x': Column <Horsepower,channel:x,dataType:quantitative,dataModel:measure>, 'y': Column <MilesPerGal,channel:y,dataType:quantitative,dataModel:measure>}\n",
      "[Column <Displacement,channel:,dataType:quantitative,dataModel:measure>, Column <MilesPerGal,channel:,dataType:quantitative,dataModel:measure>]\n",
      "Ndim,Nmsr: 0 2\n",
      "autoChannel: {'x': Column <Displacement,channel:,dataType:quantitative,dataModel:measure>, 'y': Column <MilesPerGal,channel:,dataType:quantitative,dataModel:measure>}\n",
      "specifiedDict: {'x': [], 'y': []}\n",
      "autoChannel after: {'x': Column <Displacement,channel:,dataType:quantitative,dataModel:measure>, 'y': Column <MilesPerGal,channel:,dataType:quantitative,dataModel:measure>}\n",
      "resultDict intermediate: {'x': '', 'y': ''}\n",
      "['x', 'y']\n",
      "dict_values([Column <Displacement,channel:,dataType:quantitative,dataModel:measure>, Column <MilesPerGal,channel:,dataType:quantitative,dataModel:measure>])\n",
      "Column <Displacement,channel:,dataType:quantitative,dataModel:measure> x\n",
      "Column <Displacement,channel:x,dataType:quantitative,dataModel:measure>\n",
      "{'x': Column <Displacement,channel:x,dataType:quantitative,dataModel:measure>, 'y': ''}\n",
      "Column <MilesPerGal,channel:,dataType:quantitative,dataModel:measure> y\n",
      "Column <MilesPerGal,channel:y,dataType:quantitative,dataModel:measure>\n",
      "{'x': Column <Displacement,channel:x,dataType:quantitative,dataModel:measure>, 'y': Column <MilesPerGal,channel:y,dataType:quantitative,dataModel:measure>}\n",
      "{'x': Column <Displacement,channel:x,dataType:quantitative,dataModel:measure>, 'y': Column <MilesPerGal,channel:y,dataType:quantitative,dataModel:measure>}\n",
      "[Column <Acceleration,channel:,dataType:quantitative,dataModel:measure>, Column <MilesPerGal,channel:,dataType:quantitative,dataModel:measure>]\n",
      "Ndim,Nmsr: 0 2\n",
      "autoChannel: {'x': Column <Acceleration,channel:,dataType:quantitative,dataModel:measure>, 'y': Column <MilesPerGal,channel:,dataType:quantitative,dataModel:measure>}\n",
      "specifiedDict: {'x': [], 'y': []}\n",
      "autoChannel after: {'x': Column <Acceleration,channel:,dataType:quantitative,dataModel:measure>, 'y': Column <MilesPerGal,channel:,dataType:quantitative,dataModel:measure>}\n",
      "resultDict intermediate: {'x': '', 'y': ''}\n",
      "['x', 'y']\n",
      "dict_values([Column <Acceleration,channel:,dataType:quantitative,dataModel:measure>, Column <MilesPerGal,channel:,dataType:quantitative,dataModel:measure>])\n",
      "Column <Acceleration,channel:,dataType:quantitative,dataModel:measure> x\n",
      "Column <Acceleration,channel:x,dataType:quantitative,dataModel:measure>\n",
      "{'x': Column <Acceleration,channel:x,dataType:quantitative,dataModel:measure>, 'y': ''}\n",
      "Column <MilesPerGal,channel:,dataType:quantitative,dataModel:measure> y\n",
      "Column <MilesPerGal,channel:y,dataType:quantitative,dataModel:measure>\n",
      "{'x': Column <Acceleration,channel:x,dataType:quantitative,dataModel:measure>, 'y': Column <MilesPerGal,channel:y,dataType:quantitative,dataModel:measure>}\n",
      "{'x': Column <Acceleration,channel:x,dataType:quantitative,dataModel:measure>, 'y': Column <MilesPerGal,channel:y,dataType:quantitative,dataModel:measure>}\n",
      "[Column <Cylinders,channel:,dataType:quantitative,dataModel:measure>, Column <MilesPerGal,channel:,dataType:quantitative,dataModel:measure>]\n",
      "Ndim,Nmsr: 0 2\n",
      "autoChannel: {'x': Column <Cylinders,channel:,dataType:quantitative,dataModel:measure>, 'y': Column <MilesPerGal,channel:,dataType:quantitative,dataModel:measure>}\n",
      "specifiedDict: {'x': [], 'y': []}\n",
      "autoChannel after: {'x': Column <Cylinders,channel:,dataType:quantitative,dataModel:measure>, 'y': Column <MilesPerGal,channel:,dataType:quantitative,dataModel:measure>}\n",
      "resultDict intermediate: {'x': '', 'y': ''}\n",
      "['x', 'y']\n",
      "dict_values([Column <Cylinders,channel:,dataType:quantitative,dataModel:measure>, Column <MilesPerGal,channel:,dataType:quantitative,dataModel:measure>])\n",
      "Column <Cylinders,channel:,dataType:quantitative,dataModel:measure> x\n",
      "Column <Cylinders,channel:x,dataType:quantitative,dataModel:measure>\n",
      "{'x': Column <Cylinders,channel:x,dataType:quantitative,dataModel:measure>, 'y': ''}\n",
      "Column <MilesPerGal,channel:,dataType:quantitative,dataModel:measure> y\n",
      "Column <MilesPerGal,channel:y,dataType:quantitative,dataModel:measure>\n",
      "{'x': Column <Cylinders,channel:x,dataType:quantitative,dataModel:measure>, 'y': Column <MilesPerGal,channel:y,dataType:quantitative,dataModel:measure>}\n",
      "{'x': Column <Cylinders,channel:x,dataType:quantitative,dataModel:measure>, 'y': Column <MilesPerGal,channel:y,dataType:quantitative,dataModel:measure>}\n",
      "[Column <MilesPerGal,channel:,dataType:quantitative,dataModel:measure>, Column <MilesPerGal,channel:,dataType:quantitative,dataModel:measure>]\n",
      "Ndim,Nmsr: 0 2\n",
      "autoChannel: {'x': Column <MilesPerGal,channel:,dataType:quantitative,dataModel:measure>, 'y': Column <MilesPerGal,channel:,dataType:quantitative,dataModel:measure>}\n",
      "specifiedDict: {'x': [], 'y': []}\n",
      "autoChannel after: {'x': Column <MilesPerGal,channel:,dataType:quantitative,dataModel:measure>, 'y': Column <MilesPerGal,channel:,dataType:quantitative,dataModel:measure>}\n",
      "resultDict intermediate: {'x': '', 'y': ''}\n",
      "['x', 'y']\n",
      "dict_values([Column <MilesPerGal,channel:,dataType:quantitative,dataModel:measure>, Column <MilesPerGal,channel:,dataType:quantitative,dataModel:measure>])\n",
      "Column <MilesPerGal,channel:,dataType:quantitative,dataModel:measure> x\n",
      "Column <MilesPerGal,channel:x,dataType:quantitative,dataModel:measure>\n",
      "{'x': Column <MilesPerGal,channel:x,dataType:quantitative,dataModel:measure>, 'y': ''}\n",
      "Column <MilesPerGal,channel:,dataType:quantitative,dataModel:measure> y\n",
      "Column <MilesPerGal,channel:y,dataType:quantitative,dataModel:measure>\n",
      "{'x': Column <MilesPerGal,channel:x,dataType:quantitative,dataModel:measure>, 'y': Column <MilesPerGal,channel:y,dataType:quantitative,dataModel:measure>}\n",
      "{'x': Column <MilesPerGal,channel:x,dataType:quantitative,dataModel:measure>, 'y': Column <MilesPerGal,channel:y,dataType:quantitative,dataModel:measure>}\n"
     ]
    }
   ],
   "source": [
    "dobj = DataObj(dataset,[Column(\"?\",dataModel=\"measure\"),Column(\"MilesPerGal\",channel=\"y\")])"
   ]
  },
  {
   "cell_type": "code",
   "execution_count": 62,
   "metadata": {
    "scrolled": false
   },
   "outputs": [
    {
     "name": "stdout",
     "output_type": "stream",
     "text": [
      "[Column <Year,channel:,dataType:date,dataModel:dimension>]\n",
      "Ndim,Nmsr: 1 0\n",
      "autoChannel: {'x': Column <Year,channel:,dataType:date,dataModel:dimension>, 'y': Column <count(),channel:y,dataType:,dataModel:measure>}\n",
      "specifiedDict: {'x': [], 'y': [Column <count(),channel:y,dataType:,dataModel:measure>]}\n",
      "autoChannel after: {'x': Column <Year,channel:,dataType:date,dataModel:dimension>}\n",
      "resultDict intermediate: {'x': '', 'y': Column <count(),channel:y,dataType:,dataModel:measure>}\n",
      "['x']\n",
      "dict_values([Column <Year,channel:,dataType:date,dataModel:dimension>])\n",
      "Column <Year,channel:,dataType:date,dataModel:dimension> x\n",
      "Column <Year,channel:x,dataType:date,dataModel:dimension>\n",
      "{'x': Column <Year,channel:x,dataType:date,dataModel:dimension>, 'y': Column <count(),channel:y,dataType:,dataModel:measure>}\n",
      "{'x': Column <Year,channel:x,dataType:date,dataModel:dimension>, 'y': Column <count(),channel:y,dataType:,dataModel:measure>}\n"
     ]
    }
   ],
   "source": [
    "dobj = DataObj(dataset,[Column(\"Year\")])"
   ]
  },
  {
   "cell_type": "code",
   "execution_count": 64,
   "metadata": {},
   "outputs": [
    {
     "data": {
      "application/vnd.jupyter.widget-view+json": {
       "model_id": "011ebf0d57fd481f832e8f55251d24f9",
       "version_major": 2,
       "version_minor": 0
      },
      "text/plain": [
       "Mockup(numGraphs=6)"
      ]
     },
     "metadata": {},
     "output_type": "display_data"
    }
   ],
   "source": [
    "dobj.display()"
   ]
  },
  {
   "cell_type": "code",
   "execution_count": 68,
   "metadata": {},
   "outputs": [],
   "source": [
    "dobj = DataObj(dataset,[Column(\"?\"),Column(\"?\")])"
   ]
  },
  {
   "cell_type": "code",
   "execution_count": 66,
   "metadata": {},
   "outputs": [],
   "source": [
    "assert len(dobj.compiled.collection) == len(dobj.dataset.df.columns)"
   ]
  },
  {
   "cell_type": "code",
   "execution_count": 67,
   "metadata": {},
   "outputs": [
    {
     "data": {
      "text/plain": [
       "[<Data Obj: [Column <Year,channel:x,dataType:date,dataModel:dimension>, Column <count(),channel:y,dataType:,dataModel:measure>, Column <Origin,channel:color,dataType:categorical,dataModel:dimension>] -- -1.00>,\n",
       " <Data Obj: [Column <Year,channel:x,dataType:date,dataModel:dimension>, Column <Weight,channel:y,dataType:quantitative,dataModel:measure>] -- -1.00>,\n",
       " <Data Obj: [Column <Year,channel:x,dataType:date,dataModel:dimension>, Column <Horsepower,channel:y,dataType:quantitative,dataModel:measure>] -- -1.00>,\n",
       " <Data Obj: [Column <count(),channel:x,dataType:,dataModel:measure>, Column <Name,channel:y,dataType:categorical,dataModel:dimension>, Column <Year,channel:color,dataType:date,dataModel:dimension>] -- -1.00>,\n",
       " <Data Obj: [Column <Year,channel:x,dataType:date,dataModel:dimension>, Column <count(),channel:y,dataType:,dataModel:measure>, Column <Year,channel:color,dataType:date,dataModel:dimension>] -- -1.00>,\n",
       " <Data Obj: [Column <Year,channel:x,dataType:date,dataModel:dimension>, Column <Displacement,channel:y,dataType:quantitative,dataModel:measure>] -- -1.00>,\n",
       " <Data Obj: [Column <Year,channel:x,dataType:date,dataModel:dimension>, Column <Acceleration,channel:y,dataType:quantitative,dataModel:measure>] -- -1.00>,\n",
       " <Data Obj: [Column <count(),channel:x,dataType:,dataModel:measure>, Column <Brand,channel:y,dataType:categorical,dataModel:dimension>, Column <Year,channel:color,dataType:date,dataModel:dimension>] -- -1.00>,\n",
       " <Data Obj: [Column <Year,channel:x,dataType:date,dataModel:dimension>, Column <Cylinders,channel:y,dataType:quantitative,dataModel:measure>] -- -1.00>,\n",
       " <Data Obj: [Column <Year,channel:x,dataType:date,dataModel:dimension>, Column <MilesPerGal,channel:y,dataType:quantitative,dataModel:measure>] -- -1.00>]"
      ]
     },
     "execution_count": 67,
     "metadata": {},
     "output_type": "execute_result"
    }
   ],
   "source": [
    "dobj.compiled.collection"
   ]
  },
  {
   "cell_type": "code",
   "execution_count": null,
   "metadata": {},
   "outputs": [],
   "source": []
  }
 ],
 "metadata": {
  "kernelspec": {
   "display_name": "Python 3",
   "language": "python",
   "name": "python3"
  },
  "language_info": {
   "codemirror_mode": {
    "name": "ipython",
    "version": 3
   },
   "file_extension": ".py",
   "mimetype": "text/x-python",
   "name": "python",
   "nbconvert_exporter": "python",
   "pygments_lexer": "ipython3",
   "version": "3.7.5"
  }
 },
 "nbformat": 4,
 "nbformat_minor": 4
}
