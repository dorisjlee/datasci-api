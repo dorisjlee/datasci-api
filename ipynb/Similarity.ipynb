{
 "cells": [
  {
   "cell_type": "markdown",
   "metadata": {},
   "source": [
    "# Display Vis Collection Demo "
   ]
  },
  {
   "cell_type": "code",
   "execution_count": 1,
   "metadata": {},
   "outputs": [
    {
     "name": "stdout",
     "output_type": "stream",
     "text": [
      "/Users/dorislee/Desktop/Research/vizdatasci/datasci-api\n"
     ]
    }
   ],
   "source": [
    "cd .."
   ]
  },
  {
   "cell_type": "code",
   "execution_count": 2,
   "metadata": {},
   "outputs": [],
   "source": [
    "%load_ext autoreload\n",
    "%autoreload 2\n",
    "from dataset.Dataset import Dataset\n",
    "from dataObj.dataObj import DataObj\n",
    "from dataObj.Row import Row\n",
    "from dataObj.Column import Column"
   ]
  },
  {
   "cell_type": "code",
   "execution_count": 3,
   "metadata": {},
   "outputs": [],
   "source": [
    "dataset = Dataset(\"data/real_estate_tutorial.csv\",schema=[{\"Year\":{\"dataType\":\"date\"}}])"
   ]
  },
  {
   "cell_type": "code",
   "execution_count": 4,
   "metadata": {},
   "outputs": [
    {
     "name": "stdout",
     "output_type": "stream",
     "text": [
      "num row vals:  100\n"
     ]
    }
   ],
   "source": [
    "# dobj = DataObj(dataset,[Column([\"Horsepower\",\"Weight\",\"Acceleration\"]),Column([\"MilesPerGal\"])])\n",
    "query = DataObj(dataset,[Column(\"PctForeclosured\",channel=\"y\"),Column(\"Year\",channel=\"x\"),Row(\"City\",\"Crofton\")])\n",
    "dobj = DataObj(dataset,[Column([\"PctForeclosured\"],channel=\"y\"),Column([\"Year\"],channel=\"x\"),Row(\"City\",\"?\")])\n",
    "# dobj = DataObj(dataset,[Column(\"?\",dataModel=\"measure\"),Column(\"?\",dataModel=\"measure\")])"
   ]
  },
  {
   "cell_type": "code",
   "execution_count": 5,
   "metadata": {},
   "outputs": [],
   "source": [
    "dobj.similarPattern(query)"
   ]
  },
  {
   "cell_type": "code",
   "execution_count": 9,
   "metadata": {},
   "outputs": [
    {
     "data": {
      "application/vnd.jupyter.widget-view+json": {
       "model_id": "bddcdab001c84db7bd5ab51224adaed6",
       "version_major": 2,
       "version_minor": 0
      },
      "text/plain": [
       "DisplayWidget(current_view={'config': {'view': {'continuousWidth': 400, 'continuousHeight': 300}}, 'data': {'n…"
      ]
     },
     "metadata": {},
     "output_type": "display_data"
    }
   ],
   "source": [
    "dobj.display(currentView=query)"
   ]
  },
  {
   "cell_type": "code",
   "execution_count": 6,
   "metadata": {
    "scrolled": false
   },
   "outputs": [
    {
     "data": {
      "text/plain": [
       "<Data Obj Collection: [<Data Obj: [Column <Year,channel:x,dataType:date,dataModel:dimension>, Column <PctForeclosured,channel:y,dataType:quantitative,dataModel:measure>, Row <City,Crofton>] -- 1.00>, <Data Obj: [Column <Year,channel:x,dataType:date,dataModel:dimension>, Column <PctForeclosured,channel:y,dataType:quantitative,dataModel:measure>, Row <City,Brick>] -- 0.83>, <Data Obj: [Column <Year,channel:x,dataType:date,dataModel:dimension>, Column <PctForeclosured,channel:y,dataType:quantitative,dataModel:measure>, Row <City,Parkville>] -- 0.79>, <Data Obj: [Column <Year,channel:x,dataType:date,dataModel:dimension>, Column <PctForeclosured,channel:y,dataType:quantitative,dataModel:measure>, Row <City,Nicholasville>] -- 0.78>, <Data Obj: [Column <Year,channel:x,dataType:date,dataModel:dimension>, Column <PctForeclosured,channel:y,dataType:quantitative,dataModel:measure>, Row <City,Norman>] -- 0.77>, <Data Obj: [Column <Year,channel:x,dataType:date,dataModel:dimension>, Column <PctForeclosured,channel:y,dataType:quantitative,dataModel:measure>, Row <City,Egg Harbor Township>] -- 0.75>, <Data Obj: [Column <Year,channel:x,dataType:date,dataModel:dimension>, Column <PctForeclosured,channel:y,dataType:quantitative,dataModel:measure>, Row <City,Morganton>] -- 0.75>, <Data Obj: [Column <Year,channel:x,dataType:date,dataModel:dimension>, Column <PctForeclosured,channel:y,dataType:quantitative,dataModel:measure>, Row <City,Morrisville>] -- 0.73>, <Data Obj: [Column <Year,channel:x,dataType:date,dataModel:dimension>, Column <PctForeclosured,channel:y,dataType:quantitative,dataModel:measure>, Row <City,Piscataway Township>] -- 0.69>, <Data Obj: [Column <Year,channel:x,dataType:date,dataModel:dimension>, Column <PctForeclosured,channel:y,dataType:quantitative,dataModel:measure>, Row <City,Catonsville>] -- 0.63>, <Data Obj: [Column <Year,channel:x,dataType:date,dataModel:dimension>, Column <PctForeclosured,channel:y,dataType:quantitative,dataModel:measure>, Row <City,Seattle Hill-Silver Firs>] -- 0.63>, <Data Obj: [Column <Year,channel:x,dataType:date,dataModel:dimension>, Column <PctForeclosured,channel:y,dataType:quantitative,dataModel:measure>, Row <City,Watertown>] -- 0.61>, <Data Obj: [Column <Year,channel:x,dataType:date,dataModel:dimension>, Column <PctForeclosured,channel:y,dataType:quantitative,dataModel:measure>, Row <City,Mount Holly>] -- 0.61>, <Data Obj: [Column <Year,channel:x,dataType:date,dataModel:dimension>, Column <PctForeclosured,channel:y,dataType:quantitative,dataModel:measure>, Row <City,Providence>] -- 0.60>, <Data Obj: [Column <Year,channel:x,dataType:date,dataModel:dimension>, Column <PctForeclosured,channel:y,dataType:quantitative,dataModel:measure>, Row <City,Kaneohe>] -- 0.58>, <Data Obj: [Column <Year,channel:x,dataType:date,dataModel:dimension>, Column <PctForeclosured,channel:y,dataType:quantitative,dataModel:measure>, Row <City,Avon>] -- 0.58>, <Data Obj: [Column <Year,channel:x,dataType:date,dataModel:dimension>, Column <PctForeclosured,channel:y,dataType:quantitative,dataModel:measure>, Row <City,Kailua Kona>] -- 0.57>, <Data Obj: [Column <Year,channel:x,dataType:date,dataModel:dimension>, Column <PctForeclosured,channel:y,dataType:quantitative,dataModel:measure>, Row <City,Montgomery Township>] -- 0.55>, <Data Obj: [Column <Year,channel:x,dataType:date,dataModel:dimension>, Column <PctForeclosured,channel:y,dataType:quantitative,dataModel:measure>, Row <City,Mc Lean>] -- 0.53>, <Data Obj: [Column <Year,channel:x,dataType:date,dataModel:dimension>, Column <PctForeclosured,channel:y,dataType:quantitative,dataModel:measure>, Row <City,Alabaster>] -- 0.53>, <Data Obj: [Column <Year,channel:x,dataType:date,dataModel:dimension>, Column <PctForeclosured,channel:y,dataType:quantitative,dataModel:measure>, Row <City,Temple Hills>] -- 0.52>, <Data Obj: [Column <Year,channel:x,dataType:date,dataModel:dimension>, Column <PctForeclosured,channel:y,dataType:quantitative,dataModel:measure>, Row <City,Stratford>] -- 0.52>, <Data Obj: [Column <Year,channel:x,dataType:date,dataModel:dimension>, Column <PctForeclosured,channel:y,dataType:quantitative,dataModel:measure>, Row <City,Manor Township>] -- 0.51>, <Data Obj: [Column <Year,channel:x,dataType:date,dataModel:dimension>, Column <PctForeclosured,channel:y,dataType:quantitative,dataModel:measure>, Row <City,Greater Upper Marlboro>] -- 0.50>, <Data Obj: [Column <Year,channel:x,dataType:date,dataModel:dimension>, Column <PctForeclosured,channel:y,dataType:quantitative,dataModel:measure>, Row <City,Bristol>] -- 0.50>, <Data Obj: [Column <Year,channel:x,dataType:date,dataModel:dimension>, Column <PctForeclosured,channel:y,dataType:quantitative,dataModel:measure>, Row <City,Jersey City>] -- 0.49>, <Data Obj: [Column <Year,channel:x,dataType:date,dataModel:dimension>, Column <PctForeclosured,channel:y,dataType:quantitative,dataModel:measure>, Row <City,East Hill-Meridian>] -- 0.49>, <Data Obj: [Column <Year,channel:x,dataType:date,dataModel:dimension>, Column <PctForeclosured,channel:y,dataType:quantitative,dataModel:measure>, Row <City,Port Huron Township>] -- 0.49>, <Data Obj: [Column <Year,channel:x,dataType:date,dataModel:dimension>, Column <PctForeclosured,channel:y,dataType:quantitative,dataModel:measure>, Row <City,Brandon>] -- 0.49>, <Data Obj: [Column <Year,channel:x,dataType:date,dataModel:dimension>, Column <PctForeclosured,channel:y,dataType:quantitative,dataModel:measure>, Row <City,Vinton>] -- 0.49>, <Data Obj: [Column <Year,channel:x,dataType:date,dataModel:dimension>, Column <PctForeclosured,channel:y,dataType:quantitative,dataModel:measure>, Row <City,Apopka>] -- 0.49>, <Data Obj: [Column <Year,channel:x,dataType:date,dataModel:dimension>, Column <PctForeclosured,channel:y,dataType:quantitative,dataModel:measure>, Row <City,Plant City>] -- 0.49>, <Data Obj: [Column <Year,channel:x,dataType:date,dataModel:dimension>, Column <PctForeclosured,channel:y,dataType:quantitative,dataModel:measure>, Row <City,Santa Rosa Beach>] -- 0.49>, <Data Obj: [Column <Year,channel:x,dataType:date,dataModel:dimension>, Column <PctForeclosured,channel:y,dataType:quantitative,dataModel:measure>, Row <City,Homestead>] -- 0.49>, <Data Obj: [Column <Year,channel:x,dataType:date,dataModel:dimension>, Column <PctForeclosured,channel:y,dataType:quantitative,dataModel:measure>, Row <City,Daytona Beach>] -- 0.49>, <Data Obj: [Column <Year,channel:x,dataType:date,dataModel:dimension>, Column <PctForeclosured,channel:y,dataType:quantitative,dataModel:measure>, Row <City,Dawsonville>] -- 0.49>, <Data Obj: [Column <Year,channel:x,dataType:date,dataModel:dimension>, Column <PctForeclosured,channel:y,dataType:quantitative,dataModel:measure>, Row <City,Debary>] -- 0.49>, <Data Obj: [Column <Year,channel:x,dataType:date,dataModel:dimension>, Column <PctForeclosured,channel:y,dataType:quantitative,dataModel:measure>, Row <City,Lutz>] -- 0.49>, <Data Obj: [Column <Year,channel:x,dataType:date,dataModel:dimension>, Column <PctForeclosured,channel:y,dataType:quantitative,dataModel:measure>, Row <City,Pleasure Ridge Park>] -- 0.49>, <Data Obj: [Column <Year,channel:x,dataType:date,dataModel:dimension>, Column <PctForeclosured,channel:y,dataType:quantitative,dataModel:measure>, Row <City,Town of Hampton>] -- 0.49>, <Data Obj: [Column <Year,channel:x,dataType:date,dataModel:dimension>, Column <PctForeclosured,channel:y,dataType:quantitative,dataModel:measure>, Row <City,Greater Northdale>] -- 0.49>, <Data Obj: [Column <Year,channel:x,dataType:date,dataModel:dimension>, Column <PctForeclosured,channel:y,dataType:quantitative,dataModel:measure>, Row <City,Asheboro>] -- 0.49>, <Data Obj: [Column <Year,channel:x,dataType:date,dataModel:dimension>, Column <PctForeclosured,channel:y,dataType:quantitative,dataModel:measure>, Row <City,Muskegon Township>] -- 0.49>, <Data Obj: [Column <Year,channel:x,dataType:date,dataModel:dimension>, Column <PctForeclosured,channel:y,dataType:quantitative,dataModel:measure>, Row <City,Woodridge>] -- 0.49>, <Data Obj: [Column <Year,channel:x,dataType:date,dataModel:dimension>, Column <PctForeclosured,channel:y,dataType:quantitative,dataModel:measure>, Row <City,Pontiac>] -- 0.49>, <Data Obj: [Column <Year,channel:x,dataType:date,dataModel:dimension>, Column <PctForeclosured,channel:y,dataType:quantitative,dataModel:measure>, Row <City,Rock Island>] -- 0.49>, <Data Obj: [Column <Year,channel:x,dataType:date,dataModel:dimension>, Column <PctForeclosured,channel:y,dataType:quantitative,dataModel:measure>, Row <City,Fort Pierce>] -- 0.49>, <Data Obj: [Column <Year,channel:x,dataType:date,dataModel:dimension>, Column <PctForeclosured,channel:y,dataType:quantitative,dataModel:measure>, Row <City,Kendall>] -- 0.49>, <Data Obj: [Column <Year,channel:x,dataType:date,dataModel:dimension>, Column <PctForeclosured,channel:y,dataType:quantitative,dataModel:measure>, Row <City,Greenacres>] -- 0.49>, <Data Obj: [Column <Year,channel:x,dataType:date,dataModel:dimension>, Column <PctForeclosured,channel:y,dataType:quantitative,dataModel:measure>, Row <City,Urbana>] -- 0.49>, <Data Obj: [Column <Year,channel:x,dataType:date,dataModel:dimension>, Column <PctForeclosured,channel:y,dataType:quantitative,dataModel:measure>, Row <City,Normal>] -- 0.49>, <Data Obj: [Column <Year,channel:x,dataType:date,dataModel:dimension>, Column <PctForeclosured,channel:y,dataType:quantitative,dataModel:measure>, Row <City,Longwood>] -- 0.49>, <Data Obj: [Column <Year,channel:x,dataType:date,dataModel:dimension>, Column <PctForeclosured,channel:y,dataType:quantitative,dataModel:measure>, Row <City,Fort Walton Beach>] -- 0.49>, <Data Obj: [Column <Year,channel:x,dataType:date,dataModel:dimension>, Column <PctForeclosured,channel:y,dataType:quantitative,dataModel:measure>, Row <City,Lawton>] -- 0.49>, <Data Obj: [Column <Year,channel:x,dataType:date,dataModel:dimension>, Column <PctForeclosured,channel:y,dataType:quantitative,dataModel:measure>, Row <City,Snoqualmie>] -- 0.49>, <Data Obj: [Column <Year,channel:x,dataType:date,dataModel:dimension>, Column <PctForeclosured,channel:y,dataType:quantitative,dataModel:measure>, Row <City,Okatie>] -- 0.47>, <Data Obj: [Column <Year,channel:x,dataType:date,dataModel:dimension>, Column <PctForeclosured,channel:y,dataType:quantitative,dataModel:measure>, Row <City,South Hill>] -- 0.46>, <Data Obj: [Column <Year,channel:x,dataType:date,dataModel:dimension>, Column <PctForeclosured,channel:y,dataType:quantitative,dataModel:measure>, Row <City,Norwood>] -- 0.46>, <Data Obj: [Column <Year,channel:x,dataType:date,dataModel:dimension>, Column <PctForeclosured,channel:y,dataType:quantitative,dataModel:measure>, Row <City,Tempe>] -- 0.45>, <Data Obj: [Column <Year,channel:x,dataType:date,dataModel:dimension>, Column <PctForeclosured,channel:y,dataType:quantitative,dataModel:measure>, Row <City,Lakeville>] -- 0.45>, <Data Obj: [Column <Year,channel:x,dataType:date,dataModel:dimension>, Column <PctForeclosured,channel:y,dataType:quantitative,dataModel:measure>, Row <City,Saratoga>] -- 0.44>, <Data Obj: [Column <Year,channel:x,dataType:date,dataModel:dimension>, Column <PctForeclosured,channel:y,dataType:quantitative,dataModel:measure>, Row <City,Mahwah>] -- 0.43>, <Data Obj: [Column <Year,channel:x,dataType:date,dataModel:dimension>, Column <PctForeclosured,channel:y,dataType:quantitative,dataModel:measure>, Row <City,Port Orchard>] -- 0.42>, <Data Obj: [Column <Year,channel:x,dataType:date,dataModel:dimension>, Column <PctForeclosured,channel:y,dataType:quantitative,dataModel:measure>, Row <City,Danville>] -- 0.42>, <Data Obj: [Column <Year,channel:x,dataType:date,dataModel:dimension>, Column <PctForeclosured,channel:y,dataType:quantitative,dataModel:measure>, Row <City,Newtown Township>] -- 0.41>, <Data Obj: [Column <Year,channel:x,dataType:date,dataModel:dimension>, Column <PctForeclosured,channel:y,dataType:quantitative,dataModel:measure>, Row <City,San Gabriel>] -- 0.41>, <Data Obj: [Column <Year,channel:x,dataType:date,dataModel:dimension>, Column <PctForeclosured,channel:y,dataType:quantitative,dataModel:measure>, Row <City,Lower Merion Township>] -- 0.41>, <Data Obj: [Column <Year,channel:x,dataType:date,dataModel:dimension>, Column <PctForeclosured,channel:y,dataType:quantitative,dataModel:measure>, Row <City,Solon>] -- 0.40>, <Data Obj: [Column <Year,channel:x,dataType:date,dataModel:dimension>, Column <PctForeclosured,channel:y,dataType:quantitative,dataModel:measure>, Row <City,Salinas>] -- 0.39>, <Data Obj: [Column <Year,channel:x,dataType:date,dataModel:dimension>, Column <PctForeclosured,channel:y,dataType:quantitative,dataModel:measure>, Row <City,Belleville>] -- 0.39>, <Data Obj: [Column <Year,channel:x,dataType:date,dataModel:dimension>, Column <PctForeclosured,channel:y,dataType:quantitative,dataModel:measure>, Row <City,Antioch>] -- 0.39>, <Data Obj: [Column <Year,channel:x,dataType:date,dataModel:dimension>, Column <PctForeclosured,channel:y,dataType:quantitative,dataModel:measure>, Row <City,Ashburn>] -- 0.38>, <Data Obj: [Column <Year,channel:x,dataType:date,dataModel:dimension>, Column <PctForeclosured,channel:y,dataType:quantitative,dataModel:measure>, Row <City,Bethesda>] -- 0.38>, <Data Obj: [Column <Year,channel:x,dataType:date,dataModel:dimension>, Column <PctForeclosured,channel:y,dataType:quantitative,dataModel:measure>, Row <City,Modesto>] -- 0.38>, <Data Obj: [Column <Year,channel:x,dataType:date,dataModel:dimension>, Column <PctForeclosured,channel:y,dataType:quantitative,dataModel:measure>, Row <City,Oak Ridge>] -- 0.37>, <Data Obj: [Column <Year,channel:x,dataType:date,dataModel:dimension>, Column <PctForeclosured,channel:y,dataType:quantitative,dataModel:measure>, Row <City,Chino>] -- 0.37>, <Data Obj: [Column <Year,channel:x,dataType:date,dataModel:dimension>, Column <PctForeclosured,channel:y,dataType:quantitative,dataModel:measure>, Row <City,Chandler>] -- 0.37>, <Data Obj: [Column <Year,channel:x,dataType:date,dataModel:dimension>, Column <PctForeclosured,channel:y,dataType:quantitative,dataModel:measure>, Row <City,Carlsbad>] -- 0.36>, <Data Obj: [Column <Year,channel:x,dataType:date,dataModel:dimension>, Column <PctForeclosured,channel:y,dataType:quantitative,dataModel:measure>, Row <City,Minnetonka>] -- 0.36>, <Data Obj: [Column <Year,channel:x,dataType:date,dataModel:dimension>, Column <PctForeclosured,channel:y,dataType:quantitative,dataModel:measure>, Row <City,Farmers Branch>] -- 0.36>, <Data Obj: [Column <Year,channel:x,dataType:date,dataModel:dimension>, Column <PctForeclosured,channel:y,dataType:quantitative,dataModel:measure>, Row <City,El Dorado Hills>] -- 0.36>, <Data Obj: [Column <Year,channel:x,dataType:date,dataModel:dimension>, Column <PctForeclosured,channel:y,dataType:quantitative,dataModel:measure>, Row <City,Painesville>] -- 0.35>, <Data Obj: [Column <Year,channel:x,dataType:date,dataModel:dimension>, Column <PctForeclosured,channel:y,dataType:quantitative,dataModel:measure>, Row <City,Fairfield>] -- 0.35>, <Data Obj: [Column <Year,channel:x,dataType:date,dataModel:dimension>, Column <PctForeclosured,channel:y,dataType:quantitative,dataModel:measure>, Row <City,Desert Hot Springs>] -- 0.34>, <Data Obj: [Column <Year,channel:x,dataType:date,dataModel:dimension>, Column <PctForeclosured,channel:y,dataType:quantitative,dataModel:measure>, Row <City,Lompoc>] -- 0.34>, <Data Obj: [Column <Year,channel:x,dataType:date,dataModel:dimension>, Column <PctForeclosured,channel:y,dataType:quantitative,dataModel:measure>, Row <City,Parma>] -- 0.33>, <Data Obj: [Column <Year,channel:x,dataType:date,dataModel:dimension>, Column <PctForeclosured,channel:y,dataType:quantitative,dataModel:measure>, Row <City,West Hartford>] -- 0.32>, <Data Obj: [Column <Year,channel:x,dataType:date,dataModel:dimension>, Column <PctForeclosured,channel:y,dataType:quantitative,dataModel:measure>, Row <City,Garner>] -- 0.31>, <Data Obj: [Column <Year,channel:x,dataType:date,dataModel:dimension>, Column <PctForeclosured,channel:y,dataType:quantitative,dataModel:measure>, Row <City,La Habra>] -- 0.30>, <Data Obj: [Column <Year,channel:x,dataType:date,dataModel:dimension>, Column <PctForeclosured,channel:y,dataType:quantitative,dataModel:measure>, Row <City,North Strabane Township>] -- 0.28>, <Data Obj: [Column <Year,channel:x,dataType:date,dataModel:dimension>, Column <PctForeclosured,channel:y,dataType:quantitative,dataModel:measure>, Row <City,Avon Lake>] -- 0.28>, <Data Obj: [Column <Year,channel:x,dataType:date,dataModel:dimension>, Column <PctForeclosured,channel:y,dataType:quantitative,dataModel:measure>, Row <City,Fair Oaks>] -- 0.28>, <Data Obj: [Column <Year,channel:x,dataType:date,dataModel:dimension>, Column <PctForeclosured,channel:y,dataType:quantitative,dataModel:measure>, Row <City,Erie>] -- 0.27>, <Data Obj: [Column <Year,channel:x,dataType:date,dataModel:dimension>, Column <PctForeclosured,channel:y,dataType:quantitative,dataModel:measure>, Row <City,Fairborn>] -- 0.25>, <Data Obj: [Column <Year,channel:x,dataType:date,dataModel:dimension>, Column <PctForeclosured,channel:y,dataType:quantitative,dataModel:measure>, Row <City,Ken Caryl>] -- 0.25>, <Data Obj: [Column <Year,channel:x,dataType:date,dataModel:dimension>, Column <PctForeclosured,channel:y,dataType:quantitative,dataModel:measure>, Row <City,Watauga>] -- 0.24>, <Data Obj: [Column <Year,channel:x,dataType:date,dataModel:dimension>, Column <PctForeclosured,channel:y,dataType:quantitative,dataModel:measure>, Row <City,North Tonawanda>] -- 0.18>, <Data Obj: [Column <Year,channel:x,dataType:date,dataModel:dimension>, Column <PctForeclosured,channel:y,dataType:quantitative,dataModel:measure>, Row <City,Dayton>] -- 0.15>, <Data Obj: [Column <Year,channel:x,dataType:date,dataModel:dimension>, Column <PctForeclosured,channel:y,dataType:quantitative,dataModel:measure>, Row <City,Del City>] -- 0.14>, <Data Obj: [Column <Year,channel:x,dataType:date,dataModel:dimension>, Column <PctForeclosured,channel:y,dataType:quantitative,dataModel:measure>, Row <City,Duncan>] -- 0.00>]>"
      ]
     },
     "execution_count": 6,
     "metadata": {},
     "output_type": "execute_result"
    }
   ],
   "source": [
    "dobj.compiled"
   ]
  },
  {
   "cell_type": "code",
   "execution_count": null,
   "metadata": {},
   "outputs": [],
   "source": []
  },
  {
   "cell_type": "code",
   "execution_count": null,
   "metadata": {},
   "outputs": [],
   "source": []
  },
  {
   "cell_type": "code",
   "execution_count": null,
   "metadata": {},
   "outputs": [],
   "source": []
  },
  {
   "cell_type": "code",
   "execution_count": null,
   "metadata": {},
   "outputs": [],
   "source": []
  },
  {
   "cell_type": "code",
   "execution_count": null,
   "metadata": {},
   "outputs": [],
   "source": []
  },
  {
   "cell_type": "code",
   "execution_count": null,
   "metadata": {},
   "outputs": [],
   "source": []
  }
 ],
 "metadata": {
  "kernelspec": {
   "display_name": "Python 3",
   "language": "python",
   "name": "python3"
  },
  "language_info": {
   "codemirror_mode": {
    "name": "ipython",
    "version": 3
   },
   "file_extension": ".py",
   "mimetype": "text/x-python",
   "name": "python",
   "nbconvert_exporter": "python",
   "pygments_lexer": "ipython3",
   "version": "3.7.5"
  }
 },
 "nbformat": 4,
 "nbformat_minor": 4
}
