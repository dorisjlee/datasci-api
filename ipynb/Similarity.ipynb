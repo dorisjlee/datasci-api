{
 "cells": [
  {
   "cell_type": "markdown",
   "metadata": {},
   "source": [
    "# Display Vis Collection Demo "
   ]
  },
  {
   "cell_type": "code",
   "execution_count": 1,
   "metadata": {},
   "outputs": [
    {
     "name": "stdout",
     "output_type": "stream",
     "text": [
      "/Users/dorislee/Desktop/Research/vizdatasci/datasci-api\n"
     ]
    }
   ],
   "source": [
    "cd .."
   ]
  },
  {
   "cell_type": "code",
   "execution_count": 2,
   "metadata": {},
   "outputs": [],
   "source": [
    "%load_ext autoreload\n",
    "%autoreload 2\n",
    "from dataset.Dataset import Dataset\n",
    "from dataObj.dataObj import DataObj\n",
    "from dataObj.Row import Row\n",
    "from dataObj.Column import Column"
   ]
  },
  {
   "cell_type": "code",
   "execution_count": 3,
   "metadata": {},
   "outputs": [],
   "source": [
    "dataset = Dataset(\"data/cars.csv\",schema=[{\"Year\":{\"dataType\":\"date\"}}])"
   ]
  },
  {
   "cell_type": "code",
   "execution_count": 4,
   "metadata": {},
   "outputs": [
    {
     "name": "stdout",
     "output_type": "stream",
     "text": [
      "Horsepower quantitative\n",
      "Year date\n"
     ]
    }
   ],
   "source": [
    "query = DataObj(dataset,[Column(\"Horsepower\",channel=\"y\"),Column(\"Year\",channel=\"x\")])\n"
   ]
  },
  {
   "cell_type": "code",
   "execution_count": 5,
   "metadata": {},
   "outputs": [
    {
     "data": {
      "text/plain": [
       "{'Name': 'categorical',\n",
       " 'MilesPerGal': 'quantitative',\n",
       " 'Cylinders': 'quantitative',\n",
       " 'Displacement': 'quantitative',\n",
       " 'Horsepower': 'quantitative',\n",
       " 'Weight': 'quantitative',\n",
       " 'Acceleration': 'quantitative',\n",
       " 'Year': 'date',\n",
       " 'Origin': 'categorical',\n",
       " 'Brand': 'categorical'}"
      ]
     },
     "execution_count": 5,
     "metadata": {},
     "output_type": "execute_result"
    }
   ],
   "source": [
    "dataset.dataTypeLookup"
   ]
  },
  {
   "cell_type": "code",
   "execution_count": 6,
   "metadata": {},
   "outputs": [
    {
     "name": "stdout",
     "output_type": "stream",
     "text": [
      "dobj.dataset before: {'Name': 'categorical', 'MilesPerGal': 'quantitative', 'Cylinders': 'quantitative', 'Displacement': 'quantitative', 'Horsepower': 'quantitative', 'Weight': 'quantitative', 'Acceleration': 'quantitative', 'Year': 'date', 'Origin': 'categorical', 'Brand': 'categorical'}\n",
      "new dobj\n",
      "transformedDataset after: date\n",
      "Year date\n",
      "Horsepower quantitative\n",
      "dobj.dataset before: {'Name': 'categorical', 'MilesPerGal': 'quantitative', 'Cylinders': 'quantitative', 'Displacement': 'quantitative', 'Horsepower': 'quantitative', 'Weight': 'quantitative', 'Acceleration': 'quantitative', 'Year': 'date', 'Origin': 'categorical', 'Brand': 'categorical'}\n",
      "new dobj\n",
      "transformedDataset after: date\n",
      "Year date\n",
      "Horsepower quantitative\n",
      "dobj.dataset before: {'Name': 'categorical', 'MilesPerGal': 'quantitative', 'Cylinders': 'quantitative', 'Displacement': 'quantitative', 'Horsepower': 'quantitative', 'Weight': 'quantitative', 'Acceleration': 'quantitative', 'Year': 'date', 'Origin': 'categorical', 'Brand': 'categorical'}\n",
      "new dobj\n",
      "transformedDataset after: date\n",
      "Year date\n",
      "Horsepower quantitative\n",
      "dobj.dataset before: {'Name': 'categorical', 'MilesPerGal': 'quantitative', 'Cylinders': 'quantitative', 'Displacement': 'quantitative', 'Horsepower': 'quantitative', 'Weight': 'quantitative', 'Acceleration': 'quantitative', 'Year': 'date', 'Origin': 'categorical', 'Brand': 'categorical'}\n",
      "new dobj\n",
      "transformedDataset after: date\n",
      "Year date\n",
      "Weight quantitative\n",
      "dobj.dataset before: {'Name': 'categorical', 'MilesPerGal': 'quantitative', 'Cylinders': 'quantitative', 'Displacement': 'quantitative', 'Horsepower': 'quantitative', 'Weight': 'quantitative', 'Acceleration': 'quantitative', 'Year': 'date', 'Origin': 'categorical', 'Brand': 'categorical'}\n",
      "new dobj\n",
      "transformedDataset after: date\n",
      "Year date\n",
      "Weight quantitative\n",
      "dobj.dataset before: {'Name': 'categorical', 'MilesPerGal': 'quantitative', 'Cylinders': 'quantitative', 'Displacement': 'quantitative', 'Horsepower': 'quantitative', 'Weight': 'quantitative', 'Acceleration': 'quantitative', 'Year': 'date', 'Origin': 'categorical', 'Brand': 'categorical'}\n",
      "new dobj\n",
      "transformedDataset after: date\n",
      "Year date\n",
      "Weight quantitative\n",
      "dobj.dataset before: {'Name': 'categorical', 'MilesPerGal': 'quantitative', 'Cylinders': 'quantitative', 'Displacement': 'quantitative', 'Horsepower': 'quantitative', 'Weight': 'quantitative', 'Acceleration': 'quantitative', 'Year': 'date', 'Origin': 'categorical', 'Brand': 'categorical'}\n",
      "new dobj\n",
      "transformedDataset after: date\n",
      "Year date\n",
      "Acceleration quantitative\n",
      "dobj.dataset before: {'Name': 'categorical', 'MilesPerGal': 'quantitative', 'Cylinders': 'quantitative', 'Displacement': 'quantitative', 'Horsepower': 'quantitative', 'Weight': 'quantitative', 'Acceleration': 'quantitative', 'Year': 'date', 'Origin': 'categorical', 'Brand': 'categorical'}\n",
      "new dobj\n",
      "transformedDataset after: date\n",
      "Year date\n",
      "Acceleration quantitative\n",
      "dobj.dataset before: {'Name': 'categorical', 'MilesPerGal': 'quantitative', 'Cylinders': 'quantitative', 'Displacement': 'quantitative', 'Horsepower': 'quantitative', 'Weight': 'quantitative', 'Acceleration': 'quantitative', 'Year': 'date', 'Origin': 'categorical', 'Brand': 'categorical'}\n",
      "new dobj\n",
      "transformedDataset after: date\n",
      "Year date\n",
      "Acceleration quantitative\n",
      "Year date\n",
      "Horsepower quantitative\n",
      "Year date\n",
      "Horsepower quantitative\n",
      "Year date\n",
      "Horsepower quantitative\n",
      "Year date\n",
      "Weight quantitative\n",
      "Year date\n",
      "Weight quantitative\n",
      "Year date\n",
      "Weight quantitative\n",
      "Year date\n",
      "Acceleration quantitative\n",
      "Year date\n",
      "Acceleration quantitative\n",
      "Year date\n",
      "Acceleration quantitative\n"
     ]
    }
   ],
   "source": [
    "dobjCollection = DataObj(dataset,[Column([\"Horsepower\",\"Weight\",\"Acceleration\"],channel=\"y\"),Column([\"Year\"],channel=\"x\"),Row(\"Origin\",\"?\")])"
   ]
  },
  {
   "cell_type": "code",
   "execution_count": 7,
   "metadata": {},
   "outputs": [
    {
     "name": "stdout",
     "output_type": "stream",
     "text": [
      "Horsepower\n",
      "Horsepower\n",
      "Horsepower\n",
      "Horsepower\n",
      "Horsepower\n",
      "Horsepower\n",
      "Weight\n",
      "Horsepower\n",
      "Weight\n",
      "Horsepower\n",
      "Weight\n",
      "Horsepower\n",
      "Acceleration\n",
      "Horsepower\n",
      "Acceleration\n",
      "Horsepower\n",
      "Acceleration\n",
      "Horsepower\n"
     ]
    }
   ],
   "source": [
    "dobjCollection.similarPattern(query)"
   ]
  },
  {
   "cell_type": "code",
   "execution_count": 8,
   "metadata": {},
   "outputs": [
    {
     "data": {
      "text/plain": [
       "{'action': 'Similarity',\n",
       " 'description': 'Show other charts that are visually similar to the Current View.',\n",
       " 'collection': <Data Obj Collection: [<Data Obj: [Column <Year,channel:x,dataType:date,dataModel:dimension>, Column <Acceleration,channel:y,dataType:quantitative,dataModel:measure>, Row <Origin,USA>] -- 2.46>, <Data Obj: [Column <Year,channel:x,dataType:date,dataModel:dimension>, Column <Acceleration,channel:y,dataType:quantitative,dataModel:measure>, Row <Origin,Japan>] -- 2.39>, <Data Obj: [Column <Year,channel:x,dataType:date,dataModel:dimension>, Column <Weight,channel:y,dataType:quantitative,dataModel:measure>, Row <Origin,Japan>] -- 2.32>, <Data Obj: [Column <Year,channel:x,dataType:date,dataModel:dimension>, Column <Acceleration,channel:y,dataType:quantitative,dataModel:measure>, Row <Origin,Europe>] -- 2.32>, <Data Obj: [Column <Year,channel:x,dataType:date,dataModel:dimension>, Column <Weight,channel:y,dataType:quantitative,dataModel:measure>, Row <Origin,Europe>] -- 2.31>, <Data Obj: [Column <Year,channel:x,dataType:date,dataModel:dimension>, Column <Weight,channel:y,dataType:quantitative,dataModel:measure>, Row <Origin,USA>] -- 1.62>, <Data Obj: [Column <Year,channel:x,dataType:date,dataModel:dimension>, Column <Horsepower,channel:y,dataType:quantitative,dataModel:measure>, Row <Origin,Europe>] -- 1.37>, <Data Obj: [Column <Year,channel:x,dataType:date,dataModel:dimension>, Column <Horsepower,channel:y,dataType:quantitative,dataModel:measure>, Row <Origin,Japan>] -- 1.25>, <Data Obj: [Column <Year,channel:x,dataType:date,dataModel:dimension>, Column <Horsepower,channel:y,dataType:quantitative,dataModel:measure>, Row <Origin,USA>] -- 0.19>]>}"
      ]
     },
     "execution_count": 8,
     "metadata": {},
     "output_type": "execute_result"
    }
   ],
   "source": [
    "dobjCollection.recommendation"
   ]
  },
  {
   "cell_type": "code",
   "execution_count": 9,
   "metadata": {},
   "outputs": [
    {
     "data": {
      "application/vnd.jupyter.widget-view+json": {
       "model_id": "1459f3c494974d25bd107585315ee501",
       "version_major": 2,
       "version_minor": 0
      },
      "text/plain": [
       "DisplayWidget(current_view={'config': {'view': {'continuousWidth': 400, 'continuousHeight': 300}}, 'data': {'n…"
      ]
     },
     "metadata": {},
     "output_type": "display_data"
    }
   ],
   "source": [
    "query.display()"
   ]
  },
  {
   "cell_type": "code",
   "execution_count": 10,
   "metadata": {},
   "outputs": [
    {
     "data": {
      "text/plain": [
       "<Data Obj Collection: [<Data Obj: [Column <Year,channel:x,dataType:date,dataModel:dimension>, Column <Acceleration,channel:y,dataType:quantitative,dataModel:measure>, Row <Origin,USA>] -- 2.46>, <Data Obj: [Column <Year,channel:x,dataType:date,dataModel:dimension>, Column <Acceleration,channel:y,dataType:quantitative,dataModel:measure>, Row <Origin,Japan>] -- 2.39>, <Data Obj: [Column <Year,channel:x,dataType:date,dataModel:dimension>, Column <Weight,channel:y,dataType:quantitative,dataModel:measure>, Row <Origin,Japan>] -- 2.32>, <Data Obj: [Column <Year,channel:x,dataType:date,dataModel:dimension>, Column <Acceleration,channel:y,dataType:quantitative,dataModel:measure>, Row <Origin,Europe>] -- 2.32>, <Data Obj: [Column <Year,channel:x,dataType:date,dataModel:dimension>, Column <Weight,channel:y,dataType:quantitative,dataModel:measure>, Row <Origin,Europe>] -- 2.31>, <Data Obj: [Column <Year,channel:x,dataType:date,dataModel:dimension>, Column <Weight,channel:y,dataType:quantitative,dataModel:measure>, Row <Origin,USA>] -- 1.62>, <Data Obj: [Column <Year,channel:x,dataType:date,dataModel:dimension>, Column <Horsepower,channel:y,dataType:quantitative,dataModel:measure>, Row <Origin,Europe>] -- 1.37>, <Data Obj: [Column <Year,channel:x,dataType:date,dataModel:dimension>, Column <Horsepower,channel:y,dataType:quantitative,dataModel:measure>, Row <Origin,Japan>] -- 1.25>, <Data Obj: [Column <Year,channel:x,dataType:date,dataModel:dimension>, Column <Horsepower,channel:y,dataType:quantitative,dataModel:measure>, Row <Origin,USA>] -- 0.19>]>"
      ]
     },
     "execution_count": 10,
     "metadata": {},
     "output_type": "execute_result"
    }
   ],
   "source": [
    "dobjCollection.compiled"
   ]
  },
  {
   "cell_type": "code",
   "execution_count": 16,
   "metadata": {},
   "outputs": [
    {
     "ename": "KeyError",
     "evalue": "'collection'",
     "output_type": "error",
     "traceback": [
      "\u001b[0;31m---------------------------------------------------------------------------\u001b[0m",
      "\u001b[0;31mKeyError\u001b[0m                                  Traceback (most recent call last)",
      "\u001b[0;32m<ipython-input-16-236160e4fa79>\u001b[0m in \u001b[0;36m<module>\u001b[0;34m\u001b[0m\n\u001b[0;32m----> 1\u001b[0;31m \u001b[0mdobjCollection\u001b[0m\u001b[0;34m.\u001b[0m\u001b[0mdisplay\u001b[0m\u001b[0;34m(\u001b[0m\u001b[0mcurrentView\u001b[0m\u001b[0;34m=\u001b[0m\u001b[0mquery\u001b[0m\u001b[0;34m)\u001b[0m\u001b[0;34m\u001b[0m\u001b[0;34m\u001b[0m\u001b[0m\n\u001b[0m",
      "\u001b[0;32m~/Desktop/Research/vizdatasci/datasci-api/dataObj/dataObj.py\u001b[0m in \u001b[0;36mdisplay\u001b[0;34m(self, renderer, currentView)\u001b[0m\n\u001b[1;32m    113\u001b[0m         \u001b[0;31m# return chart\u001b[0m\u001b[0;34m\u001b[0m\u001b[0;34m\u001b[0m\u001b[0;34m\u001b[0m\u001b[0m\n\u001b[1;32m    114\u001b[0m         \u001b[0;32mimport\u001b[0m \u001b[0mdisplayWidget\u001b[0m\u001b[0;34m\u001b[0m\u001b[0;34m\u001b[0m\u001b[0m\n\u001b[0;32m--> 115\u001b[0;31m         \u001b[0mdobjDict\u001b[0m \u001b[0;34m=\u001b[0m \u001b[0mself\u001b[0m\u001b[0;34m.\u001b[0m\u001b[0mtoJSON\u001b[0m\u001b[0;34m(\u001b[0m\u001b[0mcurrentView\u001b[0m\u001b[0;34m=\u001b[0m\u001b[0mcurrentView\u001b[0m\u001b[0;34m)\u001b[0m\u001b[0;34m\u001b[0m\u001b[0;34m\u001b[0m\u001b[0m\n\u001b[0m\u001b[1;32m    116\u001b[0m         widget = displayWidget.DisplayWidget(\n\u001b[1;32m    117\u001b[0m             \u001b[0mdata\u001b[0m\u001b[0;34m=\u001b[0m\u001b[0mjson\u001b[0m\u001b[0;34m.\u001b[0m\u001b[0mloads\u001b[0m\u001b[0;34m(\u001b[0m\u001b[0mself\u001b[0m\u001b[0;34m.\u001b[0m\u001b[0mdataset\u001b[0m\u001b[0;34m.\u001b[0m\u001b[0mdf\u001b[0m\u001b[0;34m.\u001b[0m\u001b[0mto_json\u001b[0m\u001b[0;34m(\u001b[0m\u001b[0morient\u001b[0m\u001b[0;34m=\u001b[0m\u001b[0;34m'records'\u001b[0m\u001b[0;34m)\u001b[0m\u001b[0;34m)\u001b[0m\u001b[0;34m,\u001b[0m\u001b[0;34m\u001b[0m\u001b[0;34m\u001b[0m\u001b[0m\n",
      "\u001b[0;32m~/Desktop/Research/vizdatasci/datasci-api/dataObj/dataObj.py\u001b[0m in \u001b[0;36mtoJSON\u001b[0;34m(self, currentView)\u001b[0m\n\u001b[1;32m     95\u001b[0m         \u001b[0;32mif\u001b[0m \u001b[0;34m(\u001b[0m\u001b[0mself\u001b[0m\u001b[0;34m.\u001b[0m\u001b[0mrecommendation\u001b[0m \u001b[0;34m!=\u001b[0m \u001b[0;34m{\u001b[0m\u001b[0;34m}\u001b[0m\u001b[0;34m)\u001b[0m\u001b[0;34m:\u001b[0m\u001b[0;34m\u001b[0m\u001b[0;34m\u001b[0m\u001b[0m\n\u001b[1;32m     96\u001b[0m             \u001b[0mself\u001b[0m\u001b[0;34m.\u001b[0m\u001b[0mrecommendation\u001b[0m\u001b[0;34m[\u001b[0m\u001b[0;34m\"vspec\"\u001b[0m\u001b[0;34m]\u001b[0m \u001b[0;34m=\u001b[0m \u001b[0;34m[\u001b[0m\u001b[0;34m]\u001b[0m\u001b[0;34m\u001b[0m\u001b[0;34m\u001b[0m\u001b[0m\n\u001b[0;32m---> 97\u001b[0;31m             \u001b[0;32mfor\u001b[0m \u001b[0mvis\u001b[0m \u001b[0;32min\u001b[0m \u001b[0mself\u001b[0m\u001b[0;34m.\u001b[0m\u001b[0mrecommendation\u001b[0m\u001b[0;34m[\u001b[0m\u001b[0;34m\"collection\"\u001b[0m\u001b[0;34m]\u001b[0m\u001b[0;34m.\u001b[0m\u001b[0mcollection\u001b[0m\u001b[0;34m:\u001b[0m\u001b[0;34m\u001b[0m\u001b[0;34m\u001b[0m\u001b[0m\n\u001b[0m\u001b[1;32m     98\u001b[0m                 \u001b[0mchart\u001b[0m \u001b[0;34m=\u001b[0m \u001b[0mvis\u001b[0m\u001b[0;34m.\u001b[0m\u001b[0mrenderVSpec\u001b[0m\u001b[0;34m(\u001b[0m\u001b[0;34m)\u001b[0m\u001b[0;34m\u001b[0m\u001b[0;34m\u001b[0m\u001b[0m\n\u001b[1;32m     99\u001b[0m                 \u001b[0mself\u001b[0m\u001b[0;34m.\u001b[0m\u001b[0mrecommendation\u001b[0m\u001b[0;34m[\u001b[0m\u001b[0;34m\"vspec\"\u001b[0m\u001b[0;34m]\u001b[0m\u001b[0;34m.\u001b[0m\u001b[0mappend\u001b[0m\u001b[0;34m(\u001b[0m\u001b[0mchart\u001b[0m\u001b[0;34m)\u001b[0m\u001b[0;34m\u001b[0m\u001b[0;34m\u001b[0m\u001b[0m\n",
      "\u001b[0;31mKeyError\u001b[0m: 'collection'"
     ]
    }
   ],
   "source": [
    "dobjCollection.display(currentView=query)"
   ]
  },
  {
   "cell_type": "code",
   "execution_count": null,
   "metadata": {},
   "outputs": [],
   "source": []
  },
  {
   "cell_type": "code",
   "execution_count": null,
   "metadata": {},
   "outputs": [],
   "source": []
  }
 ],
 "metadata": {
  "kernelspec": {
   "display_name": "Python 3",
   "language": "python",
   "name": "python3"
  },
  "language_info": {
   "codemirror_mode": {
    "name": "ipython",
    "version": 3
   },
   "file_extension": ".py",
   "mimetype": "text/x-python",
   "name": "python",
   "nbconvert_exporter": "python",
   "pygments_lexer": "ipython3",
   "version": "3.7.5"
  }
 },
 "nbformat": 4,
 "nbformat_minor": 4
}
