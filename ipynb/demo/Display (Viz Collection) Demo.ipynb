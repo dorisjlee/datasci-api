{
 "cells": [
  {
   "cell_type": "markdown",
   "metadata": {},
   "source": [
    "# Display Vis Collection Demo "
   ]
  },
  {
   "cell_type": "code",
   "execution_count": 1,
   "metadata": {},
   "outputs": [
    {
     "name": "stdout",
     "output_type": "stream",
     "text": [
      "/Users/dorislee/Desktop/Research/vizdatasci/datasci-api\n"
     ]
    }
   ],
   "source": [
    "cd ../.."
   ]
  },
  {
   "cell_type": "code",
   "execution_count": 2,
   "metadata": {},
   "outputs": [],
   "source": [
    "%load_ext autoreload\n",
    "%autoreload 2\n",
    "from dataset.Dataset import Dataset\n",
    "from dataObj.dataObj import DataObj\n",
    "from dataObj.Row import Row\n",
    "from dataObj.Column import Column"
   ]
  },
  {
   "cell_type": "code",
   "execution_count": 3,
   "metadata": {},
   "outputs": [],
   "source": [
    "dataset = Dataset(\"data/cars.csv\",schema=[{\"Year\":{\"dataType\":\"date\"}}])"
   ]
  },
  {
   "cell_type": "code",
   "execution_count": 4,
   "metadata": {},
   "outputs": [],
   "source": [
    "dobj = DataObj(dataset,[Column([\"Horsepower\",\"Weight\",\"Acceleration\"]),Column([\"MilesPerGal\",\"Displacement\"])])"
   ]
  },
  {
   "cell_type": "code",
   "execution_count": 5,
   "metadata": {},
   "outputs": [
    {
     "data": {
      "text/plain": [
       "<Data Obj Collection: [<Data Obj: <Dataset Obj: data/cars.csv> -- [Column <Horsepower>, Column <MilesPerGal>]>, <Data Obj: <Dataset Obj: data/cars.csv> -- [Column <Horsepower>, Column <Displacement>]>, <Data Obj: <Dataset Obj: data/cars.csv> -- [Column <Weight>, Column <MilesPerGal>]>, <Data Obj: <Dataset Obj: data/cars.csv> -- [Column <Weight>, Column <Displacement>]>, <Data Obj: <Dataset Obj: data/cars.csv> -- [Column <Acceleration>, Column <MilesPerGal>]>, <Data Obj: <Dataset Obj: data/cars.csv> -- [Column <Acceleration>, Column <Displacement>]>]>"
      ]
     },
     "execution_count": 5,
     "metadata": {},
     "output_type": "execute_result"
    }
   ],
   "source": [
    "dobj.collection"
   ]
  },
  {
   "cell_type": "code",
   "execution_count": 6,
   "metadata": {},
   "outputs": [
    {
     "data": {
      "application/vnd.jupyter.widget-view+json": {
       "model_id": "0688d8646e5643c6a96052d0ebfc0926",
       "version_major": 2,
       "version_minor": 0
      },
      "text/plain": [
       "Mockup(numGraphs=6)"
      ]
     },
     "metadata": {},
     "output_type": "display_data"
    }
   ],
   "source": [
    "dobj.collection.display()"
   ]
  },
  {
   "cell_type": "code",
   "execution_count": null,
   "metadata": {},
   "outputs": [],
   "source": []
  }
 ],
 "metadata": {
  "kernelspec": {
   "display_name": "Python 3",
   "language": "python",
   "name": "python3"
  },
  "language_info": {
   "codemirror_mode": {
    "name": "ipython",
    "version": 3
   },
   "file_extension": ".py",
   "mimetype": "text/x-python",
   "name": "python",
   "nbconvert_exporter": "python",
   "pygments_lexer": "ipython3",
   "version": "3.7.0"
  }
 },
 "nbformat": 4,
 "nbformat_minor": 4
}
