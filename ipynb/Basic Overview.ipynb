{
 "cells": [
  {
   "cell_type": "code",
   "execution_count": 3,
   "metadata": {},
   "outputs": [
    {
     "name": "stdout",
     "output_type": "stream",
     "text": [
      "/Users/dorislee/Desktop/Research/datasci-api\n"
     ]
    }
   ],
   "source": [
    "cd .."
   ]
  },
  {
   "cell_type": "code",
   "execution_count": 4,
   "metadata": {},
   "outputs": [],
   "source": [
    "import pandas as pd"
   ]
  },
  {
   "cell_type": "code",
   "execution_count": 5,
   "metadata": {},
   "outputs": [
    {
     "name": "stdout",
     "output_type": "stream",
     "text": [
      "The autoreload extension is already loaded. To reload it, use:\n",
      "  %reload_ext autoreload\n"
     ]
    }
   ],
   "source": [
    "%load_ext autoreload\n",
    "%autoreload 2\n",
    "from dataset.Dataset import Dataset\n",
    "from dataObj.dataObj import DataObj"
   ]
  },
  {
   "cell_type": "code",
   "execution_count": 6,
   "metadata": {},
   "outputs": [],
   "source": [
    "dataset = Dataset(\"data/college.csv\")"
   ]
  },
  {
   "cell_type": "code",
   "execution_count": 7,
   "metadata": {},
   "outputs": [
    {
     "data": {
      "text/plain": [
       "<Dataset Obj: data/college.csv>"
      ]
     },
     "execution_count": 7,
     "metadata": {},
     "output_type": "execute_result"
    }
   ],
   "source": [
    "dataset"
   ]
  },
  {
   "cell_type": "code",
   "execution_count": 8,
   "metadata": {},
   "outputs": [],
   "source": [
    "measures = dataset.dataModel[\"measure\"]\n",
    "bivariate = []\n",
    "for m1 in measures:\n",
    "    for m2 in measures: \n",
    "        bivariate.append(DataObj(dataset,columns=[m1,m2]))"
   ]
  },
  {
   "cell_type": "code",
   "execution_count": 14,
   "metadata": {},
   "outputs": [
    {
     "data": {
      "text/plain": [
       "' data/college.csv'"
      ]
     },
     "execution_count": 14,
     "metadata": {},
     "output_type": "execute_result"
    }
   ],
   "source": [
    "\"<Dataset Obj: data/college.csv\".split(\":\")[-1]"
   ]
  },
  {
   "cell_type": "code",
   "execution_count": 20,
   "metadata": {},
   "outputs": [
    {
     "data": {
      "text/plain": [
       "[<Data Obj: <Dataset Obj: data/college.csv> -- Rows[], Columns['AdmissionRate', 'AdmissionRate']>,\n",
       " <Data Obj: <Dataset Obj: data/college.csv> -- Rows[], Columns['AdmissionRate', 'MedianDebt']>,\n",
       " <Data Obj: <Dataset Obj: data/college.csv> -- Rows[], Columns['AdmissionRate', 'AverageAgeofEntry']>,\n",
       " <Data Obj: <Dataset Obj: data/college.csv> -- Rows[], Columns['AdmissionRate', 'MedianFamilyIncome']>,\n",
       " <Data Obj: <Dataset Obj: data/college.csv> -- Rows[], Columns['MedianDebt', 'AdmissionRate']>,\n",
       " <Data Obj: <Dataset Obj: data/college.csv> -- Rows[], Columns['MedianDebt', 'MedianDebt']>,\n",
       " <Data Obj: <Dataset Obj: data/college.csv> -- Rows[], Columns['MedianDebt', 'AverageAgeofEntry']>,\n",
       " <Data Obj: <Dataset Obj: data/college.csv> -- Rows[], Columns['MedianDebt', 'MedianFamilyIncome']>,\n",
       " <Data Obj: <Dataset Obj: data/college.csv> -- Rows[], Columns['AverageAgeofEntry', 'AdmissionRate']>,\n",
       " <Data Obj: <Dataset Obj: data/college.csv> -- Rows[], Columns['AverageAgeofEntry', 'MedianDebt']>,\n",
       " <Data Obj: <Dataset Obj: data/college.csv> -- Rows[], Columns['AverageAgeofEntry', 'AverageAgeofEntry']>,\n",
       " <Data Obj: <Dataset Obj: data/college.csv> -- Rows[], Columns['AverageAgeofEntry', 'MedianFamilyIncome']>,\n",
       " <Data Obj: <Dataset Obj: data/college.csv> -- Rows[], Columns['MedianFamilyIncome', 'AdmissionRate']>,\n",
       " <Data Obj: <Dataset Obj: data/college.csv> -- Rows[], Columns['MedianFamilyIncome', 'MedianDebt']>,\n",
       " <Data Obj: <Dataset Obj: data/college.csv> -- Rows[], Columns['MedianFamilyIncome', 'AverageAgeofEntry']>,\n",
       " <Data Obj: <Dataset Obj: data/college.csv> -- Rows[], Columns['MedianFamilyIncome', 'MedianFamilyIncome']>]"
      ]
     },
     "execution_count": 20,
     "metadata": {},
     "output_type": "execute_result"
    }
   ],
   "source": [
    "bivariate"
   ]
  },
  {
   "cell_type": "code",
   "execution_count": 10,
   "metadata": {},
   "outputs": [],
   "source": [
    "dobj= DataObj(dataset)"
   ]
  },
  {
   "cell_type": "code",
   "execution_count": 23,
   "metadata": {},
   "outputs": [],
   "source": [
    "def correlation(dobj):\n",
    "    measures = dataset.dataModel[\"measure\"]\n",
    "    bivariate = []\n",
    "    for m1 in measures:\n",
    "        for m2 in measures: \n",
    "            bivariate.append(DataObj(dataset,columns=[m1,m2]))\n",
    "    return bivariate"
   ]
  },
  {
   "cell_type": "code",
   "execution_count": 24,
   "metadata": {},
   "outputs": [
    {
     "data": {
      "text/plain": [
       "[<Data Obj: <Dataset Obj: data/college.csv> -- Rows[], Columns['AdmissionRate', 'AdmissionRate']>,\n",
       " <Data Obj: <Dataset Obj: data/college.csv> -- Rows[], Columns['AdmissionRate', 'MedianDebt']>,\n",
       " <Data Obj: <Dataset Obj: data/college.csv> -- Rows[], Columns['AdmissionRate', 'AverageAgeofEntry']>,\n",
       " <Data Obj: <Dataset Obj: data/college.csv> -- Rows[], Columns['AdmissionRate', 'MedianFamilyIncome']>,\n",
       " <Data Obj: <Dataset Obj: data/college.csv> -- Rows[], Columns['MedianDebt', 'AdmissionRate']>,\n",
       " <Data Obj: <Dataset Obj: data/college.csv> -- Rows[], Columns['MedianDebt', 'MedianDebt']>,\n",
       " <Data Obj: <Dataset Obj: data/college.csv> -- Rows[], Columns['MedianDebt', 'AverageAgeofEntry']>,\n",
       " <Data Obj: <Dataset Obj: data/college.csv> -- Rows[], Columns['MedianDebt', 'MedianFamilyIncome']>,\n",
       " <Data Obj: <Dataset Obj: data/college.csv> -- Rows[], Columns['AverageAgeofEntry', 'AdmissionRate']>,\n",
       " <Data Obj: <Dataset Obj: data/college.csv> -- Rows[], Columns['AverageAgeofEntry', 'MedianDebt']>,\n",
       " <Data Obj: <Dataset Obj: data/college.csv> -- Rows[], Columns['AverageAgeofEntry', 'AverageAgeofEntry']>,\n",
       " <Data Obj: <Dataset Obj: data/college.csv> -- Rows[], Columns['AverageAgeofEntry', 'MedianFamilyIncome']>,\n",
       " <Data Obj: <Dataset Obj: data/college.csv> -- Rows[], Columns['MedianFamilyIncome', 'AdmissionRate']>,\n",
       " <Data Obj: <Dataset Obj: data/college.csv> -- Rows[], Columns['MedianFamilyIncome', 'MedianDebt']>,\n",
       " <Data Obj: <Dataset Obj: data/college.csv> -- Rows[], Columns['MedianFamilyIncome', 'AverageAgeofEntry']>,\n",
       " <Data Obj: <Dataset Obj: data/college.csv> -- Rows[], Columns['MedianFamilyIncome', 'MedianFamilyIncome']>]"
      ]
     },
     "execution_count": 24,
     "metadata": {},
     "output_type": "execute_result"
    }
   ],
   "source": [
    "correlation(dobj)"
   ]
  },
  {
   "cell_type": "code",
   "execution_count": 26,
   "metadata": {},
   "outputs": [],
   "source": [
    "from dataObj.Column import Column"
   ]
  },
  {
   "cell_type": "code",
   "execution_count": 29,
   "metadata": {},
   "outputs": [],
   "source": [
    "dobj= DataObj(dataset,columns=[Column(\"AdmissionRate\")])"
   ]
  },
  {
   "cell_type": "code",
   "execution_count": 30,
   "metadata": {},
   "outputs": [
    {
     "data": {
      "text/plain": [
       "<Data Obj: <Dataset Obj: data/college.csv> -- Rows[], Columns[columnAdmissionRate]>"
      ]
     },
     "execution_count": 30,
     "metadata": {},
     "output_type": "execute_result"
    }
   ],
   "source": [
    "dobj"
   ]
  },
  {
   "cell_type": "code",
   "execution_count": 25,
   "metadata": {},
   "outputs": [
    {
     "data": {
      "text/plain": [
       "[]"
      ]
     },
     "execution_count": 25,
     "metadata": {},
     "output_type": "execute_result"
    }
   ],
   "source": [
    "if len(dobj.columns)>0: \n",
    "    measures = "
   ]
  },
  {
   "cell_type": "code",
   "execution_count": null,
   "metadata": {},
   "outputs": [],
   "source": [
    "\"# Show all correlated measure\n",
    "dobj= DataObject()\n",
    "# Show all measures correlated to MilesPerGallon\n",
    "dobj= DataObject([Column(\"\"MPG\"\")])\n",
    "# Show all measures correlated to MilesPerGallon pinned to the x axis\n",
    "dobj= DataObject([Column(\"\"MPG\"\", channel='x')])\n",
    "\n",
    "result = dobj.correlation().displayAsVis()\""
   ]
  },
  {
   "cell_type": "markdown",
   "metadata": {},
   "source": [
    "### There should be dedicated code that generates viz collection based on the dataObj and it is independent from the scoring and computation code. "
   ]
  },
  {
   "cell_type": "code",
   "execution_count": null,
   "metadata": {},
   "outputs": [],
   "source": []
  }
 ],
 "metadata": {
  "kernelspec": {
   "display_name": "Python 3",
   "language": "python",
   "name": "python3"
  },
  "language_info": {
   "codemirror_mode": {
    "name": "ipython",
    "version": 3
   },
   "file_extension": ".py",
   "mimetype": "text/x-python",
   "name": "python",
   "nbconvert_exporter": "python",
   "pygments_lexer": "ipython3",
   "version": "3.7.0"
  }
 },
 "nbformat": 4,
 "nbformat_minor": 2
}
